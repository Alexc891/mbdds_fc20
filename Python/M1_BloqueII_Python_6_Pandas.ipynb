{
 "cells": [
  {
   "cell_type": "markdown",
   "metadata": {
    "id": "eJfiC-K0VViA"
   },
   "source": [
    "# **Herramientas de Análisis**\n",
    "\n",
    "---\n",
    "---\n",
    "\n",
    "<!-- script html for image -->\n",
    "\n",
    "<center>\n",
    "\n",
    "\n",
    "<img src=\"https://upload.wikimedia.org/wikipedia/commons/thumb/a/ac/Sw-ep1-logo.svg/1280px-Sw-ep1-logo.svg.png\"  width=\"500\" height=\"150\"/>\n",
    "\n",
    "\n",
    "<br>\n",
    "\n",
    "Fuente de la imagen: [https://es.wikipedia.org](https://es.wikipedia.org/wiki/Star_Wars:_Episodio_I_-_La_amenaza_fantasma)\n",
    "\n",
    "</center>\n",
    "\n",
    "<br>"
   ]
  },
  {
   "cell_type": "markdown",
   "metadata": {
    "id": "w7y6DiIjVViK"
   },
   "source": [
    "# **Índice**\n",
    "\n",
    "---\n",
    "---\n",
    "\n",
    "> [Herramientas de Análisis](#scrollTo=eJfiC-K0VViA)\n",
    "<br>\n",
    ">>\n",
    ">> [Preparación del Entorno](#scrollTo=UkU8akIVtlbn&line=3&uniqifier=1) \\\\\n",
    ">>   \\\\\n",
    ">> [6 - Pandas](#scrollTo=U3oTMspTVVjE&line=1&uniqifier=1) \\\\\n",
    ">>\n",
    ">>> [6.1. Actividad Guiada 2.4](#scrollTo=Hd88I7fxVVju&line=1&uniqifier=1) \\\\\n",
    ">>>\n",
    ">>> [6.2. Pandas Series](#scrollTo=uNp0KfRlVVkP&line=1&uniqifier=1) \\\\\n",
    ">>>\n",
    ">>>> [6.2.1. Índexadores: LOC, ILOC](#scrollTo=U75KhoMvVVod&line=1&uniqifier=1)\n",
    ">>> \n",
    ">>> [6.3. Objetos Pandas Dataframe](#scrollTo=p1lS1-OrVVqk&line=1&uniqifier=1) \\\\\n",
    ">>>\n",
    ">>>> [6.3.1. Gestión de Columnas en Dataframes](#scrollTo=qs6V4BPTVVtZ&line=1&uniqifier=1)\n",
    ">>>\n",
    ">>> [6.4. Filtros en Dataframes](#scrollTo=ksw5H_LZVVuw&line=1&uniqifier=1) \\\\\n",
    ">>>\n",
    ">>>> [6.4.1. Funciones Universal sobre Pandas](#scrollTo=UZLEbp3pVVwh&line=1&uniqifier=1)\n",
    ">>>>\n",
    ">>>> [6.4.2. Alineamiento de los Índices](#scrollTo=xipiuI1kVVw0&line=1&uniqifier=1)\n",
    ">>>>\n",
    ">>>> [6.4.3. Valores Faltantes](#scrollTo=HF-DJJD5VVx7&line=1&uniqifier=1)\n",
    ">>>>\n",
    ">>>> [6.4.4. Actividad Guiada 2.4](#scrollTo=0y-SXC80VVzh&line=1&uniqifier=1)"
   ]
  },
  {
   "cell_type": "markdown",
   "metadata": {
    "id": "UkU8akIVtlbn"
   },
   "source": [
    "# Preparación del entorno\n",
    "\n",
    "¡Padawan!, cuando inicies sesión en Colab, prepara el entorno ejecutando el siguiente código:"
   ]
  },
  {
   "cell_type": "code",
   "execution_count": 1,
   "metadata": {
    "colab": {
     "base_uri": "https://localhost:8080/"
    },
    "executionInfo": {
     "elapsed": 25679,
     "status": "ok",
     "timestamp": 1604333359900,
     "user": {
      "displayName": "alumnos bigdata",
      "photoUrl": "",
      "userId": "10710302360204190833"
     },
     "user_tz": -60
    },
    "id": "HGN7SGLiVViU",
    "outputId": "e4f39506-da35-49ce-b51f-9db82146d19e"
   },
   "outputs": [],
   "source": [
    "if 'google.colab' in str(get_ipython()):\n",
    "    !git clone https://github.com/griu/mbdds_fc20.git /content/mbdds_fc20\n",
    "    !git -C /content/mbdds_fc20 pull\n",
    "    %cd /content/mbdds_fc20/Python\n",
    "    !python -m pip install -r requirementsColab.txt"
   ]
  },
  {
   "cell_type": "markdown",
   "metadata": {
    "id": "U3oTMspTVVjE"
   },
   "source": [
    "# 6 - Pandas\n",
    "\n",
    "Pandas es una abreviación de Panel Data. Los objetos dentro de pandas dan soporte al análisis de datos con variables de distinta tipología: categóricas, binarias, numéricas...\n",
    "\n",
    "Respecto a los numpy, permiten indexar las filas y columnas. Este tipo de indexación facilita, por ejemplo, realizar análisis de series temporales, no necesariamente, con una frecuencia fija.\n",
    "\n",
    "Como siempre, el primer paso consiste en cargar la librería con *namespace* `pd`:"
   ]
  },
  {
   "cell_type": "code",
   "execution_count": 2,
   "metadata": {
    "id": "kR6QBIb4VVjQ"
   },
   "outputs": [],
   "source": [
    "import pandas as pd"
   ]
  },
  {
   "cell_type": "markdown",
   "metadata": {
    "id": "Hd88I7fxVVju"
   },
   "source": [
    "##### 6.1. Actividad Guiada 2.4\n",
    "\n",
    "Esta vez, se trata de seleccionar el mejor planeta posible para ubicar la academia Jedi. Los parámetros de la búsqueda son:\n",
    "\n",
    "- Días largos para entrenar mucho.\n",
    "- Mucha agua para poder refrescarse.\n",
    "- Poca densidad de población para no ser molestado.\n",
    "- Buen clima (temperado o tropical).\n",
    "\n",
    ">     «Si existe un auténtico centro del universo, ahora estás en el planeta más alejado de él» \n",
    "    ―Luke Skywalker sobre Tatooine el planeta desértico dónde nacieron Anakin y Luke Skywalker. \n",
    "\n",
    "El primer paso consiste en cargar los datos de los planetas:"
   ]
  },
  {
   "cell_type": "code",
   "execution_count": 3,
   "metadata": {
    "colab": {
     "base_uri": "https://localhost:8080/",
     "height": 708
    },
    "executionInfo": {
     "elapsed": 1126,
     "status": "ok",
     "timestamp": 1604334073522,
     "user": {
      "displayName": "alumnos bigdata",
      "photoUrl": "",
      "userId": "10710302360204190833"
     },
     "user_tz": -60
    },
    "id": "NVP0h67qVVjz",
    "outputId": "cb17cf5e-082f-4b58-c281-c5da52478bdf",
    "scrolled": true
   },
   "outputs": [
    {
     "data": {
      "text/html": [
       "<div>\n",
       "<style scoped>\n",
       "    .dataframe tbody tr th:only-of-type {\n",
       "        vertical-align: middle;\n",
       "    }\n",
       "\n",
       "    .dataframe tbody tr th {\n",
       "        vertical-align: top;\n",
       "    }\n",
       "\n",
       "    .dataframe thead th {\n",
       "        text-align: right;\n",
       "    }\n",
       "</style>\n",
       "<table border=\"1\" class=\"dataframe\">\n",
       "  <thead>\n",
       "    <tr style=\"text-align: right;\">\n",
       "      <th></th>\n",
       "      <th>rotation_period</th>\n",
       "      <th>diameter</th>\n",
       "      <th>climate</th>\n",
       "      <th>temperate_tropical</th>\n",
       "      <th>gravity</th>\n",
       "      <th>surface_water</th>\n",
       "      <th>population</th>\n",
       "    </tr>\n",
       "    <tr>\n",
       "      <th>name</th>\n",
       "      <th></th>\n",
       "      <th></th>\n",
       "      <th></th>\n",
       "      <th></th>\n",
       "      <th></th>\n",
       "      <th></th>\n",
       "      <th></th>\n",
       "    </tr>\n",
       "  </thead>\n",
       "  <tbody>\n",
       "    <tr>\n",
       "      <th>Tatooine</th>\n",
       "      <td>23.0</td>\n",
       "      <td>10465.0</td>\n",
       "      <td>arid</td>\n",
       "      <td>0</td>\n",
       "      <td>1.00</td>\n",
       "      <td>1.0</td>\n",
       "      <td>2.000000e+05</td>\n",
       "    </tr>\n",
       "    <tr>\n",
       "      <th>Alderaan</th>\n",
       "      <td>24.0</td>\n",
       "      <td>12500.0</td>\n",
       "      <td>temperate</td>\n",
       "      <td>1</td>\n",
       "      <td>1.00</td>\n",
       "      <td>40.0</td>\n",
       "      <td>2.000000e+09</td>\n",
       "    </tr>\n",
       "    <tr>\n",
       "      <th>Yavin IV</th>\n",
       "      <td>24.0</td>\n",
       "      <td>10200.0</td>\n",
       "      <td>temperate, tropical</td>\n",
       "      <td>1</td>\n",
       "      <td>1.00</td>\n",
       "      <td>8.0</td>\n",
       "      <td>1.000000e+03</td>\n",
       "    </tr>\n",
       "    <tr>\n",
       "      <th>Bespin</th>\n",
       "      <td>12.0</td>\n",
       "      <td>118000.0</td>\n",
       "      <td>temperate</td>\n",
       "      <td>1</td>\n",
       "      <td>1.50</td>\n",
       "      <td>0.0</td>\n",
       "      <td>6.000000e+06</td>\n",
       "    </tr>\n",
       "    <tr>\n",
       "      <th>Endor</th>\n",
       "      <td>18.0</td>\n",
       "      <td>4900.0</td>\n",
       "      <td>temperate</td>\n",
       "      <td>1</td>\n",
       "      <td>0.85</td>\n",
       "      <td>8.0</td>\n",
       "      <td>3.000000e+07</td>\n",
       "    </tr>\n",
       "    <tr>\n",
       "      <th>Naboo</th>\n",
       "      <td>26.0</td>\n",
       "      <td>12120.0</td>\n",
       "      <td>temperate</td>\n",
       "      <td>1</td>\n",
       "      <td>1.00</td>\n",
       "      <td>12.0</td>\n",
       "      <td>4.500000e+09</td>\n",
       "    </tr>\n",
       "    <tr>\n",
       "      <th>Kamino</th>\n",
       "      <td>27.0</td>\n",
       "      <td>19720.0</td>\n",
       "      <td>temperate</td>\n",
       "      <td>1</td>\n",
       "      <td>1.00</td>\n",
       "      <td>100.0</td>\n",
       "      <td>1.000000e+09</td>\n",
       "    </tr>\n",
       "    <tr>\n",
       "      <th>Geonosis</th>\n",
       "      <td>30.0</td>\n",
       "      <td>11370.0</td>\n",
       "      <td>temperate, arid</td>\n",
       "      <td>1</td>\n",
       "      <td>0.90</td>\n",
       "      <td>5.0</td>\n",
       "      <td>1.000000e+11</td>\n",
       "    </tr>\n",
       "    <tr>\n",
       "      <th>Utapau</th>\n",
       "      <td>27.0</td>\n",
       "      <td>12900.0</td>\n",
       "      <td>temperate, arid, windy</td>\n",
       "      <td>1</td>\n",
       "      <td>1.00</td>\n",
       "      <td>0.9</td>\n",
       "      <td>9.500000e+07</td>\n",
       "    </tr>\n",
       "    <tr>\n",
       "      <th>Mustafar</th>\n",
       "      <td>36.0</td>\n",
       "      <td>4200.0</td>\n",
       "      <td>hot</td>\n",
       "      <td>0</td>\n",
       "      <td>1.00</td>\n",
       "      <td>0.0</td>\n",
       "      <td>2.000000e+04</td>\n",
       "    </tr>\n",
       "    <tr>\n",
       "      <th>Kashyyyk</th>\n",
       "      <td>26.0</td>\n",
       "      <td>12765.0</td>\n",
       "      <td>tropical</td>\n",
       "      <td>1</td>\n",
       "      <td>1.00</td>\n",
       "      <td>60.0</td>\n",
       "      <td>4.500000e+07</td>\n",
       "    </tr>\n",
       "    <tr>\n",
       "      <th>Corellia</th>\n",
       "      <td>25.0</td>\n",
       "      <td>11000.0</td>\n",
       "      <td>temperate</td>\n",
       "      <td>1</td>\n",
       "      <td>1.00</td>\n",
       "      <td>70.0</td>\n",
       "      <td>3.000000e+09</td>\n",
       "    </tr>\n",
       "    <tr>\n",
       "      <th>Rodia</th>\n",
       "      <td>29.0</td>\n",
       "      <td>7549.0</td>\n",
       "      <td>hot</td>\n",
       "      <td>0</td>\n",
       "      <td>1.00</td>\n",
       "      <td>60.0</td>\n",
       "      <td>1.300000e+09</td>\n",
       "    </tr>\n",
       "    <tr>\n",
       "      <th>Ord Mantell</th>\n",
       "      <td>26.0</td>\n",
       "      <td>14050.0</td>\n",
       "      <td>temperate</td>\n",
       "      <td>1</td>\n",
       "      <td>1.00</td>\n",
       "      <td>10.0</td>\n",
       "      <td>4.000000e+09</td>\n",
       "    </tr>\n",
       "    <tr>\n",
       "      <th>Mon Cala</th>\n",
       "      <td>21.0</td>\n",
       "      <td>11030.0</td>\n",
       "      <td>temperate</td>\n",
       "      <td>1</td>\n",
       "      <td>1.00</td>\n",
       "      <td>100.0</td>\n",
       "      <td>2.700000e+10</td>\n",
       "    </tr>\n",
       "    <tr>\n",
       "      <th>Chandrila</th>\n",
       "      <td>20.0</td>\n",
       "      <td>13500.0</td>\n",
       "      <td>temperate</td>\n",
       "      <td>1</td>\n",
       "      <td>1.00</td>\n",
       "      <td>40.0</td>\n",
       "      <td>1.200000e+09</td>\n",
       "    </tr>\n",
       "    <tr>\n",
       "      <th>Sullust</th>\n",
       "      <td>20.0</td>\n",
       "      <td>12780.0</td>\n",
       "      <td>superheated</td>\n",
       "      <td>0</td>\n",
       "      <td>1.00</td>\n",
       "      <td>5.0</td>\n",
       "      <td>1.850000e+10</td>\n",
       "    </tr>\n",
       "    <tr>\n",
       "      <th>Ryloth</th>\n",
       "      <td>30.0</td>\n",
       "      <td>10600.0</td>\n",
       "      <td>temperate, arid, subartic</td>\n",
       "      <td>1</td>\n",
       "      <td>1.00</td>\n",
       "      <td>5.0</td>\n",
       "      <td>1.500000e+09</td>\n",
       "    </tr>\n",
       "    <tr>\n",
       "      <th>Glee Anselm</th>\n",
       "      <td>33.0</td>\n",
       "      <td>15600.0</td>\n",
       "      <td>tropical, temperate</td>\n",
       "      <td>1</td>\n",
       "      <td>1.00</td>\n",
       "      <td>80.0</td>\n",
       "      <td>5.000000e+08</td>\n",
       "    </tr>\n",
       "    <tr>\n",
       "      <th>Muunilinst</th>\n",
       "      <td>28.0</td>\n",
       "      <td>13800.0</td>\n",
       "      <td>temperate</td>\n",
       "      <td>1</td>\n",
       "      <td>1.00</td>\n",
       "      <td>25.0</td>\n",
       "      <td>5.000000e+09</td>\n",
       "    </tr>\n",
       "  </tbody>\n",
       "</table>\n",
       "</div>"
      ],
      "text/plain": [
       "             rotation_period  diameter                    climate  \\\n",
       "name                                                                \n",
       "Tatooine                23.0   10465.0                       arid   \n",
       "Alderaan                24.0   12500.0                  temperate   \n",
       "Yavin IV                24.0   10200.0        temperate, tropical   \n",
       "Bespin                  12.0  118000.0                  temperate   \n",
       "Endor                   18.0    4900.0                  temperate   \n",
       "Naboo                   26.0   12120.0                  temperate   \n",
       "Kamino                  27.0   19720.0                  temperate   \n",
       "Geonosis                30.0   11370.0            temperate, arid   \n",
       "Utapau                  27.0   12900.0     temperate, arid, windy   \n",
       "Mustafar                36.0    4200.0                        hot   \n",
       "Kashyyyk                26.0   12765.0                   tropical   \n",
       "Corellia                25.0   11000.0                  temperate   \n",
       "Rodia                   29.0    7549.0                        hot   \n",
       "Ord Mantell             26.0   14050.0                  temperate   \n",
       "Mon Cala                21.0   11030.0                  temperate   \n",
       "Chandrila               20.0   13500.0                  temperate   \n",
       "Sullust                 20.0   12780.0                superheated   \n",
       "Ryloth                  30.0   10600.0  temperate, arid, subartic   \n",
       "Glee Anselm             33.0   15600.0        tropical, temperate   \n",
       "Muunilinst              28.0   13800.0                  temperate   \n",
       "\n",
       "             temperate_tropical  gravity  surface_water    population  \n",
       "name                                                                   \n",
       "Tatooine                      0     1.00            1.0  2.000000e+05  \n",
       "Alderaan                      1     1.00           40.0  2.000000e+09  \n",
       "Yavin IV                      1     1.00            8.0  1.000000e+03  \n",
       "Bespin                        1     1.50            0.0  6.000000e+06  \n",
       "Endor                         1     0.85            8.0  3.000000e+07  \n",
       "Naboo                         1     1.00           12.0  4.500000e+09  \n",
       "Kamino                        1     1.00          100.0  1.000000e+09  \n",
       "Geonosis                      1     0.90            5.0  1.000000e+11  \n",
       "Utapau                        1     1.00            0.9  9.500000e+07  \n",
       "Mustafar                      0     1.00            0.0  2.000000e+04  \n",
       "Kashyyyk                      1     1.00           60.0  4.500000e+07  \n",
       "Corellia                      1     1.00           70.0  3.000000e+09  \n",
       "Rodia                         0     1.00           60.0  1.300000e+09  \n",
       "Ord Mantell                   1     1.00           10.0  4.000000e+09  \n",
       "Mon Cala                      1     1.00          100.0  2.700000e+10  \n",
       "Chandrila                     1     1.00           40.0  1.200000e+09  \n",
       "Sullust                       0     1.00            5.0  1.850000e+10  \n",
       "Ryloth                        1     1.00            5.0  1.500000e+09  \n",
       "Glee Anselm                   1     1.00           80.0  5.000000e+08  \n",
       "Muunilinst                    1     1.00           25.0  5.000000e+09  "
      ]
     },
     "execution_count": 3,
     "metadata": {},
     "output_type": "execute_result"
    }
   ],
   "source": [
    "%matplotlib inline\n",
    "import numpy as np\n",
    "import matplotlib.pyplot as plt\n",
    "import seaborn as sns; sns.set()  # para el estilo de graficos\n",
    "\n",
    "entidades = ['planets','starships','vehicles','people','species']\n",
    "entidades_df = {x: pd.read_pickle('www/' + x + '_df.pkl') for x in entidades}\n",
    "planets_df = entidades_df['planets'][[\"rotation_period\",\"diameter\",\"climate\"\n",
    "                                      ,\"temperate_tropical\",\"gravity\"\n",
    "                                     ,\"surface_water\",\"population\"]].dropna()\n",
    "planets_df = planets_df[planets_df.diameter>0]\n",
    "\n",
    "\n",
    "planets_df"
   ]
  },
  {
   "cell_type": "markdown",
   "metadata": {
    "id": "uNp0KfRlVVkP"
   },
   "source": [
    "### 6.2. Pandas Series\n",
    "\n",
    "Se definen como un array uni-dimensional indexado.\n",
    "\n",
    "Se puede crear desde una lista:"
   ]
  },
  {
   "cell_type": "code",
   "execution_count": 4,
   "metadata": {
    "colab": {
     "base_uri": "https://localhost:8080/"
    },
    "executionInfo": {
     "elapsed": 704,
     "status": "ok",
     "timestamp": 1604334077587,
     "user": {
      "displayName": "alumnos bigdata",
      "photoUrl": "",
      "userId": "10710302360204190833"
     },
     "user_tz": -60
    },
    "id": "OlhfWpn7VVkV",
    "outputId": "ae013694-666a-4f4b-8b38-97a31480057c"
   },
   "outputs": [
    {
     "data": {
      "text/plain": [
       "0    1.2\n",
       "1    0.4\n",
       "2    2.3\n",
       "dtype: float64"
      ]
     },
     "execution_count": 4,
     "metadata": {},
     "output_type": "execute_result"
    }
   ],
   "source": [
    "a = pd.Series([1.2, 0.4, 2.3])\n",
    "a"
   ]
  },
  {
   "cell_type": "markdown",
   "metadata": {
    "id": "GX3yD7FqVVku"
   },
   "source": [
    "Como ves, une valores e índice. Accedemos a los valores en formato numpy con `.values`:"
   ]
  },
  {
   "cell_type": "code",
   "execution_count": 5,
   "metadata": {
    "id": "gBZahSwVVVk1",
    "outputId": "34c8dba4-7036-453d-bf95-8f48e03f66b1"
   },
   "outputs": [
    {
     "data": {
      "text/plain": [
       "array([1.2, 0.4, 2.3])"
      ]
     },
     "execution_count": 5,
     "metadata": {},
     "output_type": "execute_result"
    }
   ],
   "source": [
    "a.values"
   ]
  },
  {
   "cell_type": "markdown",
   "metadata": {
    "id": "VB79bJssVVlR"
   },
   "source": [
    "Los índices tienen su propio tipo y accedemos con `.index`:"
   ]
  },
  {
   "cell_type": "code",
   "execution_count": 6,
   "metadata": {
    "colab": {
     "base_uri": "https://localhost:8080/"
    },
    "executionInfo": {
     "elapsed": 694,
     "status": "ok",
     "timestamp": 1604334080208,
     "user": {
      "displayName": "alumnos bigdata",
      "photoUrl": "",
      "userId": "10710302360204190833"
     },
     "user_tz": -60
    },
    "id": "9ymToXqtVVlV",
    "outputId": "5ca89c70-12a0-4f3f-b046-8eef18e77efb"
   },
   "outputs": [
    {
     "data": {
      "text/plain": [
       "RangeIndex(start=0, stop=3, step=1)"
      ]
     },
     "execution_count": 6,
     "metadata": {},
     "output_type": "execute_result"
    }
   ],
   "source": [
    "a.index"
   ]
  },
  {
   "cell_type": "markdown",
   "metadata": {
    "id": "4T2pinXaVVlo"
   },
   "source": [
    "Mismas funcionalidades *slicing*, funciones, *fancy indexing* que los arrays numpy:"
   ]
  },
  {
   "cell_type": "code",
   "execution_count": 7,
   "metadata": {
    "colab": {
     "base_uri": "https://localhost:8080/"
    },
    "executionInfo": {
     "elapsed": 739,
     "status": "ok",
     "timestamp": 1604334082616,
     "user": {
      "displayName": "alumnos bigdata",
      "photoUrl": "",
      "userId": "10710302360204190833"
     },
     "user_tz": -60
    },
    "id": "5gth52O9VVls",
    "outputId": "30f164b0-0c9c-4867-a1c1-708fda404620"
   },
   "outputs": [
    {
     "data": {
      "text/plain": [
       "1    0.8\n",
       "2    4.6\n",
       "dtype: float64"
      ]
     },
     "execution_count": 7,
     "metadata": {},
     "output_type": "execute_result"
    }
   ],
   "source": [
    "a[1:3] * 2"
   ]
  },
  {
   "cell_type": "markdown",
   "metadata": {
    "id": "XvwPDY3TVVmB"
   },
   "source": [
    "Podemos declarar el índice de forma explícita:"
   ]
  },
  {
   "cell_type": "code",
   "execution_count": 8,
   "metadata": {
    "colab": {
     "base_uri": "https://localhost:8080/"
    },
    "executionInfo": {
     "elapsed": 994,
     "status": "ok",
     "timestamp": 1604334085798,
     "user": {
      "displayName": "alumnos bigdata",
      "photoUrl": "",
      "userId": "10710302360204190833"
     },
     "user_tz": -60
    },
    "id": "jTEWYnEIVVmG",
    "outputId": "8e22db1d-35db-4394-8297-3cb0a43abb50"
   },
   "outputs": [
    {
     "data": {
      "text/plain": [
       "a    1.2\n",
       "b    0.4\n",
       "c    2.3\n",
       "dtype: float64"
      ]
     },
     "execution_count": 8,
     "metadata": {},
     "output_type": "execute_result"
    }
   ],
   "source": [
    "a = pd.Series([1.2, 0.4, 2.3], index=['a','b','c'])\n",
    "a"
   ]
  },
  {
   "cell_type": "markdown",
   "metadata": {
    "id": "cIUrhS8yVVmc"
   },
   "source": [
    "O bien, a partir de un diccionario:"
   ]
  },
  {
   "cell_type": "code",
   "execution_count": 9,
   "metadata": {
    "colab": {
     "base_uri": "https://localhost:8080/"
    },
    "executionInfo": {
     "elapsed": 692,
     "status": "ok",
     "timestamp": 1604334088304,
     "user": {
      "displayName": "alumnos bigdata",
      "photoUrl": "",
      "userId": "10710302360204190833"
     },
     "user_tz": -60
    },
    "id": "722uIwuxVVmg",
    "outputId": "953e4e1e-e9b7-4edb-f586-a68117c29df1"
   },
   "outputs": [
    {
     "data": {
      "text/plain": [
       "a    1.2\n",
       "b    0.4\n",
       "c    2.3\n",
       "dtype: float64"
      ]
     },
     "execution_count": 9,
     "metadata": {},
     "output_type": "execute_result"
    }
   ],
   "source": [
    "a = pd.Series({'a': 1.2, 'b': 0.4, 'c': 2.3})\n",
    "a"
   ]
  },
  {
   "cell_type": "markdown",
   "metadata": {
    "id": "Z5CpJH13VVm1"
   },
   "source": [
    "El índice añade la capacidad de filtrar a partir de sus valores:"
   ]
  },
  {
   "cell_type": "code",
   "execution_count": 10,
   "metadata": {
    "colab": {
     "base_uri": "https://localhost:8080/"
    },
    "executionInfo": {
     "elapsed": 816,
     "status": "ok",
     "timestamp": 1604334090717,
     "user": {
      "displayName": "alumnos bigdata",
      "photoUrl": "",
      "userId": "10710302360204190833"
     },
     "user_tz": -60
    },
    "id": "l8fvwsxEVVm5",
    "outputId": "9451c06f-68ae-49e0-ef25-06be5d554a88"
   },
   "outputs": [
    {
     "data": {
      "text/plain": [
       "b    0.4\n",
       "c    2.3\n",
       "dtype: float64"
      ]
     },
     "execution_count": 10,
     "metadata": {},
     "output_type": "execute_result"
    }
   ],
   "source": [
    "a[['b','c']]"
   ]
  },
  {
   "cell_type": "markdown",
   "metadata": {
    "id": "EhWZeu7rVVnq"
   },
   "source": [
    "Incluso, tiene los métodos de un diccionario:"
   ]
  },
  {
   "cell_type": "code",
   "execution_count": 11,
   "metadata": {
    "colab": {
     "base_uri": "https://localhost:8080/"
    },
    "executionInfo": {
     "elapsed": 709,
     "status": "ok",
     "timestamp": 1604334093070,
     "user": {
      "displayName": "alumnos bigdata",
      "photoUrl": "",
      "userId": "10710302360204190833"
     },
     "user_tz": -60
    },
    "id": "CqgydgCyVVnv",
    "outputId": "bb7584b0-fb28-4375-ff64-f74e36f0f1a6"
   },
   "outputs": [
    {
     "data": {
      "text/plain": [
       "Index(['a', 'b', 'c'], dtype='object')"
      ]
     },
     "execution_count": 11,
     "metadata": {},
     "output_type": "execute_result"
    }
   ],
   "source": [
    "a.keys()"
   ]
  },
  {
   "cell_type": "code",
   "execution_count": 12,
   "metadata": {
    "id": "hijOWgTsVVoJ",
    "outputId": "0ae89150-5cb6-4a38-c4b3-369533aacfc8"
   },
   "outputs": [
    {
     "data": {
      "text/plain": [
       "[('a', 1.2), ('b', 0.4), ('c', 2.3)]"
      ]
     },
     "execution_count": 12,
     "metadata": {},
     "output_type": "execute_result"
    }
   ],
   "source": [
    "list(a.items())"
   ]
  },
  {
   "cell_type": "markdown",
   "metadata": {
    "id": "U75KhoMvVVod"
   },
   "source": [
    "#### 6.2.1. Índexadores: LOC, ILOC\n",
    "\n",
    "Se utilizan para modificar el comportamiento de los filtros.\n",
    "\n",
    "Su función es evitar colisiones entre índices y posiciones. Por ejemplo, la siguiente serie tiene índices enteros:"
   ]
  },
  {
   "cell_type": "code",
   "execution_count": 13,
   "metadata": {
    "id": "fJ115Nr2VVoi",
    "outputId": "2edcc323-381e-4411-b257-fc1a77ba3e45"
   },
   "outputs": [
    {
     "data": {
      "text/plain": [
       "1    a\n",
       "3    b\n",
       "5    c\n",
       "dtype: object"
      ]
     },
     "execution_count": 13,
     "metadata": {},
     "output_type": "execute_result"
    }
   ],
   "source": [
    "a = pd.Series(['a', 'b', 'c'], index=[1, 3, 5])\n",
    "a"
   ]
  },
  {
   "cell_type": "markdown",
   "metadata": {
    "id": "lphA1u0sVVo2"
   },
   "source": [
    "Si se accede al valor del índice 1."
   ]
  },
  {
   "cell_type": "code",
   "execution_count": 14,
   "metadata": {
    "id": "ttCFytgVVVo5",
    "outputId": "0d5c40c2-8631-436f-a8c1-d928ba31d9f8"
   },
   "outputs": [
    {
     "data": {
      "text/plain": [
       "'a'"
      ]
     },
     "execution_count": 14,
     "metadata": {},
     "output_type": "execute_result"
    }
   ],
   "source": [
    "a[1]"
   ]
  },
  {
   "cell_type": "markdown",
   "metadata": {
    "id": "hRXY0gulVVpL"
   },
   "source": [
    "En cambio, si se pide los valores de las posiciones 1 a 3 con slicing."
   ]
  },
  {
   "cell_type": "code",
   "execution_count": 15,
   "metadata": {
    "id": "DiuhrRTCVVpP",
    "outputId": "ed10954d-6410-4365-d9bd-2a00854d81e4"
   },
   "outputs": [
    {
     "data": {
      "text/plain": [
       "3    b\n",
       "5    c\n",
       "dtype: object"
      ]
     },
     "execution_count": 15,
     "metadata": {},
     "output_type": "execute_result"
    }
   ],
   "source": [
    "a[1:3]"
   ]
  },
  {
   "cell_type": "markdown",
   "metadata": {
    "id": "Hi2prAWVVVpe"
   },
   "source": [
    "Para evitar estas confusiones se introduce `.loc` que permite realizar un acceso a los valores siempre basados en el índice."
   ]
  },
  {
   "cell_type": "code",
   "execution_count": 16,
   "metadata": {
    "id": "NyA4o8nZVVpj",
    "outputId": "3d68e9a8-9348-4013-8987-f30722eca514"
   },
   "outputs": [
    {
     "data": {
      "text/plain": [
       "'a'"
      ]
     },
     "execution_count": 16,
     "metadata": {},
     "output_type": "execute_result"
    }
   ],
   "source": [
    "a.loc[1]"
   ]
  },
  {
   "cell_type": "code",
   "execution_count": 17,
   "metadata": {
    "id": "xPa-RlaoVVpz",
    "outputId": "46cc71a4-e5bd-4b90-c999-7587e1b55722"
   },
   "outputs": [
    {
     "data": {
      "text/plain": [
       "1    a\n",
       "3    b\n",
       "dtype: object"
      ]
     },
     "execution_count": 17,
     "metadata": {},
     "output_type": "execute_result"
    }
   ],
   "source": [
    "a.loc[1:3]"
   ]
  },
  {
   "cell_type": "markdown",
   "metadata": {
    "id": "jxBbh64zVVqA"
   },
   "source": [
    "Por contra `.iloc` tiene la finalidad contraria, realizar el acceso por posición."
   ]
  },
  {
   "cell_type": "code",
   "execution_count": 18,
   "metadata": {
    "id": "ur2wljsdVVqG",
    "outputId": "831e0471-7de4-40e8-fa65-7c152dd8dd43"
   },
   "outputs": [
    {
     "data": {
      "text/plain": [
       "'b'"
      ]
     },
     "execution_count": 18,
     "metadata": {},
     "output_type": "execute_result"
    }
   ],
   "source": [
    "a.iloc[1]"
   ]
  },
  {
   "cell_type": "code",
   "execution_count": 19,
   "metadata": {
    "id": "_cmA-GMBVVqW",
    "outputId": "be119975-9bd8-4eb0-bbb0-51f254881ccf"
   },
   "outputs": [
    {
     "data": {
      "text/plain": [
       "3    b\n",
       "5    c\n",
       "dtype: object"
      ]
     },
     "execution_count": 19,
     "metadata": {},
     "output_type": "execute_result"
    }
   ],
   "source": [
    "a.iloc[1:3]"
   ]
  },
  {
   "cell_type": "markdown",
   "metadata": {
    "id": "p1lS1-OrVVqk"
   },
   "source": [
    "### 6.3. Objetos Pandas Dataframe\n",
    "\n",
    "Se pueden ver como una generalización de los numpy o incluso de los diccionarios. \n",
    "\n",
    "Para poderlo visualizar, partimos de dos series, una serie del diámetro y otra de la población de los planetas:"
   ]
  },
  {
   "cell_type": "code",
   "execution_count": 20,
   "metadata": {
    "id": "ONMUqWiQVVqn"
   },
   "outputs": [],
   "source": [
    "diameter_dict = {'Tatooine': 10465.0,'Alderaan': 12500.0\n",
    "                 ,'Bespin': 118000.0,'Endor': 4900.0,'Naboo': 12120.0}\n",
    "population_dict = {'Tatooine': 2.000000e+05,'Alderaan': 2.000000e+09\n",
    "                   ,'Bespin': 6.000000e+06,'Endor': 3.000000e+07,'Naboo': 4.500000e+09}\n"
   ]
  },
  {
   "cell_type": "code",
   "execution_count": 21,
   "metadata": {
    "colab": {
     "base_uri": "https://localhost:8080/"
    },
    "executionInfo": {
     "elapsed": 1163,
     "status": "ok",
     "timestamp": 1604334102256,
     "user": {
      "displayName": "alumnos bigdata",
      "photoUrl": "",
      "userId": "10710302360204190833"
     },
     "user_tz": -60
    },
    "id": "NzlAEYlPVVq2",
    "outputId": "d68c5fe8-1f4f-4e2d-f6be-16a246660c0c"
   },
   "outputs": [
    {
     "data": {
      "text/plain": [
       "Tatooine    2.000000e+05\n",
       "Alderaan    2.000000e+09\n",
       "Bespin      6.000000e+06\n",
       "Endor       3.000000e+07\n",
       "Naboo       4.500000e+09\n",
       "dtype: float64"
      ]
     },
     "execution_count": 21,
     "metadata": {},
     "output_type": "execute_result"
    }
   ],
   "source": [
    "population = pd.Series(population_dict)\n",
    "population"
   ]
  },
  {
   "cell_type": "code",
   "execution_count": 22,
   "metadata": {
    "colab": {
     "base_uri": "https://localhost:8080/"
    },
    "executionInfo": {
     "elapsed": 966,
     "status": "ok",
     "timestamp": 1604334104733,
     "user": {
      "displayName": "alumnos bigdata",
      "photoUrl": "",
      "userId": "10710302360204190833"
     },
     "user_tz": -60
    },
    "id": "oGRbYQ4bVVrL",
    "outputId": "4133eadf-8130-490a-8019-33709766fd50"
   },
   "outputs": [
    {
     "data": {
      "text/plain": [
       "Tatooine     10465.0\n",
       "Alderaan     12500.0\n",
       "Bespin      118000.0\n",
       "Endor         4900.0\n",
       "Naboo        12120.0\n",
       "dtype: float64"
      ]
     },
     "execution_count": 22,
     "metadata": {},
     "output_type": "execute_result"
    }
   ],
   "source": [
    "diameter = pd.Series(diameter_dict)\n",
    "diameter"
   ]
  },
  {
   "cell_type": "markdown",
   "metadata": {
    "id": "GyTBSWa6VVrk"
   },
   "source": [
    "Ahora, construimos un `DataFrame` con el método `pd.DataFrame()`:"
   ]
  },
  {
   "cell_type": "code",
   "execution_count": 23,
   "metadata": {
    "colab": {
     "base_uri": "https://localhost:8080/",
     "height": 206
    },
    "executionInfo": {
     "elapsed": 655,
     "status": "ok",
     "timestamp": 1604334107813,
     "user": {
      "displayName": "alumnos bigdata",
      "photoUrl": "",
      "userId": "10710302360204190833"
     },
     "user_tz": -60
    },
    "id": "dos1D2f8VVrr",
    "outputId": "bdc69a2a-dafa-4af8-c6a8-dfe8ed485e0c"
   },
   "outputs": [
    {
     "data": {
      "text/html": [
       "<div>\n",
       "<style scoped>\n",
       "    .dataframe tbody tr th:only-of-type {\n",
       "        vertical-align: middle;\n",
       "    }\n",
       "\n",
       "    .dataframe tbody tr th {\n",
       "        vertical-align: top;\n",
       "    }\n",
       "\n",
       "    .dataframe thead th {\n",
       "        text-align: right;\n",
       "    }\n",
       "</style>\n",
       "<table border=\"1\" class=\"dataframe\">\n",
       "  <thead>\n",
       "    <tr style=\"text-align: right;\">\n",
       "      <th></th>\n",
       "      <th>population</th>\n",
       "      <th>diameter</th>\n",
       "    </tr>\n",
       "  </thead>\n",
       "  <tbody>\n",
       "    <tr>\n",
       "      <th>Tatooine</th>\n",
       "      <td>2.000000e+05</td>\n",
       "      <td>10465.0</td>\n",
       "    </tr>\n",
       "    <tr>\n",
       "      <th>Alderaan</th>\n",
       "      <td>2.000000e+09</td>\n",
       "      <td>12500.0</td>\n",
       "    </tr>\n",
       "    <tr>\n",
       "      <th>Bespin</th>\n",
       "      <td>6.000000e+06</td>\n",
       "      <td>118000.0</td>\n",
       "    </tr>\n",
       "    <tr>\n",
       "      <th>Endor</th>\n",
       "      <td>3.000000e+07</td>\n",
       "      <td>4900.0</td>\n",
       "    </tr>\n",
       "    <tr>\n",
       "      <th>Naboo</th>\n",
       "      <td>4.500000e+09</td>\n",
       "      <td>12120.0</td>\n",
       "    </tr>\n",
       "  </tbody>\n",
       "</table>\n",
       "</div>"
      ],
      "text/plain": [
       "            population  diameter\n",
       "Tatooine  2.000000e+05   10465.0\n",
       "Alderaan  2.000000e+09   12500.0\n",
       "Bespin    6.000000e+06  118000.0\n",
       "Endor     3.000000e+07    4900.0\n",
       "Naboo     4.500000e+09   12120.0"
      ]
     },
     "execution_count": 23,
     "metadata": {},
     "output_type": "execute_result"
    }
   ],
   "source": [
    "planetas = pd.DataFrame({'population': population,\n",
    "                       'diameter': diameter})\n",
    "planetas"
   ]
  },
  {
   "cell_type": "markdown",
   "metadata": {
    "id": "JgLKwOBYVVr6"
   },
   "source": [
    "Al igual que ocurre con las series, accedemos a su índice fila con `.index`:"
   ]
  },
  {
   "cell_type": "code",
   "execution_count": 24,
   "metadata": {
    "id": "tCdVgN05VVr9",
    "outputId": "e096d885-b6fe-4123-9b84-67c59638fc48"
   },
   "outputs": [
    {
     "data": {
      "text/plain": [
       "Index(['Tatooine', 'Alderaan', 'Bespin', 'Endor', 'Naboo'], dtype='object')"
      ]
     },
     "execution_count": 24,
     "metadata": {},
     "output_type": "execute_result"
    }
   ],
   "source": [
    "planetas.index"
   ]
  },
  {
   "cell_type": "markdown",
   "metadata": {
    "id": "YyAlEM7kVVsL"
   },
   "source": [
    "También, accedemos al índice de las columnas con `.columns`:"
   ]
  },
  {
   "cell_type": "code",
   "execution_count": 25,
   "metadata": {
    "id": "YnW92FbmVVsO",
    "outputId": "0460b3f7-6f9f-4da3-d42c-8d0a3d859507",
    "scrolled": false
   },
   "outputs": [
    {
     "data": {
      "text/plain": [
       "Index(['population', 'diameter'], dtype='object')"
      ]
     },
     "execution_count": 25,
     "metadata": {},
     "output_type": "execute_result"
    }
   ],
   "source": [
    "planetas.columns"
   ]
  },
  {
   "cell_type": "markdown",
   "metadata": {
    "id": "MwlILYNDVVsc"
   },
   "source": [
    "Podemos construir a partir de numpy, especificando el nombre de las columnas:"
   ]
  },
  {
   "cell_type": "code",
   "execution_count": 26,
   "metadata": {
    "id": "KTdPAV4bVVse",
    "outputId": "3188cbad-cfbd-48c2-d8ea-33a53b8d6f2d"
   },
   "outputs": [
    {
     "data": {
      "text/plain": [
       "array([[1., 1.],\n",
       "       [1., 1.],\n",
       "       [1., 1.]])"
      ]
     },
     "execution_count": 26,
     "metadata": {},
     "output_type": "execute_result"
    }
   ],
   "source": [
    "a = np.ones((3,2))\n",
    "a"
   ]
  },
  {
   "cell_type": "code",
   "execution_count": 27,
   "metadata": {
    "id": "SkfumLpIVVst",
    "outputId": "af0fe1af-8f41-4d25-aeea-0f01dbf86f32"
   },
   "outputs": [
    {
     "data": {
      "text/html": [
       "<div>\n",
       "<style scoped>\n",
       "    .dataframe tbody tr th:only-of-type {\n",
       "        vertical-align: middle;\n",
       "    }\n",
       "\n",
       "    .dataframe tbody tr th {\n",
       "        vertical-align: top;\n",
       "    }\n",
       "\n",
       "    .dataframe thead th {\n",
       "        text-align: right;\n",
       "    }\n",
       "</style>\n",
       "<table border=\"1\" class=\"dataframe\">\n",
       "  <thead>\n",
       "    <tr style=\"text-align: right;\">\n",
       "      <th></th>\n",
       "      <th>col1</th>\n",
       "      <th>col2</th>\n",
       "    </tr>\n",
       "  </thead>\n",
       "  <tbody>\n",
       "    <tr>\n",
       "      <th>0</th>\n",
       "      <td>1.0</td>\n",
       "      <td>1.0</td>\n",
       "    </tr>\n",
       "    <tr>\n",
       "      <th>1</th>\n",
       "      <td>1.0</td>\n",
       "      <td>1.0</td>\n",
       "    </tr>\n",
       "    <tr>\n",
       "      <th>2</th>\n",
       "      <td>1.0</td>\n",
       "      <td>1.0</td>\n",
       "    </tr>\n",
       "  </tbody>\n",
       "</table>\n",
       "</div>"
      ],
      "text/plain": [
       "   col1  col2\n",
       "0   1.0   1.0\n",
       "1   1.0   1.0\n",
       "2   1.0   1.0"
      ]
     },
     "execution_count": 27,
     "metadata": {},
     "output_type": "execute_result"
    }
   ],
   "source": [
    "b = pd.DataFrame(a, columns=[\"col1\",\"col2\"])\n",
    "b"
   ]
  },
  {
   "cell_type": "markdown",
   "metadata": {
    "id": "c2TaddJ9VVs8"
   },
   "source": [
    "Podemos recuperar el numpy con `.values`:"
   ]
  },
  {
   "cell_type": "code",
   "execution_count": 28,
   "metadata": {
    "id": "dl0BBDY6VVs_",
    "outputId": "a6aab57b-c418-4b2a-e7ca-1771db998864"
   },
   "outputs": [
    {
     "data": {
      "text/plain": [
       "array([[1., 1.],\n",
       "       [1., 1.],\n",
       "       [1., 1.]])"
      ]
     },
     "execution_count": 28,
     "metadata": {},
     "output_type": "execute_result"
    }
   ],
   "source": [
    "b.values"
   ]
  },
  {
   "cell_type": "markdown",
   "metadata": {
    "id": "JFLzKAAyVVtJ"
   },
   "source": [
    "Accedemos a los tipos internos con `.dtypes`:"
   ]
  },
  {
   "cell_type": "code",
   "execution_count": 29,
   "metadata": {
    "id": "2j64qS2vVVtM",
    "outputId": "702b308d-0e5c-4ace-9fc5-a6b9ee4d7e7d"
   },
   "outputs": [
    {
     "data": {
      "text/plain": [
       "rotation_period       float64\n",
       "diameter              float64\n",
       "climate                object\n",
       "temperate_tropical      int32\n",
       "gravity               float64\n",
       "surface_water         float64\n",
       "population            float64\n",
       "dtype: object"
      ]
     },
     "execution_count": 29,
     "metadata": {},
     "output_type": "execute_result"
    }
   ],
   "source": [
    "planets_df.dtypes"
   ]
  },
  {
   "cell_type": "markdown",
   "metadata": {
    "id": "qs6V4BPTVVtZ"
   },
   "source": [
    "#### 6.3.1. Gestión de Columnas en Dataframes"
   ]
  },
  {
   "cell_type": "markdown",
   "metadata": {
    "id": "dxPF8A7FVVtb"
   },
   "source": [
    "Accedemos a las series que forman un DataFrame utilizando la anotación de diccionario:"
   ]
  },
  {
   "cell_type": "code",
   "execution_count": 30,
   "metadata": {
    "id": "WFHwMVF8VVtd",
    "outputId": "b236b2b1-005a-4376-b734-527759eb24c8"
   },
   "outputs": [
    {
     "data": {
      "text/plain": [
       "name\n",
       "Tatooine       2.000000e+05\n",
       "Alderaan       2.000000e+09\n",
       "Yavin IV       1.000000e+03\n",
       "Bespin         6.000000e+06\n",
       "Endor          3.000000e+07\n",
       "Naboo          4.500000e+09\n",
       "Kamino         1.000000e+09\n",
       "Geonosis       1.000000e+11\n",
       "Utapau         9.500000e+07\n",
       "Mustafar       2.000000e+04\n",
       "Kashyyyk       4.500000e+07\n",
       "Corellia       3.000000e+09\n",
       "Rodia          1.300000e+09\n",
       "Ord Mantell    4.000000e+09\n",
       "Mon Cala       2.700000e+10\n",
       "Chandrila      1.200000e+09\n",
       "Sullust        1.850000e+10\n",
       "Ryloth         1.500000e+09\n",
       "Glee Anselm    5.000000e+08\n",
       "Muunilinst     5.000000e+09\n",
       "Name: population, dtype: float64"
      ]
     },
     "execution_count": 30,
     "metadata": {},
     "output_type": "execute_result"
    }
   ],
   "source": [
    "planets_df[\"population\"]"
   ]
  },
  {
   "cell_type": "markdown",
   "metadata": {
    "id": "Tf-vPcSgVVtu"
   },
   "source": [
    "También, como si fuera un atributo:"
   ]
  },
  {
   "cell_type": "code",
   "execution_count": 31,
   "metadata": {
    "id": "EVY-wKq-VVtx",
    "outputId": "aa09061f-c18f-43dd-bcc3-bda1cb2cf3a8"
   },
   "outputs": [
    {
     "data": {
      "text/plain": [
       "name\n",
       "Tatooine        10465.0\n",
       "Alderaan        12500.0\n",
       "Yavin IV        10200.0\n",
       "Bespin         118000.0\n",
       "Endor            4900.0\n",
       "Naboo           12120.0\n",
       "Kamino          19720.0\n",
       "Geonosis        11370.0\n",
       "Utapau          12900.0\n",
       "Mustafar         4200.0\n",
       "Kashyyyk        12765.0\n",
       "Corellia        11000.0\n",
       "Rodia            7549.0\n",
       "Ord Mantell     14050.0\n",
       "Mon Cala        11030.0\n",
       "Chandrila       13500.0\n",
       "Sullust         12780.0\n",
       "Ryloth          10600.0\n",
       "Glee Anselm     15600.0\n",
       "Muunilinst      13800.0\n",
       "Name: diameter, dtype: float64"
      ]
     },
     "execution_count": 31,
     "metadata": {},
     "output_type": "execute_result"
    }
   ],
   "source": [
    "planets_df.diameter"
   ]
  },
  {
   "cell_type": "markdown",
   "metadata": {
    "id": "4lHx-8O6VVt9"
   },
   "source": [
    "Podemos crear nuevas columnas o series. Por ejemplo, calculamos:\n",
    "\n",
    "- El área en Km²  del planeta (suponiendo que son esféricos): $4*\\pi*Radio²$.\n",
    "- La densidad poblacional en habitantes / Km²."
   ]
  },
  {
   "cell_type": "code",
   "execution_count": 32,
   "metadata": {
    "id": "C6Ob6AKzVVt_"
   },
   "outputs": [],
   "source": [
    "import math\n",
    "planets_df[\"area\"] = 4 * math.pi * (planets_df[\"diameter\"]/2)**2\n",
    "planets_df[\"density\"] = planets_df[\"population\"] / planets_df[\"area\"]"
   ]
  },
  {
   "cell_type": "markdown",
   "metadata": {
    "id": "T_c95YrOVVuJ"
   },
   "source": [
    "Para seleccionar varias columnas utilizamos listas. Observa que ahora, se mantiene la clase DataFrame:"
   ]
  },
  {
   "cell_type": "code",
   "execution_count": 33,
   "metadata": {
    "id": "AFtbKILUVVuM",
    "outputId": "96b78db4-8e90-408f-9dbf-4388edbe48eb"
   },
   "outputs": [
    {
     "data": {
      "text/html": [
       "<div>\n",
       "<style scoped>\n",
       "    .dataframe tbody tr th:only-of-type {\n",
       "        vertical-align: middle;\n",
       "    }\n",
       "\n",
       "    .dataframe tbody tr th {\n",
       "        vertical-align: top;\n",
       "    }\n",
       "\n",
       "    .dataframe thead th {\n",
       "        text-align: right;\n",
       "    }\n",
       "</style>\n",
       "<table border=\"1\" class=\"dataframe\">\n",
       "  <thead>\n",
       "    <tr style=\"text-align: right;\">\n",
       "      <th></th>\n",
       "      <th>population</th>\n",
       "      <th>diameter</th>\n",
       "      <th>area</th>\n",
       "      <th>density</th>\n",
       "    </tr>\n",
       "    <tr>\n",
       "      <th>name</th>\n",
       "      <th></th>\n",
       "      <th></th>\n",
       "      <th></th>\n",
       "      <th></th>\n",
       "    </tr>\n",
       "  </thead>\n",
       "  <tbody>\n",
       "    <tr>\n",
       "      <th>Tatooine</th>\n",
       "      <td>2.000000e+05</td>\n",
       "      <td>10465.0</td>\n",
       "      <td>3.440554e+08</td>\n",
       "      <td>0.000581</td>\n",
       "    </tr>\n",
       "    <tr>\n",
       "      <th>Alderaan</th>\n",
       "      <td>2.000000e+09</td>\n",
       "      <td>12500.0</td>\n",
       "      <td>4.908739e+08</td>\n",
       "      <td>4.074367</td>\n",
       "    </tr>\n",
       "    <tr>\n",
       "      <th>Yavin IV</th>\n",
       "      <td>1.000000e+03</td>\n",
       "      <td>10200.0</td>\n",
       "      <td>3.268513e+08</td>\n",
       "      <td>0.000003</td>\n",
       "    </tr>\n",
       "    <tr>\n",
       "      <th>Bespin</th>\n",
       "      <td>6.000000e+06</td>\n",
       "      <td>118000.0</td>\n",
       "      <td>4.374354e+10</td>\n",
       "      <td>0.000137</td>\n",
       "    </tr>\n",
       "    <tr>\n",
       "      <th>Endor</th>\n",
       "      <td>3.000000e+07</td>\n",
       "      <td>4900.0</td>\n",
       "      <td>7.542964e+07</td>\n",
       "      <td>0.397722</td>\n",
       "    </tr>\n",
       "  </tbody>\n",
       "</table>\n",
       "</div>"
      ],
      "text/plain": [
       "            population  diameter          area   density\n",
       "name                                                    \n",
       "Tatooine  2.000000e+05   10465.0  3.440554e+08  0.000581\n",
       "Alderaan  2.000000e+09   12500.0  4.908739e+08  4.074367\n",
       "Yavin IV  1.000000e+03   10200.0  3.268513e+08  0.000003\n",
       "Bespin    6.000000e+06  118000.0  4.374354e+10  0.000137\n",
       "Endor     3.000000e+07    4900.0  7.542964e+07  0.397722"
      ]
     },
     "execution_count": 33,
     "metadata": {},
     "output_type": "execute_result"
    }
   ],
   "source": [
    "planets_df[[\"population\",\"diameter\",\"area\",\"density\"]].head()"
   ]
  },
  {
   "cell_type": "markdown",
   "metadata": {
    "id": "Ghe3MEPJVVuW"
   },
   "source": [
    "Modificaremos el nombre de una columna con `.rename()`:"
   ]
  },
  {
   "cell_type": "code",
   "execution_count": 34,
   "metadata": {
    "id": "LcdoEdS8VVuY",
    "outputId": "417e944e-4b2d-4fbd-bd35-9a2eec812446",
    "scrolled": true
   },
   "outputs": [
    {
     "data": {
      "text/html": [
       "<div>\n",
       "<style scoped>\n",
       "    .dataframe tbody tr th:only-of-type {\n",
       "        vertical-align: middle;\n",
       "    }\n",
       "\n",
       "    .dataframe tbody tr th {\n",
       "        vertical-align: top;\n",
       "    }\n",
       "\n",
       "    .dataframe thead th {\n",
       "        text-align: right;\n",
       "    }\n",
       "</style>\n",
       "<table border=\"1\" class=\"dataframe\">\n",
       "  <thead>\n",
       "    <tr style=\"text-align: right;\">\n",
       "      <th></th>\n",
       "      <th>rotation_period</th>\n",
       "      <th>diameter</th>\n",
       "      <th>climate</th>\n",
       "      <th>temperate_tropical</th>\n",
       "      <th>gravity</th>\n",
       "      <th>surface_water</th>\n",
       "      <th>population</th>\n",
       "      <th>Area</th>\n",
       "      <th>Densidad</th>\n",
       "    </tr>\n",
       "    <tr>\n",
       "      <th>name</th>\n",
       "      <th></th>\n",
       "      <th></th>\n",
       "      <th></th>\n",
       "      <th></th>\n",
       "      <th></th>\n",
       "      <th></th>\n",
       "      <th></th>\n",
       "      <th></th>\n",
       "      <th></th>\n",
       "    </tr>\n",
       "  </thead>\n",
       "  <tbody>\n",
       "    <tr>\n",
       "      <th>Tatooine</th>\n",
       "      <td>23.0</td>\n",
       "      <td>10465.0</td>\n",
       "      <td>arid</td>\n",
       "      <td>0</td>\n",
       "      <td>1.00</td>\n",
       "      <td>1.0</td>\n",
       "      <td>2.000000e+05</td>\n",
       "      <td>3.440554e+08</td>\n",
       "      <td>0.000581</td>\n",
       "    </tr>\n",
       "    <tr>\n",
       "      <th>Alderaan</th>\n",
       "      <td>24.0</td>\n",
       "      <td>12500.0</td>\n",
       "      <td>temperate</td>\n",
       "      <td>1</td>\n",
       "      <td>1.00</td>\n",
       "      <td>40.0</td>\n",
       "      <td>2.000000e+09</td>\n",
       "      <td>4.908739e+08</td>\n",
       "      <td>4.074367</td>\n",
       "    </tr>\n",
       "    <tr>\n",
       "      <th>Yavin IV</th>\n",
       "      <td>24.0</td>\n",
       "      <td>10200.0</td>\n",
       "      <td>temperate, tropical</td>\n",
       "      <td>1</td>\n",
       "      <td>1.00</td>\n",
       "      <td>8.0</td>\n",
       "      <td>1.000000e+03</td>\n",
       "      <td>3.268513e+08</td>\n",
       "      <td>0.000003</td>\n",
       "    </tr>\n",
       "    <tr>\n",
       "      <th>Bespin</th>\n",
       "      <td>12.0</td>\n",
       "      <td>118000.0</td>\n",
       "      <td>temperate</td>\n",
       "      <td>1</td>\n",
       "      <td>1.50</td>\n",
       "      <td>0.0</td>\n",
       "      <td>6.000000e+06</td>\n",
       "      <td>4.374354e+10</td>\n",
       "      <td>0.000137</td>\n",
       "    </tr>\n",
       "    <tr>\n",
       "      <th>Endor</th>\n",
       "      <td>18.0</td>\n",
       "      <td>4900.0</td>\n",
       "      <td>temperate</td>\n",
       "      <td>1</td>\n",
       "      <td>0.85</td>\n",
       "      <td>8.0</td>\n",
       "      <td>3.000000e+07</td>\n",
       "      <td>7.542964e+07</td>\n",
       "      <td>0.397722</td>\n",
       "    </tr>\n",
       "  </tbody>\n",
       "</table>\n",
       "</div>"
      ],
      "text/plain": [
       "          rotation_period  diameter              climate  temperate_tropical  \\\n",
       "name                                                                           \n",
       "Tatooine             23.0   10465.0                 arid                   0   \n",
       "Alderaan             24.0   12500.0            temperate                   1   \n",
       "Yavin IV             24.0   10200.0  temperate, tropical                   1   \n",
       "Bespin               12.0  118000.0            temperate                   1   \n",
       "Endor                18.0    4900.0            temperate                   1   \n",
       "\n",
       "          gravity  surface_water    population          Area  Densidad  \n",
       "name                                                                    \n",
       "Tatooine     1.00            1.0  2.000000e+05  3.440554e+08  0.000581  \n",
       "Alderaan     1.00           40.0  2.000000e+09  4.908739e+08  4.074367  \n",
       "Yavin IV     1.00            8.0  1.000000e+03  3.268513e+08  0.000003  \n",
       "Bespin       1.50            0.0  6.000000e+06  4.374354e+10  0.000137  \n",
       "Endor        0.85            8.0  3.000000e+07  7.542964e+07  0.397722  "
      ]
     },
     "execution_count": 34,
     "metadata": {},
     "output_type": "execute_result"
    }
   ],
   "source": [
    "planets_df.rename(columns={\"area\": \"Area\", \"density\": \"Densidad\"}, inplace=True)\n",
    "planets_df.head()"
   ]
  },
  {
   "cell_type": "markdown",
   "metadata": {
    "id": "FW-MffhtVVuj"
   },
   "source": [
    "Eliminaremos las columnas con `.drop()`:"
   ]
  },
  {
   "cell_type": "code",
   "execution_count": 35,
   "metadata": {
    "id": "5xg3mkcsVVul",
    "outputId": "de2ee5b4-62ef-46ec-8fe6-7cd525982d31"
   },
   "outputs": [
    {
     "data": {
      "text/html": [
       "<div>\n",
       "<style scoped>\n",
       "    .dataframe tbody tr th:only-of-type {\n",
       "        vertical-align: middle;\n",
       "    }\n",
       "\n",
       "    .dataframe tbody tr th {\n",
       "        vertical-align: top;\n",
       "    }\n",
       "\n",
       "    .dataframe thead th {\n",
       "        text-align: right;\n",
       "    }\n",
       "</style>\n",
       "<table border=\"1\" class=\"dataframe\">\n",
       "  <thead>\n",
       "    <tr style=\"text-align: right;\">\n",
       "      <th></th>\n",
       "      <th>rotation_period</th>\n",
       "      <th>diameter</th>\n",
       "      <th>climate</th>\n",
       "      <th>temperate_tropical</th>\n",
       "      <th>gravity</th>\n",
       "      <th>surface_water</th>\n",
       "      <th>population</th>\n",
       "      <th>Densidad</th>\n",
       "    </tr>\n",
       "    <tr>\n",
       "      <th>name</th>\n",
       "      <th></th>\n",
       "      <th></th>\n",
       "      <th></th>\n",
       "      <th></th>\n",
       "      <th></th>\n",
       "      <th></th>\n",
       "      <th></th>\n",
       "      <th></th>\n",
       "    </tr>\n",
       "  </thead>\n",
       "  <tbody>\n",
       "    <tr>\n",
       "      <th>Tatooine</th>\n",
       "      <td>23.0</td>\n",
       "      <td>10465.0</td>\n",
       "      <td>arid</td>\n",
       "      <td>0</td>\n",
       "      <td>1.00</td>\n",
       "      <td>1.0</td>\n",
       "      <td>2.000000e+05</td>\n",
       "      <td>0.000581</td>\n",
       "    </tr>\n",
       "    <tr>\n",
       "      <th>Alderaan</th>\n",
       "      <td>24.0</td>\n",
       "      <td>12500.0</td>\n",
       "      <td>temperate</td>\n",
       "      <td>1</td>\n",
       "      <td>1.00</td>\n",
       "      <td>40.0</td>\n",
       "      <td>2.000000e+09</td>\n",
       "      <td>4.074367</td>\n",
       "    </tr>\n",
       "    <tr>\n",
       "      <th>Yavin IV</th>\n",
       "      <td>24.0</td>\n",
       "      <td>10200.0</td>\n",
       "      <td>temperate, tropical</td>\n",
       "      <td>1</td>\n",
       "      <td>1.00</td>\n",
       "      <td>8.0</td>\n",
       "      <td>1.000000e+03</td>\n",
       "      <td>0.000003</td>\n",
       "    </tr>\n",
       "    <tr>\n",
       "      <th>Bespin</th>\n",
       "      <td>12.0</td>\n",
       "      <td>118000.0</td>\n",
       "      <td>temperate</td>\n",
       "      <td>1</td>\n",
       "      <td>1.50</td>\n",
       "      <td>0.0</td>\n",
       "      <td>6.000000e+06</td>\n",
       "      <td>0.000137</td>\n",
       "    </tr>\n",
       "    <tr>\n",
       "      <th>Endor</th>\n",
       "      <td>18.0</td>\n",
       "      <td>4900.0</td>\n",
       "      <td>temperate</td>\n",
       "      <td>1</td>\n",
       "      <td>0.85</td>\n",
       "      <td>8.0</td>\n",
       "      <td>3.000000e+07</td>\n",
       "      <td>0.397722</td>\n",
       "    </tr>\n",
       "  </tbody>\n",
       "</table>\n",
       "</div>"
      ],
      "text/plain": [
       "          rotation_period  diameter              climate  temperate_tropical  \\\n",
       "name                                                                           \n",
       "Tatooine             23.0   10465.0                 arid                   0   \n",
       "Alderaan             24.0   12500.0            temperate                   1   \n",
       "Yavin IV             24.0   10200.0  temperate, tropical                   1   \n",
       "Bespin               12.0  118000.0            temperate                   1   \n",
       "Endor                18.0    4900.0            temperate                   1   \n",
       "\n",
       "          gravity  surface_water    population  Densidad  \n",
       "name                                                      \n",
       "Tatooine     1.00            1.0  2.000000e+05  0.000581  \n",
       "Alderaan     1.00           40.0  2.000000e+09  4.074367  \n",
       "Yavin IV     1.00            8.0  1.000000e+03  0.000003  \n",
       "Bespin       1.50            0.0  6.000000e+06  0.000137  \n",
       "Endor        0.85            8.0  3.000000e+07  0.397722  "
      ]
     },
     "execution_count": 35,
     "metadata": {},
     "output_type": "execute_result"
    }
   ],
   "source": [
    "planets_df.drop(columns=\"Area\", inplace=True, errors=\"ignore\")\n",
    "planets_df.head()"
   ]
  },
  {
   "cell_type": "markdown",
   "metadata": {
    "id": "ksw5H_LZVVuw"
   },
   "source": [
    "### 6.4. Filtros en Dataframes\n",
    "\n",
    "Funciona la misma lógica de selección que numpys y series pandas, pero ahora con dos dimensiones:"
   ]
  },
  {
   "cell_type": "code",
   "execution_count": 36,
   "metadata": {
    "id": "5iIz0zs5VVuy",
    "outputId": "3d15d272-e3cb-41b1-8147-9756d5cfba06"
   },
   "outputs": [
    {
     "data": {
      "text/html": [
       "<div>\n",
       "<style scoped>\n",
       "    .dataframe tbody tr th:only-of-type {\n",
       "        vertical-align: middle;\n",
       "    }\n",
       "\n",
       "    .dataframe tbody tr th {\n",
       "        vertical-align: top;\n",
       "    }\n",
       "\n",
       "    .dataframe thead th {\n",
       "        text-align: right;\n",
       "    }\n",
       "</style>\n",
       "<table border=\"1\" class=\"dataframe\">\n",
       "  <thead>\n",
       "    <tr style=\"text-align: right;\">\n",
       "      <th></th>\n",
       "      <th>population</th>\n",
       "      <th>Densidad</th>\n",
       "    </tr>\n",
       "    <tr>\n",
       "      <th>name</th>\n",
       "      <th></th>\n",
       "      <th></th>\n",
       "    </tr>\n",
       "  </thead>\n",
       "  <tbody>\n",
       "    <tr>\n",
       "      <th>Geonosis</th>\n",
       "      <td>1.000000e+11</td>\n",
       "      <td>246.223329</td>\n",
       "    </tr>\n",
       "    <tr>\n",
       "      <th>Mon Cala</th>\n",
       "      <td>2.700000e+10</td>\n",
       "      <td>70.641981</td>\n",
       "    </tr>\n",
       "  </tbody>\n",
       "</table>\n",
       "</div>"
      ],
      "text/plain": [
       "            population    Densidad\n",
       "name                              \n",
       "Geonosis  1.000000e+11  246.223329\n",
       "Mon Cala  2.700000e+10   70.641981"
      ]
     },
     "execution_count": 36,
     "metadata": {},
     "output_type": "execute_result"
    }
   ],
   "source": [
    "planets_df.loc[planets_df.Densidad > 50, ['population', 'Densidad']]"
   ]
  },
  {
   "cell_type": "markdown",
   "metadata": {
    "id": "HGk2sG8bVVu9"
   },
   "source": [
    "Como curiosidad, el slicing y filtros lógicos, se realiza por filas:"
   ]
  },
  {
   "cell_type": "code",
   "execution_count": 37,
   "metadata": {
    "id": "gOp5T8u7VVvA",
    "outputId": "a9d33db3-f7d0-48e8-9193-369125ccb0a7"
   },
   "outputs": [
    {
     "data": {
      "text/html": [
       "<div>\n",
       "<style scoped>\n",
       "    .dataframe tbody tr th:only-of-type {\n",
       "        vertical-align: middle;\n",
       "    }\n",
       "\n",
       "    .dataframe tbody tr th {\n",
       "        vertical-align: top;\n",
       "    }\n",
       "\n",
       "    .dataframe thead th {\n",
       "        text-align: right;\n",
       "    }\n",
       "</style>\n",
       "<table border=\"1\" class=\"dataframe\">\n",
       "  <thead>\n",
       "    <tr style=\"text-align: right;\">\n",
       "      <th></th>\n",
       "      <th>rotation_period</th>\n",
       "      <th>diameter</th>\n",
       "      <th>climate</th>\n",
       "      <th>temperate_tropical</th>\n",
       "      <th>gravity</th>\n",
       "      <th>surface_water</th>\n",
       "      <th>population</th>\n",
       "      <th>Densidad</th>\n",
       "    </tr>\n",
       "    <tr>\n",
       "      <th>name</th>\n",
       "      <th></th>\n",
       "      <th></th>\n",
       "      <th></th>\n",
       "      <th></th>\n",
       "      <th></th>\n",
       "      <th></th>\n",
       "      <th></th>\n",
       "      <th></th>\n",
       "    </tr>\n",
       "  </thead>\n",
       "  <tbody>\n",
       "    <tr>\n",
       "      <th>Geonosis</th>\n",
       "      <td>30.0</td>\n",
       "      <td>11370.0</td>\n",
       "      <td>temperate, arid</td>\n",
       "      <td>1</td>\n",
       "      <td>0.9</td>\n",
       "      <td>5.0</td>\n",
       "      <td>1.000000e+11</td>\n",
       "      <td>246.223329</td>\n",
       "    </tr>\n",
       "    <tr>\n",
       "      <th>Mon Cala</th>\n",
       "      <td>21.0</td>\n",
       "      <td>11030.0</td>\n",
       "      <td>temperate</td>\n",
       "      <td>1</td>\n",
       "      <td>1.0</td>\n",
       "      <td>100.0</td>\n",
       "      <td>2.700000e+10</td>\n",
       "      <td>70.641981</td>\n",
       "    </tr>\n",
       "  </tbody>\n",
       "</table>\n",
       "</div>"
      ],
      "text/plain": [
       "          rotation_period  diameter          climate  temperate_tropical  \\\n",
       "name                                                                       \n",
       "Geonosis             30.0   11370.0  temperate, arid                   1   \n",
       "Mon Cala             21.0   11030.0        temperate                   1   \n",
       "\n",
       "          gravity  surface_water    population    Densidad  \n",
       "name                                                        \n",
       "Geonosis      0.9            5.0  1.000000e+11  246.223329  \n",
       "Mon Cala      1.0          100.0  2.700000e+10   70.641981  "
      ]
     },
     "execution_count": 37,
     "metadata": {},
     "output_type": "execute_result"
    }
   ],
   "source": [
    "planets_df[planets_df.Densidad > 50]"
   ]
  },
  {
   "cell_type": "markdown",
   "metadata": {
    "id": "AvbEgHAQVVvK"
   },
   "source": [
    "Otra curiosidad: ahora, los filtros por posición se comportan como en R, a diferencia de numpy."
   ]
  },
  {
   "cell_type": "code",
   "execution_count": 38,
   "metadata": {
    "id": "ytP0owp-VVvM",
    "outputId": "0ba80c7d-8aa5-4072-f14c-02080da13b6a"
   },
   "outputs": [
    {
     "data": {
      "text/html": [
       "<div>\n",
       "<style scoped>\n",
       "    .dataframe tbody tr th:only-of-type {\n",
       "        vertical-align: middle;\n",
       "    }\n",
       "\n",
       "    .dataframe tbody tr th {\n",
       "        vertical-align: top;\n",
       "    }\n",
       "\n",
       "    .dataframe thead th {\n",
       "        text-align: right;\n",
       "    }\n",
       "</style>\n",
       "<table border=\"1\" class=\"dataframe\">\n",
       "  <thead>\n",
       "    <tr style=\"text-align: right;\">\n",
       "      <th></th>\n",
       "      <th>diameter</th>\n",
       "      <th>climate</th>\n",
       "      <th>gravity</th>\n",
       "    </tr>\n",
       "    <tr>\n",
       "      <th>name</th>\n",
       "      <th></th>\n",
       "      <th></th>\n",
       "      <th></th>\n",
       "    </tr>\n",
       "  </thead>\n",
       "  <tbody>\n",
       "    <tr>\n",
       "      <th>Alderaan</th>\n",
       "      <td>12500.0</td>\n",
       "      <td>temperate</td>\n",
       "      <td>1.0</td>\n",
       "    </tr>\n",
       "    <tr>\n",
       "      <th>Geonosis</th>\n",
       "      <td>11370.0</td>\n",
       "      <td>temperate, arid</td>\n",
       "      <td>0.9</td>\n",
       "    </tr>\n",
       "    <tr>\n",
       "      <th>Mon Cala</th>\n",
       "      <td>11030.0</td>\n",
       "      <td>temperate</td>\n",
       "      <td>1.0</td>\n",
       "    </tr>\n",
       "  </tbody>\n",
       "</table>\n",
       "</div>"
      ],
      "text/plain": [
       "          diameter          climate  gravity\n",
       "name                                        \n",
       "Alderaan   12500.0        temperate      1.0\n",
       "Geonosis   11370.0  temperate, arid      0.9\n",
       "Mon Cala   11030.0        temperate      1.0"
      ]
     },
     "execution_count": 38,
     "metadata": {},
     "output_type": "execute_result"
    }
   ],
   "source": [
    "a = planets_df.iloc[[1,7,14],[1,2,4]]\n",
    "a\n"
   ]
  },
  {
   "cell_type": "markdown",
   "metadata": {
    "id": "UwAbRN4AVVva"
   },
   "source": [
    "En cambio, en numpy, se apareaban las coordenadas 2 a 2:"
   ]
  },
  {
   "cell_type": "code",
   "execution_count": 39,
   "metadata": {
    "id": "6HP0reucVVvc",
    "outputId": "ba0e97ea-5cc6-4ce3-c1b1-49df18a8e3b3"
   },
   "outputs": [
    {
     "data": {
      "text/plain": [
       "array([12500.0, 'temperate', 1.0], dtype=object)"
      ]
     },
     "execution_count": 39,
     "metadata": {},
     "output_type": "execute_result"
    }
   ],
   "source": [
    "planets_df.values[[1,4,5],[1,2,4]]"
   ]
  },
  {
   "cell_type": "markdown",
   "metadata": {
    "id": "p8Dh76OwVVvp"
   },
   "source": [
    "Continúa realizándose la asignación de vistas sin copia:"
   ]
  },
  {
   "cell_type": "code",
   "execution_count": 40,
   "metadata": {
    "id": "LtrhLW5cVVvs",
    "outputId": "3816dd3b-0fde-453a-8da3-8dcacde729fe"
   },
   "outputs": [
    {
     "data": {
      "text/html": [
       "<div>\n",
       "<style scoped>\n",
       "    .dataframe tbody tr th:only-of-type {\n",
       "        vertical-align: middle;\n",
       "    }\n",
       "\n",
       "    .dataframe tbody tr th {\n",
       "        vertical-align: top;\n",
       "    }\n",
       "\n",
       "    .dataframe thead th {\n",
       "        text-align: right;\n",
       "    }\n",
       "</style>\n",
       "<table border=\"1\" class=\"dataframe\">\n",
       "  <thead>\n",
       "    <tr style=\"text-align: right;\">\n",
       "      <th></th>\n",
       "      <th>col1</th>\n",
       "    </tr>\n",
       "  </thead>\n",
       "  <tbody>\n",
       "    <tr>\n",
       "      <th>0</th>\n",
       "      <td>1.0</td>\n",
       "    </tr>\n",
       "    <tr>\n",
       "      <th>1</th>\n",
       "      <td>1.0</td>\n",
       "    </tr>\n",
       "  </tbody>\n",
       "</table>\n",
       "</div>"
      ],
      "text/plain": [
       "   col1\n",
       "0   1.0\n",
       "1   1.0"
      ]
     },
     "execution_count": 40,
     "metadata": {},
     "output_type": "execute_result"
    }
   ],
   "source": [
    "a = pd.DataFrame(np.ones((3,2)), columns=[\"col1\",\"col2\"])\n",
    "b = a.iloc[0:2,0:1]\n",
    "b"
   ]
  },
  {
   "cell_type": "code",
   "execution_count": 41,
   "metadata": {
    "id": "evFU9xrxVVv2",
    "outputId": "3940dfef-1419-4ca3-b289-8a51c201310f"
   },
   "outputs": [
    {
     "data": {
      "text/html": [
       "<div>\n",
       "<style scoped>\n",
       "    .dataframe tbody tr th:only-of-type {\n",
       "        vertical-align: middle;\n",
       "    }\n",
       "\n",
       "    .dataframe tbody tr th {\n",
       "        vertical-align: top;\n",
       "    }\n",
       "\n",
       "    .dataframe thead th {\n",
       "        text-align: right;\n",
       "    }\n",
       "</style>\n",
       "<table border=\"1\" class=\"dataframe\">\n",
       "  <thead>\n",
       "    <tr style=\"text-align: right;\">\n",
       "      <th></th>\n",
       "      <th>col1</th>\n",
       "      <th>col2</th>\n",
       "    </tr>\n",
       "  </thead>\n",
       "  <tbody>\n",
       "    <tr>\n",
       "      <th>0</th>\n",
       "      <td>1.0</td>\n",
       "      <td>1.0</td>\n",
       "    </tr>\n",
       "    <tr>\n",
       "      <th>1</th>\n",
       "      <td>20.0</td>\n",
       "      <td>1.0</td>\n",
       "    </tr>\n",
       "    <tr>\n",
       "      <th>2</th>\n",
       "      <td>1.0</td>\n",
       "      <td>1.0</td>\n",
       "    </tr>\n",
       "  </tbody>\n",
       "</table>\n",
       "</div>"
      ],
      "text/plain": [
       "   col1  col2\n",
       "0   1.0   1.0\n",
       "1  20.0   1.0\n",
       "2   1.0   1.0"
      ]
     },
     "execution_count": 41,
     "metadata": {},
     "output_type": "execute_result"
    }
   ],
   "source": [
    "b.iloc[1,0] = 20\n",
    "a"
   ]
  },
  {
   "cell_type": "markdown",
   "metadata": {
    "id": "qQ38faKYVVwF"
   },
   "source": [
    "> **Recuerda**: cuando sea necesario, realiza la copia del objeto con `.copy()`, de esta forma evitarás que se modifiquen todas las copias."
   ]
  },
  {
   "cell_type": "code",
   "execution_count": 42,
   "metadata": {
    "id": "LA8RO8YPVVwH",
    "outputId": "1bb6187d-82d2-4069-c2ef-81b0e9281a87"
   },
   "outputs": [
    {
     "data": {
      "text/html": [
       "<div>\n",
       "<style scoped>\n",
       "    .dataframe tbody tr th:only-of-type {\n",
       "        vertical-align: middle;\n",
       "    }\n",
       "\n",
       "    .dataframe tbody tr th {\n",
       "        vertical-align: top;\n",
       "    }\n",
       "\n",
       "    .dataframe thead th {\n",
       "        text-align: right;\n",
       "    }\n",
       "</style>\n",
       "<table border=\"1\" class=\"dataframe\">\n",
       "  <thead>\n",
       "    <tr style=\"text-align: right;\">\n",
       "      <th></th>\n",
       "      <th>col1</th>\n",
       "      <th>col2</th>\n",
       "    </tr>\n",
       "  </thead>\n",
       "  <tbody>\n",
       "    <tr>\n",
       "      <th>0</th>\n",
       "      <td>1.0</td>\n",
       "      <td>1.0</td>\n",
       "    </tr>\n",
       "    <tr>\n",
       "      <th>1</th>\n",
       "      <td>1.0</td>\n",
       "      <td>1.0</td>\n",
       "    </tr>\n",
       "    <tr>\n",
       "      <th>2</th>\n",
       "      <td>1.0</td>\n",
       "      <td>1.0</td>\n",
       "    </tr>\n",
       "  </tbody>\n",
       "</table>\n",
       "</div>"
      ],
      "text/plain": [
       "   col1  col2\n",
       "0   1.0   1.0\n",
       "1   1.0   1.0\n",
       "2   1.0   1.0"
      ]
     },
     "execution_count": 42,
     "metadata": {},
     "output_type": "execute_result"
    }
   ],
   "source": [
    "a = pd.DataFrame(np.ones((3,2)), columns=[\"col1\",\"col2\"])\n",
    "b = a.iloc[0:2,0:1].copy()\n",
    "b.iloc[1,0] = 20\n",
    "a"
   ]
  },
  {
   "cell_type": "markdown",
   "metadata": {
    "id": "w524FideVVwU"
   },
   "source": [
    "Ya hemos aprendido a ver las primeras 5 filas con `.head()`. También es posible ver las últimas filas con `.tail()`:"
   ]
  },
  {
   "cell_type": "code",
   "execution_count": 43,
   "metadata": {
    "id": "ZHHFfeG3VVwW",
    "outputId": "8e0753f8-be01-4806-ae43-44fe2c1beb86"
   },
   "outputs": [
    {
     "data": {
      "text/html": [
       "<div>\n",
       "<style scoped>\n",
       "    .dataframe tbody tr th:only-of-type {\n",
       "        vertical-align: middle;\n",
       "    }\n",
       "\n",
       "    .dataframe tbody tr th {\n",
       "        vertical-align: top;\n",
       "    }\n",
       "\n",
       "    .dataframe thead th {\n",
       "        text-align: right;\n",
       "    }\n",
       "</style>\n",
       "<table border=\"1\" class=\"dataframe\">\n",
       "  <thead>\n",
       "    <tr style=\"text-align: right;\">\n",
       "      <th></th>\n",
       "      <th>rotation_period</th>\n",
       "      <th>diameter</th>\n",
       "      <th>climate</th>\n",
       "      <th>temperate_tropical</th>\n",
       "      <th>gravity</th>\n",
       "      <th>surface_water</th>\n",
       "      <th>population</th>\n",
       "      <th>Densidad</th>\n",
       "    </tr>\n",
       "    <tr>\n",
       "      <th>name</th>\n",
       "      <th></th>\n",
       "      <th></th>\n",
       "      <th></th>\n",
       "      <th></th>\n",
       "      <th></th>\n",
       "      <th></th>\n",
       "      <th></th>\n",
       "      <th></th>\n",
       "    </tr>\n",
       "  </thead>\n",
       "  <tbody>\n",
       "    <tr>\n",
       "      <th>Glee Anselm</th>\n",
       "      <td>33.0</td>\n",
       "      <td>15600.0</td>\n",
       "      <td>tropical, temperate</td>\n",
       "      <td>1</td>\n",
       "      <td>1.0</td>\n",
       "      <td>80.0</td>\n",
       "      <td>5.000000e+08</td>\n",
       "      <td>0.653990</td>\n",
       "    </tr>\n",
       "    <tr>\n",
       "      <th>Muunilinst</th>\n",
       "      <td>28.0</td>\n",
       "      <td>13800.0</td>\n",
       "      <td>temperate</td>\n",
       "      <td>1</td>\n",
       "      <td>1.0</td>\n",
       "      <td>25.0</td>\n",
       "      <td>5.000000e+09</td>\n",
       "      <td>8.357222</td>\n",
       "    </tr>\n",
       "  </tbody>\n",
       "</table>\n",
       "</div>"
      ],
      "text/plain": [
       "             rotation_period  diameter              climate  \\\n",
       "name                                                          \n",
       "Glee Anselm             33.0   15600.0  tropical, temperate   \n",
       "Muunilinst              28.0   13800.0            temperate   \n",
       "\n",
       "             temperate_tropical  gravity  surface_water    population  \\\n",
       "name                                                                    \n",
       "Glee Anselm                   1      1.0           80.0  5.000000e+08   \n",
       "Muunilinst                    1      1.0           25.0  5.000000e+09   \n",
       "\n",
       "             Densidad  \n",
       "name                   \n",
       "Glee Anselm  0.653990  \n",
       "Muunilinst   8.357222  "
      ]
     },
     "execution_count": 43,
     "metadata": {},
     "output_type": "execute_result"
    }
   ],
   "source": [
    "planets_df.tail(2)"
   ]
  },
  {
   "cell_type": "markdown",
   "metadata": {
    "id": "UZLEbp3pVVwh"
   },
   "source": [
    "#### 6.4.1. Funciones Universal sobre Pandas\n",
    "\n",
    "Las funciones universales (ufunc) que hemos visto en el capítulo anterior, las podemos aplicar, de igual modo, sobre objetos pandas:"
   ]
  },
  {
   "cell_type": "code",
   "execution_count": 44,
   "metadata": {
    "id": "f-uHPNX3VVwi",
    "outputId": "22494320-6f04-4a5b-ce5f-d00ecbcdb385"
   },
   "outputs": [
    {
     "data": {
      "text/html": [
       "<div>\n",
       "<style scoped>\n",
       "    .dataframe tbody tr th:only-of-type {\n",
       "        vertical-align: middle;\n",
       "    }\n",
       "\n",
       "    .dataframe tbody tr th {\n",
       "        vertical-align: top;\n",
       "    }\n",
       "\n",
       "    .dataframe thead th {\n",
       "        text-align: right;\n",
       "    }\n",
       "</style>\n",
       "<table border=\"1\" class=\"dataframe\">\n",
       "  <thead>\n",
       "    <tr style=\"text-align: right;\">\n",
       "      <th></th>\n",
       "      <th>rotation_period</th>\n",
       "      <th>diameter</th>\n",
       "    </tr>\n",
       "    <tr>\n",
       "      <th>name</th>\n",
       "      <th></th>\n",
       "      <th></th>\n",
       "    </tr>\n",
       "  </thead>\n",
       "  <tbody>\n",
       "    <tr>\n",
       "      <th>Glee Anselm</th>\n",
       "      <td>5.744563</td>\n",
       "      <td>124.899960</td>\n",
       "    </tr>\n",
       "    <tr>\n",
       "      <th>Muunilinst</th>\n",
       "      <td>5.291503</td>\n",
       "      <td>117.473401</td>\n",
       "    </tr>\n",
       "  </tbody>\n",
       "</table>\n",
       "</div>"
      ],
      "text/plain": [
       "             rotation_period    diameter\n",
       "name                                    \n",
       "Glee Anselm         5.744563  124.899960\n",
       "Muunilinst          5.291503  117.473401"
      ]
     },
     "execution_count": 44,
     "metadata": {},
     "output_type": "execute_result"
    }
   ],
   "source": [
    "a =  np.sqrt(planets_df[[\"rotation_period\",\"diameter\"]].tail(2))\n",
    "a"
   ]
  },
  {
   "cell_type": "markdown",
   "metadata": {
    "id": "jES9RAGRVVwy"
   },
   "source": [
    "Vemos cómo, en este caso, hemos aplicado la función de numpy, raiz cuadrada, sobre un DataFrame y esta se ha aplicado sobre cada elemento, respetando los índices fila y columna de la tabla:"
   ]
  },
  {
   "cell_type": "markdown",
   "metadata": {
    "id": "xipiuI1kVVw0"
   },
   "source": [
    "#### 6.4.2. Alineamiento de los Índices\n",
    "\n",
    "Cuando realizamos operaciones aritméticas entre dos pandas, los índices fila y columna se alinean automáticamente:"
   ]
  },
  {
   "cell_type": "code",
   "execution_count": 45,
   "metadata": {
    "id": "ug5xypPWVVw2",
    "outputId": "73ab2c66-51d4-4d88-e476-e049d77968e3"
   },
   "outputs": [
    {
     "data": {
      "text/html": [
       "<div>\n",
       "<style scoped>\n",
       "    .dataframe tbody tr th:only-of-type {\n",
       "        vertical-align: middle;\n",
       "    }\n",
       "\n",
       "    .dataframe tbody tr th {\n",
       "        vertical-align: top;\n",
       "    }\n",
       "\n",
       "    .dataframe thead th {\n",
       "        text-align: right;\n",
       "    }\n",
       "</style>\n",
       "<table border=\"1\" class=\"dataframe\">\n",
       "  <thead>\n",
       "    <tr style=\"text-align: right;\">\n",
       "      <th></th>\n",
       "      <th>gravity</th>\n",
       "      <th>Densidad</th>\n",
       "    </tr>\n",
       "    <tr>\n",
       "      <th>name</th>\n",
       "      <th></th>\n",
       "      <th></th>\n",
       "    </tr>\n",
       "  </thead>\n",
       "  <tbody>\n",
       "    <tr>\n",
       "      <th>Alderaan</th>\n",
       "      <td>1.00</td>\n",
       "      <td>4.074367</td>\n",
       "    </tr>\n",
       "    <tr>\n",
       "      <th>Bespin</th>\n",
       "      <td>1.50</td>\n",
       "      <td>0.000137</td>\n",
       "    </tr>\n",
       "    <tr>\n",
       "      <th>Endor</th>\n",
       "      <td>0.85</td>\n",
       "      <td>0.397722</td>\n",
       "    </tr>\n",
       "  </tbody>\n",
       "</table>\n",
       "</div>"
      ],
      "text/plain": [
       "          gravity  Densidad\n",
       "name                       \n",
       "Alderaan     1.00  4.074367\n",
       "Bespin       1.50  0.000137\n",
       "Endor        0.85  0.397722"
      ]
     },
     "execution_count": 45,
     "metadata": {},
     "output_type": "execute_result"
    }
   ],
   "source": [
    "a = planets_df.iloc[[1,3,4],[4,7]]\n",
    "a"
   ]
  },
  {
   "cell_type": "code",
   "execution_count": 46,
   "metadata": {
    "id": "oAkDp6J_VVxA",
    "outputId": "09d88131-1f80-4b99-8efa-11fff3f3109b"
   },
   "outputs": [
    {
     "data": {
      "text/html": [
       "<div>\n",
       "<style scoped>\n",
       "    .dataframe tbody tr th:only-of-type {\n",
       "        vertical-align: middle;\n",
       "    }\n",
       "\n",
       "    .dataframe tbody tr th {\n",
       "        vertical-align: top;\n",
       "    }\n",
       "\n",
       "    .dataframe thead th {\n",
       "        text-align: right;\n",
       "    }\n",
       "</style>\n",
       "<table border=\"1\" class=\"dataframe\">\n",
       "  <thead>\n",
       "    <tr style=\"text-align: right;\">\n",
       "      <th></th>\n",
       "      <th>gravity</th>\n",
       "      <th>Densidad</th>\n",
       "    </tr>\n",
       "    <tr>\n",
       "      <th>name</th>\n",
       "      <th></th>\n",
       "      <th></th>\n",
       "    </tr>\n",
       "  </thead>\n",
       "  <tbody>\n",
       "    <tr>\n",
       "      <th>Alderaan</th>\n",
       "      <td>1.00</td>\n",
       "      <td>4.074367</td>\n",
       "    </tr>\n",
       "    <tr>\n",
       "      <th>Endor</th>\n",
       "      <td>0.85</td>\n",
       "      <td>0.397722</td>\n",
       "    </tr>\n",
       "    <tr>\n",
       "      <th>Geonosis</th>\n",
       "      <td>0.90</td>\n",
       "      <td>246.223329</td>\n",
       "    </tr>\n",
       "  </tbody>\n",
       "</table>\n",
       "</div>"
      ],
      "text/plain": [
       "          gravity    Densidad\n",
       "name                         \n",
       "Alderaan     1.00    4.074367\n",
       "Endor        0.85    0.397722\n",
       "Geonosis     0.90  246.223329"
      ]
     },
     "execution_count": 46,
     "metadata": {},
     "output_type": "execute_result"
    }
   ],
   "source": [
    "b = planets_df.iloc[[1,4,7],[4,7]]\n",
    "b"
   ]
  },
  {
   "cell_type": "code",
   "execution_count": 47,
   "metadata": {
    "id": "ax8JGHIZVVxM",
    "outputId": "9f988ebc-e07b-43cd-a1c3-260aeeb19d5c"
   },
   "outputs": [
    {
     "data": {
      "text/html": [
       "<div>\n",
       "<style scoped>\n",
       "    .dataframe tbody tr th:only-of-type {\n",
       "        vertical-align: middle;\n",
       "    }\n",
       "\n",
       "    .dataframe tbody tr th {\n",
       "        vertical-align: top;\n",
       "    }\n",
       "\n",
       "    .dataframe thead th {\n",
       "        text-align: right;\n",
       "    }\n",
       "</style>\n",
       "<table border=\"1\" class=\"dataframe\">\n",
       "  <thead>\n",
       "    <tr style=\"text-align: right;\">\n",
       "      <th></th>\n",
       "      <th>gravity</th>\n",
       "      <th>Densidad</th>\n",
       "    </tr>\n",
       "    <tr>\n",
       "      <th>name</th>\n",
       "      <th></th>\n",
       "      <th></th>\n",
       "    </tr>\n",
       "  </thead>\n",
       "  <tbody>\n",
       "    <tr>\n",
       "      <th>Alderaan</th>\n",
       "      <td>2.0</td>\n",
       "      <td>8.148733</td>\n",
       "    </tr>\n",
       "    <tr>\n",
       "      <th>Bespin</th>\n",
       "      <td>NaN</td>\n",
       "      <td>NaN</td>\n",
       "    </tr>\n",
       "    <tr>\n",
       "      <th>Endor</th>\n",
       "      <td>1.7</td>\n",
       "      <td>0.795443</td>\n",
       "    </tr>\n",
       "    <tr>\n",
       "      <th>Geonosis</th>\n",
       "      <td>NaN</td>\n",
       "      <td>NaN</td>\n",
       "    </tr>\n",
       "  </tbody>\n",
       "</table>\n",
       "</div>"
      ],
      "text/plain": [
       "          gravity  Densidad\n",
       "name                       \n",
       "Alderaan      2.0  8.148733\n",
       "Bespin        NaN       NaN\n",
       "Endor         1.7  0.795443\n",
       "Geonosis      NaN       NaN"
      ]
     },
     "execution_count": 47,
     "metadata": {},
     "output_type": "execute_result"
    }
   ],
   "source": [
    "a + b"
   ]
  },
  {
   "cell_type": "markdown",
   "metadata": {
    "id": "iYDK-TSFVVxY"
   },
   "source": [
    "Cuando se resta un vector fila a un Data Frame, siguiendo las reglas del Broadcasting, esta operación se aplica a todas las filas:"
   ]
  },
  {
   "cell_type": "code",
   "execution_count": 48,
   "metadata": {
    "id": "cIWogezhVVxa",
    "outputId": "e6d11822-3cbf-45ee-f455-15d0a8f53876"
   },
   "outputs": [
    {
     "data": {
      "text/html": [
       "<div>\n",
       "<style scoped>\n",
       "    .dataframe tbody tr th:only-of-type {\n",
       "        vertical-align: middle;\n",
       "    }\n",
       "\n",
       "    .dataframe tbody tr th {\n",
       "        vertical-align: top;\n",
       "    }\n",
       "\n",
       "    .dataframe thead th {\n",
       "        text-align: right;\n",
       "    }\n",
       "</style>\n",
       "<table border=\"1\" class=\"dataframe\">\n",
       "  <thead>\n",
       "    <tr style=\"text-align: right;\">\n",
       "      <th></th>\n",
       "      <th>gravity</th>\n",
       "      <th>Densidad</th>\n",
       "    </tr>\n",
       "    <tr>\n",
       "      <th>name</th>\n",
       "      <th></th>\n",
       "      <th></th>\n",
       "    </tr>\n",
       "  </thead>\n",
       "  <tbody>\n",
       "    <tr>\n",
       "      <th>Alderaan</th>\n",
       "      <td>1.00</td>\n",
       "      <td>4.074367</td>\n",
       "    </tr>\n",
       "    <tr>\n",
       "      <th>Bespin</th>\n",
       "      <td>1.50</td>\n",
       "      <td>0.000137</td>\n",
       "    </tr>\n",
       "    <tr>\n",
       "      <th>Endor</th>\n",
       "      <td>0.85</td>\n",
       "      <td>0.397722</td>\n",
       "    </tr>\n",
       "  </tbody>\n",
       "</table>\n",
       "</div>"
      ],
      "text/plain": [
       "          gravity  Densidad\n",
       "name                       \n",
       "Alderaan     1.00  4.074367\n",
       "Bespin       1.50  0.000137\n",
       "Endor        0.85  0.397722"
      ]
     },
     "execution_count": 48,
     "metadata": {},
     "output_type": "execute_result"
    }
   ],
   "source": [
    "a"
   ]
  },
  {
   "cell_type": "code",
   "execution_count": 49,
   "metadata": {
    "id": "lFSriuiwVVxm",
    "outputId": "a92627ac-0730-467b-9c3e-4102fb90b319"
   },
   "outputs": [
    {
     "data": {
      "text/plain": [
       "gravity     1.000000\n",
       "Densidad    4.074367\n",
       "Name: Alderaan, dtype: float64"
      ]
     },
     "execution_count": 49,
     "metadata": {},
     "output_type": "execute_result"
    }
   ],
   "source": [
    "c = a.iloc[0]\n",
    "c"
   ]
  },
  {
   "cell_type": "code",
   "execution_count": 50,
   "metadata": {
    "id": "qVSuheKSVVxw",
    "outputId": "998b75aa-932a-4f7a-cbd0-e2994dc94230"
   },
   "outputs": [
    {
     "data": {
      "text/html": [
       "<div>\n",
       "<style scoped>\n",
       "    .dataframe tbody tr th:only-of-type {\n",
       "        vertical-align: middle;\n",
       "    }\n",
       "\n",
       "    .dataframe tbody tr th {\n",
       "        vertical-align: top;\n",
       "    }\n",
       "\n",
       "    .dataframe thead th {\n",
       "        text-align: right;\n",
       "    }\n",
       "</style>\n",
       "<table border=\"1\" class=\"dataframe\">\n",
       "  <thead>\n",
       "    <tr style=\"text-align: right;\">\n",
       "      <th></th>\n",
       "      <th>gravity</th>\n",
       "      <th>Densidad</th>\n",
       "    </tr>\n",
       "    <tr>\n",
       "      <th>name</th>\n",
       "      <th></th>\n",
       "      <th></th>\n",
       "    </tr>\n",
       "  </thead>\n",
       "  <tbody>\n",
       "    <tr>\n",
       "      <th>Alderaan</th>\n",
       "      <td>0.00</td>\n",
       "      <td>0.000000</td>\n",
       "    </tr>\n",
       "    <tr>\n",
       "      <th>Bespin</th>\n",
       "      <td>0.50</td>\n",
       "      <td>-4.074229</td>\n",
       "    </tr>\n",
       "    <tr>\n",
       "      <th>Endor</th>\n",
       "      <td>-0.15</td>\n",
       "      <td>-3.676645</td>\n",
       "    </tr>\n",
       "  </tbody>\n",
       "</table>\n",
       "</div>"
      ],
      "text/plain": [
       "          gravity  Densidad\n",
       "name                       \n",
       "Alderaan     0.00  0.000000\n",
       "Bespin       0.50 -4.074229\n",
       "Endor       -0.15 -3.676645"
      ]
     },
     "execution_count": 50,
     "metadata": {},
     "output_type": "execute_result"
    }
   ],
   "source": [
    "a - c "
   ]
  },
  {
   "cell_type": "markdown",
   "metadata": {
    "id": "HF-DJJD5VVx7"
   },
   "source": [
    "#### 6.4.3. Valores Faltantes\n",
    "\n",
    "`None` y `np.nan` en Pandas tienen mucha similitud. Para ver un ejemplo, antes preparamos unos datos de ejemplo: "
   ]
  },
  {
   "cell_type": "code",
   "execution_count": 51,
   "metadata": {
    "id": "T7e2P7LhVVx9",
    "outputId": "78c78170-ef6b-4b81-ff5e-7855a7c86354",
    "scrolled": true
   },
   "outputs": [
    {
     "name": "stdout",
     "output_type": "stream",
     "text": [
      "Index(['rotation_period', 'diameter', 'climate', 'temperate_tropical',\n",
      "       'gravity', 'surface_water', 'population', 'Densidad'],\n",
      "      dtype='object')\n"
     ]
    },
    {
     "data": {
      "text/html": [
       "<div>\n",
       "<style scoped>\n",
       "    .dataframe tbody tr th:only-of-type {\n",
       "        vertical-align: middle;\n",
       "    }\n",
       "\n",
       "    .dataframe tbody tr th {\n",
       "        vertical-align: top;\n",
       "    }\n",
       "\n",
       "    .dataframe thead th {\n",
       "        text-align: right;\n",
       "    }\n",
       "</style>\n",
       "<table border=\"1\" class=\"dataframe\">\n",
       "  <thead>\n",
       "    <tr style=\"text-align: right;\">\n",
       "      <th></th>\n",
       "      <th>gravity</th>\n",
       "      <th>climate</th>\n",
       "      <th>temperate_tropical</th>\n",
       "    </tr>\n",
       "    <tr>\n",
       "      <th>name</th>\n",
       "      <th></th>\n",
       "      <th></th>\n",
       "      <th></th>\n",
       "    </tr>\n",
       "  </thead>\n",
       "  <tbody>\n",
       "    <tr>\n",
       "      <th>Tatooine</th>\n",
       "      <td>1.00</td>\n",
       "      <td>arid</td>\n",
       "      <td>0</td>\n",
       "    </tr>\n",
       "    <tr>\n",
       "      <th>Alderaan</th>\n",
       "      <td>1.00</td>\n",
       "      <td>temperate</td>\n",
       "      <td>1</td>\n",
       "    </tr>\n",
       "    <tr>\n",
       "      <th>Yavin IV</th>\n",
       "      <td>1.00</td>\n",
       "      <td>temperate, tropical</td>\n",
       "      <td>1</td>\n",
       "    </tr>\n",
       "    <tr>\n",
       "      <th>Bespin</th>\n",
       "      <td>1.50</td>\n",
       "      <td>temperate</td>\n",
       "      <td>1</td>\n",
       "    </tr>\n",
       "    <tr>\n",
       "      <th>Endor</th>\n",
       "      <td>0.85</td>\n",
       "      <td>temperate</td>\n",
       "      <td>1</td>\n",
       "    </tr>\n",
       "  </tbody>\n",
       "</table>\n",
       "</div>"
      ],
      "text/plain": [
       "          gravity              climate  temperate_tropical\n",
       "name                                                      \n",
       "Tatooine     1.00                 arid                   0\n",
       "Alderaan     1.00            temperate                   1\n",
       "Yavin IV     1.00  temperate, tropical                   1\n",
       "Bespin       1.50            temperate                   1\n",
       "Endor        0.85            temperate                   1"
      ]
     },
     "execution_count": 51,
     "metadata": {},
     "output_type": "execute_result"
    }
   ],
   "source": [
    "print(planets_df.columns)\n",
    "planetsNA = planets_df[[\"gravity\", \"climate\", \"temperate_tropical\"]].head().copy()\n",
    "planetsNA.head()"
   ]
  },
  {
   "cell_type": "code",
   "execution_count": 52,
   "metadata": {
    "id": "Q6_dq5z9VVyH",
    "outputId": "b2a3d683-80c0-418a-f03f-1ffe0c5a9f2e"
   },
   "outputs": [
    {
     "name": "stdout",
     "output_type": "stream",
     "text": [
      "planetsNA tiene shape:  (5, 3)\n"
     ]
    },
    {
     "data": {
      "text/plain": [
       "gravity               float64\n",
       "climate                object\n",
       "temperate_tropical      int32\n",
       "dtype: object"
      ]
     },
     "execution_count": 52,
     "metadata": {},
     "output_type": "execute_result"
    }
   ],
   "source": [
    "print(\"planetsNA tiene shape: \", planetsNA.shape)\n",
    "planetsNA.dtypes # vemos los tipos internos"
   ]
  },
  {
   "cell_type": "markdown",
   "metadata": {
    "id": "b2dpL3P0VVyQ"
   },
   "source": [
    "Ahora inyectamos None y NaN."
   ]
  },
  {
   "cell_type": "code",
   "execution_count": 53,
   "metadata": {
    "id": "H8hqZS2KVVyT",
    "outputId": "4286a577-eaae-43fc-e35a-f1817f9da1e0"
   },
   "outputs": [
    {
     "data": {
      "text/html": [
       "<div>\n",
       "<style scoped>\n",
       "    .dataframe tbody tr th:only-of-type {\n",
       "        vertical-align: middle;\n",
       "    }\n",
       "\n",
       "    .dataframe tbody tr th {\n",
       "        vertical-align: top;\n",
       "    }\n",
       "\n",
       "    .dataframe thead th {\n",
       "        text-align: right;\n",
       "    }\n",
       "</style>\n",
       "<table border=\"1\" class=\"dataframe\">\n",
       "  <thead>\n",
       "    <tr style=\"text-align: right;\">\n",
       "      <th></th>\n",
       "      <th>gravity</th>\n",
       "      <th>climate</th>\n",
       "      <th>temperate_tropical</th>\n",
       "    </tr>\n",
       "    <tr>\n",
       "      <th>name</th>\n",
       "      <th></th>\n",
       "      <th></th>\n",
       "      <th></th>\n",
       "    </tr>\n",
       "  </thead>\n",
       "  <tbody>\n",
       "    <tr>\n",
       "      <th>Tatooine</th>\n",
       "      <td>1.00</td>\n",
       "      <td>NaN</td>\n",
       "      <td>NaN</td>\n",
       "    </tr>\n",
       "    <tr>\n",
       "      <th>Alderaan</th>\n",
       "      <td>NaN</td>\n",
       "      <td>NaN</td>\n",
       "      <td>NaN</td>\n",
       "    </tr>\n",
       "    <tr>\n",
       "      <th>Yavin IV</th>\n",
       "      <td>NaN</td>\n",
       "      <td>None</td>\n",
       "      <td>1.0</td>\n",
       "    </tr>\n",
       "    <tr>\n",
       "      <th>Bespin</th>\n",
       "      <td>NaN</td>\n",
       "      <td>None</td>\n",
       "      <td>1.0</td>\n",
       "    </tr>\n",
       "    <tr>\n",
       "      <th>Endor</th>\n",
       "      <td>0.85</td>\n",
       "      <td>temperate</td>\n",
       "      <td>1.0</td>\n",
       "    </tr>\n",
       "  </tbody>\n",
       "</table>\n",
       "</div>"
      ],
      "text/plain": [
       "          gravity    climate  temperate_tropical\n",
       "name                                            \n",
       "Tatooine     1.00        NaN                 NaN\n",
       "Alderaan      NaN        NaN                 NaN\n",
       "Yavin IV      NaN       None                 1.0\n",
       "Bespin        NaN       None                 1.0\n",
       "Endor        0.85  temperate                 1.0"
      ]
     },
     "execution_count": 53,
     "metadata": {},
     "output_type": "execute_result"
    }
   ],
   "source": [
    "planetsNA.loc[planetsNA.index[1:4],\"gravity\"] = None\n",
    "planetsNA.loc[planetsNA.index[0:2],\"temperate_tropical\"] = np.nan\n",
    "planetsNA.loc[planetsNA.index[0:2],\"climate\"] = np.nan\n",
    "planetsNA.loc[planetsNA.index[2:4],\"climate\"] = None\n",
    "planetsNA"
   ]
  },
  {
   "cell_type": "code",
   "execution_count": 54,
   "metadata": {
    "id": "nm39ZzWLVVyb",
    "outputId": "a2b079ea-7ced-4224-f2fd-3227bfb7d3e5"
   },
   "outputs": [
    {
     "data": {
      "text/plain": [
       "gravity               float64\n",
       "climate                object\n",
       "temperate_tropical    float64\n",
       "dtype: object"
      ]
     },
     "execution_count": 54,
     "metadata": {},
     "output_type": "execute_result"
    }
   ],
   "source": [
    "planetsNA.dtypes"
   ]
  },
  {
   "cell_type": "markdown",
   "metadata": {
    "id": "KQ7JY_1uVVym"
   },
   "source": [
    "Observa que:\n",
    "\n",
    "- `gravity` que era de tipo `float`, al insertar `None`, éste se ha convertido en `np.nan`.\n",
    "- `climate` con tipo object, diferencia `NaN` y `None`.\n",
    "- `rotation_period` que inicialmente era de tipo entero (`int`), al asignar `np.nan`, hace el casting automáticamente a `float`\n",
    "\n"
   ]
  },
  {
   "cell_type": "markdown",
   "metadata": {
    "id": "JabIidk6VVzE"
   },
   "source": [
    "Cuatro métodos interesantes:\n",
    "\n",
    "- isnull() / notnull(): Marca con `True/False` los valores faltantes.\n",
    "- dropna(): Elimina filas y columnas con algún valor faltante.\n",
    "- fillna(): Devuelve una copia de los datos con valores faltantes rellenados."
   ]
  },
  {
   "cell_type": "code",
   "execution_count": 55,
   "metadata": {
    "id": "j9Otr4LUVVzH",
    "outputId": "ffd88028-c86b-494d-dfd0-ada581458004"
   },
   "outputs": [
    {
     "data": {
      "text/html": [
       "<div>\n",
       "<style scoped>\n",
       "    .dataframe tbody tr th:only-of-type {\n",
       "        vertical-align: middle;\n",
       "    }\n",
       "\n",
       "    .dataframe tbody tr th {\n",
       "        vertical-align: top;\n",
       "    }\n",
       "\n",
       "    .dataframe thead th {\n",
       "        text-align: right;\n",
       "    }\n",
       "</style>\n",
       "<table border=\"1\" class=\"dataframe\">\n",
       "  <thead>\n",
       "    <tr style=\"text-align: right;\">\n",
       "      <th></th>\n",
       "      <th>gravity</th>\n",
       "      <th>climate</th>\n",
       "      <th>temperate_tropical</th>\n",
       "    </tr>\n",
       "    <tr>\n",
       "      <th>name</th>\n",
       "      <th></th>\n",
       "      <th></th>\n",
       "      <th></th>\n",
       "    </tr>\n",
       "  </thead>\n",
       "  <tbody>\n",
       "    <tr>\n",
       "      <th>Tatooine</th>\n",
       "      <td>False</td>\n",
       "      <td>True</td>\n",
       "      <td>True</td>\n",
       "    </tr>\n",
       "    <tr>\n",
       "      <th>Alderaan</th>\n",
       "      <td>True</td>\n",
       "      <td>True</td>\n",
       "      <td>True</td>\n",
       "    </tr>\n",
       "    <tr>\n",
       "      <th>Yavin IV</th>\n",
       "      <td>True</td>\n",
       "      <td>True</td>\n",
       "      <td>False</td>\n",
       "    </tr>\n",
       "    <tr>\n",
       "      <th>Bespin</th>\n",
       "      <td>True</td>\n",
       "      <td>True</td>\n",
       "      <td>False</td>\n",
       "    </tr>\n",
       "    <tr>\n",
       "      <th>Endor</th>\n",
       "      <td>False</td>\n",
       "      <td>False</td>\n",
       "      <td>False</td>\n",
       "    </tr>\n",
       "  </tbody>\n",
       "</table>\n",
       "</div>"
      ],
      "text/plain": [
       "          gravity  climate  temperate_tropical\n",
       "name                                          \n",
       "Tatooine    False     True                True\n",
       "Alderaan     True     True                True\n",
       "Yavin IV     True     True               False\n",
       "Bespin       True     True               False\n",
       "Endor       False    False               False"
      ]
     },
     "execution_count": 55,
     "metadata": {},
     "output_type": "execute_result"
    }
   ],
   "source": [
    "planetsNA.isnull() # np.nan y None se comportan igual."
   ]
  },
  {
   "cell_type": "code",
   "execution_count": 56,
   "metadata": {
    "id": "i5Ucu2WeVVzQ",
    "outputId": "bf212746-ce8e-4c62-9bdc-455e624a0047"
   },
   "outputs": [
    {
     "data": {
      "text/html": [
       "<div>\n",
       "<style scoped>\n",
       "    .dataframe tbody tr th:only-of-type {\n",
       "        vertical-align: middle;\n",
       "    }\n",
       "\n",
       "    .dataframe tbody tr th {\n",
       "        vertical-align: top;\n",
       "    }\n",
       "\n",
       "    .dataframe thead th {\n",
       "        text-align: right;\n",
       "    }\n",
       "</style>\n",
       "<table border=\"1\" class=\"dataframe\">\n",
       "  <thead>\n",
       "    <tr style=\"text-align: right;\">\n",
       "      <th></th>\n",
       "      <th>gravity</th>\n",
       "      <th>climate</th>\n",
       "      <th>temperate_tropical</th>\n",
       "    </tr>\n",
       "    <tr>\n",
       "      <th>name</th>\n",
       "      <th></th>\n",
       "      <th></th>\n",
       "      <th></th>\n",
       "    </tr>\n",
       "  </thead>\n",
       "  <tbody>\n",
       "    <tr>\n",
       "      <th>Endor</th>\n",
       "      <td>0.85</td>\n",
       "      <td>temperate</td>\n",
       "      <td>1.0</td>\n",
       "    </tr>\n",
       "  </tbody>\n",
       "</table>\n",
       "</div>"
      ],
      "text/plain": [
       "       gravity    climate  temperate_tropical\n",
       "name                                         \n",
       "Endor     0.85  temperate                 1.0"
      ]
     },
     "execution_count": 56,
     "metadata": {},
     "output_type": "execute_result"
    }
   ],
   "source": [
    "planetsNA.dropna() # np.nan y None se comportan igual."
   ]
  },
  {
   "cell_type": "code",
   "execution_count": 57,
   "metadata": {
    "id": "dSW3jBR_VVzY",
    "outputId": "b1e41238-dda1-4324-f88e-a73993ee1b31",
    "scrolled": false
   },
   "outputs": [
    {
     "data": {
      "text/html": [
       "<div>\n",
       "<style scoped>\n",
       "    .dataframe tbody tr th:only-of-type {\n",
       "        vertical-align: middle;\n",
       "    }\n",
       "\n",
       "    .dataframe tbody tr th {\n",
       "        vertical-align: top;\n",
       "    }\n",
       "\n",
       "    .dataframe thead th {\n",
       "        text-align: right;\n",
       "    }\n",
       "</style>\n",
       "<table border=\"1\" class=\"dataframe\">\n",
       "  <thead>\n",
       "    <tr style=\"text-align: right;\">\n",
       "      <th></th>\n",
       "      <th>gravity</th>\n",
       "      <th>climate</th>\n",
       "      <th>temperate_tropical</th>\n",
       "    </tr>\n",
       "    <tr>\n",
       "      <th>name</th>\n",
       "      <th></th>\n",
       "      <th></th>\n",
       "      <th></th>\n",
       "    </tr>\n",
       "  </thead>\n",
       "  <tbody>\n",
       "    <tr>\n",
       "      <th>Tatooine</th>\n",
       "      <td>1.00</td>\n",
       "      <td>0</td>\n",
       "      <td>0.0</td>\n",
       "    </tr>\n",
       "    <tr>\n",
       "      <th>Alderaan</th>\n",
       "      <td>0.00</td>\n",
       "      <td>0</td>\n",
       "      <td>0.0</td>\n",
       "    </tr>\n",
       "    <tr>\n",
       "      <th>Yavin IV</th>\n",
       "      <td>0.00</td>\n",
       "      <td>0</td>\n",
       "      <td>1.0</td>\n",
       "    </tr>\n",
       "    <tr>\n",
       "      <th>Bespin</th>\n",
       "      <td>0.00</td>\n",
       "      <td>0</td>\n",
       "      <td>1.0</td>\n",
       "    </tr>\n",
       "    <tr>\n",
       "      <th>Endor</th>\n",
       "      <td>0.85</td>\n",
       "      <td>temperate</td>\n",
       "      <td>1.0</td>\n",
       "    </tr>\n",
       "  </tbody>\n",
       "</table>\n",
       "</div>"
      ],
      "text/plain": [
       "          gravity    climate  temperate_tropical\n",
       "name                                            \n",
       "Tatooine     1.00          0                 0.0\n",
       "Alderaan     0.00          0                 0.0\n",
       "Yavin IV     0.00          0                 1.0\n",
       "Bespin       0.00          0                 1.0\n",
       "Endor        0.85  temperate                 1.0"
      ]
     },
     "execution_count": 57,
     "metadata": {},
     "output_type": "execute_result"
    }
   ],
   "source": [
    "planetsNA.fillna(0)  # una forma de rellenar missings."
   ]
  },
  {
   "cell_type": "markdown",
   "metadata": {
    "id": "0y-SXC80VVzh"
   },
   "source": [
    "#### 6.4.4. Actividad Guiada 2.4\n",
    "\n",
    "Ahora, tenemos todas las herramientas para resolver la actividad:\n",
    "\n",
    "- Días largos para entrenar mucho.\n",
    "- Mucha agua para poder refrescarse.\n",
    "- Poca densidad de población para no ser molestado.\n",
    "- Buen clima (temperado o tropical)."
   ]
  },
  {
   "cell_type": "markdown",
   "metadata": {
    "id": "mIZxLnJkVVzi"
   },
   "source": [
    "Veamos su distribución con Boxplot:"
   ]
  },
  {
   "cell_type": "code",
   "execution_count": 58,
   "metadata": {
    "id": "vepi74sLVVzl",
    "outputId": "2a702d46-90cc-49d4-ca86-9f6228f3b302"
   },
   "outputs": [
    {
     "data": {
      "image/png": "[encoded data removed]",
      "text/plain": [
       "<Figure size 1400x400 with 3 Axes>"
      ]
     },
     "metadata": {},
     "output_type": "display_data"
    }
   ],
   "source": [
    "sns.set(rc={'figure.figsize':(14,4)})\n",
    "fig, axs = plt.subplots(ncols=3)\n",
    "plt.gcf().subplots_adjust(bottom=0.15)\n",
    "sns.boxplot(x='temperate_tropical', y='rotation_period', data=planets_df, ax=axs[0])\n",
    "sns.boxplot(x='temperate_tropical', y='surface_water', data=planets_df, ax=axs[1])\n",
    "sns.boxplot(x='temperate_tropical', y='Densidad',data=planets_df, ax=axs[2]);"
   ]
  },
  {
   "cell_type": "markdown",
   "metadata": {
    "id": "zaZCdTx7VVzv"
   },
   "source": [
    "- Rotaciones por encima de 24, están por encima de la mediana (eje central boxplot).\n",
    "- % de superficie del agua por encima de 10%, evita planetas no idóneos.\n",
    "- Densidad  por debajo de 50 personas por Km² es más que suficiente para filtrar planetas demasiado poblados. "
   ]
  },
  {
   "cell_type": "code",
   "execution_count": 59,
   "metadata": {
    "id": "3Hx_DAu0VVzx",
    "outputId": "6c0e4dd8-a255-4127-a8af-e17d2814e652",
    "scrolled": true
   },
   "outputs": [
    {
     "name": "stdout",
     "output_type": "stream",
     "text": [
      "(7, 8)\n"
     ]
    },
    {
     "data": {
      "text/html": [
       "<div>\n",
       "<style scoped>\n",
       "    .dataframe tbody tr th:only-of-type {\n",
       "        vertical-align: middle;\n",
       "    }\n",
       "\n",
       "    .dataframe tbody tr th {\n",
       "        vertical-align: top;\n",
       "    }\n",
       "\n",
       "    .dataframe thead th {\n",
       "        text-align: right;\n",
       "    }\n",
       "</style>\n",
       "<table border=\"1\" class=\"dataframe\">\n",
       "  <thead>\n",
       "    <tr style=\"text-align: right;\">\n",
       "      <th></th>\n",
       "      <th>rotation_period</th>\n",
       "      <th>diameter</th>\n",
       "      <th>climate</th>\n",
       "      <th>temperate_tropical</th>\n",
       "      <th>gravity</th>\n",
       "      <th>surface_water</th>\n",
       "      <th>population</th>\n",
       "      <th>Densidad</th>\n",
       "    </tr>\n",
       "    <tr>\n",
       "      <th>name</th>\n",
       "      <th></th>\n",
       "      <th></th>\n",
       "      <th></th>\n",
       "      <th></th>\n",
       "      <th></th>\n",
       "      <th></th>\n",
       "      <th></th>\n",
       "      <th></th>\n",
       "    </tr>\n",
       "  </thead>\n",
       "  <tbody>\n",
       "    <tr>\n",
       "      <th>Naboo</th>\n",
       "      <td>26.0</td>\n",
       "      <td>12120.0</td>\n",
       "      <td>temperate</td>\n",
       "      <td>1</td>\n",
       "      <td>1.0</td>\n",
       "      <td>12.0</td>\n",
       "      <td>4.500000e+09</td>\n",
       "      <td>9.751185</td>\n",
       "    </tr>\n",
       "    <tr>\n",
       "      <th>Kamino</th>\n",
       "      <td>27.0</td>\n",
       "      <td>19720.0</td>\n",
       "      <td>temperate</td>\n",
       "      <td>1</td>\n",
       "      <td>1.0</td>\n",
       "      <td>100.0</td>\n",
       "      <td>1.000000e+09</td>\n",
       "      <td>0.818533</td>\n",
       "    </tr>\n",
       "    <tr>\n",
       "      <th>Kashyyyk</th>\n",
       "      <td>26.0</td>\n",
       "      <td>12765.0</td>\n",
       "      <td>tropical</td>\n",
       "      <td>1</td>\n",
       "      <td>1.0</td>\n",
       "      <td>60.0</td>\n",
       "      <td>4.500000e+07</td>\n",
       "      <td>0.087907</td>\n",
       "    </tr>\n",
       "    <tr>\n",
       "      <th>Corellia</th>\n",
       "      <td>25.0</td>\n",
       "      <td>11000.0</td>\n",
       "      <td>temperate</td>\n",
       "      <td>1</td>\n",
       "      <td>1.0</td>\n",
       "      <td>70.0</td>\n",
       "      <td>3.000000e+09</td>\n",
       "      <td>7.891981</td>\n",
       "    </tr>\n",
       "    <tr>\n",
       "      <th>Rodia</th>\n",
       "      <td>29.0</td>\n",
       "      <td>7549.0</td>\n",
       "      <td>hot</td>\n",
       "      <td>0</td>\n",
       "      <td>1.0</td>\n",
       "      <td>60.0</td>\n",
       "      <td>1.300000e+09</td>\n",
       "      <td>7.261304</td>\n",
       "    </tr>\n",
       "    <tr>\n",
       "      <th>Glee Anselm</th>\n",
       "      <td>33.0</td>\n",
       "      <td>15600.0</td>\n",
       "      <td>tropical, temperate</td>\n",
       "      <td>1</td>\n",
       "      <td>1.0</td>\n",
       "      <td>80.0</td>\n",
       "      <td>5.000000e+08</td>\n",
       "      <td>0.653990</td>\n",
       "    </tr>\n",
       "    <tr>\n",
       "      <th>Muunilinst</th>\n",
       "      <td>28.0</td>\n",
       "      <td>13800.0</td>\n",
       "      <td>temperate</td>\n",
       "      <td>1</td>\n",
       "      <td>1.0</td>\n",
       "      <td>25.0</td>\n",
       "      <td>5.000000e+09</td>\n",
       "      <td>8.357222</td>\n",
       "    </tr>\n",
       "  </tbody>\n",
       "</table>\n",
       "</div>"
      ],
      "text/plain": [
       "             rotation_period  diameter              climate  \\\n",
       "name                                                          \n",
       "Naboo                   26.0   12120.0            temperate   \n",
       "Kamino                  27.0   19720.0            temperate   \n",
       "Kashyyyk                26.0   12765.0             tropical   \n",
       "Corellia                25.0   11000.0            temperate   \n",
       "Rodia                   29.0    7549.0                  hot   \n",
       "Glee Anselm             33.0   15600.0  tropical, temperate   \n",
       "Muunilinst              28.0   13800.0            temperate   \n",
       "\n",
       "             temperate_tropical  gravity  surface_water    population  \\\n",
       "name                                                                    \n",
       "Naboo                         1      1.0           12.0  4.500000e+09   \n",
       "Kamino                        1      1.0          100.0  1.000000e+09   \n",
       "Kashyyyk                      1      1.0           60.0  4.500000e+07   \n",
       "Corellia                      1      1.0           70.0  3.000000e+09   \n",
       "Rodia                         0      1.0           60.0  1.300000e+09   \n",
       "Glee Anselm                   1      1.0           80.0  5.000000e+08   \n",
       "Muunilinst                    1      1.0           25.0  5.000000e+09   \n",
       "\n",
       "             Densidad  \n",
       "name                   \n",
       "Naboo        9.751185  \n",
       "Kamino       0.818533  \n",
       "Kashyyyk     0.087907  \n",
       "Corellia     7.891981  \n",
       "Rodia        7.261304  \n",
       "Glee Anselm  0.653990  \n",
       "Muunilinst   8.357222  "
      ]
     },
     "execution_count": 59,
     "metadata": {},
     "output_type": "execute_result"
    }
   ],
   "source": [
    "planets_df_sel = planets_df[(planets_df.Densidad<50) \n",
    "                            & (planets_df.rotation_period>24) \n",
    "                            & (planets_df.surface_water>10)]\n",
    "print(planets_df_sel.shape)\n",
    "planets_df_sel"
   ]
  },
  {
   "cell_type": "markdown",
   "metadata": {
    "id": "xh5CFmLHVVz7"
   },
   "source": [
    "Quedan 7 planetas. Veamos, ahora, un gráfico de dispersión con un resumen de las principales variables:"
   ]
  },
  {
   "cell_type": "code",
   "execution_count": 60,
   "metadata": {
    "id": "GOL1jz1VVVz9",
    "outputId": "de357cf5-d9ac-4829-ed5e-7a8431794136",
    "scrolled": true
   },
   "outputs": [
    {
     "data": {
      "image/png": "[encoded data removed]",
      "text/plain": [
       "<Figure size 1000x600 with 1 Axes>"
      ]
     },
     "metadata": {},
     "output_type": "display_data"
    }
   ],
   "source": [
    "sns.set(rc={'figure.figsize':(10,6)});\n",
    "g = sns.scatterplot(x=\"rotation_period\", y = \"surface_water\", data=planets_df_sel\n",
    "                            , alpha =0.7\n",
    "                            , hue= \"climate\"\n",
    "                            , size=\"Densidad\")\n",
    "g.set_title('Planetas para la academia Jedi');\n",
    "plt.legend(loc='lower right')\n",
    "limit = g.set(ylim=(-10, None));\n",
    "\n",
    "# buscamos el planeta que hay que etiquetar\n",
    "planets_df_sel_final = planets_df_sel[(planets_df_sel.rotation_period>30)&(planets_df_sel.surface_water>60) ]\n",
    "\n",
    "# insertamos la etiqueta\n",
    "p = plt.annotate(planets_df_sel_final.index[0],\n",
    "             (planets_df_sel_final.rotation_period.iloc[0],planets_df_sel_final.surface_water.iloc[0])\n",
    "             , textcoords=\"offset points\" # desplaza el punto\n",
    "             , xytext=(0,5)  # distancia desplazamiento\n",
    "             , ha='right'\n",
    "            , color=\"red\")   # centrado)\n"
   ]
  },
  {
   "cell_type": "markdown",
   "metadata": {
    "id": "bVFa8SiDVV0R"
   },
   "source": [
    "¡Parece que ya tenemos destino perfecto para la academia Jedi! Se llama **Glee Anselm**\n",
    "\n",
    "Veamos sus datos:"
   ]
  },
  {
   "cell_type": "code",
   "execution_count": 61,
   "metadata": {
    "id": "8L3cn8uYVV0V",
    "outputId": "760e9c22-abfb-4ff8-a30b-cc5933873853"
   },
   "outputs": [
    {
     "data": {
      "text/html": [
       "<div>\n",
       "<style scoped>\n",
       "    .dataframe tbody tr th:only-of-type {\n",
       "        vertical-align: middle;\n",
       "    }\n",
       "\n",
       "    .dataframe tbody tr th {\n",
       "        vertical-align: top;\n",
       "    }\n",
       "\n",
       "    .dataframe thead th {\n",
       "        text-align: right;\n",
       "    }\n",
       "</style>\n",
       "<table border=\"1\" class=\"dataframe\">\n",
       "  <thead>\n",
       "    <tr style=\"text-align: right;\">\n",
       "      <th></th>\n",
       "      <th>rotation_period</th>\n",
       "      <th>diameter</th>\n",
       "      <th>climate</th>\n",
       "      <th>temperate_tropical</th>\n",
       "      <th>gravity</th>\n",
       "      <th>surface_water</th>\n",
       "      <th>population</th>\n",
       "      <th>Densidad</th>\n",
       "    </tr>\n",
       "    <tr>\n",
       "      <th>name</th>\n",
       "      <th></th>\n",
       "      <th></th>\n",
       "      <th></th>\n",
       "      <th></th>\n",
       "      <th></th>\n",
       "      <th></th>\n",
       "      <th></th>\n",
       "      <th></th>\n",
       "    </tr>\n",
       "  </thead>\n",
       "  <tbody>\n",
       "    <tr>\n",
       "      <th>Glee Anselm</th>\n",
       "      <td>33.0</td>\n",
       "      <td>15600.0</td>\n",
       "      <td>tropical, temperate</td>\n",
       "      <td>1</td>\n",
       "      <td>1.0</td>\n",
       "      <td>80.0</td>\n",
       "      <td>500000000.0</td>\n",
       "      <td>0.65399</td>\n",
       "    </tr>\n",
       "  </tbody>\n",
       "</table>\n",
       "</div>"
      ],
      "text/plain": [
       "             rotation_period  diameter              climate  \\\n",
       "name                                                          \n",
       "Glee Anselm             33.0   15600.0  tropical, temperate   \n",
       "\n",
       "             temperate_tropical  gravity  surface_water   population  Densidad  \n",
       "name                                                                            \n",
       "Glee Anselm                   1      1.0           80.0  500000000.0   0.65399  "
      ]
     },
     "execution_count": 61,
     "metadata": {},
     "output_type": "execute_result"
    }
   ],
   "source": [
    "planets_df_sel_final"
   ]
  }
 ],
 "metadata": {
  "colab": {
   "collapsed_sections": [
    "U75KhoMvVVod",
    "HF-DJJD5VVx7"
   ],
   "name": "M1_BloqueII_Python_6_Pandas.ipynb",
   "provenance": []
  },
  "kernelspec": {
   "display_name": "mbdds_rpy24",
   "language": "python",
   "name": "mbdds_rpy24"
  },
  "language_info": {
   "codemirror_mode": {
    "name": "ipython",
    "version": 3
   },
   "file_extension": ".py",
   "mimetype": "text/x-python",
   "name": "python",
   "nbconvert_exporter": "python",
   "pygments_lexer": "ipython3",
   "version": "3.10.12"
  }
 },
 "nbformat": 4,
 "nbformat_minor": 1
}
