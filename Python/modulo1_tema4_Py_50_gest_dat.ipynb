{
 "cells": [
  {
   "cell_type": "markdown",
   "metadata": {},
   "source": [
    "<img align=\"left\" style=\"padding-right:10px;\" width=\"150\" src=\"www/320px-Star_Wars_Logo.svg.png\">\n",
    "\n",
    "*Este notebook forma parte del TEMA 1.4. HERRAMIENTAS DE ANÁLISI: PROGRAMACIÓN EN R Y PROGRAMACIÓN EN PYTHON del MÓDULO 1: HERRAMIENTAS BIG DATA del Máster en Big Data & Data Science de la Universitat de Barcelona - IL3 - FORYMAT elaborado por Ferran Carrascosa Mallafrè.*"
   ]
  },
  {
   "cell_type": "markdown",
   "metadata": {},
   "source": [
    "< [Control de flujo](modulo1_tema4_Py_40_contr_flujo.ipynb) | [Índice](modulo1_tema4_Py_00_indice.ipynb) | [Anexo](modulo1_tema4_Py_60_anexo.ipynb) >\n",
    "\n",
    "<a href=\"https://colab.research.google.com/github/griu/mbdds_fc20/blob/master/Python/modulo1_tema4_Py_50_gest_dat.ipynb\" target=\"_parent\"><img align=\"left\" src=\"https://colab.research.google.com/assets/colab-badge.svg\" alt=\"Open In Colab\" title=\"Abre y Ejecuta en Google Colaboratory\"></a>\n",
    ": Padawan! Cuando inicias sesión en Colab, prepara el entorno ejecutando el siguiente código."
   ]
  },
  {
   "cell_type": "code",
   "execution_count": 1,
   "metadata": {},
   "outputs": [],
   "source": [
    "if 'google.colab' in str(get_ipython()):\n",
    "    !git clone https://github.com/griu/mbdds_fc20.git /content/mbdds_fc20\n",
    "    !git -C /content/mbdds_fc20 pull\n",
    "    %cd /content/mbdds_fc20/Python\n",
    "    !python -m pip install -r requirementsColab.txt"
   ]
  },
  {
   "cell_type": "markdown",
   "metadata": {},
   "source": [
    "# GESTIÓN DE DATOS"
   ]
  },
  {
   "cell_type": "code",
   "execution_count": 1,
   "metadata": {},
   "outputs": [
    {
     "ename": "SyntaxError",
     "evalue": "invalid syntax (<ipython-input-1-893206365cf5>, line 1)",
     "output_type": "error",
     "traceback": [
      "\u001b[0;36m  File \u001b[0;32m\"<ipython-input-1-893206365cf5>\"\u001b[0;36m, line \u001b[0;32m1\u001b[0m\n\u001b[0;31m    IMPORTAR Y EXPORTAR DATOS\u001b[0m\n\u001b[0m             ^\u001b[0m\n\u001b[0;31mSyntaxError\u001b[0m\u001b[0;31m:\u001b[0m invalid syntax\n"
     ]
    }
   ],
   "source": [
    "\n",
    "            IMPORTAR Y EXPORTAR DATOS\n",
    "                LECTURA TEXTO CON SEPARADOR\n",
    "                ESCRITURA TEXTO CON SEPARADOR\n",
    "                TEXTO CON ANCHO FIJO\n",
    "            CRUCE ENTRE TABLAS\n",
    "                CRUCES POR ORDENACIÓN\n",
    "                    ORDENACION DE TABLAS\n",
    "                    UNIÓN POR COLUMNAS\n",
    "                    UNIÓN POR FILAS\n",
    "                CRUCE POR CAMPOS CLAVE\n",
    "                    VECTOR DE CLAVES\n",
    "                    FUSIÓN CON CLAVES\n",
    "                        INNER JOIN\n",
    "                        FULL JOIN\n",
    "                        LEFT JOIN\n",
    "                        RIGHT JOIN\n",
    "                        DEFINCIÓN DE LAS CLAVES\n",
    "            RESUMENES DE AGREGADOS\n",
    "                SUMMARY\n",
    "                ESTADÍSTICOS BASICOS\n",
    "                TABLAS DE FRECUENCIAS\n",
    "                AGREGADOS POR SUBGRUPOS\n",
    "                LA FAMILIA APPLY\n",
    "                    TAPPLY\n",
    "                    LAPPLY\n",
    "                    SAPPLY\n",
    "                    APPLY\n",
    "                LAS ALTERNATIVAS TYDIVERSE\n",
    "                    DPLYR: ARRANGE, FILTER, SELECT\n",
    "                    DPLYR: MUTATE, GROUP_BY, SUMMARISE\n",
    "                    ACTIVIDAD GUIADA 1.5.\n",
    "                    LUBRIDATE: GESTIÓN DE FECHAS Y HORARIOS\n",
    "                        CREAR FECHAS HORAS\n",
    "                        OBTENER COMPONENTES\n",
    "                        MODIFICAR FECHAS Y HORAS\n",
    "                        DURACIONES\n",
    "                        PERIODOS\n",
    "\n"
   ]
  },
  {
   "cell_type": "markdown",
   "metadata": {},
   "source": [
    "\n",
    "## GESTIÓN DE DATOS\n",
    "\n",
    "A continuación se presentan la funciones para la lectura/escritura de datos, cruce y construcción de tablas resumen. \n",
    "\n",
    "### IMPORTAR Y EXPORTAR DATOS\n",
    "\n",
    "RStudio aporta facilidades para la importación de datos a través del menú: `File -> Import Data set -> From Text...`\n",
    "\n",
    "#### LECTURA TEXTO CON SEPARADOR\n",
    "\n",
    "Para leer el siguiente fichero de texto:"
   ]
  },
  {
   "cell_type": "code",
   "execution_count": null,
   "metadata": {
    "eval": false
   },
   "outputs": [],
   "source": [
    "!cat(paste0(readLines(\"www/mtcars.csv\", n = 6), collapse=\"\\n\"))"
   ]
  },
  {
   "cell_type": "markdown",
   "metadata": {},
   "source": [
    "Dado que se trata de un fichero con un carcater separado, la función genérica para teste tipo de ficheros es `read.table()`."
   ]
  },
  {
   "cell_type": "code",
   "execution_count": 1,
   "metadata": {},
   "outputs": [
    {
     "ename": "NameError",
     "evalue": "name 'pd' is not defined",
     "output_type": "error",
     "traceback": [
      "\u001b[0;31m---------------------------------------------------------------------------\u001b[0m",
      "\u001b[0;31mNameError\u001b[0m                                 Traceback (most recent call last)",
      "\u001b[0;32m<ipython-input-1-e399ac3d075c>\u001b[0m in \u001b[0;36m<module>\u001b[0;34m()\u001b[0m\n\u001b[0;32m----> 1\u001b[0;31m \u001b[0mmtcars\u001b[0m \u001b[0;34m=\u001b[0m \u001b[0mpd\u001b[0m\u001b[0;34m.\u001b[0m\u001b[0mread_text\u001b[0m\u001b[0;34m(\u001b[0m\u001b[0;34m\"www/mtcars.csv\"\u001b[0m\u001b[0;34m,\u001b[0m \u001b[0mdec\u001b[0m\u001b[0;34m=\u001b[0m\u001b[0;34m\".\"\u001b[0m\u001b[0;34m,\u001b[0m\u001b[0msep\u001b[0m\u001b[0;34m=\u001b[0m\u001b[0;34m\",\"\u001b[0m\u001b[0;34m)\u001b[0m\u001b[0;34m\u001b[0m\u001b[0;34m\u001b[0m\u001b[0m\n\u001b[0m",
      "\u001b[0;31mNameError\u001b[0m: name 'pd' is not defined"
     ]
    }
   ],
   "source": [
    "mtcars = pd.read_text(\"www/mtcars.csv\", dec=\".\",sep=\",\")"
   ]
  },
  {
   "cell_type": "markdown",
   "metadata": {},
   "source": [
    "Los parámetros especificados son:\n",
    "\n",
    "- `dec`: El separador decimal. En Europa se acostumbra a utilizar la coma \",\".\n",
    "- `sep`: El separador de columnas. Es habitual usar también \";\" y \"\\t\" cuando es un tabulador.\n",
    "- `header`: Indica si la primera fila contiene el nombre de las variables o no.\n",
    "\n",
    "También es común el uso de `fileEncoding=\"Latin1\"` cuando el fichero se ha creado en con Windows y utiliza carácteres especiales de texto (tildes, ...).\n",
    "\n",
    "Dada la estructura del fichero, con `read.csv()` la carga es más simple."
   ]
  },
  {
   "cell_type": "code",
   "execution_count": null,
   "metadata": {},
   "outputs": [],
   "source": [
    "mtcars = pd.read_csv(\"www/mtcars.csv\")"
   ]
  },
  {
   "cell_type": "markdown",
   "metadata": {},
   "source": [
    "Cuando el csv es Europeo, \",\" decimal y \";\" como separador, se utiliza `.read_csv()`.\n",
    "\n",
    "Es una buena práctica verificar su carga con `.shape()`, `head()` y `describe()`."
   ]
  },
  {
   "cell_type": "code",
   "execution_count": 2,
   "metadata": {},
   "outputs": [
    {
     "ename": "NameError",
     "evalue": "name 'mtcars' is not defined",
     "output_type": "error",
     "traceback": [
      "\u001b[0;31m---------------------------------------------------------------------------\u001b[0m",
      "\u001b[0;31mNameError\u001b[0m                                 Traceback (most recent call last)",
      "\u001b[0;32m<ipython-input-2-70ac8c7d82e0>\u001b[0m in \u001b[0;36m<module>\u001b[0;34m()\u001b[0m\n\u001b[0;32m----> 1\u001b[0;31m \u001b[0mmtcars\u001b[0m\u001b[0;34m.\u001b[0m\u001b[0mshape\u001b[0m\u001b[0;34m\u001b[0m\u001b[0;34m\u001b[0m\u001b[0m\n\u001b[0m",
      "\u001b[0;31mNameError\u001b[0m: name 'mtcars' is not defined"
     ]
    }
   ],
   "source": [
    "mtcars.shape"
   ]
  },
  {
   "cell_type": "code",
   "execution_count": null,
   "metadata": {
    "eval": false
   },
   "outputs": [],
   "source": [
    "mtcars.head()"
   ]
  },
  {
   "cell_type": "code",
   "execution_count": null,
   "metadata": {
    "eval": false
   },
   "outputs": [],
   "source": [
    "mtcars.describe()"
   ]
  },
  {
   "cell_type": "markdown",
   "metadata": {},
   "source": [
    "### ESCRITURA TEXTO CON SEPARADOR\n",
    "\n",
    "Para la escritura, puedes utilizar sus equivalentes: `.to_csv()`. Cabe destacar algunas pequeñas variaciones.  "
   ]
  },
  {
   "cell_type": "code",
   "execution_count": null,
   "metadata": {},
   "outputs": [],
   "source": [
    "write.csv2(mtcars, file=\"www/mtcars2.csv\", row.names=FALSE, na=\"\")"
   ]
  },
  {
   "cell_type": "markdown",
   "metadata": {},
   "source": [
    "- `row.names`: Si no se especifica, por defecto, se inserta el número de fila.\n",
    "- `na`: Si no se especifica, introduce el texto `NA`.\n",
    "\n",
    "Observa como el nuevo csv ahora tiene el formato de csv Europeo."
   ]
  },
  {
   "cell_type": "code",
   "execution_count": null,
   "metadata": {
    "eval": false,
    "lines_to_next_cell": 0
   },
   "outputs": [],
   "source": [
    "cat(paste0(readLines(\"www/mtcars2.csv\", n = 6), collapse=\"\\n\"))"
   ]
  },
  {
   "cell_type": "markdown",
   "metadata": {},
   "source": [
    "### TEXTO CON ANCHO FIJO\n",
    "\n",
    "Veamos un ejemplo de fichero de ancho fijo:"
   ]
  },
  {
   "cell_type": "code",
   "execution_count": null,
   "metadata": {
    "eval": false
   },
   "outputs": [],
   "source": [
    "cat(paste0(readLines(\"www/fwf-sample.txt\", n = 6), collapse=\"\\n\"))"
   ]
  },
  {
   "cell_type": "markdown",
   "metadata": {},
   "source": [
    "Para leer texto de ancho fijo, se utiliza `read.fwf()`."
   ]
  },
  {
   "cell_type": "code",
   "execution_count": null,
   "metadata": {},
   "outputs": [],
   "source": [
    "fwf_sample <- read.fwf(\"www/fwf-sample.txt\", widths=c(20,10,12)\n",
    "                     , col.names=c(\"name\", \"state\", \"ssn\"))"
   ]
  },
  {
   "cell_type": "markdown",
   "metadata": {},
   "source": [
    "- `widths`: Son los ansho de cada variable.\n",
    "- `col.names`: Nombres de las variables."
   ]
  },
  {
   "cell_type": "code",
   "execution_count": null,
   "metadata": {
    "eval": false
   },
   "outputs": [],
   "source": [
    "fwf_sample"
   ]
  },
  {
   "cell_type": "markdown",
   "metadata": {},
   "source": [
    "## CRUCE ENTRE TABLAS\n",
    "\n",
    "Para cruzar 2 o mas tablas es necesario que estas compartan un conjunto de índices. \n",
    "\n",
    "#### CRUCES POR ORDENACIÓN\n",
    "\n",
    "Una forma indexar consiste simplemente en compartir una misma ordenación de filas o columnas.\n",
    "\n",
    "##### ORDENACION DE TABLAS\n",
    "\n",
    "Para ordenar un vector se utiliza la función `sort()`."
   ]
  },
  {
   "cell_type": "code",
   "execution_count": null,
   "metadata": {},
   "outputs": [],
   "source": [
    "a <- c(5,2,9,4)\n",
    "sort(a)"
   ]
  },
  {
   "cell_type": "markdown",
   "metadata": {},
   "source": [
    "Lo mismo se puede hacer en dos pasos. Primero, con order() se obtienen los indices de ordenación."
   ]
  },
  {
   "cell_type": "code",
   "execution_count": null,
   "metadata": {},
   "outputs": [],
   "source": [
    "indices_ordenacion <- order(a)\n",
    "indices_ordenacion"
   ]
  },
  {
   "cell_type": "markdown",
   "metadata": {},
   "source": [
    "Segundo se seleccionan los elmentos del vector `a` en ese orden."
   ]
  },
  {
   "cell_type": "code",
   "execution_count": null,
   "metadata": {},
   "outputs": [],
   "source": [
    "a[indices_ordenacion]"
   ]
  },
  {
   "cell_type": "markdown",
   "metadata": {},
   "source": [
    "Observa que el resultado es idéntico a utilizar directamente `sort()`.\n",
    "\n",
    "Mismo principio ahora, para ordenar la tabla `paises07` por continente (decreciente) y esperanza de vida (creciente)."
   ]
  },
  {
   "cell_type": "code",
   "execution_count": null,
   "metadata": {},
   "outputs": [],
   "source": [
    "paises07Ord <- paises07[order(paises07$continente,paises07$esperanza_de_vida\n",
    "                              ,decreasing = c(T,F)),]"
   ]
  },
  {
   "cell_type": "code",
   "execution_count": null,
   "metadata": {
    "eval": false
   },
   "outputs": [],
   "source": [
    "head(paises07Ord)"
   ]
  },
  {
   "cell_type": "code",
   "execution_count": null,
   "metadata": {
    "tags": [
     "remove_input",
     "remove_output"
    ],
    "warning": false
   },
   "outputs": [],
   "source": [
    "kable(head(paises07Ord), \"html\", booktabs=TRUE,align=\"r\", row.names = TRUE,) %>%\n",
    "  kable_styling(bootstrap_options=c(\"striped\", \"hover\", \"condensed\", \"responsive\")\n",
    "                ,font_size = 11,full_width = F,) %>%\n",
    "  column_spec(1:ncol(head(paises07Ord)),monospace=TRUE) %>%\n",
    "  save_kable(\"www/paisesOrd.png\")\n",
    "options(knitr.kable.NA = '')"
   ]
  },
  {
   "cell_type": "markdown",
   "metadata": {},
   "source": [
    "![](www/paisesOrd.png){width=400px}\n",
    "\n",
    "##### UNIÓN POR COLUMNAS\n",
    "\n",
    "Para unir las columnas de 2 tablas que comparten ordenación de sus filas se utiliza `cbind()`."
   ]
  },
  {
   "cell_type": "code",
   "execution_count": null,
   "metadata": {},
   "outputs": [],
   "source": [
    "a1 <- paises07[,1:2]\n",
    "a2 <- paises07[,4:5]\n",
    "a <- cbind(a1, a2)"
   ]
  },
  {
   "cell_type": "code",
   "execution_count": null,
   "metadata": {
    "eval": false
   },
   "outputs": [],
   "source": [
    "head(a)"
   ]
  },
  {
   "cell_type": "code",
   "execution_count": null,
   "metadata": {
    "tags": [
     "remove_input",
     "remove_output"
    ],
    "warning": false
   },
   "outputs": [],
   "source": [
    "kable(head(a), \"html\", booktabs=TRUE,align=\"r\", row.names = TRUE,) %>%\n",
    "  kable_styling(bootstrap_options=c(\"striped\", \"hover\", \"condensed\", \"responsive\")\n",
    "                ,font_size = 11,full_width = F,) %>%\n",
    "  column_spec(1:ncol(head(a)),monospace=TRUE) %>%\n",
    "  save_kable(\"www/paiscbind.png\")\n",
    "options(knitr.kable.NA = '')"
   ]
  },
  {
   "cell_type": "markdown",
   "metadata": {},
   "source": [
    "![](www/paiscbind.png){width=275px}\n",
    "\n",
    "##### UNIÓN POR FILAS\n",
    "\n",
    "Unir las filas de dos tablas con la misma ordenación de sus columnas `cbind()`."
   ]
  },
  {
   "cell_type": "code",
   "execution_count": null,
   "metadata": {},
   "outputs": [],
   "source": [
    "a1 <- paises07[,1:2]\n",
    "a2 <- paises07[,4:5]\n",
    "a <- cbind(a1, a2)"
   ]
  },
  {
   "cell_type": "code",
   "execution_count": null,
   "metadata": {
    "eval": false
   },
   "outputs": [],
   "source": [
    "head(a)"
   ]
  },
  {
   "cell_type": "code",
   "execution_count": null,
   "metadata": {
    "tags": [
     "remove_input",
     "remove_output"
    ],
    "warning": false
   },
   "outputs": [],
   "source": [
    "kable(head(a), \"html\", booktabs=TRUE,align=\"r\", row.names = TRUE,) %>%\n",
    "  kable_styling(bootstrap_options=c(\"striped\", \"hover\", \"condensed\", \"responsive\")\n",
    "                ,font_size = 11,full_width = F,) %>%\n",
    "  column_spec(1:ncol(head(a)),monospace=TRUE) %>%\n",
    "  save_kable(\"www/paiscbind.png\")\n",
    "options(knitr.kable.NA = '')"
   ]
  },
  {
   "cell_type": "markdown",
   "metadata": {},
   "source": [
    "![](www/paiscbind.png){width=275px}\n",
    "\n",
    "#### CRUCE POR CAMPOS CLAVE\n",
    "\n",
    "Un campo clave consiste en una variable que identifica cada registro de forma única.\n",
    "\n",
    "Por ejemplo, `pais` y `continente` son campos clave ya que identifican de forma única a sus respectivas entidades en la tabla de `paises`.\n",
    "\n",
    "Antes de realizar cualquier cruce por campos clave, es importante saber si este tiene o no duplicados. \n",
    "\n",
    "##### VECTOR DE CLAVES\n",
    "\n",
    "Para obtener las claves únicas de un vector utiliza `unique()`."
   ]
  },
  {
   "cell_type": "code",
   "execution_count": null,
   "metadata": {},
   "outputs": [],
   "source": [
    "sort(unique(as.character(paises07$continente)))"
   ]
  },
  {
   "cell_type": "markdown",
   "metadata": {},
   "source": [
    "Para saber qué filas de un data frame están duplicadas, utiliza `duplicated()`."
   ]
  },
  {
   "cell_type": "code",
   "execution_count": null,
   "metadata": {},
   "outputs": [],
   "source": [
    "paisesDup <- paises07[c(1,1,2,3,3,4,5,5,6),]\n",
    "any(duplicated(paisesDup))    # ¿Tiene duplicados?\n",
    "as.character(paisesDup$pais[duplicated(paisesDup)]) # que países son"
   ]
  },
  {
   "cell_type": "markdown",
   "metadata": {},
   "source": [
    "##### FUSIÓN CON CLAVES\n",
    "\n",
    "Para cruzar 2 tablas con claves, utiliza `merge()`.\n",
    "\n",
    "###### INNER JOIN\n",
    "\n",
    "Analiza el siguiente ejemplo:"
   ]
  },
  {
   "cell_type": "code",
   "execution_count": null,
   "metadata": {},
   "outputs": [],
   "source": [
    "a1 <- data.frame(ID = c(1,2,3), X1 = c(1,1,2), X2 = c(\"b\",\"a\",\"a\"))\n",
    "a2 <- data.frame(ID = c(2,3,3,4), X1 = c(1,1,2,2), X3 = c(FALSE, TRUE, FALSE, FALSE))\n",
    "a_inner <- merge(a1, a2)"
   ]
  },
  {
   "cell_type": "code",
   "execution_count": null,
   "metadata": {
    "eval": false
   },
   "outputs": [],
   "source": [
    "a_inner"
   ]
  },
  {
   "cell_type": "code",
   "execution_count": null,
   "metadata": {
    "tags": [
     "remove_input",
     "remove_output"
    ],
    "warning": false
   },
   "outputs": [],
   "source": [
    "a<- a_inner\n",
    "options(knitr.kable.NA = 'NA')\n",
    "kable(head(a), \"html\", booktabs=TRUE,align=\"r\", row.names = TRUE,) %>%\n",
    "  kable_styling(bootstrap_options=c(\"striped\", \"hover\", \"condensed\", \"responsive\")\n",
    "                ,font_size = 11,full_width = F,) %>%\n",
    "  column_spec(1:ncol(head(a)),monospace=TRUE) %>%\n",
    "  save_kable(\"www/a_inner.png\")\n",
    "options(knitr.kable.NA = '')"
   ]
  },
  {
   "cell_type": "markdown",
   "metadata": {},
   "source": [
    "![](www/a_inner.png){width=115px}\n",
    "\n",
    "R, por defecto, ha definido `ID` y `X1` como campos clave del cruce. Esto es así, porqué ID es la única variable compartida. Veremos como modificar esto.\n",
    "\n",
    "Otra decisión que R ha tomado, es que **sólo** ha recuperado los **registros** con valores de `ID` y `X1` **compartidos** en ambas tablas. Este comportamiento en el lenguaje SQL, es conocido como *INNER JOIN*.\n",
    "\n",
    "###### FULL JOIN\n",
    "\n",
    "Para conservar **todos los registros de las tablas originales**, tanto de la tabla izquierda como derecha, coincida o no, se utiliza el parámetro `all=TRUE`."
   ]
  },
  {
   "cell_type": "code",
   "execution_count": null,
   "metadata": {},
   "outputs": [],
   "source": [
    "a_full <- merge(a1, a2, all = TRUE)"
   ]
  },
  {
   "cell_type": "code",
   "execution_count": null,
   "metadata": {
    "eval": false
   },
   "outputs": [],
   "source": [
    "a_full"
   ]
  },
  {
   "cell_type": "code",
   "execution_count": null,
   "metadata": {
    "tags": [
     "remove_input",
     "remove_output"
    ],
    "warning": false
   },
   "outputs": [],
   "source": [
    "a<- a_full\n",
    "options(knitr.kable.NA = 'NA')\n",
    "kable(head(a), \"html\", booktabs=TRUE,align=\"r\", row.names = TRUE,) %>%\n",
    "  kable_styling(bootstrap_options=c(\"striped\", \"hover\", \"condensed\", \"responsive\")\n",
    "                ,font_size = 11,full_width = F,) %>%\n",
    "  column_spec(1:ncol(head(a)),monospace=TRUE) %>%\n",
    "  save_kable(\"www/a_full.png\")\n",
    "options(knitr.kable.NA = '')"
   ]
  },
  {
   "cell_type": "markdown",
   "metadata": {},
   "source": [
    "![](www/a_full.png){width=115px}\n",
    "\n",
    "Observa ahora, no ha descartado ningún registro de las tablas orígen. Además, ha rellenado con `NA` los campos que no cruzan. Este comportamiento en SQL es conocido como *FULL JOIN* .\n",
    "\n",
    "###### LEFT JOIN\n",
    "\n",
    "Para imponer que conserve **todos los valores orígen de la tabla izquierda** (`a1`) y que descarte los de la taba derecha que no sean compartidos utiliza `all.x=TRUE`."
   ]
  },
  {
   "cell_type": "code",
   "execution_count": null,
   "metadata": {},
   "outputs": [],
   "source": [
    "a_left <- merge(a1, a2, all.x = TRUE)"
   ]
  },
  {
   "cell_type": "code",
   "execution_count": null,
   "metadata": {
    "eval": false
   },
   "outputs": [],
   "source": [
    "a_left"
   ]
  },
  {
   "cell_type": "code",
   "execution_count": null,
   "metadata": {
    "tags": [
     "remove_input",
     "remove_output"
    ],
    "warning": false
   },
   "outputs": [],
   "source": [
    "a <- a_left\n",
    "options(knitr.kable.NA = 'NA')\n",
    "kable(head(a), \"html\", booktabs=TRUE,align=\"r\", row.names = TRUE,) %>%\n",
    "  kable_styling(bootstrap_options=c(\"striped\", \"hover\", \"condensed\", \"responsive\")\n",
    "                ,font_size = 11,full_width = F,) %>%\n",
    "  column_spec(1:ncol(head(a)),monospace=TRUE) %>%\n",
    "  save_kable(\"www/a_left.png\")\n",
    "options(knitr.kable.NA = '')"
   ]
  },
  {
   "cell_type": "markdown",
   "metadata": {},
   "source": [
    "![](www/a_left.png){width=115px}\n",
    "\n",
    "Vemos que ID=1 ahora esta presente y ID=4 ha quedado descartado. Tambien que ID=3 sólo aparece una vez. Este comportamiento en SQL, es conocido como LEFT JOIN .\n",
    "\n",
    "###### RIGHT JOIN\n",
    "\n",
    "Para preservar **todos los valores de la tabla derecha** utliza `all.y=TRUE`. Este comportamiento en SQL es el conocido como *RIGHT JOIN*."
   ]
  },
  {
   "cell_type": "code",
   "execution_count": null,
   "metadata": {},
   "outputs": [],
   "source": [
    "a_right <- merge(a1, a2, all.y = TRUE)"
   ]
  },
  {
   "cell_type": "code",
   "execution_count": null,
   "metadata": {
    "eval": false
   },
   "outputs": [],
   "source": [
    "a_right"
   ]
  },
  {
   "cell_type": "code",
   "execution_count": null,
   "metadata": {
    "tags": [
     "remove_input",
     "remove_output"
    ],
    "warning": false
   },
   "outputs": [],
   "source": [
    "a<- a_right\n",
    "options(knitr.kable.NA = 'NA')\n",
    "kable(head(a), \"html\", booktabs=TRUE,align=\"r\", row.names = TRUE,) %>%\n",
    "  kable_styling(bootstrap_options=c(\"striped\", \"hover\", \"condensed\", \"responsive\")\n",
    "                ,font_size = 11,full_width = F,) %>%\n",
    "  column_spec(1:ncol(head(a)),monospace=TRUE) %>%\n",
    "  save_kable(\"www/a_right.png\")\n",
    "options(knitr.kable.NA = '')"
   ]
  },
  {
   "cell_type": "markdown",
   "metadata": {},
   "source": [
    "![](www/a_right.png){width=115px}\n",
    "\n",
    "Ahora ID=3 aparece 2 veces. También aparece ID=4.\n",
    "\n",
    "###### DEFINCIÓN DE LAS CLAVES\n",
    "\n",
    "Para definir las claves del cruce, es necesario pasar como parámetro los nombre de las variables:\n",
    "\n",
    "- Cuando los nombres de los campos clave son compartidos en ambas tablas, utiliza `by`. \n",
    "- Cuando hay cambios de nombre, utiliza `by.x` y `by.y`\n",
    "\n",
    "El siguiente ejemplo, realiza un *FULL JOIN* definiendo como clave la variable `ID`."
   ]
  },
  {
   "cell_type": "code",
   "execution_count": null,
   "metadata": {},
   "outputs": [],
   "source": [
    "a_comparte <- merge(a1, a2, all.x=TRUE, by = c(\"ID\")) \n",
    "# de forma equivalente\n",
    "a_comparte <- merge(a1, a2, all.x=TRUE, by.x = c(\"ID\"), by.y = c(\"ID\"))"
   ]
  },
  {
   "cell_type": "code",
   "execution_count": null,
   "metadata": {
    "eval": false
   },
   "outputs": [],
   "source": [
    "a_comparte"
   ]
  },
  {
   "cell_type": "code",
   "execution_count": null,
   "metadata": {
    "tags": [
     "remove_input",
     "remove_output"
    ],
    "warning": false
   },
   "outputs": [],
   "source": [
    "a<- a_comparte\n",
    "options(knitr.kable.NA = 'NA')\n",
    "kable(head(a), \"html\", booktabs=TRUE,align=\"r\", row.names = TRUE,) %>%\n",
    "  kable_styling(bootstrap_options=c(\"striped\", \"hover\", \"condensed\", \"responsive\")\n",
    "                ,font_size = 11,full_width = F,) %>%\n",
    "  column_spec(1:ncol(head(a)),monospace=TRUE) %>%\n",
    "  save_kable(\"www/a_comparte.png\")\n",
    "options(knitr.kable.NA = '')"
   ]
  },
  {
   "cell_type": "markdown",
   "metadata": {},
   "source": [
    "![](www/a_comparte.png){width=140px}\n",
    "\n",
    "R ha añadido el sufijo `.x` y `.y` a `X1`, porqué es una variable compartida que ahora no es clave para el cruce. Observa también que ID=3 aparece 2 veces ya que esta duplicado en la tabla `a2`.\n",
    "\n",
    "### RESUMENES DE AGREGADOS \n",
    "\n",
    "R tiene muchas opciones para construir agregados.\n",
    "\n",
    "#### SUMMARY\n",
    "\n",
    "Para tener una primera impresión sobre los datos utiliza `summary()`."
   ]
  },
  {
   "cell_type": "code",
   "execution_count": null,
   "metadata": {},
   "outputs": [],
   "source": [
    "paises07Summ <- paises07\n",
    "paises07Summ$pais <- as.character(paises07Summ$pais)\n",
    "paises07Summ$fecha <- as.Date(paste(paises07Summ$anio,\"12\",\"31\",sep=\"-\"),\"%Y-%m-%d\")\n",
    "paises07Summ$es_grande <- paises07Summ$poblacion > 30*10^6\n",
    "paises07Summ$pib_per_capita[c(34,70,108)] <- NA"
   ]
  },
  {
   "cell_type": "code",
   "execution_count": null,
   "metadata": {
    "eval": false
   },
   "outputs": [],
   "source": [
    "summary(paises07Summ[,c(\"pais\",\"continente\",\"pib_per_capita\",\"es_grande\",\"fecha\"),])"
   ]
  },
  {
   "cell_type": "code",
   "execution_count": null,
   "metadata": {
    "tags": [
     "remove_input",
     "remove_output"
    ],
    "warning": false
   },
   "outputs": [],
   "source": [
    "a<- summary(paises07Summ[,c(\"pais\",\"continente\",\"pib_per_capita\",\"es_grande\",\"fecha\"),])\n",
    "#options(knitr.kable.NA = 'NA')\n",
    "kable(a, \"html\", booktabs=TRUE,align=\"r\", row.names = TRUE,) %>%\n",
    "  kable_styling(bootstrap_options=c(\"striped\", \"hover\", \"condensed\", \"responsive\")\n",
    "                ,font_size = 11,full_width = F,) %>%\n",
    "  column_spec(1:ncol(a),monospace=TRUE) %>%\n",
    "  save_kable(\"www/paisSumm1.png\")\n",
    "options(knitr.kable.NA = '')"
   ]
  },
  {
   "cell_type": "markdown",
   "metadata": {},
   "source": [
    "![](www/paisSumm1.png){width=400px}\n",
    "\n",
    "`summary` en `factor` y `logic` devuelve una tabla de frecuencias, en cambio en `character` no. En `numeric`y `Date` devuelve 6 estadísticos básicos de resumen más el conteo de `NA`s.\n",
    "\n",
    "#### ESTADÍSTICOS BASICOS\n",
    "\n",
    "Los 6 estadísticos básicos del summary son:"
   ]
  },
  {
   "cell_type": "code",
   "execution_count": null,
   "metadata": {},
   "outputs": [],
   "source": [
    "min(paises07Summ$pib_per_capita, na.rm=TRUE)\n",
    "quantile(paises07Summ$pib_per_capita, 0.25, na.rm=TRUE)\n",
    "median(paises07Summ$pib_per_capita, na.rm=TRUE)\n",
    "mean(paises07Summ$pib_per_capita, na.rm=TRUE)\n",
    "quantile(paises07Summ$pib_per_capita, 0.75, na.rm=TRUE)\n",
    "max(paises07Summ$pib_per_capita, na.rm=TRUE)"
   ]
  },
  {
   "cell_type": "markdown",
   "metadata": {},
   "source": [
    "El parámetro `na.rm=TRUE` evita que las funciones resumen, devuelvan un NA debido a la presencia de NA s en la variable `pib_por_capita`. Observa como esto sucede en la siguiente función. "
   ]
  },
  {
   "cell_type": "code",
   "execution_count": null,
   "metadata": {},
   "outputs": [],
   "source": [
    "mean(paises07Summ$pib_per_capita)"
   ]
  },
  {
   "cell_type": "markdown",
   "metadata": {},
   "source": [
    "La función `quantile()`, por si sola, puede calcular todos los valores, excepto la media."
   ]
  },
  {
   "cell_type": "code",
   "execution_count": null,
   "metadata": {
    "eval": false
   },
   "outputs": [],
   "source": [
    "quantile(paises07Summ$pib_per_capita, seq(0,1,1/4), na.rm=TRUE)"
   ]
  },
  {
   "cell_type": "code",
   "execution_count": null,
   "metadata": {
    "tags": [
     "remove_input",
     "remove_output"
    ],
    "warning": false
   },
   "outputs": [],
   "source": [
    "a<- t(quantile(paises07Summ$pib_per_capita, seq(0,1,1/4), na.rm=TRUE))\n",
    "#options(knitr.kable.NA = 'NA')\n",
    "kable(a, \"html\", booktabs=TRUE,align=\"r\") %>%\n",
    "  kable_styling(bootstrap_options=c(\"striped\", \"hover\", \"condensed\", \"responsive\")\n",
    "                ,font_size = 11,full_width = F,) %>%\n",
    "#  column_spec(1:5,monospace=TRUE) %>%\n",
    "  save_kable(\"www/paisSumm1_1.png\")\n",
    "options(knitr.kable.NA = '')"
   ]
  },
  {
   "cell_type": "markdown",
   "metadata": {},
   "source": [
    "![](www/paisSumm1_1.png){width=250px}\n",
    "\n",
    "#### TABLAS DE FRECUENCIAS\n",
    "\n",
    "Para obtener una tabla de frecuencias, utiliza `table()`. Para una variable."
   ]
  },
  {
   "cell_type": "code",
   "execution_count": null,
   "metadata": {
    "eval": false
   },
   "outputs": [],
   "source": [
    "table(paises07Summ$continente)  # una variable"
   ]
  },
  {
   "cell_type": "code",
   "execution_count": null,
   "metadata": {
    "tags": [
     "remove_input",
     "remove_output"
    ],
    "warning": false
   },
   "outputs": [],
   "source": [
    "a<- t(table(paises07Summ$continente))  # una variable\n",
    "#options(knitr.kable.NA = 'NA')\n",
    "kable(a, \"html\", booktabs=TRUE,align=\"r\") %>%\n",
    "  kable_styling(bootstrap_options=c(\"striped\", \"hover\", \"condensed\", \"responsive\")\n",
    "                ,font_size = 11,full_width = F,) %>%\n",
    "  column_spec(1:5,monospace=TRUE) %>%\n",
    "  save_kable(\"www/paisSumm2.png\")\n",
    "options(knitr.kable.NA = '')"
   ]
  },
  {
   "cell_type": "markdown",
   "metadata": {},
   "source": [
    "![](www/paisSumm2.png){width=200px}\n",
    "\n",
    "Tablas cruzadas de dos o más variables."
   ]
  },
  {
   "cell_type": "code",
   "execution_count": null,
   "metadata": {
    "eval": false
   },
   "outputs": [],
   "source": [
    "table(paises07Summ$continente,paises07Summ$es_grande)"
   ]
  },
  {
   "cell_type": "code",
   "execution_count": null,
   "metadata": {
    "tags": [
     "remove_input",
     "remove_output"
    ],
    "warning": false
   },
   "outputs": [],
   "source": [
    "a<- table(paises07Summ$continente,paises07Summ$es_grande)\n",
    "#options(knitr.kable.NA = 'NA')\n",
    "kable(a, \"html\", booktabs=TRUE,align=\"r\", row.names = TRUE) %>%\n",
    "  kable_styling(bootstrap_options=c(\"striped\", \"hover\", \"condensed\", \"responsive\")\n",
    "                ,font_size = 11,full_width = F,) %>%\n",
    "  column_spec(1:3,monospace=TRUE) %>%\n",
    "  save_kable(\"www/paisSumm3.png\")\n",
    "options(knitr.kable.NA = '')"
   ]
  },
  {
   "cell_type": "markdown",
   "metadata": {},
   "source": [
    "![](www/paisSumm3.png){width=125px}\n",
    "\n",
    "> \\<sabías que\\>Asia es el continente con mayor número de países grandes (de mas de 30M de hab.)\\</sabías que\\>. \n",
    "\n",
    "En muchas ocasiones, es útil tramear las variables numéricas en intervalos. En R utiliza `cut()`.\n",
    "\n",
    "Vamos a crear la variable nivel de riqueza a partir del pib_per_capita cortando la variable por 1700$ y 18000$."
   ]
  },
  {
   "cell_type": "code",
   "execution_count": null,
   "metadata": {},
   "outputs": [],
   "source": [
    "paises07Summ$nivel_de_riqueza <- cut(paises07Summ$pib_per_capita, \n",
    "                                         breaks=c(-Inf,1700,18000,Inf))"
   ]
  },
  {
   "cell_type": "code",
   "execution_count": null,
   "metadata": {
    "eval": false
   },
   "outputs": [],
   "source": [
    "head(paises07Summ[,c(\"pais\",\"pib_per_capita\",\"nivel_de_riqueza\")])"
   ]
  },
  {
   "cell_type": "code",
   "execution_count": null,
   "metadata": {
    "tags": [
     "remove_input",
     "remove_output"
    ],
    "warning": false
   },
   "outputs": [],
   "source": [
    "a<- head(paises07Summ[,c(\"pais\",\"pib_per_capita\",\"nivel_de_riqueza\")])\n",
    "#options(knitr.kable.NA = 'NA')\n",
    "kable(a, \"html\", booktabs=TRUE,align=\"r\", row.names = TRUE) %>%\n",
    "  kable_styling(bootstrap_options=c(\"striped\", \"hover\", \"condensed\", \"responsive\")\n",
    "                ,font_size = 11,full_width = F,) %>%\n",
    "  column_spec(1:ncol(a),monospace=TRUE) %>%\n",
    "  save_kable(\"www/paisSumm4.png\")\n",
    "options(knitr.kable.NA = '')"
   ]
  },
  {
   "cell_type": "markdown",
   "metadata": {},
   "source": [
    "![](www/paisSumm4.png){width=250px}\n",
    "\n",
    "> \\<recuerda\\>Para definir los `breaks`, R permite utilizar `-Inf` e `Inf` (infinito) como si fueran números.\\</recuerda\\>\n",
    "\n",
    "`cut()` crea un `factor` ordenado a partir de la variable `numeric` con los siguientes levels:"
   ]
  },
  {
   "cell_type": "code",
   "execution_count": null,
   "metadata": {},
   "outputs": [],
   "source": [
    "levels(paises07Summ$nivel_de_riqueza)"
   ]
  },
  {
   "cell_type": "markdown",
   "metadata": {},
   "source": [
    "Para modificar las etiquetas utiliza la la misma función `levels()`. "
   ]
  },
  {
   "cell_type": "code",
   "execution_count": null,
   "metadata": {},
   "outputs": [],
   "source": [
    "levels(paises07Summ$nivel_de_riqueza) <- c(\"Pobres\",\"Medios\",\"Ricos\")"
   ]
  },
  {
   "cell_type": "markdown",
   "metadata": {},
   "source": [
    "Mostramos a continuación la distribución de países ricos y pobres por continente en 2007."
   ]
  },
  {
   "cell_type": "code",
   "execution_count": null,
   "metadata": {
    "eval": false
   },
   "outputs": [],
   "source": [
    "table(paises07Summ$continente, paises07Summ$nivel_de_riqueza, useNA = \"ifany\")"
   ]
  },
  {
   "cell_type": "code",
   "execution_count": null,
   "metadata": {
    "tags": [
     "remove_input",
     "remove_output"
    ],
    "warning": false
   },
   "outputs": [],
   "source": [
    "a<- table(paises07Summ$continente, paises07Summ$nivel_de_riqueza, useNA = \"ifany\")\n",
    "#options(knitr.kable.NA = 'NA')\n",
    "kable(a, \"html\", booktabs=TRUE,align=\"r\", row.names = TRUE) %>%\n",
    "  kable_styling(bootstrap_options=c(\"striped\", \"hover\", \"condensed\", \"responsive\")\n",
    "                ,font_size = 11,full_width = F,) %>%\n",
    "  column_spec(1:ncol(a),monospace=TRUE) %>%\n",
    "  save_kable(\"www/paisSumm5.png\")\n",
    "options(knitr.kable.NA = '')"
   ]
  },
  {
   "cell_type": "markdown",
   "metadata": {},
   "source": [
    "![](www/paisSumm5.png){width=175px}\n",
    "\n",
    "Gráficamente."
   ]
  },
  {
   "cell_type": "code",
   "execution_count": null,
   "metadata": {},
   "outputs": [],
   "source": [
    "ggplot(paises07Summ) +\n",
    "  geom_bar(aes(x=continente, fill=nivel_de_riqueza), position = \"fill\") +\n",
    "  labs(y=\"%\")"
   ]
  },
  {
   "cell_type": "markdown",
   "metadata": {},
   "source": [
    "> \\<recuerda\\>Para definir el nivel de riqueza de los países en 2007 se ha realizado la siguiente transformación:\\</recuerda\\>"
   ]
  },
  {
   "cell_type": "code",
   "execution_count": null,
   "metadata": {},
   "outputs": [],
   "source": [
    "paises07$nivel_de_riqueza <- cut(paises07$pib_per_capita, breaks=c(-Inf,1700,18000,Inf))\n",
    "levels(paises07$nivel_de_riqueza) <- c(\"Pobres\",\"Medios\",\"Ricos\")"
   ]
  },
  {
   "cell_type": "markdown",
   "metadata": {},
   "source": [
    "#### AGREGADOS POR SUBGRUPOS\n",
    "\n",
    "Además de frecuencias, es necesario saber calcular otros estadísticos básicos para subgrupo de un data frame. Por ejemplo, la media de esperanza de vida y del pib per cápita, así como, el total de población por continente."
   ]
  },
  {
   "cell_type": "code",
   "execution_count": null,
   "metadata": {},
   "outputs": [],
   "source": [
    "agg1 <- aggregate(paises07[,c(\"esperanza_de_vida\",\"pib_per_capita\")],\n",
    "                  list(continente = paises07$continente\n",
    "                       , nivel_de_riqueza=paises07$nivel_de_riqueza),mean)\n",
    "agg2 <- aggregate(paises07[,c(\"poblacion\"),drop=FALSE],\n",
    "                  list(continente = paises07$continente\n",
    "                       , nivel_de_riqueza=paises07$nivel_de_riqueza),sum)"
   ]
  },
  {
   "cell_type": "markdown",
   "metadata": {},
   "source": [
    "> \\<recuerda\\>aggregate() permite calcular un mismo estadístico sobre varias variables segmentando por más de un eje.\\</recuerda\\>\n",
    "\n",
    "Se juntan ahora los dos agregados con merge() y se genera la variable combinada `continente_riqueza`."
   ]
  },
  {
   "cell_type": "code",
   "execution_count": null,
   "metadata": {},
   "outputs": [],
   "source": [
    "agg3 <- merge(agg1,agg2)\n",
    "agg3$continente_riqueza <- paste(agg3$continente,agg3$nivel_de_riqueza,sep=\"-\")"
   ]
  },
  {
   "cell_type": "code",
   "execution_count": null,
   "metadata": {
    "eval": false
   },
   "outputs": [],
   "source": [
    "agg3"
   ]
  },
  {
   "cell_type": "code",
   "execution_count": null,
   "metadata": {
    "tags": [
     "remove_input",
     "remove_output"
    ],
    "warning": false
   },
   "outputs": [],
   "source": [
    "a<- agg3\n",
    "options(knitr.kable.NA = 'NA')\n",
    "kable(a, \"html\", booktabs=TRUE,align=\"r\", row.names = TRUE) %>%\n",
    "  kable_styling(bootstrap_options=c(\"striped\", \"hover\", \"condensed\", \"responsive\")\n",
    "                ,font_size = 11,full_width = F,) %>%\n",
    "  column_spec(1:ncol(a),monospace=TRUE) %>%\n",
    "  save_kable(\"www/paisSumm6.png\")\n",
    "options(knitr.kable.NA = '')"
   ]
  },
  {
   "cell_type": "markdown",
   "metadata": {},
   "source": [
    "![](www/paisSumm6.png){width=400px}\n",
    "\n",
    "El mismo gráfico visto para países, ahora, agregado a nivel de continente y riqueza."
   ]
  },
  {
   "cell_type": "code",
   "execution_count": null,
   "metadata": {
    "fig.cap": "Contienentes (Fuente: Elaboracion propia, datos de Gapminder)"
   },
   "outputs": [],
   "source": [
    "ggplot(agg3, aes(x=pib_per_capita\n",
    "                          , y=esperanza_de_vida\n",
    "                          , label=continente_riqueza\n",
    "                          , color =continente\n",
    "                          , size=poblacion)) +\n",
    "  geom_point() +\n",
    "  geom_label_repel(size=3, force=10) +\n",
    "  scale_x_log10() +\n",
    "  labs(title=\"Esperanza de vida y riqueza por continente (no ponderado)\")"
   ]
  },
  {
   "cell_type": "markdown",
   "metadata": {},
   "source": [
    "#### LA FAMILIA APPLY \n",
    "\n",
    "Como se ha comentado, las funciones apply permiten vectorizar las operaciones de forma eficiente, sin utilizar bucles `for()`.\n",
    "\n",
    "##### TAPPLY\n",
    "\n",
    "Es una alternativa a aggregate() para aplicar una función de agregación sobre una única variable y segmentando por un único eje."
   ]
  },
  {
   "cell_type": "code",
   "execution_count": null,
   "metadata": {},
   "outputs": [],
   "source": [
    "tapply(paises07$esperanza_de_vida,paises07$continente,quantile,probs=0.25)"
   ]
  },
  {
   "cell_type": "markdown",
   "metadata": {},
   "source": [
    "##### LAPPLY\n",
    "\n",
    "Permite aplicar una función sobre cada elemento de un vector o lista. Devuelve una lista."
   ]
  },
  {
   "cell_type": "code",
   "execution_count": null,
   "metadata": {},
   "outputs": [],
   "source": [
    "lapply(paises07[,-1], function(x) summary(x))"
   ]
  },
  {
   "cell_type": "markdown",
   "metadata": {},
   "source": [
    "##### SAPPLY\n",
    "\n",
    "Misma funcionalidad que lapply, pero simplificando el resultado a vector cuando es posible."
   ]
  },
  {
   "cell_type": "code",
   "execution_count": null,
   "metadata": {},
   "outputs": [],
   "source": [
    "sapply(paises07, function(x) class(x))"
   ]
  },
  {
   "cell_type": "markdown",
   "metadata": {},
   "source": [
    "##### APPLY\n",
    "\n",
    "calcula agregados sobre cada una de lo vectores marginas fila (`MARGIN = 1`), alternativamente columna (`MARGIN = 2`) de una matriz."
   ]
  },
  {
   "cell_type": "code",
   "execution_count": null,
   "metadata": {},
   "outputs": [],
   "source": [
    "a <- matrix(1:10,ncol=2)\n",
    "apply(a,MARGIN = 1,sum)"
   ]
  },
  {
   "cell_type": "markdown",
   "metadata": {},
   "source": [
    "Columnas,"
   ]
  },
  {
   "cell_type": "code",
   "execution_count": null,
   "metadata": {},
   "outputs": [],
   "source": [
    "a <- matrix(1:10,ncol=2)\n",
    "apply(a,2,sum)"
   ]
  },
  {
   "cell_type": "markdown",
   "metadata": {},
   "source": [
    "#### LAS ALTERNATIVAS TYDIVERSE\n",
    "\n",
    "El universo de [Tydiverse](https://www.tidyverse.org/) consiste en una colección de packages de R orientados al Data Science. Se recomienda la consulta del libro online [R para Ciencia de Datos](https://es.r4ds.hadley.nz/index.html).  \n",
    "\n",
    "El package *dplyr*, al igual que *ggplot2*, está desarrollado por Hadley Wickham. Este paquete, supone un cambio de filosofia en la forma de trabajar con los datos y se está transformando en un nuevo estandar en R.\n",
    "\n",
    "##### DPLYR: ARRANGE, FILTER, SELECT\n",
    "\n",
    "- `arange`: Ordena los registros de un data frame.\n",
    "- `filter`: Filtra a partir de un conjunto condiciones logicas.\n",
    "- `select`: Selecciona las variables.\n",
    "\n",
    "> \\<ejemplo\\>Paises asiaticos con PIB per cápita inferior a 1000 $ en 2007.\\</ejemplo\\>"
   ]
  },
  {
   "cell_type": "code",
   "execution_count": null,
   "metadata": {},
   "outputs": [],
   "source": [
    "pais07dplyr <- paises07 %>% \n",
    "  arrange(desc(esperanza_de_vida)) %>% \n",
    "  filter(continente=='Asia' & pib_per_capita < 1000) %>% \n",
    "  select(pais,esperanza_de_vida,pib_per_capita)"
   ]
  },
  {
   "cell_type": "code",
   "execution_count": null,
   "metadata": {
    "tags": [
     "remove_input",
     "remove_output"
    ],
    "warning": false
   },
   "outputs": [],
   "source": [
    "options(knitr.kable.NA = NA)\n",
    "kable(pais07dplyr, \"html\", booktabs=TRUE,align=\"r\", row.names = TRUE,) %>%\n",
    "  kable_styling(bootstrap_options=c(\"striped\", \"hover\", \"condensed\", \"responsive\")\n",
    "                ,font_size = 11,full_width = F,) %>%\n",
    "  column_spec(1:ncol(pais07dplyr),monospace=TRUE) %>%\n",
    "  save_kable(\"www/pais07dplyr.png\")\n",
    "options(knitr.kable.NA = '')"
   ]
  },
  {
   "cell_type": "markdown",
   "metadata": {},
   "source": [
    "![](www/pais07dplyr.png){width=200px}\n",
    "\n",
    "Las 3 comparten el hecho que no necesitan de comillas para referirse a las variables. También utilizan el operador `%>%` llamado *pipe*. Este sustituye el parámetro de entrada de datos. De esta forma, permite escribir las operaciones de izquierda a derecha facilitando así su lectura.\n",
    "\n",
    "##### DPLYR: MUTATE, GROUP_BY, SUMMARISE\n",
    "\n",
    "- `mutate`: Crea o modifica las variables del dataframe.\n",
    "- `group_by`: Especifica una o varias variables de agrupación.\n",
    "- `summarise`: define los agregados de las variables originales.\n",
    "\n",
    "> \\<ejemplo\\>Espaeranza de vida y PIB per cápita medio por continente y año.\\</ejemplo\\>"
   ]
  },
  {
   "cell_type": "code",
   "execution_count": null,
   "metadata": {
    "message": false,
    "warning": false
   },
   "outputs": [],
   "source": [
    "continentes_anio <- paises %>% \n",
    "  arrange(continente,anio) %>% \n",
    "  mutate(esperanza_de_vida_total = esperanza_de_vida * poblacion\n",
    "         , pib_total = pib_per_capita * poblacion) %>% \n",
    "  group_by(continente,anio) %>% \n",
    "  summarize(n_paises=n()\n",
    "            , esperanza_de_vida = sum(esperanza_de_vida_total ) /\n",
    "                sum(poblacion )\n",
    "            , pib_per_capita = sum(pib_total) / \n",
    "              sum(poblacion)\n",
    "            , poblacion = sum(poblacion))"
   ]
  },
  {
   "cell_type": "code",
   "execution_count": null,
   "metadata": {
    "tags": [
     "remove_input",
     "remove_output"
    ],
    "warning": false
   },
   "outputs": [],
   "source": [
    "options(knitr.kable.NA = NA)\n",
    "kable(continentes_anio %>% head(10), \"html\", booktabs=TRUE,align=\"r\", row.names = TRUE,) %>%\n",
    "  kable_styling(bootstrap_options=c(\"striped\", \"hover\", \"condensed\", \"responsive\")\n",
    "                ,font_size = 11,full_width = F,) %>%\n",
    "  column_spec(1:ncol(continentes_anio %>% head(10)),monospace=TRUE) %>%\n",
    "  save_kable(\"www/continentes_anio.png\")\n",
    "options(knitr.kable.NA = '')"
   ]
  },
  {
   "cell_type": "markdown",
   "metadata": {},
   "source": [
    "![](www/continentes_anio.png){width=350px}\n",
    "\n",
    "Para la evolución de los continentes en ggplot2, es útil el [geom_path()](https://ggplot2.tidyverse.org/reference/geom_path.html.) "
   ]
  },
  {
   "cell_type": "code",
   "execution_count": null,
   "metadata": {
    "fig.cap": "Fuente: Elaboración propia con datos de Gapminder",
    "fig.width": 7
   },
   "outputs": [],
   "source": [
    "ggplot(continentes_anio, aes(x=pib_per_capita\n",
    "                          , y=esperanza_de_vida\n",
    "                          , color =continente)) +\n",
    "  geom_path() +\n",
    "  scale_x_log10() +\n",
    "  geom_text_repel(aes(label=anio), size=2, color=\"black\") +\n",
    "  labs(title=\"Esperanza de vida y riqueza por continente (ponderado)\")"
   ]
  },
  {
   "cell_type": "markdown",
   "metadata": {},
   "source": [
    "##### ACTIVIDAD GUIADA 1.5.\n",
    "\n",
    "Vamos a incorporar los gráficos de evolución de los continentes en el informe  teniendo en cuenta los siguientes cambios\n",
    "\n",
    "- Recodifica Oceanía como Asia y Modifica los colores de los continentes.\n",
    "- Utiliza la paleta de colores de la actividad guiada 1.4.\n",
    "\n",
    "Adapta los comentarios solicitados en `15_actividad.R`, ejecuta y observa:\n",
    "\n",
    "- Se ha utilizado dplyr: arrange,mutate,group_by y summarize.\n",
    "- Se ha utilizado geom_path.\n",
    "\n",
    "##### LUBRIDATE: GESTIÓN DE FECHAS Y HORARIOS\n",
    "\n",
    "Para obtener el dia actual con *lubridate* utiliza `today()`, día y hora con now().  "
   ]
  },
  {
   "cell_type": "code",
   "execution_count": null,
   "metadata": {
    "lines_to_next_cell": 0
   },
   "outputs": [],
   "source": [
    "library(lubridate)\n",
    "today()\n",
    "now()"
   ]
  },
  {
   "cell_type": "markdown",
   "metadata": {},
   "source": [
    "###### CREAR FECHAS  HORAS\n",
    "\n",
    "Para crear fechas."
   ]
  },
  {
   "cell_type": "code",
   "execution_count": null,
   "metadata": {},
   "outputs": [],
   "source": [
    "ymd(\"2017-01-31\") # Días des de texto\n",
    "ymd_hms(\"2017-01-31 20:11:59\")  # Día y hora des de texto\n",
    "make_datetime(2020, 08, 24, 15, 36) # Des de los componentes\n",
    "as_datetime(today()) # Conversión"
   ]
  },
  {
   "cell_type": "markdown",
   "metadata": {},
   "source": [
    "###### OBTENER COMPONENTES\n",
    "\n",
    "Para obtener los meses y dias e la semana en Castellano. "
   ]
  },
  {
   "cell_type": "code",
   "execution_count": null,
   "metadata": {},
   "outputs": [],
   "source": [
    "Sys.setlocale(locale=\"es_ES.UTF-8\")\n",
    "\n",
    "fechahora <- ymd_hms(\"2019-03-28 15:11:23\")\n",
    "\n",
    "year(fechahora)\n",
    "month(fechahora, label = TRUE)  # meses en texto\n",
    "wday(fechahora, label = TRUE, abbr = FALSE)    # días de la semana sin abreviar"
   ]
  },
  {
   "cell_type": "markdown",
   "metadata": {},
   "source": [
    "###### MODIFICAR FECHAS Y HORAS\n",
    "\n",
    "Editar componentes"
   ]
  },
  {
   "cell_type": "code",
   "execution_count": null,
   "metadata": {
    "lines_to_next_cell": 0
   },
   "outputs": [],
   "source": [
    "year(fechahora) <- 2020\n",
    "fechahora\n",
    "hour(fechahora) <- hour(fechahora) + 10\n",
    "fechahora"
   ]
  },
  {
   "cell_type": "markdown",
   "metadata": {},
   "source": [
    "También resulta interesante los distintos tipo de redondeo de fechas."
   ]
  },
  {
   "cell_type": "code",
   "execution_count": null,
   "metadata": {},
   "outputs": [],
   "source": [
    "floor_date(fechahora, \"month\")"
   ]
  },
  {
   "cell_type": "markdown",
   "metadata": {},
   "source": [
    "Alternativamente `round_date()` para aproximar y `ceiling_date()` valor por encima.\n",
    "\n",
    "###### DURACIONES\n",
    "\n",
    "Se miden en segundos. "
   ]
  },
  {
   "cell_type": "code",
   "execution_count": null,
   "metadata": {},
   "outputs": [],
   "source": [
    "edad_h <- today() - ymd(19760623)\n",
    "edad_h\n",
    "as.duration(edad_h)"
   ]
  },
  {
   "cell_type": "markdown",
   "metadata": {},
   "source": [
    "Ten cuidado! Están condicionados a cambios de huso horario (hivierno/verano). "
   ]
  },
  {
   "cell_type": "code",
   "execution_count": null,
   "metadata": {
    "lines_to_next_cell": 0
   },
   "outputs": [],
   "source": [
    "fechahora <- ymd_hms(\"2020-03-28 15:11:23\", tz = \"Europe/Madrid\")\n",
    "fechahora\n",
    "fechahora + dhours(24)"
   ]
  },
  {
   "cell_type": "markdown",
   "metadata": {},
   "source": [
    "###### PERIODOS\n",
    "\n",
    "Ne se miden en segundos si no directamente en la unidad definida."
   ]
  },
  {
   "cell_type": "code",
   "execution_count": null,
   "metadata": {
    "lines_to_next_cell": 0
   },
   "outputs": [],
   "source": [
    "fechahora + hours(24)"
   ]
  },
  {
   "cell_type": "markdown",
   "metadata": {},
   "source": [
    "Ahora ya no hay la problemática del cambio de huso horario.\n"
   ]
  },
  {
   "cell_type": "markdown",
   "metadata": {},
   "source": [
    "#####  FECHAS Y HORARIOS\n",
    "\n",
    "Las fechas y horarios, son una clase compleja. Internamente son de tipo `\"double\"` con dos clases:  `\"POSIXct\"` `\"POSIXt\"`."
   ]
  },
  {
   "cell_type": "code",
   "execution_count": null,
   "metadata": {},
   "outputs": [],
   "source": [
    "a <- Sys.time()\n",
    "a\n",
    "class(a)\n",
    "typeof(a)"
   ]
  },
  {
   "cell_type": "markdown",
   "metadata": {},
   "source": [
    "La clase `\"POSIXct\"` internamente almacena el número de **segundos** transcurridos entre la fecha y las 12:00 AM del 1 de enero de 1970 (en la zona del Tiempo Universal Coordinado (UTC)). Se puede obtener este valor con `unclass()`."
   ]
  },
  {
   "cell_type": "code",
   "execution_count": null,
   "metadata": {},
   "outputs": [],
   "source": [
    "unclass(a)  # muestra el valor interno de a"
   ]
  },
  {
   "cell_type": "markdown",
   "metadata": {},
   "source": [
    "La clase `Date`, almacena sólo la fecha."
   ]
  },
  {
   "cell_type": "code",
   "execution_count": null,
   "metadata": {},
   "outputs": [],
   "source": [
    "b <- as.Date(a)\n",
    "b\n",
    "class(a)\n",
    "typeof(a)"
   ]
  },
  {
   "cell_type": "markdown",
   "metadata": {},
   "source": [
    "La clase `Date` contiene el número de **días** transcurridos des de 1 de enero de 1970."
   ]
  },
  {
   "cell_type": "code",
   "execution_count": null,
   "metadata": {},
   "outputs": [],
   "source": [
    "unclass(b)"
   ]
  },
  {
   "cell_type": "code",
   "execution_count": null,
   "metadata": {},
   "outputs": [],
   "source": []
  },
  {
   "cell_type": "code",
   "execution_count": null,
   "metadata": {},
   "outputs": [],
   "source": []
  },
  {
   "cell_type": "markdown",
   "metadata": {},
   "source": [
    "< [Control de flujo](modulo1_tema4_Py_40_contr_flujo.ipynb) | [Índice](modulo1_tema4_Py_00_indice.ipynb) | [Anexo](modulo1_tema4_Py_60_anexo.ipynb) >\n",
    "\n",
    "<a href=\"https://colab.research.google.com/github/griu/mbdds_fc20/blob/master/Python/modulo1_tema4_Py_50_gest_dat.ipynb\" target=\"_parent\"><img align=\"left\" src=\"https://colab.research.google.com/assets/colab-badge.svg\" alt=\"Open In Colab\" title=\"Abre y Ejecuta en Google Colaboratory\"></a>"
   ]
  }
 ],
 "metadata": {
  "kernelspec": {
   "display_name": "mbdds_rpy20",
   "language": "python",
   "name": "mbdds_rpy20"
  },
  "language_info": {
   "codemirror_mode": {
    "name": "ipython",
    "version": 3
   },
   "file_extension": ".py",
   "mimetype": "text/x-python",
   "name": "python",
   "nbconvert_exporter": "python",
   "pygments_lexer": "ipython3",
   "version": "3.6.9"
  }
 },
 "nbformat": 4,
 "nbformat_minor": 4
}
