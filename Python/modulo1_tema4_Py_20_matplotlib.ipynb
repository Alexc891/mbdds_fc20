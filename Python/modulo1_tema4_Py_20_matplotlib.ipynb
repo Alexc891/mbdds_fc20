{
 "cells": [
  {
   "cell_type": "markdown",
   "metadata": {},
   "source": [
    "<img align=\"left\" style=\"padding-right:10px;\" width=\"150\" src=\"www/320px-Star_Wars_Logo.svg.png\">\n",
    "\n",
    "*Este notebook forma parte del TEMA 1.4. HERRAMIENTAS DE ANÁLISI: PROGRAMACIÓN EN R Y PROGRAMACIÓN EN PYTHON del MÓDULO 1: HERRAMIENTAS BIG DATA del Máster en Big Data & Data Science de la Universitat de Barcelona - IL3 - FORYMAT elaborado por Ferran Carrascosa Mallafrè.*"
   ]
  },
  {
   "cell_type": "markdown",
   "metadata": {},
   "source": [
    "< [Elementos básicos de Python](modulo1_tema4_Py_10_elem_bas.ipynb) | [Índice](modulo1_tema4_Py_00_indice.ipynb) | < [Colecciones de objetos: listas, tuplas y diccionarios](modulo1_tema4_Py_30_colec_obj.ipynb) >\n",
    "\n",
    "<a href=\"https://colab.research.google.com/github/griu/mbdds_fc20/blob/master/Python/modulo1_tema4_Py_20_matplotlib.ipynb\" target=\"_parent\"><img align=\"left\" src=\"https://colab.research.google.com/assets/colab-badge.svg\" alt=\"Open In Colab\" title=\"Abre y Ejecuta en Google Colaboratory\"></a>\n",
    ": Padawan! Cuando inicies sesión en Colab, prepara el entorno ejecutando el siguiente código."
   ]
  },
  {
   "cell_type": "code",
   "execution_count": null,
   "metadata": {},
   "outputs": [],
   "source": [
    "if 'google.colab' in str(get_ipython()):\n",
    "    !git clone https://github.com/griu/mbdds_fc20.git /content/mbdds_fc20\n",
    "    !git -C /content/mbdds_fc20 pull\n",
    "    %cd /content/mbdds_fc20/Python\n",
    "    !python -m pip install -r requirementsColab.txt"
   ]
  },
  {
   "cell_type": "markdown",
   "metadata": {},
   "source": [
    "# GRÁFICOS CON MATPLOTLIB\n",
    "\n",
    "La librería gráfica [Matplotlib](https://matplotlib.org/), concebida por John Hunter en 2002, fué construida sobre objetos numpy (arrays N-dimensionales) y posteriormente adaptada a objetos Pandas (matrices con vectores datos de distintos tipos).\n",
    "\n",
    "Actualmente, se apoya en otras librerías, más simples y de aspecto gráfico modernizado com Seaborn y los mismos Pandas.\n",
    "\n",
    "Los objetos numpy y pandas se expondrán ampliamente en el siguiente apartado, no obstante, dado que el curso presupone ciertos conocimientos de Python, se muestran ahora los gráficos para poder utilizarlos en los siguientes apartados como herramienta.\n",
    "\n",
    "Para importar la librería, habitualmente se importa el submódulo pyplot."
   ]
  },
  {
   "cell_type": "code",
   "execution_count": null,
   "metadata": {},
   "outputs": [],
   "source": [
    "import matplotlib.pyplot as plt"
   ]
  },
  {
   "cell_type": "markdown",
   "metadata": {},
   "source": [
    "##### ACTIVIDAD GUIADA 2.2\n",
    "\n",
    "Consiste en conocer mejor a las especies mediante gráficos. En concreto se puede analizar su altitud, años de vida, clase de especie (mamífero, reptil,...) y en cuantas películas ha salido esa especie.\n",
    "\n",
    ">     «¡No puedes llevar a Su Alteza Real allí! Los Hutts son gangsters ...» \n",
    "    ―Quarsh Panaka. \n",
    "\n",
    "El primer paso consiste en cargar los datos de las especies y extraer las variables."
   ]
  },
  {
   "cell_type": "code",
   "execution_count": null,
   "metadata": {
    "scrolled": true
   },
   "outputs": [],
   "source": [
    "import numpy as np\n",
    "import pandas as pd\n",
    "\n",
    "entidades = ['planets','starships','vehicles','people','species']\n",
    "entidades_df = {x: pd.read_pickle('www/' + x + '_df.pkl') for x in entidades}\n",
    "entidades_df['species'][\"num_peliculas\"] = entidades_df['species'].films.apply(lambda x: len(x))   # numero de peliculas en las que aparece\n",
    "species_df = entidades_df['species'][[\"classification\",\"average_height\",\"average_lifespan\",\"num_peliculas\"]].dropna()\n",
    "\n",
    "\n",
    "nombre = species_df.index.values\n",
    "clasificacion = species_df.classification.values\n",
    "altitud_media = species_df.average_height.values\n",
    "vida_media = species_df.average_lifespan.values\n",
    "num_peliculas = species_df.num_peliculas.values\n",
    "\n",
    "species_df\n"
   ]
  },
  {
   "cell_type": "markdown",
   "metadata": {},
   "source": [
    "Observa como cada fila representa una especie que viene caracterizada por 5 vectores numpy. Para saber más de los numpy ve al capítulo [Colecciones de objetos: numpy](modulo1_tema4_Py_31_numpy.ipynb):\n",
    "\n",
    "- **nombre**: Nombre de la especie.\n",
    "- **clasificacion**: Clasificación de la especie.\n",
    "- **altitud_media**: Altitud media (en cm).\n",
    "- **vida_media**: Vida media en años.\n",
    "- **num_peliculas**: Número de películas en las que aparece esa especie."
   ]
  },
  {
   "cell_type": "markdown",
   "metadata": {},
   "source": [
    "## CONCEPTOS BASICOS EN MATPLOTLIB\n",
    "\n",
    "Se ajusta el estilo que regula el aspecto general del gráfico al seaborn-whitegrid."
   ]
  },
  {
   "cell_type": "code",
   "execution_count": null,
   "metadata": {},
   "outputs": [],
   "source": [
    "plt.style.use('seaborn-whitegrid')"
   ]
  },
  {
   "cell_type": "markdown",
   "metadata": {},
   "source": [
    "Para definir un gráfico librería pyplot cuenta con muchos métodos.\n",
    "\n",
    "Por ejemplo, para construir un gráfico de dispersión se utiliza la función `plt.scatter()`.\n",
    "\n",
    "Veamos la dispersión entre la altitud media de cada especie."
   ]
  },
  {
   "cell_type": "code",
   "execution_count": null,
   "metadata": {},
   "outputs": [],
   "source": [
    "altitud_media # vector x"
   ]
  },
  {
   "cell_type": "markdown",
   "metadata": {},
   "source": [
    "Y el tiempo de vida medio de cada especie."
   ]
  },
  {
   "cell_type": "code",
   "execution_count": null,
   "metadata": {},
   "outputs": [],
   "source": [
    "vida_media # vector y"
   ]
  },
  {
   "cell_type": "markdown",
   "metadata": {},
   "source": [
    "Se especifica tanto el vector `x` como el `y`."
   ]
  },
  {
   "cell_type": "code",
   "execution_count": null,
   "metadata": {},
   "outputs": [],
   "source": [
    "plt.scatter(x=altitud_media,y=vida_media)\n",
    "plt.show();"
   ]
  },
  {
   "cell_type": "markdown",
   "metadata": {},
   "source": [
    "Observa que matplotlib ha añadido un conjunto de elementos como son los ejes con sus marcas o `ticks`. Estos elemntos se configuran en el estilo.\n",
    "\n",
    "Observa también que se ha llamado a la función `plt.show()`. Esta función, ordena la salda del gráfico por pantalla. Es habitual su uso en scripts de python con extensión `.py`.\n",
    "\n",
    "En notebooks, se acostumbra obviar la llamda a `plt.show()`, configurando su salida en pantalla, de forma automática, en cada celda. Para ello, se incuye el comando mágico `%matplotlib inline`, al inicio del notebook."
   ]
  },
  {
   "cell_type": "code",
   "execution_count": null,
   "metadata": {},
   "outputs": [],
   "source": [
    "%matplotlib inline"
   ]
  },
  {
   "cell_type": "markdown",
   "metadata": {},
   "source": [
    "Se puede guardar el grafico con. "
   ]
  },
  {
   "cell_type": "code",
   "execution_count": null,
   "metadata": {},
   "outputs": [],
   "source": [
    "plt.scatter(x=altitud_media,y=vida_media)\n",
    "plt.savefig('www/especies.png');"
   ]
  },
  {
   "cell_type": "markdown",
   "metadata": {},
   "source": [
    "> **Recuerda**: Puedes abrir un fechero .png local con la funcion `image()`."
   ]
  },
  {
   "cell_type": "code",
   "execution_count": null,
   "metadata": {},
   "outputs": [],
   "source": [
    "from IPython.display import Image\n",
    "Image('www/especies.png')"
   ]
  },
  {
   "cell_type": "markdown",
   "metadata": {},
   "source": [
    "## DOS INTERFACES DE GRÁFICOS\n",
    "\n",
    "La definición de un gráfico se peude hacer mediante dos interfaces.\n"
   ]
  },
  {
   "cell_type": "markdown",
   "metadata": {},
   "source": [
    "### EL ESTILO DE MATLAB\n",
    "\n",
    "Pytplot, en un inicio, se diseñó a imagen y semejanza de la libreria gráfica de MATLAB."
   ]
  },
  {
   "cell_type": "code",
   "execution_count": null,
   "metadata": {},
   "outputs": [],
   "source": [
    "plt.figure()  # crea la figura del plot\n",
    "\n",
    "# crea el primer panel y lo configura lo ejes.\n",
    "plt.subplot(2, 1, 1) # (filas, columnas, número de panel)\n",
    "plt.hist(altitud_media, color=\"blue\", label=\"Altitud media\")\n",
    "plt.xlabel(\"cm\",labelpad=-6)  # labelpad desplaça el titulo arriba\n",
    "plt.ylabel(\"N\")\n",
    "plt.legend()\n",
    "\n",
    "# crea el segundo panel y lo configura lo ejes\n",
    "plt.subplot(2, 1, 2)\n",
    "plt.hist(vida_media, color=\"green\", label=\"Vida media\");\n",
    "plt.xlabel(\"años\")\n",
    "plt.ylabel(\"N\")\n",
    "plt.legend();\n"
   ]
  },
  {
   "cell_type": "markdown",
   "metadata": {},
   "source": [
    "Oberva que `plt` va añadiendo elmentos al gráfico actual. Una vez se pasa al segundo panel, volver al primer panel se vuelve un trabajo complejo. Para esto se definió la siguiente interfaz.  "
   ]
  },
  {
   "cell_type": "markdown",
   "metadata": {},
   "source": [
    "### INTERFAZ ORIENTADA A OBJETOS\n",
    "\n",
    "Se separa en figura y ejes. Lo que permite hacer referencia a cualquier gráfico del panel."
   ]
  },
  {
   "cell_type": "code",
   "execution_count": null,
   "metadata": {},
   "outputs": [],
   "source": [
    "# Se crea la parrilla de plots\n",
    "# ax será un vector de 2 objetos Axes\n",
    "fig, ax = plt.subplots(2)\n",
    "\n",
    "\n",
    "# Llama el método plot() sobre el objeto apropiado\n",
    "ax[0].boxplot(altitud_media, vert=False)\n",
    "ax[1].boxplot(vida_media, vert=False)\n",
    "\n",
    "ax[0].set(xlim=(150, 250),\n",
    "       ylabel='Altitud media (cm)',\n",
    "       title='Boxplot')\n",
    "ax[1].set(xlim=(0, 300),\n",
    "       ylabel='Vida media (años)');"
   ]
  },
  {
   "cell_type": "markdown",
   "metadata": {},
   "source": [
    "Para modifcar cada grafico del panel con titulos y leyendas."
   ]
  },
  {
   "cell_type": "markdown",
   "metadata": {},
   "source": [
    "## MARCAS, COLORES Y TAMAÑOS\n",
    "\n",
    "En Matplotlib se pueden personalizar estos elementos, no obstante, resulta algo tedioso. El package Seaborn aporta aquí algunas facilidades como se verá.\n",
    "\n",
    "Veamos un ejemplo de esto."
   ]
  },
  {
   "cell_type": "code",
   "execution_count": null,
   "metadata": {},
   "outputs": [],
   "source": [
    "marcas = ['o', '.', ',', 'x', '+', 'v']\n",
    "for i in range(6):\n",
    "    plt.plot(altitud_media[num_peliculas==i+1], np.log(vida_media[num_peliculas==i+1])\n",
    "             , marcas[i]\n",
    "             , label= str(i+1) + \" pelíc.='{0}'\".format(marcas[i]))\n",
    "plt.legend(numpoints=1, loc=\"lower right\")\n",
    "plt.title(\"Nº películas aparece cada especies de Star Wars\")\n",
    "plt.xlabel(\"Altitud media (cm)\")\n",
    "plt.ylabel(\"log(años de vida media)\")\n",
    "plt.xlim(50, 350);"
   ]
  },
  {
   "cell_type": "markdown",
   "metadata": {},
   "source": [
    "Observa como en cada itearación, se etiqueta el plot con un `label`. De esta forma se van generando elementos que posteriormente se incluyran en la leyenda. El color, en este caso va cambiando en cada iteración por defecto.\n",
    "\n",
    "Ahora un ejemplo donde se modifica la paleta de colores `viridis` y también el tamaño de los tamaños de los puntos.\n",
    "Se incluye una leyenda con la escala continua de colores."
   ]
  },
  {
   "cell_type": "code",
   "execution_count": null,
   "metadata": {},
   "outputs": [],
   "source": [
    "plt.scatter(altitud_media, np.log(vida_media)\n",
    "            , c=num_peliculas, s=100*num_peliculas, alpha=0.3,\n",
    "            cmap='viridis')\n",
    "plt.colorbar();  # Muestra la paleta\n",
    "plt.title(\"Nº películas aparece cada especies de Star Wars\")\n",
    "plt.xlabel(\"Altitud media (cm)\")\n",
    "plt.ylabel(\"log(años de vida media)\");\n"
   ]
  },
  {
   "cell_type": "markdown",
   "metadata": {},
   "source": [
    "Otras paletras intersantes son: `'jet'`, `'RdBu'` y `'cubehelix'`."
   ]
  },
  {
   "cell_type": "markdown",
   "metadata": {},
   "source": [
    "## TEXTOS\n",
    "\n",
    "Para añadir textos a los gráficos hay dos métodos. \n",
    "\n",
    "El primero es `plt.text()` y está orientado simplemente a añadir texto."
   ]
  },
  {
   "cell_type": "code",
   "execution_count": null,
   "metadata": {},
   "outputs": [],
   "source": [
    "# Recuperamos el gráfico de especies\n",
    "plt.scatter(altitud_media, np.log(vida_media)\n",
    "            , c=num_peliculas, s=100*num_peliculas, alpha=0.3,\n",
    "            cmap='viridis')\n",
    "plt.colorbar();  # Muestra la paleta\n",
    "plt.title(\"Nº películas aparece cada especies de Star Wars\")\n",
    "plt.xlabel(\"Altitud media (cm)\")\n",
    "plt.ylabel(\"log(años de vida media)\");\n",
    "\n",
    "# Add labels to the plot\n",
    "style = dict(size=10, color='grey')\n",
    "\n",
    "\n",
    "plt.text(300, np.log(1000), \"Hutt\", **style, ha='right')\n",
    "plt.text(66, np.log(900), \"Yoda's species\", **style, ha='left')\n",
    "plt.text(190, np.log(700), \"Pau'an\", **style, ha='center')\n",
    "plt.text(210, np.log(400), \"Wookie\", **style, ha='center')\n",
    "plt.text(180, np.log(120), \"Human\", **style, ha='center');\n"
   ]
  },
  {
   "cell_type": "markdown",
   "metadata": {},
   "source": [
    "Es relevante observa que hay que añadir los textos de uno en uno, o bién, usando un loop\n",
    "\n",
    "El sigueinte método `.annotate()` permite personalizar la ubicación y flechas."
   ]
  },
  {
   "cell_type": "code",
   "execution_count": null,
   "metadata": {},
   "outputs": [],
   "source": [
    "# Recuperamos el gráfico de especies\n",
    "plt.scatter(altitud_media, np.log(vida_media)\n",
    "            , c=num_peliculas, s=100*num_peliculas, alpha=0.3,\n",
    "            cmap='viridis')\n",
    "plt.colorbar();  # Muestra la paleta\n",
    "plt.title(\"Nº películas aparece cada especies de Star Wars\")\n",
    "plt.xlabel(\"Altitud media (cm)\")\n",
    "plt.ylabel(\"log(años de vida media)\");\n",
    "\n",
    "# Add labels to the plot\n",
    "style = dict(size=10, color='green')\n",
    "\n",
    "for x1,y1,n1 in zip(altitud_media, np.log(vida_media),nombre):\n",
    "    plt.annotate(n1,(x1, y1)\n",
    "             , arrowprops=dict(arrowstyle=\"->\")\n",
    "             , textcoords=\"offset points\" # desplaza el punto\n",
    "             , xytext=(-40,0)  # distancia desplazamiento\n",
    "             , ha='center')   # centrado\n",
    "\n"
   ]
  },
  {
   "cell_type": "markdown",
   "metadata": {},
   "source": [
    "No es muy estético, pero puede ser útil en determiandos casos."
   ]
  },
  {
   "cell_type": "markdown",
   "metadata": {},
   "source": [
    "## Libreria Seaborn\n",
    "\n",
    "Automatiza la generación de gráficos con data frames aprovechando la asignación de nombres a sus filas y columnas.\n",
    "\n",
    "Se carga la libreria y configura el estilo por defecto."
   ]
  },
  {
   "cell_type": "code",
   "execution_count": null,
   "metadata": {},
   "outputs": [],
   "source": [
    "import seaborn as sns\n",
    "sns.set()"
   ]
  },
  {
   "cell_type": "markdown",
   "metadata": {},
   "source": [
    "Vemos que gráfico anterior cambia de estilo."
   ]
  },
  {
   "cell_type": "code",
   "execution_count": null,
   "metadata": {},
   "outputs": [],
   "source": [
    "# Recuperamos el gráfico de especies\n",
    "plt.scatter(altitud_media, np.log(vida_media)\n",
    "            , c=num_peliculas, s=100*num_peliculas, alpha=0.3,\n",
    "            cmap='viridis')\n",
    "plt.colorbar();  # Muestra la paleta\n",
    "plt.title(\"Nº películas aparece cada especies de Star Wars\")\n",
    "plt.xlabel(\"Altitud media (cm)\")\n",
    "plt.ylabel(\"log(años de vida media)\");\n",
    "\n",
    "# Add labels to the plot\n",
    "style = dict(size=10, color=\"grey\")\n",
    "\n",
    "\n",
    "plt.text(300, np.log(1000), \"Hutt\", **style, ha='right')\n",
    "plt.text(66, np.log(900), \"Yoda's species\", **style, ha='left')\n",
    "plt.text(190, np.log(700), \"Pau'an\", **style, ha='center')\n",
    "plt.text(210, np.log(400), \"Wookie\", **style, ha='center')\n",
    "plt.text(180, np.log(120), \"Human\", **style, ha='center');\n"
   ]
  },
  {
   "cell_type": "markdown",
   "metadata": {},
   "source": [
    "Una primera muestra de la posibilidades de Seaborn, para el análsis exploratorio, es el grafico de dipersión 2 a 2."
   ]
  },
  {
   "cell_type": "code",
   "execution_count": null,
   "metadata": {},
   "outputs": [],
   "source": [
    "import warnings\n",
    "warnings.filterwarnings('ignore')   # filtramos warnings para evitar problemas con especies de un individuo.\n",
    "\n",
    "# Especies de mas de un individuo\n",
    "sns.pairplot(species_df, hue=\"classification\", height=2.5);"
   ]
  },
  {
   "cell_type": "markdown",
   "metadata": {},
   "source": [
    "En diagonal se muestra un gráfico de densidad (parecido a un histograma).\n",
    "\n",
    "En el resto de cuadrante, se muestra el grafico de dispersón entre dos variales. Tambié se añade los colores con las especies.  \n",
    "\n",
    "Impresionante!\n",
    "\n",
    "Veamos ahora la facilidad para analizas boxplots."
   ]
  },
  {
   "cell_type": "code",
   "execution_count": null,
   "metadata": {},
   "outputs": [],
   "source": [
    "warnings.filterwarnings('default')   # filtramos warnings para evitar problemas con especies de un individuo.\n",
    "\n",
    "with sns.axes_style(style='ticks'):\n",
    "    g = sns.catplot(\"classification\", \"average_height\", data=species_df, kind=\"box\")\n",
    "    g.set_axis_labels(\"Clase\", \"Altitud media (cm)\");"
   ]
  },
  {
   "cell_type": "markdown",
   "metadata": {},
   "source": [
    "Finalmente vemos el grafico de dispersión donde se ha personalizado el color y marca para cada especie. Tambien el tamaño en función del número de películas.\n",
    "\n",
    "Para hcer el gráfico más visual, sólo se muestran las espécies con menos de 200 años de vida média esperada. "
   ]
  },
  {
   "cell_type": "code",
   "execution_count": null,
   "metadata": {},
   "outputs": [],
   "source": [
    "# Recuperamos el gráfico de especies\n",
    "sns.set(rc={'figure.figsize':(9,7)})\n",
    "cmap = sns.cubehelix_palette(dark=.3, light=.8, as_cmap=True)\n",
    "\n",
    "ax = sns.scatterplot(x='average_height', y='average_lifespan'\n",
    "            , hue='classification', size=\"num_peliculas\" \n",
    "            , style=\"classification\", palette=\"Set2\"\n",
    "            , data=species_df[species_df.average_lifespan<200]);\n",
    "\n",
    "\n",
    "plt.title(\"Nº películas aparece cada especies de Star Wars\")\n",
    "plt.xlabel(\"Altitud media (cm)\")\n",
    "plt.ylabel(\"Años de vida media\");\n",
    "\n",
    "# Add labels to the plot\n",
    "style = dict(size=10, color='grey')\n",
    "\n",
    "for x1,y1,n1 in zip(altitud_media[species_df.average_lifespan<200]\n",
    "                    ,vida_media[species_df.average_lifespan<200]\n",
    "                    ,nombre[species_df.average_lifespan<200]):\n",
    "    plt.annotate(n1,(x1, y1)\n",
    "             , textcoords=\"offset points\" # desplaza el punto\n",
    "             , xytext=(-25,0)  # distancia desplazamiento\n",
    "             , ha='center')   # centrado\n"
   ]
  },
  {
   "cell_type": "markdown",
   "metadata": {},
   "source": [
    "Entremos ahora a profundizar en la forma en que Python trata las coleciones de objetos."
   ]
  },
  {
   "cell_type": "markdown",
   "metadata": {},
   "source": [
    "< [Elementos básicos de Python](modulo1_tema4_Py_10_elem_bas.ipynb) | [Índice](modulo1_tema4_Py_00_indice.ipynb) | < [Colecciones de objetos: listas, tuplas y diccionarios](modulo1_tema4_Py_30_colec_obj.ipynb) >\n",
    "\n",
    "<a href=\"https://colab.research.google.com/github/griu/mbdds_fc20/blob/master/Python/modulo1_tema4_Py_20_matplotlib.ipynb\" target=\"_parent\"><img align=\"left\" src=\"https://colab.research.google.com/assets/colab-badge.svg\" alt=\"Open In Colab\" title=\"Abre y Ejecuta en Google Colaboratory\"></a>"
   ]
  }
 ],
 "metadata": {
  "kernelspec": {
   "display_name": "mbdds_rpy20",
   "language": "python",
   "name": "mbdds_rpy20"
  },
  "language_info": {
   "codemirror_mode": {
    "name": "ipython",
    "version": 3
   },
   "file_extension": ".py",
   "mimetype": "text/x-python",
   "name": "python",
   "nbconvert_exporter": "python",
   "pygments_lexer": "ipython3",
   "version": "3.6.9"
  }
 },
 "nbformat": 4,
 "nbformat_minor": 4
}
