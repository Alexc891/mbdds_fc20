{
 "cells": [
  {
   "cell_type": "markdown",
   "metadata": {},
   "source": [
    "<img align=\"left\" style=\"padding-right:10px;\" width=\"150\" src=\"www/320px-Star_Wars_Logo.svg.png\">\n",
    "\n",
    "*Este notebook forma parte del TEMA 1.4. HERRAMIENTAS DE ANÁLISI: PROGRAMACIÓN EN R Y PROGRAMACIÓN EN PYTHON del MÓDULO 1: HERRAMIENTAS BIG DATA del Máster en Big Data & Data Science de la Universitat de Barcelona - IL3 - FORYMAT elaborado por Ferran Carrascosa Mallafrè.*"
   ]
  },
  {
   "cell_type": "markdown",
   "metadata": {},
   "source": [
    "< [Colecciones de objetos](modulo1_tema4_Py_30_colec_obj.ipynb) | [Índice](modulo1_tema4_Py_00_indice.ipynb) | [Gestión de datos](modulo1_tema4_Py_50_gest_dat.ipynb) >\n",
    "\n",
    "<a href=\"https://colab.research.google.com/github/griu/mbdds_fc20/blob/master/Python/modulo1_tema4_Py_40_contr_flujo.ipynb\" target=\"_parent\"><img align=\"left\" src=\"https://colab.research.google.com/assets/colab-badge.svg\" alt=\"Open In Colab\" title=\"Abre y Ejecuta en Google Colaboratory\"></a>\n",
    ": Padawan! Cuando inicias sesión en Colab, prepara el entorno ejecutando el siguiente código."
   ]
  },
  {
   "cell_type": "code",
   "execution_count": 1,
   "metadata": {},
   "outputs": [],
   "source": [
    "if 'google.colab' in str(get_ipython()):\n",
    "    !git clone https://github.com/griu/mbdds_fc20.git /content/mbdds_fc20\n",
    "    !git -C /content/mbdds_fc20 pull\n",
    "    %cd /content/mbdds_fc20/Python\n",
    "    !python -m pip install -r requirementsColab.txt"
   ]
  },
  {
   "cell_type": "markdown",
   "metadata": {},
   "source": [
    "# CONTROL DE FLUJO ---- PENDIENTE ----"
   ]
  },
  {
   "cell_type": "code",
   "execution_count": null,
   "metadata": {},
   "outputs": [],
   "source": [
    "    FUNCIONES\n",
    "    CONDICIONALES\n",
    "    BUCLES\n",
    "\n"
   ]
  },
  {
   "cell_type": "markdown",
   "metadata": {},
   "source": [
    "\n",
    "## CONTROL DE FLUJO\n",
    "\n",
    "Existen distintos mecanismos para controlar el flujo de un programa. \n",
    "\n",
    "### FUNCIONES\n",
    "\n",
    "Las funciones ayudan a automatizar piezas de nuestro código. \n",
    "\n",
    "Python tiene muchas utilidades para gestionar el flujo.\n",
    "\n",
    "Veamos unos ejemplos simples."
   ]
  },
  {
   "cell_type": "markdown",
   "metadata": {},
   "source": [
    "### CONDICIONALES\n",
    "\n",
    "Una forma de modificar el flujo de un programa, es mediante el uso de expresiones `if-then-else`. Su forma más general sería la sigueinte."
   ]
  },
  {
   "cell_type": "code",
   "execution_count": null,
   "metadata": {},
   "outputs": [],
   "source": [
    "a <- 1\n",
    "b <- 1\n",
    "\n",
    "if (a > b){\n",
    "  print(\"a mayor que b\")\n",
    "} else if (a < b) {\n",
    "  print(\"a menor que b\")\n",
    "} else {\n",
    "  print(\"a igual a b\")\n",
    "}"
   ]
  },
  {
   "cell_type": "markdown",
   "metadata": {},
   "source": [
    "La función `np.where()` se peude utilizar sobre vectores y devuelve un vector."
   ]
  },
  {
   "cell_type": "markdown",
   "metadata": {},
   "source": [
    "### BUCLES\n",
    "\n",
    "En Python los hay multitud de iteradores los más habituales son: iteritem(), enumerate, zip, *zip,\n",
    "\n",
    "\n",
    "- pandas.DataFrame.items\n",
    "- pandas.DataFrame.iteritems\n",
    "- pandas.DataFrame.keys\n",
    "- pandas.DataFrame.iterrows\n",
    "- pandas.DataFrame.itertuples\n",
    "- apply\n",
    "\n",
    "- iteradores sobre objetos numpy, pandas, listas, iteritems, zip.... \n",
    "\n",
    "Si bien existen bucles de tipo `while()` y `repeat`, el más habitual es `for()`. \n",
    "El siguiente ejemplo muestra como calcular el cuadrado de un vector de números con `for()`."
   ]
  },
  {
   "cell_type": "markdown",
   "metadata": {},
   "source": [
    "< [Colecciones de objetos](modulo1_tema4_Py_30_colec_obj.ipynb) | [Índice](modulo1_tema4_Py_00_indice.ipynb) | [Gestión de datos](modulo1_tema4_Py_50_gest_dat.ipynb) >\n",
    "\n",
    "<a href=\"https://colab.research.google.com/github/griu/mbdds_fc20/blob/master/Python/modulo1_tema4_Py_40_contr_flujo.ipynb\" target=\"_parent\"><img align=\"left\" src=\"https://colab.research.google.com/assets/colab-badge.svg\" alt=\"Open In Colab\" title=\"Abre y Ejecuta en Google Colaboratory\"></a>"
   ]
  }
 ],
 "metadata": {
  "kernelspec": {
   "display_name": "mbdds_rpy20",
   "language": "python",
   "name": "mbdds_rpy20"
  },
  "language_info": {
   "codemirror_mode": {
    "name": "ipython",
    "version": 3
   },
   "file_extension": ".py",
   "mimetype": "text/x-python",
   "name": "python",
   "nbconvert_exporter": "python",
   "pygments_lexer": "ipython3",
   "version": "3.6.9"
  }
 },
 "nbformat": 4,
 "nbformat_minor": 4
}
