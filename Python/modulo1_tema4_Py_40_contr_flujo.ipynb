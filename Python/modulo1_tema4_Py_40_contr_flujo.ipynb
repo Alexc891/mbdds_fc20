{
 "cells": [
  {
   "cell_type": "markdown",
   "metadata": {},
   "source": [
    "<img align=\"left\" style=\"padding-right:10px;\" width=\"150\" src=\"www/320px-Star_Wars_Logo.svg.png\">\n",
    "\n",
    "*Este notebook forma parte del TEMA 1.4. HERRAMIENTAS DE ANÁLISI: PROGRAMACIÓN EN R Y PROGRAMACIÓN EN PYTHON del MÓDULO 1: HERRAMIENTAS BIG DATA del Máster en Big Data & Data Science de la Universitat de Barcelona - IL3 - FORYMAT elaborado por Ferran Carrascosa Mallafrè.*"
   ]
  },
  {
   "cell_type": "markdown",
   "metadata": {},
   "source": [
    "< [Colecciones de objetos: pandas](modulo1_tema4_Py_32_pandas.ipynb) | [Índice](modulo1_tema4_Py_00_indice.ipynb) | [Gestión de datos](modulo1_tema4_Py_50_gest_dat.ipynb) >\n",
    "\n",
    "__[Abre en Colab](https://colab.research.google.com/github/griu/mbdds_fc20/blob/master/Python/modulo1_tema4_Py_40_contr_flujo.ipynb)__ *: <span style=\"color:rgba(255, 99, 71, 0.8)\">Padawan! Cuando inicies sesión en Colab, prepara el entorno ejecutando el siguiente código.</span>*"
   ]
  },
  {
   "cell_type": "code",
   "execution_count": 1,
   "metadata": {},
   "outputs": [],
   "source": [
    "if 'google.colab' in str(get_ipython()):\n",
    "    !git clone https://github.com/griu/mbdds_fc20.git /content/mbdds_fc20\n",
    "    !git -C /content/mbdds_fc20 pull\n",
    "    %cd /content/mbdds_fc20/Python\n",
    "    !python -m pip install -r requirementsColab.txt"
   ]
  },
  {
   "cell_type": "markdown",
   "metadata": {},
   "source": [
    "# CONTROL DE FLUJO\n",
    "\n",
    "Las herramientas de control de flujo permiten automatizar tareas. En este capítulo se trabajarán las funciones condicionales y bucles.\n",
    "\n",
    "Para trabajar con datos de ejemplo, a continuación se cargan los datos de planetas vistos en el capítulo de Pandas."
   ]
  },
  {
   "cell_type": "markdown",
   "metadata": {},
   "source": [
    "##### DATOS DE EJEMPLO\n",
    "\n",
    "Este capítulo, utilizara ejemplos de vehículos de Star Wars."
   ]
  },
  {
   "cell_type": "code",
   "execution_count": 2,
   "metadata": {
    "scrolled": false
   },
   "outputs": [
    {
     "data": {
      "text/html": [
       "<div>\n",
       "<style scoped>\n",
       "    .dataframe tbody tr th:only-of-type {\n",
       "        vertical-align: middle;\n",
       "    }\n",
       "\n",
       "    .dataframe tbody tr th {\n",
       "        vertical-align: top;\n",
       "    }\n",
       "\n",
       "    .dataframe thead th {\n",
       "        text-align: right;\n",
       "    }\n",
       "</style>\n",
       "<table border=\"1\" class=\"dataframe\">\n",
       "  <thead>\n",
       "    <tr style=\"text-align: right;\">\n",
       "      <th></th>\n",
       "      <th>cost_in_credits</th>\n",
       "      <th>length</th>\n",
       "      <th>max_atmosphering_speed</th>\n",
       "      <th>crew</th>\n",
       "      <th>cargo_capacity</th>\n",
       "      <th>pilots</th>\n",
       "      <th>films</th>\n",
       "    </tr>\n",
       "    <tr>\n",
       "      <th>name</th>\n",
       "      <th></th>\n",
       "      <th></th>\n",
       "      <th></th>\n",
       "      <th></th>\n",
       "      <th></th>\n",
       "      <th></th>\n",
       "      <th></th>\n",
       "    </tr>\n",
       "  </thead>\n",
       "  <tbody>\n",
       "    <tr>\n",
       "      <th>Sand Crawler</th>\n",
       "      <td>150000.0</td>\n",
       "      <td>36.80</td>\n",
       "      <td>30.0</td>\n",
       "      <td>46</td>\n",
       "      <td>50000.0</td>\n",
       "      <td>[]</td>\n",
       "      <td>[http://swapi.dev/api/films/1/, http://swapi.d...</td>\n",
       "    </tr>\n",
       "    <tr>\n",
       "      <th>T-16 skyhopper</th>\n",
       "      <td>14500.0</td>\n",
       "      <td>10.40</td>\n",
       "      <td>1200.0</td>\n",
       "      <td>1</td>\n",
       "      <td>50.0</td>\n",
       "      <td>[]</td>\n",
       "      <td>[http://swapi.dev/api/films/1/]</td>\n",
       "    </tr>\n",
       "    <tr>\n",
       "      <th>X-34 landspeeder</th>\n",
       "      <td>10550.0</td>\n",
       "      <td>3.40</td>\n",
       "      <td>250.0</td>\n",
       "      <td>1</td>\n",
       "      <td>5.0</td>\n",
       "      <td>[]</td>\n",
       "      <td>[http://swapi.dev/api/films/1/]</td>\n",
       "    </tr>\n",
       "    <tr>\n",
       "      <th>Storm IV Twin-Pod cloud car</th>\n",
       "      <td>75000.0</td>\n",
       "      <td>7.00</td>\n",
       "      <td>1500.0</td>\n",
       "      <td>2</td>\n",
       "      <td>10.0</td>\n",
       "      <td>[]</td>\n",
       "      <td>[http://swapi.dev/api/films/2/]</td>\n",
       "    </tr>\n",
       "    <tr>\n",
       "      <th>Sail barge</th>\n",
       "      <td>285000.0</td>\n",
       "      <td>30.00</td>\n",
       "      <td>100.0</td>\n",
       "      <td>26</td>\n",
       "      <td>2000000.0</td>\n",
       "      <td>[]</td>\n",
       "      <td>[http://swapi.dev/api/films/3/]</td>\n",
       "    </tr>\n",
       "    <tr>\n",
       "      <th>Bantha-II cargo skiff</th>\n",
       "      <td>8000.0</td>\n",
       "      <td>9.50</td>\n",
       "      <td>250.0</td>\n",
       "      <td>5</td>\n",
       "      <td>135000.0</td>\n",
       "      <td>[]</td>\n",
       "      <td>[http://swapi.dev/api/films/3/]</td>\n",
       "    </tr>\n",
       "    <tr>\n",
       "      <th>Imperial Speeder Bike</th>\n",
       "      <td>8000.0</td>\n",
       "      <td>3.00</td>\n",
       "      <td>360.0</td>\n",
       "      <td>1</td>\n",
       "      <td>4.0</td>\n",
       "      <td>[http://swapi.dev/api/people/1/, http://swapi....</td>\n",
       "      <td>[http://swapi.dev/api/films/3/]</td>\n",
       "    </tr>\n",
       "    <tr>\n",
       "      <th>Multi-Troop Transport</th>\n",
       "      <td>138000.0</td>\n",
       "      <td>31.00</td>\n",
       "      <td>35.0</td>\n",
       "      <td>4</td>\n",
       "      <td>12000.0</td>\n",
       "      <td>[]</td>\n",
       "      <td>[http://swapi.dev/api/films/4/]</td>\n",
       "    </tr>\n",
       "    <tr>\n",
       "      <th>C-9979 landing craft</th>\n",
       "      <td>200000.0</td>\n",
       "      <td>210.00</td>\n",
       "      <td>587.0</td>\n",
       "      <td>140</td>\n",
       "      <td>1800000.0</td>\n",
       "      <td>[]</td>\n",
       "      <td>[http://swapi.dev/api/films/4/]</td>\n",
       "    </tr>\n",
       "    <tr>\n",
       "      <th>Sith speeder</th>\n",
       "      <td>4000.0</td>\n",
       "      <td>1.50</td>\n",
       "      <td>180.0</td>\n",
       "      <td>1</td>\n",
       "      <td>2.0</td>\n",
       "      <td>[http://swapi.dev/api/people/44/]</td>\n",
       "      <td>[http://swapi.dev/api/films/4/]</td>\n",
       "    </tr>\n",
       "    <tr>\n",
       "      <th>Zephyr-G swoop bike</th>\n",
       "      <td>5750.0</td>\n",
       "      <td>3.68</td>\n",
       "      <td>350.0</td>\n",
       "      <td>1</td>\n",
       "      <td>200.0</td>\n",
       "      <td>[http://swapi.dev/api/people/11/]</td>\n",
       "      <td>[http://swapi.dev/api/films/5/]</td>\n",
       "    </tr>\n",
       "    <tr>\n",
       "      <th>Tsmeu-6 personal wheel bike</th>\n",
       "      <td>15000.0</td>\n",
       "      <td>3.50</td>\n",
       "      <td>330.0</td>\n",
       "      <td>1</td>\n",
       "      <td>10.0</td>\n",
       "      <td>[http://swapi.dev/api/people/79/]</td>\n",
       "      <td>[http://swapi.dev/api/films/6/]</td>\n",
       "    </tr>\n",
       "    <tr>\n",
       "      <th>Droid tri-fighter</th>\n",
       "      <td>20000.0</td>\n",
       "      <td>5.40</td>\n",
       "      <td>1180.0</td>\n",
       "      <td>1</td>\n",
       "      <td>0.0</td>\n",
       "      <td>[]</td>\n",
       "      <td>[http://swapi.dev/api/films/6/]</td>\n",
       "    </tr>\n",
       "    <tr>\n",
       "      <th>Oevvaor jet catamaran</th>\n",
       "      <td>12125.0</td>\n",
       "      <td>15.10</td>\n",
       "      <td>420.0</td>\n",
       "      <td>2</td>\n",
       "      <td>50.0</td>\n",
       "      <td>[]</td>\n",
       "      <td>[http://swapi.dev/api/films/6/]</td>\n",
       "    </tr>\n",
       "    <tr>\n",
       "      <th>Raddaugh Gnasp fluttercraft</th>\n",
       "      <td>14750.0</td>\n",
       "      <td>7.00</td>\n",
       "      <td>310.0</td>\n",
       "      <td>2</td>\n",
       "      <td>20.0</td>\n",
       "      <td>[]</td>\n",
       "      <td>[http://swapi.dev/api/films/6/]</td>\n",
       "    </tr>\n",
       "    <tr>\n",
       "      <th>Clone turbo tank</th>\n",
       "      <td>350000.0</td>\n",
       "      <td>49.40</td>\n",
       "      <td>160.0</td>\n",
       "      <td>20</td>\n",
       "      <td>30000.0</td>\n",
       "      <td>[]</td>\n",
       "      <td>[http://swapi.dev/api/films/6/]</td>\n",
       "    </tr>\n",
       "    <tr>\n",
       "      <th>Droid gunship</th>\n",
       "      <td>60000.0</td>\n",
       "      <td>12.30</td>\n",
       "      <td>820.0</td>\n",
       "      <td>0</td>\n",
       "      <td>0.0</td>\n",
       "      <td>[]</td>\n",
       "      <td>[http://swapi.dev/api/films/6/]</td>\n",
       "    </tr>\n",
       "    <tr>\n",
       "      <th>AT-RT</th>\n",
       "      <td>40000.0</td>\n",
       "      <td>3.20</td>\n",
       "      <td>90.0</td>\n",
       "      <td>1</td>\n",
       "      <td>20.0</td>\n",
       "      <td>[]</td>\n",
       "      <td>[http://swapi.dev/api/films/6/]</td>\n",
       "    </tr>\n",
       "  </tbody>\n",
       "</table>\n",
       "</div>"
      ],
      "text/plain": [
       "                             cost_in_credits  length  max_atmosphering_speed  \\\n",
       "name                                                                           \n",
       "Sand Crawler                        150000.0   36.80                    30.0   \n",
       "T-16 skyhopper                       14500.0   10.40                  1200.0   \n",
       "X-34 landspeeder                     10550.0    3.40                   250.0   \n",
       "Storm IV Twin-Pod cloud car          75000.0    7.00                  1500.0   \n",
       "Sail barge                          285000.0   30.00                   100.0   \n",
       "Bantha-II cargo skiff                 8000.0    9.50                   250.0   \n",
       "Imperial Speeder Bike                 8000.0    3.00                   360.0   \n",
       "Multi-Troop Transport               138000.0   31.00                    35.0   \n",
       "C-9979 landing craft                200000.0  210.00                   587.0   \n",
       "Sith speeder                          4000.0    1.50                   180.0   \n",
       "Zephyr-G swoop bike                   5750.0    3.68                   350.0   \n",
       "Tsmeu-6 personal wheel bike          15000.0    3.50                   330.0   \n",
       "Droid tri-fighter                    20000.0    5.40                  1180.0   \n",
       "Oevvaor jet catamaran                12125.0   15.10                   420.0   \n",
       "Raddaugh Gnasp fluttercraft          14750.0    7.00                   310.0   \n",
       "Clone turbo tank                    350000.0   49.40                   160.0   \n",
       "Droid gunship                        60000.0   12.30                   820.0   \n",
       "AT-RT                                40000.0    3.20                    90.0   \n",
       "\n",
       "                             crew  cargo_capacity  \\\n",
       "name                                                \n",
       "Sand Crawler                   46         50000.0   \n",
       "T-16 skyhopper                  1            50.0   \n",
       "X-34 landspeeder                1             5.0   \n",
       "Storm IV Twin-Pod cloud car     2            10.0   \n",
       "Sail barge                     26       2000000.0   \n",
       "Bantha-II cargo skiff           5        135000.0   \n",
       "Imperial Speeder Bike           1             4.0   \n",
       "Multi-Troop Transport           4         12000.0   \n",
       "C-9979 landing craft          140       1800000.0   \n",
       "Sith speeder                    1             2.0   \n",
       "Zephyr-G swoop bike             1           200.0   \n",
       "Tsmeu-6 personal wheel bike     1            10.0   \n",
       "Droid tri-fighter               1             0.0   \n",
       "Oevvaor jet catamaran           2            50.0   \n",
       "Raddaugh Gnasp fluttercraft     2            20.0   \n",
       "Clone turbo tank               20         30000.0   \n",
       "Droid gunship                   0             0.0   \n",
       "AT-RT                           1            20.0   \n",
       "\n",
       "                                                                        pilots  \\\n",
       "name                                                                             \n",
       "Sand Crawler                                                                []   \n",
       "T-16 skyhopper                                                              []   \n",
       "X-34 landspeeder                                                            []   \n",
       "Storm IV Twin-Pod cloud car                                                 []   \n",
       "Sail barge                                                                  []   \n",
       "Bantha-II cargo skiff                                                       []   \n",
       "Imperial Speeder Bike        [http://swapi.dev/api/people/1/, http://swapi....   \n",
       "Multi-Troop Transport                                                       []   \n",
       "C-9979 landing craft                                                        []   \n",
       "Sith speeder                                 [http://swapi.dev/api/people/44/]   \n",
       "Zephyr-G swoop bike                          [http://swapi.dev/api/people/11/]   \n",
       "Tsmeu-6 personal wheel bike                  [http://swapi.dev/api/people/79/]   \n",
       "Droid tri-fighter                                                           []   \n",
       "Oevvaor jet catamaran                                                       []   \n",
       "Raddaugh Gnasp fluttercraft                                                 []   \n",
       "Clone turbo tank                                                            []   \n",
       "Droid gunship                                                               []   \n",
       "AT-RT                                                                       []   \n",
       "\n",
       "                                                                         films  \n",
       "name                                                                            \n",
       "Sand Crawler                 [http://swapi.dev/api/films/1/, http://swapi.d...  \n",
       "T-16 skyhopper                                 [http://swapi.dev/api/films/1/]  \n",
       "X-34 landspeeder                               [http://swapi.dev/api/films/1/]  \n",
       "Storm IV Twin-Pod cloud car                    [http://swapi.dev/api/films/2/]  \n",
       "Sail barge                                     [http://swapi.dev/api/films/3/]  \n",
       "Bantha-II cargo skiff                          [http://swapi.dev/api/films/3/]  \n",
       "Imperial Speeder Bike                          [http://swapi.dev/api/films/3/]  \n",
       "Multi-Troop Transport                          [http://swapi.dev/api/films/4/]  \n",
       "C-9979 landing craft                           [http://swapi.dev/api/films/4/]  \n",
       "Sith speeder                                   [http://swapi.dev/api/films/4/]  \n",
       "Zephyr-G swoop bike                            [http://swapi.dev/api/films/5/]  \n",
       "Tsmeu-6 personal wheel bike                    [http://swapi.dev/api/films/6/]  \n",
       "Droid tri-fighter                              [http://swapi.dev/api/films/6/]  \n",
       "Oevvaor jet catamaran                          [http://swapi.dev/api/films/6/]  \n",
       "Raddaugh Gnasp fluttercraft                    [http://swapi.dev/api/films/6/]  \n",
       "Clone turbo tank                               [http://swapi.dev/api/films/6/]  \n",
       "Droid gunship                                  [http://swapi.dev/api/films/6/]  \n",
       "AT-RT                                          [http://swapi.dev/api/films/6/]  "
      ]
     },
     "execution_count": 2,
     "metadata": {},
     "output_type": "execute_result"
    }
   ],
   "source": [
    "%matplotlib inline\n",
    "import numpy as np\n",
    "import pandas as pd\n",
    "import matplotlib.pyplot as plt\n",
    "import seaborn as sns; sns.set()  # para el estilo de graficos\n",
    "\n",
    "entidades = ['planets','starships','vehicles','people','species']\n",
    "entidades_df = {x: pd.read_pickle('www/' + x + '_df.pkl') for x in entidades}\n",
    "vehicles_df = entidades_df['vehicles'][[\"cost_in_credits\",\"length\",\"max_atmosphering_speed\"\n",
    "                                        ,\"crew\",\"cargo_capacity\",\"pilots\",\"films\"]].dropna()\n",
    "\n",
    "vehicles_df"
   ]
  },
  {
   "cell_type": "markdown",
   "metadata": {},
   "source": [
    "## FUNCIONES\n",
    "\n",
    "Hagamos un breve repaso sobre lo que se ha tratado hasta el momento respecto a las funciones en Python. \n",
    "\n",
    "Se ha introducido el concepto de función en Python en el capítulo de [Elementos básicos de Python](modulo1_tema4_Py_10_elem_bas.ipynb). \n",
    "\n",
    "A continuación, en el capítulo de [Listas, tuplas y diccionarios](modulo1_tema4_Py_30_colec_obj.ipynb), se ha explicado la posibilidad de devolver varios elementos a la vez en forma de tuplas.\n",
    "\n",
    "En [numpy](modulo1_tema4_Py_31_numpy.ipynb) se han explicado las funciones universales (ufunc), como una grupo de funciones que vectorizan al aplicarse sobre los elementos de los array numpy. \n",
    "\n",
    "Finalmente, en [pandas](modulo1_tema4_Py_32_pandas.ipynb), se ha comentado la posibilidad de aplicar las funciones universales de numpy a objetos pandas (Series y DataFrame) y como estas funciones respetan los índices fila y columna. También se ha comentado el alineamiento de los índices cuando se realizan operaciones aritméticas entre dos objetos pandas.\n",
    "\n",
    "En el capítulo de gestión de datos, se tratará 2 conceptos adicionales sobre las funciones.\n",
    "\n",
    "Por un lado, se verá como vectorizar cualquier tipo de función, sobre los elementos de los objetos pandas, a través de la función apply.\n",
    "\n",
    "> **Recuerda**: En el tema de R las funciones apply ya se definieron con la misma finalidad.\n",
    "\n",
    "El segundo concepto, van a ser las funciones de agregación (suma, media, cuantiles...). Éstas se definirán primero sobre objetos numpy y posteriormente sobre pandas.\n",
    "\n",
    "La combinación de ambos conceptos, funciones vectorizadas y funciones de agregación sobre objetos pandas, van a terminar de rellenar tu caja de herramientas para poder iniciarte en data science."
   ]
  },
  {
   "cell_type": "markdown",
   "metadata": {},
   "source": [
    "## CONDICIONALES\n",
    "\n",
    "Hagamos también aquí un breve repaso de los aspectos que ya se han comentado respecto a estructuras condicionales.\n",
    "\n",
    "En el capítulo de los [Elementos básicos de Python](modulo1_tema4_Py_10_elem_bas.ipynb) se ha introducido la estructura básica *if-else*. \n",
    "\n",
    "En el capítulo [Listas, tuplas y diccionarios](modulo1_tema4_Py_30_colec_obj.ipynb) se ha utilizado la escritura i-else en las *list comprehension*."
   ]
  },
  {
   "cell_type": "code",
   "execution_count": 3,
   "metadata": {},
   "outputs": [
    {
     "data": {
      "text/plain": [
       "[0, 2, 4]"
      ]
     },
     "execution_count": 3,
     "metadata": {},
     "output_type": "execute_result"
    }
   ],
   "source": [
    "[x for x in range(5) if x%2==0]  # lista de pares menores a 5"
   ]
  },
  {
   "cell_type": "markdown",
   "metadata": {},
   "source": [
    "Los capítulos de [Numpy](modulo1_tema4_Py_31_numpy.ipynb) y [Pandas](modulo1_tema4_Py_32_pandas.ipynb) también han servido para tratar los filtros, como un forma de operaciones condicionales sobre vectores y data frames.\n",
    "\n",
    "Una nueva forma de realizar transformaciones condicionales con arrays numpy y series pandas es `np.where()`.\n",
    "\n",
    "Por ejemplo, veamos la siguiente variable *crew* que nos informa del número de tripulantes que puede llevar como máximo un vehículo. "
   ]
  },
  {
   "cell_type": "code",
   "execution_count": 4,
   "metadata": {},
   "outputs": [
    {
     "data": {
      "text/html": [
       "<div>\n",
       "<style scoped>\n",
       "    .dataframe tbody tr th:only-of-type {\n",
       "        vertical-align: middle;\n",
       "    }\n",
       "\n",
       "    .dataframe tbody tr th {\n",
       "        vertical-align: top;\n",
       "    }\n",
       "\n",
       "    .dataframe thead th {\n",
       "        text-align: right;\n",
       "    }\n",
       "</style>\n",
       "<table border=\"1\" class=\"dataframe\">\n",
       "  <thead>\n",
       "    <tr style=\"text-align: right;\">\n",
       "      <th></th>\n",
       "      <th>crew</th>\n",
       "    </tr>\n",
       "    <tr>\n",
       "      <th>name</th>\n",
       "      <th></th>\n",
       "    </tr>\n",
       "  </thead>\n",
       "  <tbody>\n",
       "    <tr>\n",
       "      <th>Sand Crawler</th>\n",
       "      <td>46</td>\n",
       "    </tr>\n",
       "    <tr>\n",
       "      <th>T-16 skyhopper</th>\n",
       "      <td>1</td>\n",
       "    </tr>\n",
       "    <tr>\n",
       "      <th>X-34 landspeeder</th>\n",
       "      <td>1</td>\n",
       "    </tr>\n",
       "    <tr>\n",
       "      <th>Storm IV Twin-Pod cloud car</th>\n",
       "      <td>2</td>\n",
       "    </tr>\n",
       "    <tr>\n",
       "      <th>Sail barge</th>\n",
       "      <td>26</td>\n",
       "    </tr>\n",
       "  </tbody>\n",
       "</table>\n",
       "</div>"
      ],
      "text/plain": [
       "                             crew\n",
       "name                             \n",
       "Sand Crawler                   46\n",
       "T-16 skyhopper                  1\n",
       "X-34 landspeeder                1\n",
       "Storm IV Twin-Pod cloud car     2\n",
       "Sail barge                     26"
      ]
     },
     "execution_count": 4,
     "metadata": {},
     "output_type": "execute_result"
    }
   ],
   "source": [
    "vehicles_df[['crew']].head()"
   ]
  },
  {
   "cell_type": "markdown",
   "metadata": {},
   "source": [
    "Para transformar esta variable en una nueva que indique si un vehículo puede llevar 1, 2 o 3 o más tripulantes."
   ]
  },
  {
   "cell_type": "code",
   "execution_count": 5,
   "metadata": {},
   "outputs": [
    {
     "data": {
      "text/html": [
       "<div>\n",
       "<style scoped>\n",
       "    .dataframe tbody tr th:only-of-type {\n",
       "        vertical-align: middle;\n",
       "    }\n",
       "\n",
       "    .dataframe tbody tr th {\n",
       "        vertical-align: top;\n",
       "    }\n",
       "\n",
       "    .dataframe thead th {\n",
       "        text-align: right;\n",
       "    }\n",
       "</style>\n",
       "<table border=\"1\" class=\"dataframe\">\n",
       "  <thead>\n",
       "    <tr style=\"text-align: right;\">\n",
       "      <th></th>\n",
       "      <th>crew</th>\n",
       "      <th>crew_r</th>\n",
       "    </tr>\n",
       "    <tr>\n",
       "      <th>name</th>\n",
       "      <th></th>\n",
       "      <th></th>\n",
       "    </tr>\n",
       "  </thead>\n",
       "  <tbody>\n",
       "    <tr>\n",
       "      <th>Sand Crawler</th>\n",
       "      <td>46</td>\n",
       "      <td>3</td>\n",
       "    </tr>\n",
       "    <tr>\n",
       "      <th>T-16 skyhopper</th>\n",
       "      <td>1</td>\n",
       "      <td>1</td>\n",
       "    </tr>\n",
       "    <tr>\n",
       "      <th>X-34 landspeeder</th>\n",
       "      <td>1</td>\n",
       "      <td>1</td>\n",
       "    </tr>\n",
       "    <tr>\n",
       "      <th>Storm IV Twin-Pod cloud car</th>\n",
       "      <td>2</td>\n",
       "      <td>2</td>\n",
       "    </tr>\n",
       "    <tr>\n",
       "      <th>Sail barge</th>\n",
       "      <td>26</td>\n",
       "      <td>3</td>\n",
       "    </tr>\n",
       "  </tbody>\n",
       "</table>\n",
       "</div>"
      ],
      "text/plain": [
       "                             crew  crew_r\n",
       "name                                     \n",
       "Sand Crawler                   46       3\n",
       "T-16 skyhopper                  1       1\n",
       "X-34 landspeeder                1       1\n",
       "Storm IV Twin-Pod cloud car     2       2\n",
       "Sail barge                     26       3"
      ]
     },
     "execution_count": 5,
     "metadata": {},
     "output_type": "execute_result"
    }
   ],
   "source": [
    "vehicles_df['crew_r'] = np.where(vehicles_df.crew<3, vehicles_df.crew, 3)\n",
    "vehicles_df[['crew','crew_r']].head()"
   ]
  },
  {
   "cell_type": "markdown",
   "metadata": {},
   "source": [
    "> **Observa**: esta función de numpy pertenece a las funciones ufunc, ya que aplica elemento a elemento. Observa también que se ha aplicado a una serie de un DataFrame, obteniendo una nueva serie."
   ]
  },
  {
   "cell_type": "markdown",
   "metadata": {},
   "source": [
    "## BUCLES\n",
    "\n",
    "Los bucles for, se han tratado de forma básica en las *list comprehension* del capítulo de [Listas, tuplas y diccionarios](modulo1_tema4_Py_30_colec_obj.ipynb).\n",
    "\n",
    "Una forma de definir bucles con for es a través de listas, diccionarios."
   ]
  },
  {
   "cell_type": "code",
   "execution_count": 6,
   "metadata": {},
   "outputs": [
    {
     "name": "stdout",
     "output_type": "stream",
     "text": [
      "Hay 8 vehiculos con 1 tripulante\n",
      "Hay 3 vehiculos con 2 tripulantes\n",
      "Hay 6 vehiculos con 3 o más tripulantes\n"
     ]
    }
   ],
   "source": [
    "crew_list = [1,2,3]\n",
    "for n_crew in crew_list:\n",
    "    \n",
    "    n_vehi = vehicles_df[vehicles_df.crew_r == n_crew].shape[0]\n",
    "    \n",
    "    if n_vehi == 1:\n",
    "        txt_vehicles = 'vehículo'\n",
    "    else:\n",
    "        txt_vehicles = 'vehiculos'\n",
    "    \n",
    "    txt_crew = 'tripulante'\n",
    "    if n_crew != 1:\n",
    "        txt_crew = txt_crew + 's'\n",
    "    \n",
    "    txt_n_crew = str(n_crew)\n",
    "    if n_crew==3:\n",
    "        txt_n_crew = txt_n_crew + ' o más'\n",
    "    \n",
    "    print(\"Hay {} {} con {} {}\".format(n_vehi, txt_vehicles, txt_n_crew, txt_crew))"
   ]
  },
  {
   "cell_type": "markdown",
   "metadata": {},
   "source": [
    "Este bucle recorre la lista `n_crew` y nos indica el número de vehículos con esa cantidad de tripulantes.\n",
    "\n",
    "Cuando se recorre un diccionario con un `for`, por defecto, éste lo hace por sus claves."
   ]
  },
  {
   "cell_type": "code",
   "execution_count": 7,
   "metadata": {},
   "outputs": [
    {
     "name": "stdout",
     "output_type": "stream",
     "text": [
      "un\n",
      "dos\n",
      "3 o más\n"
     ]
    }
   ],
   "source": [
    "vehiculos_tripulantes = {'un': 8, 'dos': 3, '3 o más': 6}\n",
    "\n",
    "for x in vehiculos_tripulantes:\n",
    "    print(x)"
   ]
  },
  {
   "cell_type": "markdown",
   "metadata": {},
   "source": [
    "Se puede iterar sobre la tupla `(clave,valor)` con `.items()`"
   ]
  },
  {
   "cell_type": "code",
   "execution_count": 8,
   "metadata": {},
   "outputs": [
    {
     "name": "stdout",
     "output_type": "stream",
     "text": [
      "Hay 8 vehículo/s con un tripulante/s\n",
      "Hay 3 vehículo/s con dos tripulante/s\n",
      "Hay 6 vehículo/s con 3 o más tripulante/s\n"
     ]
    }
   ],
   "source": [
    "for txt_n_crew, n_vehi in vehiculos_tripulantes.items():\n",
    "    print(\"Hay\",n_vehi,\"vehículo/s con\",txt_n_crew, \"tripulante/s\")"
   ]
  },
  {
   "cell_type": "markdown",
   "metadata": {},
   "source": [
    "Los bucles con numpy, tienen una lógica simétrica a las listas. \n",
    "\n",
    "Para poder recorrer 2 colecciones de objetos (listas, diccionarios, numpy, series...) con el mismo número de elementos de forma correlativa se utiliza la función `zip()`."
   ]
  },
  {
   "cell_type": "code",
   "execution_count": 9,
   "metadata": {},
   "outputs": [
    {
     "name": "stdout",
     "output_type": "stream",
     "text": [
      "Hay 8 vehículo/s con 1 tripulante/s\n",
      "Hay 3 vehículo/s con 2 tripulante/s\n",
      "Hay 6 vehículo/s con 3 o más tripulante/s\n"
     ]
    }
   ],
   "source": [
    "a = [1,2,3]\n",
    "b = [8,3,6]\n",
    "\n",
    "for x,y in zip(a,b):\n",
    "    print(\"Hay\",y,\"vehículo/s con\",[x if x<3 else '3 o más'][0], \"tripulante/s\")"
   ]
  },
  {
   "cell_type": "markdown",
   "metadata": {},
   "source": [
    "Para iterar **por columnas** de un DataFrame se utiliza `.iteritems()`. En cada iteración se obtiene la tupla`(nombre columna, Serie Columna)`. "
   ]
  },
  {
   "cell_type": "code",
   "execution_count": 10,
   "metadata": {
    "scrolled": true
   },
   "outputs": [
    {
     "name": "stdout",
     "output_type": "stream",
     "text": [
      "cost_in_credits , tiene tipo: float64\n",
      "length , tiene tipo: float64\n",
      "max_atmosphering_speed , tiene tipo: float64\n",
      "crew , tiene tipo: int64\n",
      "cargo_capacity , tiene tipo: float64\n",
      "pilots , tiene tipo: object\n",
      "films , tiene tipo: object\n",
      "crew_r , tiene tipo: int64\n"
     ]
    }
   ],
   "source": [
    "for nombreCol,variable in vehicles_df.iteritems():\n",
    "    print(nombreCol,\", tiene tipo:\",variable.dtype)"
   ]
  },
  {
   "cell_type": "markdown",
   "metadata": {},
   "source": [
    "De la misma forma, pero ahora iterando un DataFrame **por filas** con `.iterrows()`."
   ]
  },
  {
   "cell_type": "code",
   "execution_count": 11,
   "metadata": {},
   "outputs": [
    {
     "name": "stdout",
     "output_type": "stream",
     "text": [
      "Sand Crawler , cuesta: 150000.0  y mide: 36.8 metros\n",
      "T-16 skyhopper , cuesta: 14500.0  y mide: 10.4 metros\n"
     ]
    }
   ],
   "source": [
    "for nombre,fila in vehicles_df.iloc[0:2,0:2].iterrows():\n",
    "    print(nombre,\", cuesta:\",fila.cost_in_credits,\" y mide:\",fila.length , \"metros\")\n"
   ]
  },
  {
   "cell_type": "markdown",
   "metadata": {},
   "source": [
    "< [Colecciones de objetos: pandas](modulo1_tema4_Py_32_pandas.ipynb) | [Índice](modulo1_tema4_Py_00_indice.ipynb) | [Gestión de datos](modulo1_tema4_Py_50_gest_dat.ipynb) >\n",
    "\n",
    "__[Abre en Colab](https://colab.research.google.com/github/griu/mbdds_fc20/blob/master/Python/modulo1_tema4_Py_40_contr_flujo.ipynb)__"
   ]
  }
 ],
 "metadata": {
  "kernelspec": {
   "display_name": "mbdds_rpy20",
   "language": "python",
   "name": "mbdds_rpy20"
  },
  "language_info": {
   "codemirror_mode": {
    "name": "ipython",
    "version": 3
   },
   "file_extension": ".py",
   "mimetype": "text/x-python",
   "name": "python",
   "nbconvert_exporter": "python",
   "pygments_lexer": "ipython3",
   "version": "3.6.9"
  }
 },
 "nbformat": 4,
 "nbformat_minor": 4
}
