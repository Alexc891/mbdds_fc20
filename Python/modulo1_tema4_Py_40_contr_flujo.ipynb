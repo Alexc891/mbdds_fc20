{
 "cells": [
  {
   "cell_type": "markdown",
   "metadata": {},
   "source": [
    "<img align=\"left\" style=\"padding-right:10px;\" width=\"150\" src=\"www/320px-Star_Wars_Logo.svg.png\">\n",
    "\n",
    "*Este notebook forma parte del TEMA 1.4. HERRAMIENTAS DE ANÁLISI: PROGRAMACIÓN EN R Y PROGRAMACIÓN EN PYTHON del MÓDULO 1: HERRAMIENTAS BIG DATA del Máster en Big Data & Data Science de la Universitat de Barcelona - IL3 - FORYMAT elaborado por Ferran Carrascosa Mallafrè.*"
   ]
  },
  {
   "cell_type": "markdown",
   "metadata": {},
   "source": [
    "< [Colecciones de objetos: pandas](modulo1_tema4_Py_32_pandas.ipynb) | [Índice](modulo1_tema4_Py_00_indice.ipynb) | [Gestión de datos](modulo1_tema4_Py_50_gest_dat.ipynb) >\n",
    "\n",
    "__[Abre en Colab](https://colab.research.google.com/github/griu/mbdds_fc20/blob/master/Python/modulo1_tema4_Py_40_contr_flujo.ipynb)__ *: <span style=\"color:rgba(255, 99, 71, 0.8)\">Padawan! Cuando inicies sesión en Colab, prepara el entorno ejecutando el siguiente código.</span>*"
   ]
  },
  {
   "cell_type": "code",
   "execution_count": null,
   "metadata": {},
   "outputs": [],
   "source": [
    "if 'google.colab' in str(get_ipython()):\n",
    "    !git clone https://github.com/griu/mbdds_fc20.git /content/mbdds_fc20\n",
    "    !git -C /content/mbdds_fc20 pull\n",
    "    %cd /content/mbdds_fc20/Python\n",
    "    !python -m pip install -r requirementsColab.txt"
   ]
  },
  {
   "cell_type": "markdown",
   "metadata": {},
   "source": [
    "# CONTROL DE FLUJO\n",
    "\n",
    "Las herramientas de control de flujo permiten automatizar tareas. En este capítulo se trabajarán las funciones condicionales y bucles.\n",
    "\n",
    "Para trabajar con datos de ejemplo, a continuación se cargan los datos de planetas vistos en el capítulo de Pandas."
   ]
  },
  {
   "cell_type": "markdown",
   "metadata": {},
   "source": [
    "##### DATOS DE EJEMPLO\n",
    "\n",
    "Este capítulo, utilizara ejemplos de vehículos de Star Wars."
   ]
  },
  {
   "cell_type": "code",
   "execution_count": null,
   "metadata": {
    "scrolled": false
   },
   "outputs": [],
   "source": [
    "%matplotlib inline\n",
    "import numpy as np\n",
    "import pandas as pd\n",
    "import matplotlib.pyplot as plt\n",
    "import seaborn as sns; sns.set()  # para el estilo de graficos\n",
    "\n",
    "entidades = ['planets','starships','vehicles','people','species']\n",
    "entidades_df = {x: pd.read_pickle('www/' + x + '_df.pkl') for x in entidades}\n",
    "vehicles_df = entidades_df['vehicles'][[\"cost_in_credits\",\"length\",\"max_atmosphering_speed\"\n",
    "                                        ,\"crew\",\"cargo_capacity\",\"pilots\",\"films\"]].dropna()\n",
    "\n",
    "vehicles_df"
   ]
  },
  {
   "cell_type": "markdown",
   "metadata": {},
   "source": [
    "## FUNCIONES\n",
    "\n",
    "Hagamos un breve repaso sobre lo que se ha tratado hasta el momento respecto a las funciones en Python. \n",
    "\n",
    "Se ha introducido el concepto de función en Python en el capítulo de [Elementos básicos de Python](modulo1_tema4_Py_10_elem_bas.ipynb). \n",
    "\n",
    "A continuación, en el capítulo de [Listas, tuplas y diccionarios](modulo1_tema4_Py_30_colec_obj.ipynb), se ha explicado la posibilidad de devolver varios elementos a la vez en forma de tuplas.\n",
    "\n",
    "En [numpy](modulo1_tema4_Py_31_numpy.ipynb) se han explicado las funciones universales (ufunc), como una grupo de funciones que vectorizan al aplicarse sobre los elementos de los array numpy. \n",
    "\n",
    "Finalmente, en [pandas](modulo1_tema4_Py_32_pandas.ipynb), se ha comentado la posibilidad de aplicar las funciones universales de numpy a objetos pandas (Series y DataFrame) y como estas funciones respetan los índices fila y columna. También se ha comentado el alineamiento de los índices cuando se realizan operaciones aritméticas entre dos objetos pandas.\n",
    "\n",
    "En el capítulo de gestión de datos, se tratará 2 conceptos adicionales sobre las funciones.\n",
    "\n",
    "Por un lado, se verá como vectorizar cualquier tipo de función, sobre los elementos de los objetos pandas, a través de la función apply.\n",
    "\n",
    "> **Recuerda**: En el tema de R las funciones apply ya se definieron con la misma finalidad.\n",
    "\n",
    "El segundo concepto, van a ser las funciones de agregación (suma, media, cuantiles...). Éstas se definirán primero sobre objetos numpy y posteriormente sobre pandas.\n",
    "\n",
    "La combinación de ambos conceptos, funciones vectorizadas y funciones de agregación sobre objetos pandas, van a terminar de rellenar tu caja de herramientas para poder iniciarte en data science."
   ]
  },
  {
   "cell_type": "markdown",
   "metadata": {},
   "source": [
    "## CONDICIONALES\n",
    "\n",
    "Hagamos también aquí un breve repaso de los aspectos que ya se han comentado respecto a estructuras condicionales.\n",
    "\n",
    "En el capítulo de los [Elementos básicos de Python](modulo1_tema4_Py_10_elem_bas.ipynb) se ha introducido la estructura básica *if-else*. \n",
    "\n",
    "En el capítulo [Listas, tuplas y diccionarios](modulo1_tema4_Py_30_colec_obj.ipynb) se ha utilizado la escritura i-else en las *list comprehension*."
   ]
  },
  {
   "cell_type": "code",
   "execution_count": null,
   "metadata": {},
   "outputs": [],
   "source": [
    "[x for x in range(5) if x%2==0]  # lista de pares menores a 5"
   ]
  },
  {
   "cell_type": "markdown",
   "metadata": {},
   "source": [
    "Los capítulos de [Numpy](modulo1_tema4_Py_31_numpy.ipynb) y [Pandas](modulo1_tema4_Py_32_pandas.ipynb) también han servido para tratar los filtros, como un forma de operaciones condicionales sobre vectores y data frames.\n",
    "\n",
    "Una nueva forma de realizar transformaciones condicionales con arrays numpy y series pandas es `np.where()`.\n",
    "\n",
    "Por ejemplo, veamos la siguiente variable *crew* que nos informa del número de tripulantes que puede llevar como máximo un vehículo. "
   ]
  },
  {
   "cell_type": "code",
   "execution_count": null,
   "metadata": {},
   "outputs": [],
   "source": [
    "vehicles_df[['crew']].head()"
   ]
  },
  {
   "cell_type": "markdown",
   "metadata": {},
   "source": [
    "Para transformar esta variable en una nueva que indique si un vehículo puede llevar 1, 2 o 3 o más tripulantes."
   ]
  },
  {
   "cell_type": "code",
   "execution_count": null,
   "metadata": {},
   "outputs": [],
   "source": [
    "vehicles_df['crew_r'] = np.where(vehicles_df.crew<3, vehicles_df.crew, 3)\n",
    "vehicles_df[['crew','crew_r']].head()"
   ]
  },
  {
   "cell_type": "markdown",
   "metadata": {},
   "source": [
    "> **Observa**: esta función de numpy pertenece a las funciones ufunc, ya que aplica elemento a elemento. Observa también que se ha aplicado a una serie de un DataFrame, obteniendo una nueva serie."
   ]
  },
  {
   "cell_type": "markdown",
   "metadata": {},
   "source": [
    "## BUCLES\n",
    "\n",
    "Los bucles for, se han tratado de forma básica en las *list comprehension* del capítulo de [Listas, tuplas y diccionarios](modulo1_tema4_Py_30_colec_obj.ipynb).\n",
    "\n",
    "Una forma de definir bucles con for es a través de listas, diccionarios."
   ]
  },
  {
   "cell_type": "code",
   "execution_count": null,
   "metadata": {},
   "outputs": [],
   "source": [
    "crew_list = [1,2,3]\n",
    "for n_crew in crew_list:\n",
    "    \n",
    "    n_vehi = vehicles_df[vehicles_df.crew_r == n_crew].shape[0]\n",
    "    \n",
    "    if n_vehi == 1:\n",
    "        txt_vehicles = 'vehículo'\n",
    "    else:\n",
    "        txt_vehicles = 'vehiculos'\n",
    "    \n",
    "    txt_crew = 'tripulante'\n",
    "    if n_crew != 1:\n",
    "        txt_crew = txt_crew + 's'\n",
    "    \n",
    "    txt_n_crew = str(n_crew)\n",
    "    if n_crew==3:\n",
    "        txt_n_crew = txt_n_crew + ' o más'\n",
    "    \n",
    "    print(\"Hay {} {} con {} {}\".format(n_vehi, txt_vehicles, txt_n_crew, txt_crew))"
   ]
  },
  {
   "cell_type": "markdown",
   "metadata": {},
   "source": [
    "Este bucle recorre la lista `n_crew` y nos indica el número de vehículos con esa cantidad de tripulantes.\n",
    "\n",
    "Cuando se recorre un diccionario con un `for`, por defecto, éste lo hace por sus claves."
   ]
  },
  {
   "cell_type": "code",
   "execution_count": null,
   "metadata": {},
   "outputs": [],
   "source": [
    "vehiculos_tripulantes = {'un': 8, 'dos': 3, '3 o más': 6}\n",
    "\n",
    "for x in vehiculos_tripulantes:\n",
    "    print(x)"
   ]
  },
  {
   "cell_type": "markdown",
   "metadata": {},
   "source": [
    "Se puede iterar sobre la tupla `(clave,valor)` con `.items()`"
   ]
  },
  {
   "cell_type": "code",
   "execution_count": null,
   "metadata": {},
   "outputs": [],
   "source": [
    "for txt_n_crew, n_vehi in vehiculos_tripulantes.items():\n",
    "    print(\"Hay\",n_vehi,\"vehículo/s con\",txt_n_crew, \"tripulante/s\")"
   ]
  },
  {
   "cell_type": "markdown",
   "metadata": {},
   "source": [
    "Los bucles con numpy, tienen una lógica simétrica a las listas. \n",
    "\n",
    "Para poder recorrer 2 colecciones de objetos (listas, diccionarios, numpy, series...) con el mismo número de elementos de forma correlativa se utiliza la función `zip()`."
   ]
  },
  {
   "cell_type": "code",
   "execution_count": null,
   "metadata": {},
   "outputs": [],
   "source": [
    "a = [1,2,3]\n",
    "b = [8,3,6]\n",
    "\n",
    "for x,y in zip(a,b):\n",
    "    print(\"Hay\",y,\"vehículo/s con\",[x if x<3 else '3 o más'][0], \"tripulante/s\")"
   ]
  },
  {
   "cell_type": "markdown",
   "metadata": {},
   "source": [
    "Para iterar **por columnas** de un DataFrame se utiliza `.iteritems()`. En cada iteración se obtiene la tupla`(nombre columna, Serie Columna)`. "
   ]
  },
  {
   "cell_type": "code",
   "execution_count": null,
   "metadata": {
    "scrolled": true
   },
   "outputs": [],
   "source": [
    "for nombreCol,variable in vehicles_df.iteritems():\n",
    "    print(nombreCol,\", tiene tipo:\",variable.dtype)"
   ]
  },
  {
   "cell_type": "markdown",
   "metadata": {},
   "source": [
    "De la misma forma, pero ahora iterando un DataFrame **por filas** con `.iterrows()`."
   ]
  },
  {
   "cell_type": "code",
   "execution_count": null,
   "metadata": {},
   "outputs": [],
   "source": [
    "for nombre,fila in vehicles_df.iloc[0:2,0:2].iterrows():\n",
    "    print(nombre,\", cuesta:\",fila.cost_in_credits,\" y mide:\",fila.length , \"metros\")\n"
   ]
  },
  {
   "cell_type": "markdown",
   "metadata": {},
   "source": [
    "< [Colecciones de objetos: pandas](modulo1_tema4_Py_32_pandas.ipynb) | [Índice](modulo1_tema4_Py_00_indice.ipynb) | [Gestión de datos](modulo1_tema4_Py_50_gest_dat.ipynb) >\n",
    "\n",
    "__[Abre en Colab](https://colab.research.google.com/github/griu/mbdds_fc20/blob/master/Python/modulo1_tema4_Py_40_contr_flujo.ipynb)__"
   ]
  }
 ],
 "metadata": {
  "kernelspec": {
   "display_name": "mbdds_rpy20",
   "language": "python",
   "name": "mbdds_rpy20"
  },
  "language_info": {
   "codemirror_mode": {
    "name": "ipython",
    "version": 3
   },
   "file_extension": ".py",
   "mimetype": "text/x-python",
   "name": "python",
   "nbconvert_exporter": "python",
   "pygments_lexer": "ipython3",
   "version": "3.6.9"
  }
 },
 "nbformat": 4,
 "nbformat_minor": 4
}
