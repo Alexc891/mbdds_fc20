{
 "cells": [
  {
   "cell_type": "markdown",
   "metadata": {},
   "source": [
    "<img align=\"left\" style=\"padding-right:10px;\" width=\"150\" src=\"www/320px-Star_Wars_Logo.svg.png\">\n",
    "\n",
    "*Este notebook forma parte del TEMA 1.4. HERRAMIENTAS DE ANÁLISI: PROGRAMACIÓN EN R Y PROGRAMACIÓN EN PYTHON del MÓDULO 1: HERRAMIENTAS BIG DATA del master Máster en Big Data & Data Science de la Universitat de Barcelona - IL3 - FORYMAT elaborado por Ferran Carrascosa Mallafrè.*"
   ]
  },
  {
   "cell_type": "markdown",
   "metadata": {},
   "source": [
    "# ÍNDICE"
   ]
  },
  {
   "cell_type": "markdown",
   "metadata": {},
   "source": [
    "- [Introducción](modulo1_tema4_Py.ipynb)\n",
    "- [Elementos básicos de Python](modulo1_tema4_Py_10_elem_bas.ipynb)\n",
    "- [Gráficos con matplotlib](modulo1_tema4_Py_20_matplotlib.ipynb)\n",
    "- [Colecciones de objetos](modulo1_tema4_Py_30_colec_obj.ipynb)\n",
    "- [Control de flujo](modulo1_tema4_Py_40_contr_flujo.ipynb)\n",
    "- [Gestión de datos](modulo1_tema4_Py_50_gest_dat.ipynb)\n",
    "- [Anexo](modulo1_tema4_Py_60_anexo.ipynb)"
   ]
  }
 ],
 "metadata": {
  "kernelspec": {
   "display_name": "mbdds_fc20_env",
   "language": "python",
   "name": "mbdds_fc20_env"
  },
  "language_info": {
   "codemirror_mode": {
    "name": "ipython",
    "version": 3
   },
   "file_extension": ".py",
   "mimetype": "text/x-python",
   "name": "python",
   "nbconvert_exporter": "python",
   "pygments_lexer": "ipython3",
   "version": "3.7.3"
  }
 },
 "nbformat": 4,
 "nbformat_minor": 4
}
