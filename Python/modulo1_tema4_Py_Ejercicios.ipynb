{
 "cells": [
  {
   "cell_type": "markdown",
   "metadata": {},
   "source": [
    "<img align=\"left\" style=\"padding-right:10px;\" width=\"150\" src=\"www/320px-Star_Wars_Logo.svg.png\">\n",
    "\n",
    "*Este notebook forma parte del TEMA 1.4. HERRAMIENTAS DE ANÁLISI: PROGRAMACIÓN EN R Y PROGRAMACIÓN EN PYTHON del MÓDULO 1: HERRAMIENTAS BIG DATA del Máster en Big Data & Data Science de la Universitat de Barcelona - IL3 - FORYMAT elaborado por Ferran Carrascosa Mallafrè.*"
   ]
  },
  {
   "cell_type": "markdown",
   "metadata": {},
   "source": [
    "__[Abre en Colab](https://colab.research.google.com/github/griu/mbdds_fc20/blob/master/Python/modulo1_tema4_Py_Ejercicio_1.ipynb)__ *: <span style=\"color:rgba(255, 99, 71, 0.8)\">Padawan! Cuando inicies sesión en Colab, prepara el entorno ejecutando el siguiente código.</span>*"
   ]
  },
  {
   "cell_type": "code",
   "execution_count": null,
   "metadata": {},
   "outputs": [],
   "source": [
    "if 'google.colab' in str(get_ipython()):\n",
    "    !git clone https://github.com/griu/mbdds_fc20.git /content/mbdds_fc20\n",
    "    !git -C /content/mbdds_fc20 pull\n",
    "    %cd /content/mbdds_fc20/Python\n",
    "    !python -m pip install -r requirementsColab.txt"
   ]
  },
  {
   "cell_type": "markdown",
   "metadata": {},
   "source": [
    "# Ejercicio 1\n",
    "\n",
    "Para realizar el ejercicio cargamos los datos de *Especies* en STARWARS SWAPI y las librerías principales."
   ]
  },
  {
   "cell_type": "code",
   "execution_count": null,
   "metadata": {},
   "outputs": [],
   "source": [
    "import numpy as np\n",
    "import pandas as pd\n",
    "import matplotlib.pyplot as plt\n",
    "import seaborn as sns; sns.set()  # para el estilo de graficos\n",
    "\n",
    "entidades = ['planets','starships','vehicles','people','species']\n",
    "entidades_df = {x: pd.read_pickle('www/' + x + '_df.pkl') for x in entidades}\n",
    "\n",
    "# Datos principales\n",
    "people_df = entidades_df['people'][[\"height\",\"mass\",\"birth_year\",\"gender\",\"homeworld\"]].dropna()\n",
    "\n",
    "people_df"
   ]
  },
  {
   "cell_type": "markdown",
   "metadata": {},
   "source": [
    "## Ejercicio 1.1. \n",
    "\n",
    "Construye un gráfico de dispersión de los personajes donde se visualice: la altura (height), el peso (mass), la edad en años BBY (birth_year) y el género (gender). Para ello utiliza la función `sns.scatterplot()` de la librería seaborn. Aprovecha los parámetros: `x`, `y`, `size`, `hue` y `style` (consulta la ayuda de la función [.scatterplot()](https://seaborn.pydata.org/generated/seaborn.scatterplot.html)."
   ]
  },
  {
   "cell_type": "code",
   "execution_count": 1,
   "metadata": {},
   "outputs": [],
   "source": [
    "# Solución:\n"
   ]
  },
  {
   "cell_type": "markdown",
   "metadata": {},
   "source": [
    "## Ejercicio 1.2.\n",
    "\n",
    "Sobre el gráfico del ejercicio 1.1:\n",
    "\n",
    "- Pon título al gráfico y a los ejes x e y. \n",
    "- Modifica los límites del eje y para que aparezcan sólo personajes de menos de 150 Kg de peso.\n",
    "- Sitúa en el gráfico los nombres de \"Darth Vader\" y \"Anakin Skywalker\". ¿Cómo es posible tengan un peso y altura tan distintos si eran la misma persona?"
   ]
  },
  {
   "cell_type": "code",
   "execution_count": null,
   "metadata": {},
   "outputs": [],
   "source": [
    "# Solución:\n"
   ]
  },
  {
   "cell_type": "markdown",
   "metadata": {},
   "source": [
    "## Ejercicio 1.3.\n",
    "\n",
    "Utiliza las *list comprehension* para calcular el cuadrado de los valores positivos de la siguiente lista:\n",
    "\n",
    "Muestra el resultado por pantalla."
   ]
  },
  {
   "cell_type": "code",
   "execution_count": null,
   "metadata": {},
   "outputs": [],
   "source": [
    "val = [5, 6, -1, 2, -3, -7, 9, 1]"
   ]
  },
  {
   "cell_type": "code",
   "execution_count": null,
   "metadata": {},
   "outputs": [],
   "source": [
    "# Solución:\n"
   ]
  },
  {
   "cell_type": "markdown",
   "metadata": {},
   "source": [
    "## Ejercicio 1.4.\n",
    "\n",
    "Construye un diccionario donde se identifique, mediante claves y valores, las siguientes características del personaje Yoda: \"nombre\", \"altura\", \"peso\", \"edad\" y \"genero\". Utiliza los datos de people_df.\n",
    "\n",
    "Muestra el diccionario por pantalla."
   ]
  },
  {
   "cell_type": "code",
   "execution_count": null,
   "metadata": {},
   "outputs": [],
   "source": [
    "# Solución:\n"
   ]
  },
  {
   "cell_type": "markdown",
   "metadata": {},
   "source": [
    "## Ejercicio 1.5.\n",
    "\n",
    "Calcula, a partir de los vectores numpy de altura y peso, definidos a continuación, el [índice de masa corporal (IMC)](https://es.wikipedia.org/wiki/%C3%8Dndice_de_masa_corporal) de los personajes de star wars contenidos en people_df: \n",
    "\n",
    "$IMC = \\frac{peso}{altura^{2}}$ donde altura está en metros y el peso en kg.\n",
    "\n",
    "Muestra los datos por pantalla."
   ]
  },
  {
   "cell_type": "code",
   "execution_count": null,
   "metadata": {},
   "outputs": [],
   "source": [
    "altura = people_df.height.values\n",
    "peso = people_df.mass.values"
   ]
  },
  {
   "cell_type": "code",
   "execution_count": null,
   "metadata": {},
   "outputs": [],
   "source": [
    "# Solución:\n"
   ]
  },
  {
   "cell_type": "markdown",
   "metadata": {},
   "source": [
    "## Ejercicio 1.6.\n",
    "\n",
    "A partir del IMC que has calculado en el ejercicio 1.5. Construye un panel con dos histogramas:\n",
    "\n",
    "- Un histograma con toda la muestra\n",
    "- Un histograma seleccionando los valores con un IMC inferior a 100."
   ]
  },
  {
   "cell_type": "code",
   "execution_count": null,
   "metadata": {},
   "outputs": [],
   "source": [
    "# Solución:\n"
   ]
  },
  {
   "cell_type": "markdown",
   "metadata": {},
   "source": [
    "## Ejercicio 1.7.\n",
    "\n",
    "A partir del vector 1 y 2 que se definen a continuación contesta las siguientes preguntas:\n",
    "\n",
    "- Calcula el shape, ndim, size del vector1 y vector2\n",
    "- Explica cual es la diferencia entre vector1 y vector2 a partir de los que hayas observado"
   ]
  },
  {
   "cell_type": "code",
   "execution_count": null,
   "metadata": {},
   "outputs": [],
   "source": [
    "vector1 = np.hstack([altura,peso])\n",
    "vector2 = np.vstack([altura,peso])"
   ]
  },
  {
   "cell_type": "code",
   "execution_count": null,
   "metadata": {},
   "outputs": [],
   "source": [
    "# Solución:\n"
   ]
  },
  {
   "cell_type": "markdown",
   "metadata": {},
   "source": [
    "## Ejercicio 1.8.\n",
    "\n",
    "Crea una copia de people_df llamada personajes_df y renombra las columnas con su traducción al castellano. \n",
    "\n",
    "> Truco: Puedes renombrar el índice con:\n",
    "\n",
    "```personajes_df.index = personajes_df.index.rename(\"nombre\")```\n",
    "\n",
    "Muestra los 5 primeros registros del nuevo data frame con `.head()`."
   ]
  },
  {
   "cell_type": "code",
   "execution_count": null,
   "metadata": {},
   "outputs": [],
   "source": [
    "# Solución:\n"
   ]
  },
  {
   "cell_type": "markdown",
   "metadata": {},
   "source": [
    "## Ejercicio 1.9.\n",
    "\n",
    "Haz el mismo cálculo de IMC que has hecho en 1.5. pero directamente sobre el objeto personajes_df.\n",
    "\n",
    "Ordena el data frame de mayor a menor IMC y muestra los personajes con IMC por encima de 30.\n",
    "\n",
    "> ¿Sabias que IMC por encima de 30 se considera obeso?\n"
   ]
  },
  {
   "cell_type": "code",
   "execution_count": null,
   "metadata": {},
   "outputs": [],
   "source": [
    "# Solución:\n"
   ]
  },
  {
   "cell_type": "markdown",
   "metadata": {},
   "source": [
    "## Ejercicio 1.10.\n",
    "\n",
    "Inserta un valor faltante en los valores de IMC que sean superiores a 100 y dibuja el histograma con `.plot.hist()`."
   ]
  },
  {
   "cell_type": "code",
   "execution_count": null,
   "metadata": {},
   "outputs": [],
   "source": [
    "# Solución:\n"
   ]
  },
  {
   "cell_type": "markdown",
   "metadata": {},
   "source": [
    "# Ejercicio 2\n",
    "\n",
    "Para el ejercicio 2, añadimos los datos del ejercicio 1 los datos de planetas."
   ]
  },
  {
   "cell_type": "code",
   "execution_count": null,
   "metadata": {},
   "outputs": [],
   "source": [
    "# planetas\n",
    "planets_df = entidades_df['planets'][[\"orbital_period\",\"url\"]].dropna()\n",
    "planets_df.head()"
   ]
  },
  {
   "cell_type": "markdown",
   "metadata": {},
   "source": [
    "## Ejercicio 2.1.\n",
    "\n",
    "Construye una función que diga \"buenos días\", \"buenas tardes\" o \"buenas noches\" en función de la hora del día.\n",
    "\n",
    "> Truco 1: Para testear la función haz que tenga un parametro de entrada que tenga como valor por defecto: `datetime.now()` (primero carga `from datetime import datetime`).\n",
    "\n",
    "> Truco 2: Puedes extraer la hora de un datetime con `.hour`."
   ]
  },
  {
   "cell_type": "code",
   "execution_count": null,
   "metadata": {},
   "outputs": [],
   "source": [
    "# Solución:\n"
   ]
  },
  {
   "cell_type": "markdown",
   "metadata": {},
   "source": [
    "## Ejercicio 2.2.\n",
    "\n",
    "Elimina del data frame personajes_df los personajes con valores faltantes en IMC y crea una nueva variable con el trameado de la variable IMC definido en la siguiente tabla:\n",
    "\n",
    " | Categoría de nivel de peso | Intervalo del percentil |\n",
    " | -------------------------- | ----------------------- | \n",
    " | Bajo peso | < 18.5 |\n",
    " | Normal | >= 18.5 y < 25 |\n",
    " | Sobrepeso | >= 25 y <30 |\n",
    " | Obeso | >= 30 |\n",
    "\n",
    "> Truco: utiliza `pd.cut(..., right=False)` y modifica las etiquetas con `.cat.categories`.  "
   ]
  },
  {
   "cell_type": "code",
   "execution_count": null,
   "metadata": {},
   "outputs": [],
   "source": [
    "# Solución:\n"
   ]
  },
  {
   "cell_type": "markdown",
   "metadata": {},
   "source": [
    "## Ejercicio 2.3.\n",
    "\n",
    "Muestra las frecuencias de la nueva variable definida en 2.2."
   ]
  },
  {
   "cell_type": "code",
   "execution_count": null,
   "metadata": {},
   "outputs": [],
   "source": [
    "# Solución:\n"
   ]
  },
  {
   "cell_type": "markdown",
   "metadata": {},
   "source": [
    "## Ejercicio 2.4.\n",
    "\n",
    "Calcula ahora un trameado de la edad en 5 grupos equiprobables.\n",
    "\n",
    "> Truco: Busca ayuda de la función [pd.qcut()](https://pandas.pydata.org/pandas-docs/stable/reference/api/pandas.qcut.html)"
   ]
  },
  {
   "cell_type": "code",
   "execution_count": null,
   "metadata": {},
   "outputs": [],
   "source": [
    "# Solución:\n"
   ]
  },
  {
   "cell_type": "markdown",
   "metadata": {},
   "source": [
    "## Ejercicio 2.5.\n",
    "\n",
    "Presenta la tabla cruzada de tramos de edad (ej. 2.4) por tramos de IMC (ej. 2.2). \n",
    "\n",
    "¿Qué tramo de edad tiene un mayor número de personajes con Bajo peso?"
   ]
  },
  {
   "cell_type": "code",
   "execution_count": null,
   "metadata": {},
   "outputs": [],
   "source": [
    "# Solución:\n"
   ]
  },
  {
   "cell_type": "markdown",
   "metadata": {},
   "source": [
    "## Ejercicio 2.6.\n",
    "\n",
    "Calcula la media del IMC en cada tramo de edad del ejercicio 2.2.\n",
    "\n",
    "> Truco: En el mismo cálculo del IMC medio, calcula también, la mediana de edad de cada tramo de edad para que sea el eje x del gráfico de líneas."
   ]
  },
  {
   "cell_type": "code",
   "execution_count": null,
   "metadata": {},
   "outputs": [],
   "source": [
    "# Solución:\n"
   ]
  },
  {
   "cell_type": "markdown",
   "metadata": {},
   "source": [
    "## Ejercicio 2.7.\n",
    "\n",
    "Presenta los datos del ej. 2.6. como un gráfico de líneas donde el eje x sea la edad y el eje y el IMC medio"
   ]
  },
  {
   "cell_type": "code",
   "execution_count": null,
   "metadata": {},
   "outputs": [],
   "source": [
    "# Solución:\n"
   ]
  },
  {
   "cell_type": "markdown",
   "metadata": {},
   "source": [
    "## Ejercicio 2.8.\n",
    "\n",
    "Calcula el cociente del IMC sobre la mediana del IMC de su tramo de edad (definidos en el ejercicio 2.2.) mediante la función groupby(...).apply(...).\n",
    "\n",
    "> truco: primero crea la función que devuelva:  `x / np.nanmedian(x)`.\n",
    "\n",
    "Presenta los datos mediante un boxplot de la nueva variable: [pd.boxplot()](https://pandas.pydata.org/pandas-docs/stable/reference/api/pandas.DataFrame.boxplot.html). "
   ]
  },
  {
   "cell_type": "code",
   "execution_count": null,
   "metadata": {},
   "outputs": [],
   "source": [
    "# Solución:\n"
   ]
  },
  {
   "cell_type": "markdown",
   "metadata": {},
   "source": [
    "## Ejercicio 2.9.\n",
    "\n",
    "¿Cual es planeta con menor IMC medio de sus personajes?\n",
    "¿Que personaje/s son de ese planeta?"
   ]
  },
  {
   "cell_type": "code",
   "execution_count": null,
   "metadata": {},
   "outputs": [],
   "source": [
    "# Solución:\n"
   ]
  },
  {
   "cell_type": "markdown",
   "metadata": {},
   "source": [
    "## Ejercicio 2.10.\n",
    "\n",
    "Convierte a datetime los siguientes strings con la función [datetime.strptime()](https://docs.python.org/3/library/datetime.html#strftime-strptime-behavior) (consulta la ayuda si es necesario) de la libreria datetime:\n",
    "\n",
    "- \"1 Enero, 2020\"\n",
    "- \"15-feb.-2017\"\n",
    "- \"20190701 22:30\"  # 1 de julio de 2019\n",
    "\n",
    "> Truco: Modifica la configuración regional:\n",
    "\n",
    "```\n",
    "from datetime import datetime\n",
    "import locale\n",
    "locale.setlocale(locale.LC_TIME, 'es_ES.UTF-8')\n",
    "```"
   ]
  },
  {
   "cell_type": "code",
   "execution_count": null,
   "metadata": {},
   "outputs": [],
   "source": [
    "# Solución:\n"
   ]
  }
 ],
 "metadata": {
  "kernelspec": {
   "display_name": "mbdds_rpy20",
   "language": "python",
   "name": "mbdds_rpy20"
  },
  "language_info": {
   "codemirror_mode": {
    "name": "ipython",
    "version": 3
   },
   "file_extension": ".py",
   "mimetype": "text/x-python",
   "name": "python",
   "nbconvert_exporter": "python",
   "pygments_lexer": "ipython3",
   "version": "3.6.9"
  }
 },
 "nbformat": 4,
 "nbformat_minor": 4
}
