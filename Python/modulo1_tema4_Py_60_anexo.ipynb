{
 "cells": [
  {
   "cell_type": "markdown",
   "metadata": {},
   "source": [
    "<img align=\"left\" style=\"padding-right:10px;\" width=\"150\" src=\"www/320px-Star_Wars_Logo.svg.png\">\n",
    "\n",
    "*Este notebook forma parte del TEMA 1.4. HERRAMIENTAS DE ANÁLISI: PROGRAMACIÓN EN R Y PROGRAMACIÓN EN PYTHON del MÓDULO 1: HERRAMIENTAS BIG DATA del master Máster en Big Data & Data Science de la Universitat de Barcelona - IL3 - FORYMAT elaborado por Ferran Carrascosa Mallafrè.*"
   ]
  },
  {
   "cell_type": "markdown",
   "metadata": {},
   "source": [
    "< [Gestión de datos](modulo1_tema4_Py_50_gest_dat.ipynb) | [Índice](modulo1_tema4_Py_00_indice.ipynb)\n",
    "\n",
    "<a href=\"https://colab.research.google.com/github/griu/mbdds_fc20/blob/master/Python/modulo1_tema4_Py_60_anexo.ipynb\" target=\"_parent\"><img align=\"left\" src=\"https://colab.research.google.com/assets/colab-badge.svg\" alt=\"Open In Colab\" title=\"Abre y Ejecuta en Google Colaboratory\"></a>\n",
    ": Padawan! Cuando inicias sesión en Colab, debes clonar el repositorio y mover el directorio de trabajo."
   ]
  },
  {
   "cell_type": "code",
   "execution_count": 4,
   "metadata": {},
   "outputs": [],
   "source": [
    "if 'google.colab' in str(get_ipython()):\n",
    "    !git clone https://github.com/griu/mbdds_fc20.git /content/mbdds_fc20\n",
    "    !git pull\n",
    "    %cd /content/mbdds_fc20/Python\n",
    "    !python -m pip install -r requirementsColab.txt"
   ]
  },
  {
   "cell_type": "markdown",
   "metadata": {},
   "source": [
    "# ANEXO: README DE PYTHON"
   ]
  },
  {
   "cell_type": "markdown",
   "metadata": {},
   "source": [
    "## PREPARACIÓN DEL ENTORNO COLAB\n",
    "\n",
    "Des de [Colab](http://colab.research.google.com), hay que clonar el repositorio cada vez que inicias un nuevo libro. En los libros se incluyen el código necesario."
   ]
  },
  {
   "cell_type": "markdown",
   "metadata": {},
   "source": [
    "## PREPARACIÓN ENTORNO LOCAL-JUPYTER (OPCIONAL)\n",
    "\n",
    "### CLONAR REPOSITORIO\n",
    "\n",
    "En local puedes utilizar el mismo proyecto que has clonado en el [README DE R](../R/README.md). \n",
    "\n",
    "Para actualizarlo de nuevo, des de consola.\n",
    "\n",
    "```\n",
    "cd mbdds_fc20\n",
    "git pull\n",
    "cd Python\n",
    "```\n",
    "\n",
    "### CREAR EN LOCAL UN NUEVO ENVIRONMENT DE ANACONDA\n",
    "\n",
    "Abrimos una línea de comandos (con *Anaconda 3.0* ya disponible).\n",
    "\n",
    "- Windows: Escribimos `Anaconda` en el menú Inicio y aparecerá la consola MS-DOS de Anaconda.\n",
    "- Linux: Abrimos Terminal\n",
    "\n",
    "```\n",
    "conda deactivate\n",
    "conda create -n mbdds_rpy20 python=3.6.9\n",
    "conda activate mbdds_rpy20\n",
    "```\n",
    "\n",
    "Verifica que se ha creado y está activo.\n",
    "\n",
    "```\n",
    "conda info --envs\n",
    "```\n",
    "\n",
    "### INSTALA LAS LIBRERIAS DE PYTHON\n",
    "\n",
    "```\n",
    "cd mbdds_fc20/Python\n",
    "conda activate mbdds_rpy20\n",
    "python -m pip install -r requirementsColab.txt\n",
    "```\n",
    "\n",
    "### PUBLICAR EL KERNEL\n",
    "\n",
    "Para acceder al nuevo environment desde Jupyter necesitas publicar el kernel.\n",
    "\n",
    "```\n",
    "python -m ipykernel install --user --name mbdds_rpy20 --display-name \"mbdds_rpy20\"\n",
    "```\n",
    "\n",
    "Puede tardar unos minutos en publicarse.\n",
    "\n",
    "### LANZAR ENTORNO JUPYTER NOTEBOOK\n",
    "\n",
    "Para acceder al servidor Jupyter. \n",
    "\n",
    "```\n",
    "conda activate mbdds_rpy20\n",
    "jupyter notebook\n",
    "```\n",
    "\n",
    "Debería abrirse un navegador con acceso a Jupyter desde donde podrás acceder a los notebooks.\n"
   ]
  },
  {
   "cell_type": "markdown",
   "metadata": {},
   "source": [
    "## PREPARACIÓN DEL ENTORNO COLAB\n",
    "\n",
    "Des de [Colab](http://colab.research.google.com), hay que clonar el repositorio cada vez que inicias un nuevo libro. En la cabecera de los libros se incluyen el código necesario."
   ]
  },
  {
   "cell_type": "markdown",
   "metadata": {},
   "source": [
    "< [Gestión de datos](modulo1_tema4_Py_50_gest_dat.ipynb) | [Índice](modulo1_tema4_Py_00_indice.ipynb)\n",
    "\n",
    "<a href=\"https://colab.research.google.com/github/griu/mbdds_fc20/blob/master/Python/modulo1_tema4_Py_60_anexo.ipynb\" target=\"_parent\"><img align=\"left\" src=\"https://colab.research.google.com/assets/colab-badge.svg\" alt=\"Open In Colab\" title=\"Abre y Ejecuta en Google Colaboratory\"></a>"
   ]
  }
 ],
 "metadata": {
  "kernelspec": {
   "display_name": "mbdds_fc20_env",
   "language": "python",
   "name": "mbdds_fc20_env"
  },
  "language_info": {
   "codemirror_mode": {
    "name": "ipython",
    "version": 3
   },
   "file_extension": ".py",
   "mimetype": "text/x-python",
   "name": "python",
   "nbconvert_exporter": "python",
   "pygments_lexer": "ipython3",
   "version": "3.7.3"
  }
 },
 "nbformat": 4,
 "nbformat_minor": 4
}
