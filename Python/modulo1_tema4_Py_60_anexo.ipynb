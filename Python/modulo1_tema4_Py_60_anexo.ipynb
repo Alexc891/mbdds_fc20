{
 "cells": [
  {
   "cell_type": "markdown",
   "metadata": {},
   "source": [
    "<img align=\"left\" style=\"padding-right:10px;\" width=\"150\" src=\"www/320px-Star_Wars_Logo.svg.png\">\n",
    "\n",
    "*Este notebook forma parte del TEMA 1.4. HERRAMIENTAS DE ANÁLISI: PROGRAMACIÓN EN R Y PROGRAMACIÓN EN PYTHON del MÓDULO 1: HERRAMIENTAS BIG DATA del master Máster en Big Data & Data Science de la Universitat de Barcelona - IL3 - FORYMAT elaborado por Ferran Carrascosa Mallafrè.*"
   ]
  },
  {
   "cell_type": "markdown",
   "metadata": {},
   "source": [
    "< [Gestión de datos](modulo1_tema4_Py_50_gest_dat.ipynb) | [Índice](modulo1_tema4_Py_00_indice.ipynb)\n",
    "\n",
    "<a href=\"https://colab.research.google.com/github/griu/mbdds_fc20/blob/master/Python/modulo1_tema4_Py_60_anexo.ipynb\" target=\"_parent\"><img align=\"left\" src=\"https://colab.research.google.com/assets/colab-badge.svg\" alt=\"Open In Colab\" title=\"Abre y Ejecuta en Google Colaboratory\"></a>\n",
    ": Padawan! Cuando inicias sesión en Colab, debes clonar el repositorio y mover el directorio de trabajo."
   ]
  },
  {
   "cell_type": "code",
   "execution_count": null,
   "metadata": {},
   "outputs": [],
   "source": [
    "if 'google.colab' in str(get_ipython()):\n",
    "    !git clone https://github.com/griu/mbdds_fc20.git\n",
    "    %cd mbdds_fc20/Python"
   ]
  },
  {
   "cell_type": "markdown",
   "metadata": {},
   "source": [
    "# ANEXO"
   ]
  },
  {
   "cell_type": "markdown",
   "metadata": {},
   "source": [
    "## Data Frames Starwars"
   ]
  },
  {
   "cell_type": "markdown",
   "metadata": {},
   "source": [
    "Para crear los data frames de Starwars."
   ]
  },
  {
   "cell_type": "code",
   "execution_count": 1,
   "metadata": {},
   "outputs": [],
   "source": [
    "import requests\n",
    "import pandas as pd\n",
    "import numpy as np\n"
   ]
  },
  {
   "cell_type": "code",
   "execution_count": 2,
   "metadata": {},
   "outputs": [],
   "source": [
    "# exec(open('get_entity.py').read())\n",
    "def get_entity(entity = None, url_base = 'http://swapi.dev/api/'):\n",
    "# https://swapi.dev/documentation#root\n",
    "    \n",
    "    page_num = 1\n",
    "    results_acum = []\n",
    "    entity_list = [\"films\",\"people\",\"planets\",\"species\",\"starships\",\"vehicles\"]\n",
    "    \n",
    "    if(entity not in entity_list):\n",
    "        page_num = None\n",
    "        print('Call a valid entity: ' + ','.join(entity_list))\n",
    "    \n",
    "    while(page_num is not None):\n",
    "        url = \"\".join([url_base, entity, '/?page=', str(page_num)])\n",
    "        rjson = requests.get(url).json()\n",
    "        results_acum = results_acum + rjson['results']\n",
    "        if(rjson['next'] is not None):\n",
    "            page_num = page_num + 1\n",
    "        else:\n",
    "            page_num = None\n",
    "            \n",
    "    if (len(results_acum) > 0):\n",
    "        results_df = pd.DataFrame(results_acum)\n",
    "    else:\n",
    "        results_df = entity_list\n",
    "    \n",
    "    return(results_df)\n",
    "\n",
    "def str2num(df,num_list):\n",
    "    num_list = [lab for lab in num_list if lab in df.columns]\n",
    "    num_list = [lab for lab in num_list if  df[lab].dtype==object]\n",
    "    for x in num_list:\n",
    "        if (x==\"crew\"):\n",
    "            df.loc[df[x] == \"30-165\",x] = \"165\"\n",
    "        df[x] = pd.to_numeric(df[x].replace('[^0-9\\.-]', '', regex=True), errors='coerce').replace({np.nan: None})\n",
    "    return(df)"
   ]
  },
  {
   "cell_type": "code",
   "execution_count": 3,
   "metadata": {},
   "outputs": [
    {
     "name": "stdout",
     "output_type": "stream",
     "text": [
      "Call a valid entity: films,people,planets,species,starships,vehicles\n"
     ]
    }
   ],
   "source": [
    "res = get_entity()"
   ]
  },
  {
   "cell_type": "code",
   "execution_count": 4,
   "metadata": {},
   "outputs": [
    {
     "data": {
      "text/plain": [
       "['films', 'people', 'planets', 'species', 'starships', 'vehicles']"
      ]
     },
     "execution_count": 4,
     "metadata": {},
     "output_type": "execute_result"
    }
   ],
   "source": [
    "res"
   ]
  },
  {
   "cell_type": "code",
   "execution_count": 5,
   "metadata": {},
   "outputs": [],
   "source": [
    "films_df = get_entity(\"films\")\n",
    "people_df = get_entity(\"people\")\n",
    "planets_df = get_entity(\"planets\")\n",
    "species_df = get_entity(\"species\")\n",
    "starships_df = get_entity(\"starships\")\n",
    "vehicles_df = get_entity(\"vehicles\")"
   ]
  },
  {
   "cell_type": "code",
   "execution_count": 6,
   "metadata": {},
   "outputs": [],
   "source": [
    "people_num = [\"height\",\"mass\",\"birth_year\"]\n",
    "planets_num = [\"diameter\",\"rotation_period\",\"orbital_period\",\"population\",\"surface_water\"]\n",
    "species_num = [\"average_height\",\"average_lifespan\"]\n",
    "starships_num = [\"passengers\",\"length\",\"crew\",\"cost_in_credits\",\"cargo_capacity\",\"hyperdrive_rating\",\"MGLT\"]\n",
    "vehicles_num = [\"cargo_capacity\",\"cost_in_credits\",\"crew\",\"length\",\"max_atmosphering_speed\",\"passengers\"]\n"
   ]
  },
  {
   "cell_type": "code",
   "execution_count": 7,
   "metadata": {},
   "outputs": [],
   "source": [
    "people_df2 = str2num(people_df,people_num)\n",
    "planets_df2 = str2num(planets_df,planets_num)\n",
    "species_df2 = str2num(species_df,species_num)\n",
    "starships_df2 = str2num(starships_df,starships_num)\n",
    "vehicles_df2 = str2num(vehicles_df,vehicles_num)\n"
   ]
  },
  {
   "cell_type": "code",
   "execution_count": 8,
   "metadata": {},
   "outputs": [],
   "source": [
    "people_df2.to_pickle(\"www/people_df.pkl\")\n",
    "planets_df2.to_pickle(\"www/planets_df.pkl\")\n",
    "species_df2.to_pickle(\"www/species_df.pkl\")\n",
    "starships_df2.to_pickle(\"www/starships_df.pkl\")\n",
    "vehicles_df2.to_pickle(\"www/vehicles_df.pkl\")"
   ]
  },
  {
   "cell_type": "markdown",
   "metadata": {},
   "source": [
    "< [Gestión de datos](modulo1_tema4_Py_50_gest_dat.ipynb) | [Índice](modulo1_tema4_Py_00_indice.ipynb)\n",
    "\n",
    "<a href=\"https://colab.research.google.com/github/griu/mbdds_fc20/blob/master/Python/modulo1_tema4_Py_60_anexo.ipynb\" target=\"_parent\"><img align=\"left\" src=\"https://colab.research.google.com/assets/colab-badge.svg\" alt=\"Open In Colab\" title=\"Abre y Ejecuta en Google Colaboratory\"></a>"
   ]
  }
 ],
 "metadata": {
  "kernelspec": {
   "display_name": "mbdds_fc20_env",
   "language": "python",
   "name": "bds_griu_env"
  },
  "language_info": {
   "codemirror_mode": {
    "name": "ipython",
    "version": 3
   },
   "file_extension": ".py",
   "mimetype": "text/x-python",
   "name": "python",
   "nbconvert_exporter": "python",
   "pygments_lexer": "ipython3",
   "version": "3.7.3"
  }
 },
 "nbformat": 4,
 "nbformat_minor": 4
}
