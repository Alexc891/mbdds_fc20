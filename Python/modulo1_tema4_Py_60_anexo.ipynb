{
 "cells": [
  {
   "cell_type": "markdown",
   "metadata": {},
   "source": [
    "<img align=\"left\" style=\"padding-right:10px;\" width=\"150\" src=\"www/320px-Star_Wars_Logo.svg.png\">\n",
    "\n",
    "*Este notebook forma parte del TEMA 1.4. HERRAMIENTAS DE ANÁLISI: PROGRAMACIÓN EN R Y PROGRAMACIÓN EN PYTHON del MÓDULO 1: HERRAMIENTAS BIG DATA del Máster en Big Data & Data Science de la Universitat de Barcelona - IL3 - FORYMAT elaborado por Ferran Carrascosa Mallafrè.*"
   ]
  },
  {
   "cell_type": "markdown",
   "metadata": {},
   "source": [
    "< [Gestión de datos](modulo1_tema4_Py_50_gest_dat.ipynb) | [Índice](modulo1_tema4_Py_00_indice.ipynb)\n",
    "\n",
    "<a href=\"https://colab.research.google.com/github/griu/mbdds_fc20/blob/master/Python/modulo1_tema4_Py_60_anexo.ipynb\" target=\"_parent\"><img align=\"left\" src=\"https://colab.research.google.com/assets/colab-badge.svg\" alt=\"Open In Colab\" title=\"Abre y Ejecuta en Google Colaboratory\"></a>\n",
    ": Padawan! Cuando inicias sesión en Colab, prepara el entorno ejecutando el siguiente código."
   ]
  },
  {
   "cell_type": "code",
   "execution_count": null,
   "metadata": {},
   "outputs": [],
   "source": [
    "if 'google.colab' in str(get_ipython()):\n",
    "    !git clone https://github.com/griu/mbdds_fc20.git /content/mbdds_fc20\n",
    "    !git -C /content/mbdds_fc20 pull\n",
    "    %cd /content/mbdds_fc20/Python\n",
    "    !python -m pip install -r requirementsColab.txt"
   ]
  },
  {
   "cell_type": "markdown",
   "metadata": {},
   "source": [
    "# ANEXO: README DE PYTHON"
   ]
  },
  {
   "cell_type": "markdown",
   "metadata": {},
   "source": [
    "## PREPARACIÓN DEL ENTORNO COLAB\n",
    "\n",
    "Des de [Colab](http://colab.research.google.com), hay que clonar el repositorio cada vez que inicias un nuevo libro. En los libros se incluye el código necesario para ello."
   ]
  },
  {
   "cell_type": "markdown",
   "metadata": {},
   "source": [
    "## PREPARACIÓN ENTORNO LOCAL-JUPYTER (OPCIONAL)\n",
    "\n",
    "### CLONAR REPOSITORIO\n",
    "\n",
    "En local puedes utilizar el mismo proyecto que has clonado en el [README DE R](../R/README.md). \n",
    "\n",
    "Para actualizarlo de nuevo, des de consola.\n",
    "\n",
    "```\n",
    "cd mbdds_fc20\n",
    "git pull\n",
    "cd Python\n",
    "```\n",
    "\n",
    "### CREAR EN LOCAL UN NUEVO ENVIRONMENT DE ANACONDA\n",
    "\n",
    "Abrimos una línea de comandos (con *Anaconda 3.0* ya disponible).\n",
    "\n",
    "- Windows: Escribimos `Anaconda` en el menú Inicio y aparecerá la consola MS-DOS de Anaconda.\n",
    "- Linux: Abrimos Terminal\n",
    "\n",
    "```\n",
    "conda deactivate\n",
    "conda create -n mbdds_rpy20 python=3.6.9\n",
    "conda activate mbdds_rpy20\n",
    "```\n",
    "\n",
    "Verifica que se ha creado y está activo.\n",
    "\n",
    "```\n",
    "conda info --envs\n",
    "```\n",
    "\n",
    "### INSTALA LAS LIBRERIAS DE PYTHON\n",
    "\n",
    "```\n",
    "cd mbdds_fc20/Python\n",
    "conda activate mbdds_rpy20\n",
    "python -m pip install -r requirementsColab.txt\n",
    "```\n",
    "\n",
    "### PUBLICAR EL KERNEL\n",
    "\n",
    "Para acceder al nuevo environment desde Jupyter necesitas publicar el kernel.\n",
    "\n",
    "```\n",
    "python -m ipykernel install --user --name mbdds_rpy20 --display-name \"mbdds_rpy20\"\n",
    "```\n",
    "\n",
    "Puede tardar unos minutos en publicarse.\n",
    "\n",
    "### LANZAR ENTORNO JUPYTER NOTEBOOK\n",
    "\n",
    "Para acceder al servidor Jupyter. \n",
    "\n",
    "```\n",
    "conda activate mbdds_rpy20\n",
    "jupyter notebook\n",
    "```\n",
    "\n",
    "Debería abrirse un navegador con acceso a Jupyter desde donde podrás acceder a los notebooks. Habitualmente el servidor Jupyter se abre en http://localhost:8888/ ."
   ]
  },
  {
   "cell_type": "markdown",
   "metadata": {},
   "source": [
    "## IMPORTAR DATOS DE STARWARS SWAPI"
   ]
  },
  {
   "cell_type": "markdown",
   "metadata": {},
   "source": [
    "Datos procesados a partir de https://swapi.dev/documentation#root."
   ]
  },
  {
   "cell_type": "code",
   "execution_count": null,
   "metadata": {},
   "outputs": [],
   "source": [
    "import requests\n",
    "import pandas as pd\n",
    "import numpy as np\n"
   ]
  },
  {
   "cell_type": "code",
   "execution_count": null,
   "metadata": {},
   "outputs": [],
   "source": [
    "# exec(open('get_entity.py').read())\n",
    "def get_entity(entity = None, url_base = 'http://swapi.dev/api/'):\n",
    "# https://swapi.dev/documentation#root\n",
    "    \n",
    "    page_num = 1\n",
    "    results_acum = []\n",
    "    entity_list = [\"films\",\"people\",\"planets\",\"species\",\"starships\",\"vehicles\"]\n",
    "    \n",
    "    if(entity not in entity_list):\n",
    "        page_num = None\n",
    "        print('Call a valid entity: ' + ','.join(entity_list))\n",
    "    \n",
    "    while(page_num is not None):\n",
    "        url = \"\".join([url_base, entity, '/?page=', str(page_num)])\n",
    "        rjson = requests.get(url).json()\n",
    "        results_acum = results_acum + rjson['results']\n",
    "        if(rjson['next'] is not None):\n",
    "            page_num = page_num + 1\n",
    "        else:\n",
    "            page_num = None\n",
    "            \n",
    "    if (len(results_acum) > 0):\n",
    "        results_df = pd.DataFrame(results_acum)\n",
    "    else:\n",
    "        results_df = entity_list\n",
    "    \n",
    "    return(results_df)\n",
    "\n",
    "def str2num(df,num_list):\n",
    "    num_list = [lab for lab in num_list if lab in df.columns]\n",
    "    num_list = [lab for lab in num_list if  df[lab].dtype==object]\n",
    "    for x in num_list:\n",
    "        if (x==\"crew\"):\n",
    "            df.loc[df[x] == \"30-165\",x] = \"165\"\n",
    "        df[x] = pd.to_numeric(df[x].replace('[^0-9\\.-]', '', regex=True), errors='coerce')\n",
    "    return(df)"
   ]
  },
  {
   "cell_type": "code",
   "execution_count": null,
   "metadata": {},
   "outputs": [],
   "source": [
    "res = get_entity()"
   ]
  },
  {
   "cell_type": "code",
   "execution_count": null,
   "metadata": {},
   "outputs": [],
   "source": [
    "res"
   ]
  },
  {
   "cell_type": "code",
   "execution_count": null,
   "metadata": {},
   "outputs": [],
   "source": [
    "films_df = get_entity(\"films\")\n",
    "people_df = get_entity(\"people\")\n",
    "planets_df = get_entity(\"planets\")\n",
    "species_df = get_entity(\"species\")\n",
    "starships_df = get_entity(\"starships\")\n",
    "vehicles_df = get_entity(\"vehicles\")\n",
    "\n",
    "people_df.index = people_df.name\n",
    "planets_df.index = planets_df.name\n",
    "species_df.index = species_df.name\n",
    "starships_df.index = starships_df.name\n",
    "vehicles_df.index = vehicles_df.name\n",
    "\n",
    "people_df.drop(\"name\",inplace=True, axis=1)\n",
    "planets_df.drop(\"name\",inplace=True, axis=1)\n",
    "species_df.drop(\"name\",inplace=True, axis=1)\n",
    "starships_df.drop(\"name\",inplace=True, axis=1)\n",
    "vehicles_df.drop(\"name\",inplace=True, axis=1)"
   ]
  },
  {
   "cell_type": "code",
   "execution_count": null,
   "metadata": {},
   "outputs": [],
   "source": [
    "people_num = [\"height\",\"mass\",\"birth_year\"]\n",
    "planets_num = [\"diameter\",\"rotation_period\",\"orbital_period\",\"population\",\"surface_water\", \"gravity\"]\n",
    "species_num = [\"average_height\",\"average_lifespan\"]\n",
    "starships_num = [\"passengers\",\"length\",\"crew\",\"cost_in_credits\",\"cargo_capacity\"\n",
    "                 ,\"hyperdrive_rating\",\"MGLT\",\"max_atmosphering_speed\"]\n",
    "vehicles_num = [\"cargo_capacity\",\"cost_in_credits\",\"crew\",\"length\",\"max_atmosphering_speed\",\"passengers\"]\n"
   ]
  },
  {
   "cell_type": "code",
   "execution_count": null,
   "metadata": {},
   "outputs": [],
   "source": [
    "people_df.loc[(people_df[\"gender\"].isin(['n/a', 'none'])) | people_df[\"gender\"].isna(),\"gender\"] = 'none'\n",
    "planets_df[\"temperate_tropical\"] = planets_df.climate.apply(lambda x: (\"temperate\" in x) or (\"tropical\" in x)).astype(int)\n",
    "\n",
    "# cambiar varaible birth_year por Age.\n",
    "# cambiar UTL de homeworld por nombre\n",
    "# cambiar utl piloto por nombre"
   ]
  },
  {
   "cell_type": "code",
   "execution_count": null,
   "metadata": {},
   "outputs": [],
   "source": [
    "people_df2 = str2num(people_df,people_num)\n",
    "planets_df2 = str2num(planets_df,planets_num)\n",
    "species_df2 = str2num(species_df,species_num)\n",
    "starships_df2 = str2num(starships_df,starships_num)\n",
    "vehicles_df2 = str2num(vehicles_df,vehicles_num)\n"
   ]
  },
  {
   "cell_type": "code",
   "execution_count": null,
   "metadata": {},
   "outputs": [],
   "source": [
    "planets_df2.loc[\"Bespin\",\"gravity\"] = 1.5"
   ]
  },
  {
   "cell_type": "code",
   "execution_count": null,
   "metadata": {},
   "outputs": [],
   "source": [
    "people_df2.to_pickle(\"www/people_df.pkl\")\n",
    "planets_df2.to_pickle(\"www/planets_df.pkl\")\n",
    "species_df2.to_pickle(\"www/species_df.pkl\")\n",
    "starships_df2.to_pickle(\"www/starships_df.pkl\")\n",
    "vehicles_df2.to_pickle(\"www/vehicles_df.pkl\")"
   ]
  },
  {
   "cell_type": "code",
   "execution_count": null,
   "metadata": {
    "scrolled": true
   },
   "outputs": [],
   "source": [
    "vehicles_df2.describe()"
   ]
  },
  {
   "cell_type": "markdown",
   "metadata": {},
   "source": [
    "< [Gestión de datos](modulo1_tema4_Py_50_gest_dat.ipynb) | [Índice](modulo1_tema4_Py_00_indice.ipynb)\n",
    "\n",
    "<a href=\"https://colab.research.google.com/github/griu/mbdds_fc20/blob/master/Python/modulo1_tema4_Py_60_anexo.ipynb\" target=\"_parent\"><img align=\"left\" src=\"https://colab.research.google.com/assets/colab-badge.svg\" alt=\"Open In Colab\" title=\"Abre y Ejecuta en Google Colaboratory\"></a>"
   ]
  }
 ],
 "metadata": {
  "kernelspec": {
   "display_name": "mbdds_rpy20",
   "language": "python",
   "name": "mbdds_rpy20"
  },
  "language_info": {
   "codemirror_mode": {
    "name": "ipython",
    "version": 3
   },
   "file_extension": ".py",
   "mimetype": "text/x-python",
   "name": "python",
   "nbconvert_exporter": "python",
   "pygments_lexer": "ipython3",
   "version": "3.6.9"
  }
 },
 "nbformat": 4,
 "nbformat_minor": 4
}
