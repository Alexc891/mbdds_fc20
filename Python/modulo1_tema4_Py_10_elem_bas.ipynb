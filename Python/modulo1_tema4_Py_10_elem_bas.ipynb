{
 "cells": [
  {
   "cell_type": "markdown",
   "metadata": {},
   "source": [
    "<img align=\"left\" style=\"padding-right:10px;\" width=\"150\" src=\"www/320px-Star_Wars_Logo.svg.png\" />\n",
    "\n",
    "*Este notebook forma parte del TEMA 1.4. HERRAMIENTAS DE ANÁLISI: PROGRAMACIÓN EN R Y PROGRAMACIÓN EN PYTHON del MÓDULO 1: HERRAMIENTAS BIG DATA del Máster en Big Data & Data Science de la Universitat de Barcelona - IL3 - FORYMAT elaborado por Ferran Carrascosa Mallafrè.*"
   ]
  },
  {
   "cell_type": "markdown",
   "metadata": {},
   "source": [
    "< [Introducción](modulo1_tema4_Py.ipynb) | [Índice](modulo1_tema4_Py_00_indice.ipynb) | [Gráficos con matplotlib](modulo1_tema4_Py_20_matplotlib.ipynb) >\n",
    "\n",
    "__[Abre en Colab](https://colab.research.google.com/github/griu/mbdds_fc20/blob/master/Python/modulo1_tema4_Py_10_elem_bas.ipynb)__   *: <span style=\"color:rgba(255, 99, 71, 0.8)\">Padawan! Cuando inicies sesión en Colab, prepara el entorno ejecutando el siguiente código.</span>*"
   ]
  },
  {
   "cell_type": "code",
   "execution_count": 1,
   "metadata": {},
   "outputs": [],
   "source": [
    "if 'google.colab' in str(get_ipython()):\n",
    "    !git clone https://github.com/griu/mbdds_fc20.git /content/mbdds_fc20\n",
    "    !git -C /content/mbdds_fc20 pull\n",
    "    %cd /content/mbdds_fc20/Python\n",
    "    !python -m pip install -r requirementsColab.txt"
   ]
  },
  {
   "cell_type": "markdown",
   "metadata": {},
   "source": [
    "# ELEMENTOS BÁSICOS DE PYTHON"
   ]
  },
  {
   "cell_type": "markdown",
   "metadata": {},
   "source": [
    "Aunque se presuponen unos conocimientos iniciales de Python, a continuación, se hace un repaso de Python, Anaconda y notebooks de Jupyter-Colab. El objetivo es reforzar aquellos elementos más orientados al análisis de datos."
   ]
  },
  {
   "cell_type": "markdown",
   "metadata": {},
   "source": [
    "## INTERFAZ DE USUARIO"
   ]
  },
  {
   "cell_type": "markdown",
   "metadata": {},
   "source": [
    "Python se puede ejecutar de forma interactiva des de consola de texto. Para abrir la consola, ejecutar el comando Python desde un terminal Windows o Linux. El temario utiliza notebooks ejecutados des de Jupyter y/o Colab. \n",
    "\n",
    "Prueba a ejecutar la siguiente línea directamente en este notebook.\n"
   ]
  },
  {
   "cell_type": "code",
   "execution_count": 2,
   "metadata": {},
   "outputs": [
    {
     "data": {
      "text/plain": [
       "2.4"
      ]
     },
     "execution_count": 2,
     "metadata": {},
     "output_type": "execute_result"
    }
   ],
   "source": [
    "6 / (4 - 1.5)"
   ]
  },
  {
   "cell_type": "markdown",
   "metadata": {},
   "source": [
    "> **Recuerda**: Para editar una celda del notebook, aprieta `Enter`. Para ejecutarla,  `Ctrl+Enter` (sólo ejecuta), o bien, `Mayús+Enter` (ejecuta y avanza celda).  "
   ]
  },
  {
   "cell_type": "markdown",
   "metadata": {},
   "source": [
    "### FICHEROS *.py\n",
    "\n",
    "Una forma habitual de programar en Python es mediante ficheros de texto con extensión `.py`. Existen múltiples entornos para estos ficheros: Spyder (parecido a RStudio), PyCharm, Visual Studio Code o cualquier editor de texto como Notepad++.\n",
    "\n",
    "Este tipo de ficheros se utilizan habitualmente para generar librerías de funciones y ejecutar desarrollo productivo de aplicaciones en Python.\n"
   ]
  },
  {
   "cell_type": "markdown",
   "metadata": {},
   "source": [
    "### NOTEBOOKS JUPYTER (*.ipynb)\n",
    "\n",
    "Los notebooks, como éste que estás leyendo, son la solución de la comunidad de SciPy para la programación interactiva. El proyecto nació con el nombre [IPython](https://ipython.org) (o Python interactivo) y actualmente se orquestra en el paraguas de la plataforma [Jupyter](https://jupyter.org/). Jupyter permite ejecutar de forma interactiva docenas de lenguajes como Python, R...\n",
    "\n",
    "Los notebooks, al igual que Rmardown, permiten combinar texto en formato Markdown (lenguaje de marcas ligero), con código con resultados en forma de texto o gráficos. Esta forma de funcionar resulta óptima para el análisis de datos y la formación.\n",
    "\n",
    "Su uso se ha extendido de la mano del proyecto [Anaconda](https://www.anaconda.com/), la mayor plataforma de gestión de librerías open source enfocadas a la computación científica.\n",
    "\n",
    "Para iniciar el entorno Jupyter sigue la guía del [Anexo: README de Python](modulo1_tema4_Py_60_anexo.ipynb) apartado \"PREPARACIÓN ENTORNO LOCAL-JUPYTER (OPCIONAL)\"."
   ]
  },
  {
   "cell_type": "markdown",
   "metadata": {},
   "source": [
    "#### COLABORATORY o COLAB\n",
    "\n",
    "Actualmente la comunidad de Python cuenta con la plataforma [Colaboratory o Colab](https://colab.research.google.com) que es un entorno libre para ejecutar notebooks Jupyter y almacenarlos en Google Drive. Este entorno sólo permite abrir ficheros .ipynb (no .py), pero facilita en gran medida su uso para desarrollar formación.\n",
    "\n",
    "Puedes abrir los notebooks de este tema con Colab clicando en: [<span style=\"color:white;background-color:#1E90FF;font-size: 110%;border:2px solid #4682B4;text-decoration:underline\">|  Abre en Colab  |</span>](https://colab.research.google.com/github/griu/mbdds_fc20/blob/master/Python/modulo1_tema4_Py_10_elem_bas.ipynb)\n",
    "\n",
    "\n",
    "\n",
    "En la parte superior de los notebooks, encontrarás un script que inicializa el entorno Colab con las versiones de los paquetes de Python correctas y descarga el repositorio Github con el material del curso.  "
   ]
  },
  {
   "cell_type": "markdown",
   "metadata": {},
   "source": [
    "#### ACTIVIDAD GUIADA 2.1.\n",
    "\n",
    "Crea tu primer notebook. En Jupyter/Colab, accede al menú `File > New Notebook`. \n",
    "\n",
    "> En Jupyter, selecciona el Kernel `mbdds_rpy20` que has creado como se indica en el [Anexo: README de Python](modulo1_tema4_Py_60_anexo.ipynb).\n",
    "\n",
    "Inserta el siguiente código Python y ejecútalo:\n",
    "\n",
    "```\n",
    "print(\"Hello Wold!\")\n",
    "```\n",
    "\n",
    "Guarda el documento con el nombre `21_actividad`."
   ]
  },
  {
   "cell_type": "markdown",
   "metadata": {},
   "source": [
    "#### EDITAR NOTEBOOKS JUPYTER\n",
    "\n",
    "Un notebook está compuesto por un conjunto de casillas que pueden ser de distinto tipo:\n",
    "\n",
    "- *Code*: Código Python que se puede ejecutar interactivamente y puede tener un salida o output.\n",
    "- *Markdown*: Inserta texto con este formato. No tiene output.\n",
    "\n",
    "Una casilla, puede tener dos modos:\n",
    "\n",
    "- Edición: Aprieta `Enter` o doble clic. Puedes modificar su contenido Python o Markdown\n",
    "- Visión: Tecla `Esc` o clic barra izquierda (en Jupyter). Selecciona una o varias casillas con el ratón o con las teclas `Mayús + Cursos`.\n",
    "\n",
    "Para mostrar una casilla Markdown en formato impresión (sin marcas), ejecútala del mismo modo que si fuera código:\n",
    "  - Sólo ejecutar: `Ctrl+Enter`.\n",
    "  - Ejecutar y avanzar casilla: Botón `Run`, o bien, `Mayús+Enter`.\n",
    "  "
   ]
  },
  {
   "cell_type": "markdown",
   "metadata": {},
   "source": [
    "##### ATAJOS DE TECLADO\n",
    "\n",
    "Puedes gestionar las celdas des del teclado en el modo de Visión (**tecla`Esc`**):\n",
    "\n",
    "- Cambiar tipo celda: \n",
    "  - Modo Markdown: Tecla `M`, `Ctr+M+M` (Colab).\n",
    "  - Modo Code: Tecla `Y`, `Ctr+M+Y` (Colab).\n",
    "- Insertar celdas:\n",
    "  - Antes: Tecla `A`, `Ctr+M+A` (Colab).\n",
    "  - Después: Tecla `B`, `Ctr+M+B` (Colab).\n",
    "- Copiar, pegar, desplazar arriba, abajo..."
   ]
  },
  {
   "cell_type": "markdown",
   "metadata": {},
   "source": []
  },
  {
   "cell_type": "markdown",
   "metadata": {},
   "source": [
    "##### MARKDOWN\n",
    "\n",
    "- **Parágrafo de texto**: Deja  una línea en blanco (`Enter`) antes y después de un parágrafo de texto.\n",
    "- **Encabezados**: Utiliza # seguido de espacio en blanco para los títulos de las secciones:\n",
    "```\n",
    "# TITULO NIVEL 1\n",
    "## TITULO NIVEL 2\n",
    "...\n",
    "```\n",
    "Deja también una línea en blanco (`Enter`) antes y después del título.\n",
    "- **Emphasis**: Negrita con `**string**` . Cursiva con `*string*`.\n",
    "- **Código látex**:  ```$x^2$```. $x^2$\n",
    "- **Fuente ancho fijo**:  \\`texto\\` (usa tilde abierta o con orientación izquierda).\n",
    "- **Bloque de código (sin que se ejecute)**:  Tres abiertas, código (nueva línea), tres tildes abiertas. Ejemplo: \n",
    "\\`\\`\\`\n",
    "```\n",
    "Soy codigo1\n",
    "Soy código2 \n",
    "```\n",
    "\\`\\`\\`\n",
    "- **Línea en blanco**: Usa una líena nueva con dos espacios o `<br>`.\n",
    "- **Lista de puntos**: Al inicio de línea, usa guion `-` seguido de espacio y texto. Para una sublista de puntos pon tres espacios o tabulado y guion. Puedes usar también asterisco.\n",
    "- **Lista numerada**: Al inicio, pon `1. ` seguido de espacio y texto. No es necesario cambiar el `1.` en cada nueva línea.\n",
    "- **Link externo**: `[texto enlace](http://url)`\n",
    "- **Link interno**: Crea un ID con html `<a id=\"seccion_ID\"></a>` antes de la sección. Ahora, para enlazar con la sección, utiliza `[titulo sección](#seccion_ID)`.\n",
    "- **Imagen**: Arrastrar y soltar en la celda markdown. También con `![texto alternativo](url imagen o ruta del a imagen)`, o también, ` <img src=\"url imagen o ruta del a imagen\" alt=\"texto alternativo\" title=\"texto descriptivo\" />` .\n",
    "- **Sangrado (Indented)**: Al incio de línea, usa símbolo `> ` seguido de espacio y texto. Ejemplo:\n",
    "\n",
    "> Texto sangrado\n",
    "\n",
    "- **Línea horizontal**: Tres asteriscos al inicio de línea, `***` .\n",
    "- **Colores**: Usa `<font color=blue|red|green|pink|yellow>Texto</font>` ."
   ]
  },
  {
   "cell_type": "markdown",
   "metadata": {},
   "source": [
    "##### AYUDA DES DEL NOTEBOOK\n",
    "\n",
    "En Python se pide ayuda de un comando con:"
   ]
  },
  {
   "cell_type": "code",
   "execution_count": 3,
   "metadata": {},
   "outputs": [
    {
     "name": "stdout",
     "output_type": "stream",
     "text": [
      "Help on built-in function len in module builtins:\n",
      "\n",
      "len(obj, /)\n",
      "    Return the number of items in a container.\n",
      "\n"
     ]
    }
   ],
   "source": [
    "help(len)"
   ]
  },
  {
   "cell_type": "markdown",
   "metadata": {},
   "source": [
    "En Jupyter, ejecuta `?comando` para que se abra un menú contextual de ayuda."
   ]
  },
  {
   "cell_type": "code",
   "execution_count": 4,
   "metadata": {},
   "outputs": [],
   "source": [
    "?len"
   ]
  },
  {
   "cell_type": "markdown",
   "metadata": {},
   "source": [
    "También con el tabulador tea ayuda a autocompletar código, ver opciones, parámetros... "
   ]
  },
  {
   "cell_type": "markdown",
   "metadata": {},
   "source": [
    "##### COMANDOS MÁGICOS\n",
    "\n",
    "Los comandos mágicos, aumentan las capacidades interactivas de los notebooks. Son de uso común:\n",
    "\n",
    "Ejecutar script .py"
   ]
  },
  {
   "cell_type": "code",
   "execution_count": 5,
   "metadata": {},
   "outputs": [
    {
     "name": "stdout",
     "output_type": "stream",
     "text": [
      "Hello World!\n"
     ]
    }
   ],
   "source": [
    "%run holaMundo.py"
   ]
  },
  {
   "cell_type": "markdown",
   "metadata": {},
   "source": [
    "Historial de comandos ejecutados."
   ]
  },
  {
   "cell_type": "code",
   "execution_count": 6,
   "metadata": {},
   "outputs": [
    {
     "name": "stdout",
     "output_type": "stream",
     "text": [
      "if 'google.colab' in str(get_ipython()):\n",
      "    !git clone https://github.com/griu/mbdds_fc20.git /content/mbdds_fc20\n",
      "    !git -C /content/mbdds_fc20 pull\n",
      "    %cd /content/mbdds_fc20/Python\n",
      "    !python -m pip install -r requirementsColab.txt\n",
      "6 / (4 - 1.5)\n",
      "help(len)\n"
     ]
    }
   ],
   "source": [
    "# vemos los primerso 3:\n",
    "%history 1-3"
   ]
  },
  {
   "cell_type": "markdown",
   "metadata": {},
   "source": [
    "Cambiar de directorio de trabajo.\n",
    "\n",
    "```\n",
    "%cd nueva_ruta\n",
    "```"
   ]
  },
  {
   "cell_type": "markdown",
   "metadata": {},
   "source": [
    "Tiempo de ejecución de una línea."
   ]
  },
  {
   "cell_type": "code",
   "execution_count": 7,
   "metadata": {},
   "outputs": [
    {
     "name": "stdout",
     "output_type": "stream",
     "text": [
      "Wall time: 0 ns\n"
     ]
    }
   ],
   "source": [
    "%time L = [n ** 2 for n in range(1000)]"
   ]
  },
  {
   "cell_type": "markdown",
   "metadata": {},
   "source": [
    "De toda una celda"
   ]
  },
  {
   "cell_type": "code",
   "execution_count": 8,
   "metadata": {},
   "outputs": [
    {
     "name": "stdout",
     "output_type": "stream",
     "text": [
      "Wall time: 2 ms\n"
     ]
    }
   ],
   "source": [
    "%%time\n",
    "L1 = [n ** 2 for n in range(1000)]\n",
    "L2 = [n ** 2 for n in range(1000)]\n",
    "L3 = [n ** 2 for n in range(1000)]"
   ]
  },
  {
   "cell_type": "markdown",
   "metadata": {},
   "source": [
    "##### COMANDOS SHELL"
   ]
  },
  {
   "cell_type": "markdown",
   "metadata": {},
   "source": [
    "Los comandos de sistema se pueden ejecutar con `!comando`"
   ]
  },
  {
   "cell_type": "code",
   "execution_count": 9,
   "metadata": {},
   "outputs": [
    {
     "name": "stdout",
     "output_type": "stream",
     "text": [
      " El volumen de la unidad C es Local Disk\n",
      " El n£mero de serie del volumen es: 70D9-AE2E\n",
      "\n",
      " Directorio de C:\\Users\\usuari\\Documents\\GitHub\\mbdds_fc20\\Python\n",
      "\n",
      "12/09/2020  12:02    <DIR>          .\n",
      "12/09/2020  12:02    <DIR>          ..\n",
      "12/09/2020  11:59    <DIR>          .ipynb_checkpoints\n",
      "08/09/2020  15:38                23 holaMundo.py\n",
      "12/09/2020  11:11            36.419 modulo1_tema4_Py.ipynb\n",
      "12/09/2020  11:12             2.034 modulo1_tema4_Py_00_indice.ipynb\n",
      "12/09/2020  11:24            18.039 modulo1_tema4_Py_10_elem_bas.ipynb\n",
      "12/09/2020  11:41           316.924 modulo1_tema4_Py_20_matplotlib.ipynb\n",
      "12/09/2020  11:44            24.675 modulo1_tema4_Py_30_colec_obj.ipynb\n",
      "12/09/2020  11:48            63.099 modulo1_tema4_Py_31_numpy.ipynb\n",
      "12/09/2020  11:53           169.241 modulo1_tema4_Py_32_pandas.ipynb\n",
      "12/09/2020  11:54            31.676 modulo1_tema4_Py_40_contr_flujo.ipynb\n",
      "12/09/2020  12:01           276.232 modulo1_tema4_Py_50_gest_dat.ipynb\n",
      "08/09/2020  15:38            15.658 modulo1_tema4_Py_60_anexo.ipynb\n",
      "12/09/2020  10:59    <DIR>          old\n",
      "08/09/2020  15:38             1.914 README.md\n",
      "08/09/2020  15:38             1.855 requirementsColab.txt\n",
      "12/09/2020  11:17    <DIR>          Rmd\n",
      "11/09/2020  17:55    <DIR>          www\n",
      "              13 archivos        957.789 bytes\n",
      "               6 dirs   2.359.828.480 bytes libres\n"
     ]
    }
   ],
   "source": [
    "!dir"
   ]
  },
  {
   "cell_type": "markdown",
   "metadata": {},
   "source": [
    "#### FUNCIONES\n",
    "\n",
    "Para definir la función valor absoluto: "
   ]
  },
  {
   "cell_type": "code",
   "execution_count": 10,
   "metadata": {},
   "outputs": [],
   "source": [
    "def valor_absoluto(num):\n",
    "    \"\"\"devuelve el valor absoluto\"\"\"\n",
    "\n",
    "    if num >= 0:\n",
    "        return num\n",
    "    else:\n",
    "        return -num"
   ]
  },
  {
   "cell_type": "markdown",
   "metadata": {},
   "source": [
    "- Se inicia la definción con `def`, seguido del nombre de la función\n",
    "- A continuación los parámetros entre paréntesis y `:` \n",
    "  - Admite definir valores por defecto \n",
    "- La ayuda por si se llama a ?valor_absoluto\n",
    "- El cuerpo del código con sangrado\n",
    "- Puede devolver un objeto añadiendo `return objecto`\n",
    "- Si se quiere devolver valores por pantalla hay que usar print\n",
    "\n",
    "Para llamar a la función."
   ]
  },
  {
   "cell_type": "code",
   "execution_count": 11,
   "metadata": {
    "fig.asp": "#R_CODE#4/5",
    "fig.cap": "Resultado función `describir`",
    "fig.width": 3
   },
   "outputs": [
    {
     "data": {
      "text/plain": [
       "6"
      ]
     },
     "execution_count": 11,
     "metadata": {},
     "output_type": "execute_result"
    }
   ],
   "source": [
    "valor_absoluto(-6)"
   ]
  },
  {
   "cell_type": "markdown",
   "metadata": {},
   "source": [
    "#### PAQUETES\n",
    "\n",
    "El indexador de paquetes de Python es **PyPI**. igual que **CRAN** en R. Actualmente indexa más de 235.000 librearías.\n",
    "\n",
    "Para instalarlos hay distintos métodos. El más general es mediante `pip` desde Shell.\n",
    "\n",
    "```\n",
    "pip install nombre_paquete\n",
    "```\n",
    "\n",
    "> **Sabías que**: Anaconda tiene su propio gestor de paquetes llamado `conda`. Funciona de forma similar a `pip`. Además `conda`, aporta la capacidad de gestionar *Environments*, que a su vez, permiten fijar un conjunto de versiones de paquetes de Python. Los *Environments* facilitan reproducir en otras máquinas todo el entorno de ejecución y la replicabilidad de los desarrollos. Revisa un ejemplo en [Anexo: README de Python](modulo1_tema4_Py_60_anexo.ipynb).\n",
    "\n",
    "Desde Jupyter/Colab también se pueden instalar paquetes con `!pip` y `!conda` (fíjate que ahora llevan `!` delante.\n",
    "\n",
    "```\n",
    "!pip install nombre_paquete\n",
    "```\n",
    "\n",
    "Una vez instalados, en cada nueva sesión de Jupyter, hay que importarlos para que sean accesibles.\n",
    "\n",
    "```\n",
    "import nombre_paquete\n",
    "```"
   ]
  },
  {
   "cell_type": "markdown",
   "metadata": {},
   "source": [
    "< [Introducción](modulo1_tema4_Py.ipynb) | [Índice](modulo1_tema4_Py_00_indice.ipynb) | [Gráficos con matplotlib](modulo1_tema4_Py_20_matplotlib.ipynb) >\n",
    "\n",
    "__[Abre en Colab](https://colab.research.google.com/github/griu/mbdds_fc20/blob/master/Python/modulo1_tema4_Py_10_elem_bas.ipynb)__"
   ]
  }
 ],
 "metadata": {
  "kernelspec": {
   "display_name": "mbdds_rpy20",
   "language": "python",
   "name": "mbdds_rpy20"
  },
  "language_info": {
   "codemirror_mode": {
    "name": "ipython",
    "version": 3
   },
   "file_extension": ".py",
   "mimetype": "text/x-python",
   "name": "python",
   "nbconvert_exporter": "python",
   "pygments_lexer": "ipython3",
   "version": "3.6.9"
  }
 },
 "nbformat": 4,
 "nbformat_minor": 4
}
