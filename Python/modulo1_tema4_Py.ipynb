{
 "cells": [
  {
   "cell_type": "markdown",
   "metadata": {},
   "source": [
    "<img align=\"left\" style=\"padding-right:10px;\" width=\"150\" src=\"www/320px-Star_Wars_Logo.svg.png\" />\n",
    "\n",
    "*Este notebook forma parte del TEMA 1.4. HERRAMIENTAS DE ANÁLISI: PROGRAMACIÓN EN R Y PROGRAMACIÓN EN PYTHON del MÓDULO 1: HERRAMIENTAS BIG DATA del Máster en Big Data & Data Science de la Universitat de Barcelona - IL3 - FORYMAT elaborado por Ferran Carrascosa Mallafrè.*"
   ]
  },
  {
   "cell_type": "markdown",
   "metadata": {},
   "source": [
    "[Índice](modulo1_tema4_Py_00_indice.ipynb) | [Elementos básicos de Python](modulo1_tema4_Py_10_elem_bas.ipynb) >\n",
    "\n",
    "__[Abre en Colab](https://colab.research.google.com/github/griu/mbdds_fc20/blob/master/Python/modulo1_tema4_Py.ipynb)__ *: <span style=\"color:rgba(255, 99, 71, 0.8)\">Padawan! Cuando inicies sesión en Colab, prepara el entorno ejecutando el siguiente código.</span>*"
   ]
  },
  {
   "cell_type": "code",
   "execution_count": 1,
   "metadata": {},
   "outputs": [],
   "source": [
    "if 'google.colab' in str(get_ipython()):\n",
    "    !git clone https://github.com/griu/mbdds_fc20.git /content/mbdds_fc20\n",
    "    !git -C /content/mbdds_fc20 pull\n",
    "    %cd /content/mbdds_fc20/Python\n",
    "    !python -m pip install -r requirementsColab.txt"
   ]
  },
  {
   "cell_type": "markdown",
   "metadata": {},
   "source": [
    "# INTRODUCCIÓN"
   ]
  },
  {
   "cell_type": "markdown",
   "metadata": {},
   "source": [
    "Python es una herramienta para la programación de propósito general. \n",
    "\n",
    "En los últimos años, se ha convertido en uno de los lenguajes de referencia para el *Data Science*. El motivo es que ha sabido rodearse de un gran ecosistema como [SciPy](https://www.scipy.org/) con librerías (numpy, pandas, scipy...) y herramientas (Jupyter, Spyder,...) orientadas al análisis y a la programación matemática.\n",
    "\n",
    "Los desarrolladores de Python buscan hacer un lenguaje vivo y atractivo para el programador. Prueba de ello es que su nombre es un tributo a la compañia de humor británica *Monthy Python*.\n",
    "\n",
    "El núcleo de su filosofía de programación se resume en el \"*Zen de Python*\", formado por 20 aforismos escritos por Tim Peters, 19 de los cuales se pueden leer más abajo importando `this`. El veinte, dijo Tim Peters que lo diría el creador de Python, Guido van Rossum, pero parece que aún no se ha pronunciado... "
   ]
  },
  {
   "cell_type": "code",
   "execution_count": 2,
   "metadata": {
    "scrolled": true
   },
   "outputs": [
    {
     "name": "stdout",
     "output_type": "stream",
     "text": [
      "The Zen of Python, by Tim Peters\n",
      "\n",
      "Beautiful is better than ugly.\n",
      "Explicit is better than implicit.\n",
      "Simple is better than complex.\n",
      "Complex is better than complicated.\n",
      "Flat is better than nested.\n",
      "Sparse is better than dense.\n",
      "Readability counts.\n",
      "Special cases aren't special enough to break the rules.\n",
      "Although practicality beats purity.\n",
      "Errors should never pass silently.\n",
      "Unless explicitly silenced.\n",
      "In the face of ambiguity, refuse the temptation to guess.\n",
      "There should be one-- and preferably only one --obvious way to do it.\n",
      "Although that way may not be obvious at first unless you're Dutch.\n",
      "Now is better than never.\n",
      "Although never is often better than *right* now.\n",
      "If the implementation is hard to explain, it's a bad idea.\n",
      "If the implementation is easy to explain, it may be a good idea.\n",
      "Namespaces are one honking great idea -- let's do more of those!\n"
     ]
    }
   ],
   "source": [
    "import this"
   ]
  },
  {
   "cell_type": "markdown",
   "metadata": {},
   "source": [
    "Ser *Pythoniano* o *Pythónico* significa utilizar correctamente el código, es decir, programar con un lenguaje simple y fácil de leer."
   ]
  },
  {
   "cell_type": "markdown",
   "metadata": {},
   "source": [
    "## ACTIVIDAD GUIADA 2\n",
    "\n",
    "La actividad guiada, que te proponemos, en consonancia con los Pythonianos, es que te diviertas analizando datos relacionados con la saga de Star Wars: Planetas, Naves, Vehículos, Personajes y Especies.\n",
    "\n",
    "Para ello, contamos con los datos de [SWAPI](https://swapi.dev/), acrónimo de STAR WARS API, que nos da acceso libre a una colección de datos de la saga.\n",
    "\n",
    "Estos datos se han descargado y preparado expresamente para este curso. Puedes encontrar el código utilizado en el [Anexo: README de Python](modulo1_tema4_Py_60_anexo.ipynb), capítulo \"IMPORTAR DATOS DE STARWARS SWAPI\".\n",
    "\n",
    "Para cargar los datos y visualizar su contenido."
   ]
  },
  {
   "cell_type": "code",
   "execution_count": 3,
   "metadata": {},
   "outputs": [
    {
     "data": {
      "image/png": "[encoded data removed]",
      "text/plain": [
       "<Figure size 432x288 with 1 Axes>"
      ]
     },
     "metadata": {},
     "output_type": "display_data"
    }
   ],
   "source": [
    "%matplotlib inline\n",
    "import pandas as pd\n",
    "import matplotlib.pyplot as plt\n",
    "#import seaborn as sns\n",
    "plt.style.use('seaborn-whitegrid')\n",
    "\n",
    "entidades = ['planets','starships','vehicles','people','species']\n",
    "entidades_df = {x: pd.read_pickle('www/' + x + '_df.pkl') for x in entidades}\n",
    "entidades_count = {k: v.shape for k,v in entidades_df.items()}\n",
    "entidades_count_df = pd.DataFrame.from_dict(entidades_count, orient='index', columns=['N_Filas', \"N_Columnas\"])\n",
    "\n",
    "g = entidades_count_df.plot.bar()\n",
    "plt.title(\"Número de Filas y Columnas en las tablas de Starwars\")\n",
    "#g.title = 'Entidad de Starwars'\n",
    "for i, (k, row) in enumerate(entidades_count_df.iterrows()):\n",
    "    g.text(i-0.1, row['N_Filas']+1, row['N_Filas'], color='black', ha=\"center\")\n",
    "    g.text(i+0.1, row['N_Columnas']+1, row['N_Columnas'], color='black', ha=\"center\")\n"
   ]
  },
  {
   "cell_type": "markdown",
   "metadata": {},
   "source": [
    "Vemos que los datos están formados por 5 conjuntos. Por ejemplo, `people`, contienen 82 personajes descritos mediante 16 variables.\n",
    "\n",
    "Una muestra de los datos de los personajes."
   ]
  },
  {
   "cell_type": "code",
   "execution_count": 4,
   "metadata": {
    "scrolled": true
   },
   "outputs": [
    {
     "data": {
      "text/html": [
       "<div>\n",
       "<style scoped>\n",
       "    .dataframe tbody tr th:only-of-type {\n",
       "        vertical-align: middle;\n",
       "    }\n",
       "\n",
       "    .dataframe tbody tr th {\n",
       "        vertical-align: top;\n",
       "    }\n",
       "\n",
       "    .dataframe thead th {\n",
       "        text-align: right;\n",
       "    }\n",
       "</style>\n",
       "<table border=\"1\" class=\"dataframe\">\n",
       "  <thead>\n",
       "    <tr style=\"text-align: right;\">\n",
       "      <th></th>\n",
       "      <th>height</th>\n",
       "      <th>mass</th>\n",
       "      <th>hair_color</th>\n",
       "      <th>skin_color</th>\n",
       "      <th>eye_color</th>\n",
       "      <th>birth_year</th>\n",
       "      <th>gender</th>\n",
       "      <th>homeworld</th>\n",
       "      <th>films</th>\n",
       "      <th>species</th>\n",
       "      <th>vehicles</th>\n",
       "      <th>starships</th>\n",
       "      <th>created</th>\n",
       "      <th>edited</th>\n",
       "      <th>url</th>\n",
       "    </tr>\n",
       "    <tr>\n",
       "      <th>name</th>\n",
       "      <th></th>\n",
       "      <th></th>\n",
       "      <th></th>\n",
       "      <th></th>\n",
       "      <th></th>\n",
       "      <th></th>\n",
       "      <th></th>\n",
       "      <th></th>\n",
       "      <th></th>\n",
       "      <th></th>\n",
       "      <th></th>\n",
       "      <th></th>\n",
       "      <th></th>\n",
       "      <th></th>\n",
       "      <th></th>\n",
       "    </tr>\n",
       "  </thead>\n",
       "  <tbody>\n",
       "    <tr>\n",
       "      <th>Luke Skywalker</th>\n",
       "      <td>172.0</td>\n",
       "      <td>77.0</td>\n",
       "      <td>blond</td>\n",
       "      <td>fair</td>\n",
       "      <td>blue</td>\n",
       "      <td>19.0</td>\n",
       "      <td>male</td>\n",
       "      <td>http://swapi.dev/api/planets/1/</td>\n",
       "      <td>[http://swapi.dev/api/films/1/, http://swapi.d...</td>\n",
       "      <td>[]</td>\n",
       "      <td>[http://swapi.dev/api/vehicles/14/, http://swa...</td>\n",
       "      <td>[http://swapi.dev/api/starships/12/, http://sw...</td>\n",
       "      <td>2014-12-09T13:50:51.644000Z</td>\n",
       "      <td>2014-12-20T21:17:56.891000Z</td>\n",
       "      <td>http://swapi.dev/api/people/1/</td>\n",
       "    </tr>\n",
       "    <tr>\n",
       "      <th>C-3PO</th>\n",
       "      <td>167.0</td>\n",
       "      <td>75.0</td>\n",
       "      <td>n/a</td>\n",
       "      <td>gold</td>\n",
       "      <td>yellow</td>\n",
       "      <td>112.0</td>\n",
       "      <td>none</td>\n",
       "      <td>http://swapi.dev/api/planets/1/</td>\n",
       "      <td>[http://swapi.dev/api/films/1/, http://swapi.d...</td>\n",
       "      <td>[http://swapi.dev/api/species/2/]</td>\n",
       "      <td>[]</td>\n",
       "      <td>[]</td>\n",
       "      <td>2014-12-10T15:10:51.357000Z</td>\n",
       "      <td>2014-12-20T21:17:50.309000Z</td>\n",
       "      <td>http://swapi.dev/api/people/2/</td>\n",
       "    </tr>\n",
       "    <tr>\n",
       "      <th>R2-D2</th>\n",
       "      <td>96.0</td>\n",
       "      <td>32.0</td>\n",
       "      <td>n/a</td>\n",
       "      <td>white, blue</td>\n",
       "      <td>red</td>\n",
       "      <td>33.0</td>\n",
       "      <td>none</td>\n",
       "      <td>http://swapi.dev/api/planets/8/</td>\n",
       "      <td>[http://swapi.dev/api/films/1/, http://swapi.d...</td>\n",
       "      <td>[http://swapi.dev/api/species/2/]</td>\n",
       "      <td>[]</td>\n",
       "      <td>[]</td>\n",
       "      <td>2014-12-10T15:11:50.376000Z</td>\n",
       "      <td>2014-12-20T21:17:50.311000Z</td>\n",
       "      <td>http://swapi.dev/api/people/3/</td>\n",
       "    </tr>\n",
       "    <tr>\n",
       "      <th>Darth Vader</th>\n",
       "      <td>202.0</td>\n",
       "      <td>136.0</td>\n",
       "      <td>none</td>\n",
       "      <td>white</td>\n",
       "      <td>yellow</td>\n",
       "      <td>41.9</td>\n",
       "      <td>male</td>\n",
       "      <td>http://swapi.dev/api/planets/1/</td>\n",
       "      <td>[http://swapi.dev/api/films/1/, http://swapi.d...</td>\n",
       "      <td>[]</td>\n",
       "      <td>[]</td>\n",
       "      <td>[http://swapi.dev/api/starships/13/]</td>\n",
       "      <td>2014-12-10T15:18:20.704000Z</td>\n",
       "      <td>2014-12-20T21:17:50.313000Z</td>\n",
       "      <td>http://swapi.dev/api/people/4/</td>\n",
       "    </tr>\n",
       "    <tr>\n",
       "      <th>Leia Organa</th>\n",
       "      <td>150.0</td>\n",
       "      <td>49.0</td>\n",
       "      <td>brown</td>\n",
       "      <td>light</td>\n",
       "      <td>brown</td>\n",
       "      <td>19.0</td>\n",
       "      <td>female</td>\n",
       "      <td>http://swapi.dev/api/planets/2/</td>\n",
       "      <td>[http://swapi.dev/api/films/1/, http://swapi.d...</td>\n",
       "      <td>[]</td>\n",
       "      <td>[http://swapi.dev/api/vehicles/30/]</td>\n",
       "      <td>[]</td>\n",
       "      <td>2014-12-10T15:20:09.791000Z</td>\n",
       "      <td>2014-12-20T21:17:50.315000Z</td>\n",
       "      <td>http://swapi.dev/api/people/5/</td>\n",
       "    </tr>\n",
       "  </tbody>\n",
       "</table>\n",
       "</div>"
      ],
      "text/plain": [
       "                height   mass hair_color   skin_color eye_color  birth_year  \\\n",
       "name                                                                          \n",
       "Luke Skywalker   172.0   77.0      blond         fair      blue        19.0   \n",
       "C-3PO            167.0   75.0        n/a         gold    yellow       112.0   \n",
       "R2-D2             96.0   32.0        n/a  white, blue       red        33.0   \n",
       "Darth Vader      202.0  136.0       none        white    yellow        41.9   \n",
       "Leia Organa      150.0   49.0      brown        light     brown        19.0   \n",
       "\n",
       "                gender                        homeworld  \\\n",
       "name                                                      \n",
       "Luke Skywalker    male  http://swapi.dev/api/planets/1/   \n",
       "C-3PO             none  http://swapi.dev/api/planets/1/   \n",
       "R2-D2             none  http://swapi.dev/api/planets/8/   \n",
       "Darth Vader       male  http://swapi.dev/api/planets/1/   \n",
       "Leia Organa     female  http://swapi.dev/api/planets/2/   \n",
       "\n",
       "                                                            films  \\\n",
       "name                                                                \n",
       "Luke Skywalker  [http://swapi.dev/api/films/1/, http://swapi.d...   \n",
       "C-3PO           [http://swapi.dev/api/films/1/, http://swapi.d...   \n",
       "R2-D2           [http://swapi.dev/api/films/1/, http://swapi.d...   \n",
       "Darth Vader     [http://swapi.dev/api/films/1/, http://swapi.d...   \n",
       "Leia Organa     [http://swapi.dev/api/films/1/, http://swapi.d...   \n",
       "\n",
       "                                          species  \\\n",
       "name                                                \n",
       "Luke Skywalker                                 []   \n",
       "C-3PO           [http://swapi.dev/api/species/2/]   \n",
       "R2-D2           [http://swapi.dev/api/species/2/]   \n",
       "Darth Vader                                    []   \n",
       "Leia Organa                                    []   \n",
       "\n",
       "                                                         vehicles  \\\n",
       "name                                                                \n",
       "Luke Skywalker  [http://swapi.dev/api/vehicles/14/, http://swa...   \n",
       "C-3PO                                                          []   \n",
       "R2-D2                                                          []   \n",
       "Darth Vader                                                    []   \n",
       "Leia Organa                   [http://swapi.dev/api/vehicles/30/]   \n",
       "\n",
       "                                                        starships  \\\n",
       "name                                                                \n",
       "Luke Skywalker  [http://swapi.dev/api/starships/12/, http://sw...   \n",
       "C-3PO                                                          []   \n",
       "R2-D2                                                          []   \n",
       "Darth Vader                  [http://swapi.dev/api/starships/13/]   \n",
       "Leia Organa                                                    []   \n",
       "\n",
       "                                    created                       edited  \\\n",
       "name                                                                       \n",
       "Luke Skywalker  2014-12-09T13:50:51.644000Z  2014-12-20T21:17:56.891000Z   \n",
       "C-3PO           2014-12-10T15:10:51.357000Z  2014-12-20T21:17:50.309000Z   \n",
       "R2-D2           2014-12-10T15:11:50.376000Z  2014-12-20T21:17:50.311000Z   \n",
       "Darth Vader     2014-12-10T15:18:20.704000Z  2014-12-20T21:17:50.313000Z   \n",
       "Leia Organa     2014-12-10T15:20:09.791000Z  2014-12-20T21:17:50.315000Z   \n",
       "\n",
       "                                           url  \n",
       "name                                            \n",
       "Luke Skywalker  http://swapi.dev/api/people/1/  \n",
       "C-3PO           http://swapi.dev/api/people/2/  \n",
       "R2-D2           http://swapi.dev/api/people/3/  \n",
       "Darth Vader     http://swapi.dev/api/people/4/  \n",
       "Leia Organa     http://swapi.dev/api/people/5/  "
      ]
     },
     "execution_count": 4,
     "metadata": {},
     "output_type": "execute_result"
    }
   ],
   "source": [
    "entidades_df['people'].head()"
   ]
  },
  {
   "cell_type": "markdown",
   "metadata": {},
   "source": [
    "Observa que hay variables numéricas como la altura, peso, edad (en años ABY Antes de la Batalla de Yavin). Otras categóricas, como el género del personaje. Incluso variables en formato de lista, como las películas en las que salió el personaje y los vehículos y naves que condujo...\n",
    "\n",
    "```\n",
    "\"Yoda habló de otra.\" \n",
    "\"La otra de quién habló es tu hermana gemela.» \n",
    "― Luke Skywalker y Obi-Wan Kenobi\n",
    "```\n",
    "\n",
    "> Te acordabas que Luke y Leia eran gemelos? ¿Sabías que su padre (Anakin, posteriormente Darth Vader tenía 22 años cuando los tuvo?\n",
    "\n",
    "Podrás analizar todo esto y mucho más, en los datos y así convertirte en el auténtico Jedi que sabemos que llevas dentro.\n",
    "\n",
    "Consulta la [Documentación de SWAPI](https://swapi.dev/documentation) sobre sus tablas y campos.\n",
    "\n",
    "*Y que la fuerza te acompañe...*"
   ]
  },
  {
   "cell_type": "markdown",
   "metadata": {},
   "source": [
    "< [Índice](modulo1_tema4_Py_00_indice.ipynb) | [Elementos básicos de Python](modulo1_tema4_Py_10_elem_bas.ipynb) >\n",
    "\n",
    "__[Abre en Colab](https://colab.research.google.com/github/griu/mbdds_fc20/blob/master/Python/modulo1_tema4_Py.ipynb)__ *: <span style=\"color:rgba(255, 99, 71, 0.8)\">Padawan! Cuando inicies sesión en Colab, prepara el entorno ejecutando el siguiente código.</span>*"
   ]
  }
 ],
 "metadata": {
  "kernelspec": {
   "display_name": "mbdds_rpy20",
   "language": "python",
   "name": "mbdds_rpy20"
  },
  "language_info": {
   "codemirror_mode": {
    "name": "ipython",
    "version": 3
   },
   "file_extension": ".py",
   "mimetype": "text/x-python",
   "name": "python",
   "nbconvert_exporter": "python",
   "pygments_lexer": "ipython3",
   "version": "3.6.9"
  }
 },
 "nbformat": 4,
 "nbformat_minor": 4
}
