{
 "cells": [
  {
   "cell_type": "markdown",
   "metadata": {
    "id": "xIfYEg6Ud051"
   },
   "source": [
    "\n",
    "# **Gestión de datos y datos digitales**\n",
    "### **Autor: Ferran Carrascosa Mallafrè**\n",
    "\n",
    "---\n",
    "---\n",
    "\n",
    "<!-- script html for image -->\n",
    "\n",
    "<center>\n",
    "\n",
    "<img src=\"https://upload.wikimedia.org/wikipedia/commons/thumb/c/c9/Star_Wars%2C_%C3%A9pisode_III_-_La_Revanche_des_Sith_logo.jpg/220px-Star_Wars%2C_%C3%A9pisode_III_-_La_Revanche_des_Sith_logo.jpg\"  width=\"500\" height=\"150\"/>\n",
    "\n",
    "\n",
    "<br>\n",
    "\n",
    "Fuente de la imagen: [https://es.wikipedia.org](https://es.wikipedia.org/wiki/Star_Wars:_Episodio_III_-_La_venganza_de_los_Sith)\n",
    "\n",
    "</center>\n",
    "\n",
    "<br>"
   ]
  },
  {
   "cell_type": "markdown",
   "metadata": {
    "id": "a82wFXwsd9ZU"
   },
   "source": [
    "# **Índice**\n",
    "\n",
    "---\n",
    "---\n",
    "\n",
    "> [Gestión de datos y datos digitales](#scrollTo=xIfYEg6Ud051)\n",
    "<br>\n",
    ">> \n",
    ">> [1.5.1. Introducción a las expresiones regulares](#scrollTo=zAhG3gpZgfxz&uniqifier=1) \\\\\n",
    ">>\n",
    ">> [1.5.2. Web Scraping](#scrollTo=Oi5_wNaf4rS7&uniqifier=1) \\\\\n",
    ">>\n",
    ">> [1.5.3. El inspector de código](#scrollTo=_1XsQgGD4rTO&uniqifier=1) \\\\\n",
    ">>\n",
    ">> [1.5.4. Beatiful soup](#scrollTo=Fexw2BNe4rTS&uniqifier=1)\n",
    ">>\n",
    ">> [1.5.5. Scraping contenido dinámico con Selenium](#scrollTo=EpT48am54rTa&uniqifier=1)\n",
    "\n"
   ]
  },
  {
   "cell_type": "markdown",
   "metadata": {
    "id": "zAhG3gpZgfxz"
   },
   "source": [
    "## 1.5. Web scraping. Uso de bots.\n",
    "\n",
    "<br>\n",
    "\n",
    "> Importante: El apartado de 1.5.5. Scraping contenido dinámico con Selenium, debe ejecutarse en un entorno local de Jupyetr notebook.\n"
   ]
  },
  {
   "cell_type": "markdown",
   "metadata": {
    "id": "M4nfn4JY4rSN"
   },
   "source": [
    "1.5.1. Introducción a las expresiones regulares\n",
    "\n",
    "<br>\n",
    "\n",
    "Las expresiones regulares permiten definir patrones de búsqueda por lo que suponen una alternativa, y a la vez, un soporte al web scraping.\n",
    "\n",
    "Pueden ser tan simples como una cadena de texto como la del siguiente ejemplo. No obstante, antes de definir la expresión regular, primero se debe cargar la librería `re`.\n",
    "\n",
    "<br>"
   ]
  },
  {
   "cell_type": "code",
   "execution_count": 23,
   "metadata": {
    "id": "t2AozXTF4rSg"
   },
   "outputs": [],
   "source": [
    "import re\n",
    "\n",
    "ej1 = \"Est3o xyz1234 esxyz5 un tXyzexto dexy6 ejexyzm7plo\""
   ]
  },
  {
   "cell_type": "markdown",
   "metadata": {
    "id": "6XLXgp_s4rSh"
   },
   "source": [
    "<br>\n",
    "\n",
    "Ahora, se declara el patrón de la expresión regular.\n",
    "\n",
    "<br>"
   ]
  },
  {
   "cell_type": "code",
   "execution_count": 24,
   "metadata": {
    "id": "ezryxy824rSj",
    "outputId": "53c62165-42db-469b-bff8-7d75b963b266"
   },
   "outputs": [
    {
     "name": "stdout",
     "output_type": "stream",
     "text": [
      "re.compile('xyz')\n"
     ]
    }
   ],
   "source": [
    "patron1 = re.compile('xyz')\n",
    "print(patron1)"
   ]
  },
  {
   "cell_type": "markdown",
   "metadata": {
    "id": "JkJeKy174rSm"
   },
   "source": [
    "<br>\n",
    "\n",
    "Para capturar todas las repeticiones en un lista.\n",
    "\n",
    "<br>"
   ]
  },
  {
   "cell_type": "code",
   "execution_count": 25,
   "metadata": {
    "id": "fR8lICs64rSo",
    "outputId": "d77d9e98-8536-404d-a719-e80297eaee31"
   },
   "outputs": [
    {
     "name": "stdout",
     "output_type": "stream",
     "text": [
      "['xyz', 'xyz', 'xyz']\n"
     ]
    }
   ],
   "source": [
    "print(re.findall(patron1,ej1))"
   ]
  },
  {
   "cell_type": "markdown",
   "metadata": {
    "id": "YUAiXnW24rSo"
   },
   "source": [
    "<br>\n",
    "\n",
    "En vez de usar re.comple(), se puede utilizar directamente r\"expresion_regular\".\n",
    "\n",
    "<br>"
   ]
  },
  {
   "cell_type": "code",
   "execution_count": 26,
   "metadata": {
    "id": "rh92GbVQ4rSp",
    "outputId": "c96eeedb-dd22-47f8-83df-f50049fb96a4"
   },
   "outputs": [
    {
     "name": "stdout",
     "output_type": "stream",
     "text": [
      "['xyz', 'xyz', 'xyz']\n"
     ]
    }
   ],
   "source": [
    "print(re.findall(r\"xyz\",ej1))"
   ]
  },
  {
   "cell_type": "markdown",
   "metadata": {
    "id": "OLA3bWNI4rSq"
   },
   "source": [
    "<br>\n",
    "\n",
    "Otra forma más flexible.\n",
    "\n",
    "<br>"
   ]
  },
  {
   "cell_type": "code",
   "execution_count": 27,
   "metadata": {
    "id": "3mVA8wFl4rSr"
   },
   "outputs": [
    {
     "name": "stdout",
     "output_type": "stream",
     "text": [
      "06-09: xyz\n",
      "16-19: xyz\n",
      "42-45: xyz\n"
     ]
    }
   ],
   "source": [
    "for m in re.finditer(patron1, ej1):\n",
    "    print('%02d-%02d: %s' % (m.start(), m.end(), m.group(0)))"
   ]
  },
  {
   "cell_type": "markdown",
   "metadata": {
    "id": "w8e8Zhue4rSs"
   },
   "source": [
    "<br>\n",
    "\n",
    "Existen caracteres especiales: \n",
    "\n",
    "<br>\n",
    "\n",
    "- .: Cualquier carácter.\n",
    "- \\d:  Cualquier dígito.\n",
    "- \\w: Cualquier carácter alfanumérico.\n",
    "- \\s: Cualquier espacio blanco como espacio nueva línea, retorno de carro, tabulador...\n",
    "\n",
    "<br>"
   ]
  },
  {
   "cell_type": "code",
   "execution_count": 28,
   "metadata": {
    "id": "1wNl6MBr4rSs",
    "outputId": "64035c3e-35f7-4b9d-d1ff-b63cb19054b9"
   },
   "outputs": [
    {
     "name": "stdout",
     "output_type": "stream",
     "text": [
      "[' xyz123']\n"
     ]
    }
   ],
   "source": [
    "patron2 = re.compile('\\s\\w\\w\\w\\d..')\n",
    "print(re.findall(patron2,ej1))"
   ]
  },
  {
   "cell_type": "markdown",
   "metadata": {
    "id": "SrljAp-e4rSu"
   },
   "source": [
    "<br>\n",
    "\n",
    "En este contexto, las mayúsculas indican negación:\n",
    "\n",
    "<br>\n",
    "\n",
    "- \\D: Todo excepto un dígito.\n",
    "- \\W: Cualquier cosa excepto un carácter alfanumérico.\n",
    "- \\S: Cualquier carácter no espacio.\n",
    "\n",
    "<br>"
   ]
  },
  {
   "cell_type": "code",
   "execution_count": null,
   "metadata": {
    "id": "anJrUEqZ4rSv"
   },
   "outputs": [],
   "source": [
    "patron3 = re.compile('\\W\\D')\n",
    "print(re.findall(patron3,ej1))"
   ]
  },
  {
   "cell_type": "markdown",
   "metadata": {
    "id": "CCeq6jUT4rSw"
   },
   "source": [
    "<br>\n",
    "\n",
    "Repeticiones de caracteres mediante corchetes, seguido del número de repeticiones.\n",
    "\n",
    "<br>"
   ]
  },
  {
   "cell_type": "code",
   "execution_count": null,
   "metadata": {
    "id": "LuBmEgHI4rSw"
   },
   "outputs": [],
   "source": [
    "patron4 = re.compile('\\d{2}')\n",
    "print(re.findall(patron4,ej1))"
   ]
  },
  {
   "cell_type": "markdown",
   "metadata": {
    "id": "QR9cCh124rSx"
   },
   "source": [
    "<br>\n",
    "\n",
    "Para repeticiones indefinidas de un carácter, se coloca inmediatamente después del carácter, uno de los siguientes símbolos:\n",
    "\n",
    "<br>\n",
    "\n",
    "- *: 0 o más repeticiones\n",
    "- +: 1 o más veces\n",
    "\n",
    "<br>"
   ]
  },
  {
   "cell_type": "code",
   "execution_count": 29,
   "metadata": {
    "id": "Od5UDJJM4rSy",
    "outputId": "57300153-eb9b-44d8-ca07-c0cc1128578f"
   },
   "outputs": [
    {
     "name": "stdout",
     "output_type": "stream",
     "text": [
      "['', '', '', '3', '', '', '', '', '', '1234', '', '', '', '', '', '', '5', '', '', '', '', '', '', '', '', '', '', '', '', '', '', '', '', '', '6', '', '', '', '', '', '', '', '', '7', '', '', '', '']\n"
     ]
    }
   ],
   "source": [
    "patron5 = re.compile('\\d*')\n",
    "print(re.findall(patron5,ej1))"
   ]
  },
  {
   "cell_type": "markdown",
   "metadata": {
    "id": "0Kl5VwMg4rSz"
   },
   "source": [
    "<br>\n",
    "Ahora con el símbolo +.\n",
    "\n",
    "<br>"
   ]
  },
  {
   "cell_type": "code",
   "execution_count": 30,
   "metadata": {
    "id": "I7peSpDl4rS0",
    "outputId": "d3d924ba-a99b-48b7-d5c2-dfcb60349520"
   },
   "outputs": [
    {
     "name": "stdout",
     "output_type": "stream",
     "text": [
      "['3', '1234', '5', '6', '7']\n"
     ]
    }
   ],
   "source": [
    "patron6 = re.compile('\\d+')\n",
    "print(re.findall(patron6,ej1))"
   ]
  },
  {
   "cell_type": "markdown",
   "metadata": {
    "id": "FHXKjAuY4rS1"
   },
   "source": [
    "<br>\n",
    "\n",
    "Para decir que un carácter es opcional, se coloca inmediatamente después el símbolo ?.\n",
    "\n",
    "<br>"
   ]
  },
  {
   "cell_type": "code",
   "execution_count": 31,
   "metadata": {
    "id": "GCty5yRB4rS1"
   },
   "outputs": [
    {
     "name": "stdout",
     "output_type": "stream",
     "text": [
      "['xyz', 'xyz', 'xy', 'xyz']\n"
     ]
    }
   ],
   "source": [
    "patron7 = re.compile('xyz?')\n",
    "print(re.findall(patron7,ej1))"
   ]
  },
  {
   "cell_type": "markdown",
   "metadata": {
    "id": "rYgUVjqh4rS2"
   },
   "source": [
    "<br>\n",
    "\n",
    "Si hay más de un carácter posible, se ponen éstos dentro de corchetes.\n",
    "\n",
    "<br>"
   ]
  },
  {
   "cell_type": "code",
   "execution_count": 32,
   "metadata": {
    "id": "1Jv3mPij4rS2"
   },
   "outputs": [
    {
     "name": "stdout",
     "output_type": "stream",
     "text": [
      "['xyz', 'xyz', 'Xyz', 'xyz']\n"
     ]
    }
   ],
   "source": [
    "patron8 = re.compile('[xX]yz')\n",
    "print(re.findall(patron8,ej1))"
   ]
  },
  {
   "cell_type": "markdown",
   "metadata": {
    "id": "yNCBBzYp4rS3"
   },
   "source": [
    "<br>\n",
    "\n",
    "Para decir que no tenemos ninguno de un conjunto posible de caracteres, se sitúan éstos, dentro de corchetes precedidos por el símbolo ^. Por ejemplo, [^xyz] indica que no sea x, y o z.\n",
    "\n",
    "<br>"
   ]
  },
  {
   "cell_type": "code",
   "execution_count": 33,
   "metadata": {
    "id": "-C-S06_D4rS3"
   },
   "outputs": [
    {
     "name": "stdout",
     "output_type": "stream",
     "text": [
      "['t3', '12', '34', 'm7']\n"
     ]
    }
   ],
   "source": [
    "patron9 = re.compile('[^xyz]\\d')\n",
    "print(re.findall(patron9,ej1))"
   ]
  },
  {
   "cell_type": "markdown",
   "metadata": {
    "id": "VSWhA-vW4rS5"
   },
   "source": [
    "<br>\n",
    "\n",
    "Si indican rangos con -, por ejemplo [A-Z] o [0-9].\n",
    "\n",
    "<br>"
   ]
  },
  {
   "cell_type": "code",
   "execution_count": 34,
   "metadata": {
    "id": "8te1IpMt4rS6"
   },
   "outputs": [
    {
     "name": "stdout",
     "output_type": "stream",
     "text": [
      "['t3', 'z1', 'z5', 'y6', 'm7']\n"
     ]
    }
   ],
   "source": [
    "patron9 = re.compile('[a-z]\\d')\n",
    "print(re.findall(patron9,ej1))"
   ]
  },
  {
   "cell_type": "markdown",
   "metadata": {
    "id": "nxwyHS184rS6"
   },
   "source": [
    "<br>\n",
    "\n",
    "Para capturar un grupo de caracteres dentro de la expresión regular y desestimar el resto de caracteres, se utiliza paréntesis.\n",
    "\n",
    "<br>"
   ]
  },
  {
   "cell_type": "code",
   "execution_count": 35,
   "metadata": {
    "id": "WBaa2Iz04rS7"
   },
   "outputs": [
    {
     "name": "stdout",
     "output_type": "stream",
     "text": [
      "06-13: 1234\n",
      "16-20: 5\n"
     ]
    }
   ],
   "source": [
    "for m in re.finditer(r\"xyz(\\d+)\", ej1):\n",
    "    print('%02d-%02d: %s' % (m.start(), m.end(), m.group(1)))"
   ]
  },
  {
   "cell_type": "markdown",
   "metadata": {
    "id": "Oi5_wNaf4rS7"
   },
   "source": [
    "<br>\n",
    "\n",
    "Las expresiones regulares son una potente herramienta para capturar contenido web. No obstante, no son la forma más robusta, ya que el contenido web, con mucha frecuencia, sufre de errores e inconsistencias en su construcción.\n",
    "\n",
    "En los siguientes apartados se introducirá otros métodos que facilitan estas tareas.  \n",
    "\n",
    "<br>\n",
    "\n",
    "## 1.5.2. Web Scraping\n",
    "\n",
    "<br>\n",
    "\n",
    "Cuando no hay un API, se pueden utilizar las técnicas de web scraping para capturar su contenido.\n",
    "\n",
    "El escenario más simple es cuando el contenido de la página está basado en HTML más estilo de texto CSS estático.\n",
    "\n",
    "Por el contrario, cuando las páginas tienen contenido basado en HTML dinámico generado, por ejemplo, en JavaScript.\n",
    "\n",
    "<br>\n",
    "\n",
    "### HTML estático\n",
    "\n",
    "<br>\n",
    "\n",
    "Para comprender mejor la forma de obtener el contenido de una página html, se introducen a continuación, algunos conceptos básicos sobre HTML.\n",
    "\n",
    "El html se basa en la estructura de tag:\n",
    "\n",
    "<br>\n",
    "\n",
    "<p style=\"text-align: center\">&lt;nombre_tag *atributos*&gt; contenido &lt;/nombre_tag&gt;<p>\n",
    "\n",
    "<br>\n",
    "\n",
    "La estructura general de una página HTML es la siguiente:\n",
    "\n",
    "<br>\n",
    "\n",
    "- Se inicia la página con <!DOCTYPE html>. Así se especifica que el código es HTML5.\n",
    "- El primer tag es &lt;html&gt; y el fichero finaliza con el correspondiente &lt;/html&gt;.\n",
    "- La segunda sección es &lt;head&gt; y puede contener:\n",
    "   - La sección &lt;title&gt; con el título de la página.\n",
    "   - Referencias de estilo CSS con el tag &lt;link&gt; para dar formato al contenido de la página.\n",
    "   - Enlaces a ficheros javascript con el tag: &lt;script&gt; utilizado para que el contenido sea dinámico.\n",
    "- A continuación la sección &lt;body&gt; que puede contener:\n",
    "   - Encabezados con &lt;h#&gt; (donde # es un número natural)\n",
    "   - Texto con &lt;p&gt;.\n",
    "   - Hipervínculos con el atributo **href** del tag &lt;a&gt;. p.e.: &lt;a hrf = \"www.ine.es\" &gt; INE &lt;/a&gt;.  \n",
    "   - Imágenes con el atributo **src** del tag &lt;img&gt;. p.e.: &lt;img src = \"my_pic.jpg\" /&gt;.\n",
    "\n",
    "Puedes ampliar la información en la página del consorcio <a href=\"http://www.w3.org/community/webed/wiki/HTML\">World Wide Web</a>.\n",
    "\n",
    "Veamos un ejemplo:\n",
    "\n",
    "<br>\n",
    "\n",
    "```\n",
    "<!DOCTYPE html>\n",
    "<html>\n",
    "<head>\n",
    "<title>Hello World!</title>\n",
    "</head>\n",
    "<body>\n",
    "<h1>Titulo 1</h1>\n",
    "<p>Texto 1</p>\n",
    "<h2>Titulo 2</h2>\n",
    "<p>Texto con enlace a <a href = \"https://en.wikipedia.org/wiki/Star_Wars\" > Star Wars Wikipedia </a>.</p>\n",
    "<img src=\"https://en.wikipedia.org/wiki/File:Star_wars2.svg\">\n",
    "</body>\n",
    "</html>\n",
    "```\n",
    "<br>"
   ]
  },
  {
   "cell_type": "code",
   "execution_count": 36,
   "metadata": {
    "id": "Gp6gI0Pf4rS9",
    "outputId": "0f670c7e-d936-44e3-8497-0469113f818b"
   },
   "outputs": [
    {
     "data": {
      "text/html": [
       "\n",
       "<!DOCTYPE html>\n",
       "<html>\n",
       "<head>\n",
       "<title>Hello World!</title>\n",
       "</head>\n",
       "<body>\n",
       "<h1>Titulo 1</h1>\n",
       "<p>Texto 1</p>\n",
       "<h2>Titulo 2</h2>\n",
       "<p>Texto con enlace a <a href = \"https://es.wikipedia.org/wiki/Star_Wars\" > Star Wars Wikipedia </a>.</p>\n",
       "<img src=\"https://upload.wikimedia.org/wikipedia/commons/thumb/6/6c/Star_Wars_Logo.svg/250px-Star_Wars_Logo.svg.png\">\n",
       "</body>\n",
       "</html>\n"
      ],
      "text/plain": [
       "<IPython.core.display.HTML object>"
      ]
     },
     "metadata": {},
     "output_type": "display_data"
    }
   ],
   "source": [
    "from IPython.core.display import display, HTML\n",
    "display(HTML('''\n",
    "<!DOCTYPE html>\n",
    "<html>\n",
    "<head>\n",
    "<title>Hello World!</title>\n",
    "</head>\n",
    "<body>\n",
    "<h1>Titulo 1</h1>\n",
    "<p>Texto 1</p>\n",
    "<h2>Titulo 2</h2>\n",
    "<p>Texto con enlace a <a href = \"https://es.wikipedia.org/wiki/Star_Wars\" > Star Wars Wikipedia </a>.</p>\n",
    "<img src=\"https://upload.wikimedia.org/wikipedia/commons/thumb/6/6c/Star_Wars_Logo.svg/250px-Star_Wars_Logo.svg.png\">\n",
    "</body>\n",
    "</html>\n",
    "'''))"
   ]
  },
  {
   "cell_type": "markdown",
   "metadata": {
    "id": "s1Y-9qnh4rS-"
   },
   "source": [
    "<br>\n",
    "\n",
    "### Listas HTML\n",
    "\n",
    "<br>\n",
    "\n",
    "La forma clásica de dar formato al contenido en html estático es mediante listas y tablas. \n",
    "\n",
    "Una lista puede ser:\n",
    "\n",
    "<br>\n",
    "\n",
    "- Numerada u ordenada: Se definen con &lt;ol&gt;.\n",
    "- No ordenada: Se definen con &lt;ul&gt;.\n",
    "\n",
    "<br>\n",
    "\n",
    "Sus elementos se insertan mediante el tag &lt;li&gt;.\n",
    "\n",
    "Veamos un ejemplo:\n",
    "\n",
    "<br>\n",
    "\n",
    "```\n",
    "<ol>\n",
    "  <li>Café</li>\n",
    "  <li>Té</li>\n",
    "  <li>Leche</li>\n",
    "</ol>\n",
    "```\n",
    "\n",
    "<br>\n",
    "\n",
    "Resultado:\n",
    "\n",
    "<br>\n",
    "\n",
    "<ol>\n",
    "  <li>Café</li>\n",
    "  <li>Té</li>\n",
    "  <li>Leche</li>\n",
    "</ol>\n",
    "\n",
    "<br>\n",
    "\n",
    "### Tablas HTML\n",
    "\n",
    "Para definir tablas, se utiliza el tag &lt;table&gt;. Cada  fila se define con &lt;tr&gt; y las columnas a través de sus elementos con el tag &lt;td&gt;.\n",
    "\n",
    "Pueden contener un encabezado &lt;thead&gt; y un cuerpo &lt;tbody&gt;.\n",
    "\n",
    "Cada elemento del encabezado se define con &lt;th&gt;.\n",
    "\n",
    "Si la celda tiene varias columnas se utiliza el atributo *colspan=número de celdas*. \n",
    "\n",
    "Veamos un ejemplo:\n",
    "\n",
    "<br>\n",
    "\n",
    "```\n",
    "<table>\n",
    "<thead>\n",
    "<tr><th colspan = 2>Una tabla</th><tr>\n",
    "</thead>\n",
    "<tbody>\n",
    "<tr>\n",
    "<td>Elmento 1</td><td>Elmento 2</td>\n",
    "</tr>\n",
    "<tr>\n",
    "<td colspan=2>Elmento 3</td>\n",
    "</tr>\n",
    "</tbody>\n",
    "</table>\n",
    "```\n",
    "\n",
    "<br>\n",
    "\n",
    "<table>\n",
    "<thead>\n",
    "<tr><th colspan = 2>Una tabla</th><tr>\n",
    "</thead>\n",
    "<tbody>\n",
    "<tr>\n",
    "<td>Elmento 1</td><td>Elmento 2</td>\n",
    "</tr>\n",
    "<tr>\n",
    "<td colspan=2>Elmento 3</td>\n",
    "</tr>\n",
    "</tbody>\n",
    "</table>\n",
    "\n",
    "<br>\n",
    "\n",
    "### Tablas HTML con estilos \n",
    "\n",
    "<br>\n",
    "\n",
    "Actualmente se combina el html con estilos mediante &lt;div&gt; y &lt;span&gt;:\n",
    "\n",
    "<br>\n",
    "\n",
    "- div: Permite definir bloques (o celdas) con un estilo.\n",
    "- span: Permite diferenciar un fragmento del texto con un estilo. \n",
    "\n",
    "<br>\n",
    "\n",
    "Veamos un ejemplo:\n",
    "\n",
    "<br>\n",
    "\n",
    "```\n",
    "<div style = \"background-color:yellow;padding:10px;display:inline-block\">  Text 1\n",
    "</div>\n",
    "<div style = \"background-color:red;padding:10px;display:inline-block\">  Text 2\n",
    "</div>\n",
    "<div style = \"background-color:green;padding:10px;display:inline-block\">  Text 3\n",
    "</div>\n",
    "```\n",
    "\n",
    "<br>\n",
    "\n",
    "El resultado:\n",
    "\n",
    "<br>\n",
    "\n",
    "<div style = \"background-color:yellow;padding:10px;display:inline-block\">  Text 1\n",
    "</div>\n",
    "<div style = \"background-color:red;padding:10px;display:inline-block\">  Text 2\n",
    "</div>\n",
    "<div style = \"background-color:green;padding:10px;display:inline-block\">  Text 3\n",
    "</div>\n",
    "\n",
    "<br>\n",
    "\n",
    "### Estilos CSS\n",
    "\n",
    "<br>\n",
    "\n",
    "Los ficheros CSS permiten definir un conjunto de reglas de estilo que se podrán aplicar al contenido html. \n",
    "\n",
    "<br>\n",
    "\n",
    "#### Selector CSS\n",
    "\n",
    "<br>\n",
    "\n",
    "El formato general es:\n",
    "\n",
    "<br>\n",
    "\n",
    "```\n",
    "selector_css { propiedad: valor; } \n",
    "```\n",
    "\n",
    "<br>\n",
    "\n",
    "El *selector_css* puede ser cualquier tag html. De esta forma se puede modificar el estilo de un conjunto de elementos. \n",
    "\n",
    "Para modificar el contenido de los tags div.\n",
    "\n",
    "<br>\n",
    "\n",
    "```\n",
    "div { color:green; }\n",
    "```\n",
    "\n",
    "<br>\n",
    "\n",
    "#### Clases\n",
    "\n",
    "<br>\n",
    "\n",
    "Para agrupar un conjunto de tags bajo un mismo estilo, se utiliza el atributo **class** de los tags &lt;div&gt; o &lt;p&gt;.\n",
    "\n",
    "<br>\n",
    "\n",
    "```\n",
    "< div class = \"mi_clase\" >  o también < p class = \"mi_clase\">\n",
    "```\n",
    "\n",
    "<br>\n",
    "\n",
    "Para modificar el estilo en el fichero CSS se utiliza el nombre de la clase precedido por punto.\n",
    "\n",
    "<br>\n",
    "\n",
    "```\n",
    ".mi_clase { font-family:Arial; } \n",
    "```\n",
    "\n",
    "<br>\n",
    "\n",
    "#### Identificadores\n",
    "\n",
    "<br>\n",
    "\n",
    "Para marcar un elemento y aplicarle un cierto estilo, se pueden utilizar los identificadores. Para esto se utiliza el atributo ID.\n",
    "\n",
    "<br>\n",
    "\n",
    "```\n",
    "< div id = \"mi_ID\" >\n",
    "```\n",
    "\n",
    "<br>\n",
    "\n",
    "Para modificar el estilo en ficheros de tipo CSS, se utiliza el nombre precedido de la almohadilla.\n",
    "\n",
    "<br>\n",
    "\n",
    "```\n",
    "#mi_ID { font-size:16px; }\n",
    "```\n",
    "\n",
    "<br>\n",
    "\n",
    "### Selección CSS\n",
    "\n",
    "<br>\n",
    "\n",
    "Los tags, así como sus atributos, constituyen una estructura arbórea, donde el tag html es el nodo raíz. \n",
    "\n",
    "Para facilitar la selección de nodos de este árbol, CSS define un conjunto de reglas de selección. \n",
    "\n",
    "Dos ejemplos de reglas habituales de selección son.\n",
    "\n",
    "<br>\n",
    "\n",
    "+ \"elem1 elem2\": Se refiere a cualquier elem2 dentro de cualquier otro elem1, sin tener en cuenta el grado de anidación.\n",
    "+ \"elem1>elem2\": Se refiere a los elem2 hijos directos de elem1.\n",
    "\n",
    "<br>\n",
    "\n",
    "Para seleccionar los elementos identificados por un atributo concreto, se utiliza:\n",
    "\n",
    "<br>\n",
    "\n",
    "```\n",
    "elemento[attribute = value]\n",
    "```\n",
    "\n",
    "<br>\n",
    "\n",
    "Por ejemplo para seleccionar botones.\n",
    "\n",
    "<br>\n",
    "\n",
    "```\n",
    "input[type = \"button\"]\n",
    "```\n",
    "\n",
    "<br>\n",
    "\n",
    "Otros patrones de búsqueda: \n",
    "\n",
    "<br>\n",
    "\n",
    "- atributo~=valor: Contienen la palabra completa en una lista de palabras separadas por espacio.\n",
    "- atributo|=valor: Contienen en una lista separada por guiones.\n",
    "- atributo^=valor: Contienen, al inicio, el valor.\n",
    "- atributo$=valor: Contienen, al final, el valor.\n",
    "- atributo\\*=valor: Contienen el valor como parte de alguna palabra.\n",
    "\n",
    "<br>\n",
    "\n",
    "Se pueden encadenar varios selectores:\n",
    "\n",
    "<br>\n",
    "\n",
    "```\n",
    "elemento[atributo1 = valor1][atributo2 = valor2]\n",
    "```\n",
    "\n",
    "<br>\n",
    "\n",
    "Para ampliar las reglas de selección CSS puedes visitar la [referencia de selectores CSS](https://www.w3schools.com/cssref/css_selectors.asp).\n",
    "\n",
    "A continuación, se presenta un ejemplo de selección de texto de la página Star Wars de la Wikipedia.\n",
    "\n",
    "En primer lugar se obtiene el texto html y se le da una estructura de árbol.\n",
    "\n",
    "<br>"
   ]
  },
  {
   "cell_type": "code",
   "execution_count": 37,
   "metadata": {
    "id": "FRNj8lKW4rTB"
   },
   "outputs": [],
   "source": [
    "from urllib.request import urlopen\n",
    "\n",
    "source = urlopen('https://es.wikipedia.org/wiki/Star_Wars')\n",
    "\n",
    "from lxml import html\n",
    "from lxml import cssselect\n",
    "tree = html.document_fromstring(source.read())"
   ]
  },
  {
   "cell_type": "markdown",
   "metadata": {
    "id": "BuGJQGxQ4rTC"
   },
   "source": [
    "<br>\n",
    "\n",
    "A continuación, se capturan todas las citas de autores mediante el tag blockquote, agrupados bajo el estilo flexquote. El selector CSS correspondiente es: *blockquote.flexquote*.\n",
    "\n",
    "<br>"
   ]
  },
  {
   "cell_type": "code",
   "execution_count": 41,
   "metadata": {
    "id": "V6mLwmtH4rTD",
    "outputId": "0f17a68e-01d1-41f4-ba78-331cd2aa29c9"
   },
   "outputs": [
    {
     "data": {
      "text/plain": [
       "5"
      ]
     },
     "execution_count": 41,
     "metadata": {},
     "output_type": "execute_result"
    }
   ],
   "source": [
    "quotes = tree.cssselect(\"blockquote\")\n",
    "\n",
    "len(quotes)"
   ]
  },
  {
   "cell_type": "markdown",
   "metadata": {
    "id": "mowdDihY4rTD"
   },
   "source": [
    "<br>\n",
    "\n",
    "Observamos que se han capturado 5 citas. Veamos la primera. \n",
    "\n",
    "<br>"
   ]
  },
  {
   "cell_type": "code",
   "execution_count": 43,
   "metadata": {
    "id": "lGsdSLBE4rTE",
    "outputId": "cbf42638-f6b8-4c98-b590-119ee1abc9e4"
   },
   "outputs": [
    {
     "name": "stdout",
     "output_type": "stream",
     "text": [
      "\n",
      " \n",
      "  No mucho tiempo después de que comenzara a escribir Star Wars, concluí que la historia daba para más de lo que una simple película podía dar cabida. Mientras completaba la saga de los Skywalker y los caballeros Jedi, empecé a visualizarlo como un relato que tomaría lugar en, por lo menos, nueve películas —tres trilogías— y decidí continuar justo entre los hechos precedentes y los sucesivos, partiendo entonces con la historia intermedia.\n",
      " George Lucas\n",
      "\n"
     ]
    }
   ],
   "source": [
    "print(quotes[0].text_content())"
   ]
  },
  {
   "cell_type": "markdown",
   "metadata": {
    "id": "K8O4-s7N4rTE"
   },
   "source": [
    "<br>\n",
    "\n",
    "Para capturar todos los enlaces (tag a) donde el enlace (href^=) empieza por *http*."
   ]
  },
  {
   "cell_type": "code",
   "execution_count": 44,
   "metadata": {
    "id": "YTJNpSH04rTF",
    "outputId": "684bac7b-5354-46e6-b290-869adb5d3659"
   },
   "outputs": [
    {
     "data": {
      "text/plain": [
       "693"
      ]
     },
     "execution_count": 44,
     "metadata": {},
     "output_type": "execute_result"
    }
   ],
   "source": [
    "links = tree.cssselect('a[href^=\"http\"]')\n",
    "len(links)"
   ]
  },
  {
   "cell_type": "markdown",
   "metadata": {
    "id": "A_6XSTdk4rTH"
   },
   "source": [
    "<br>\n",
    "\n",
    "Muchos enlaces! Veamos los 5 primeros.\n",
    "\n",
    "<br>"
   ]
  },
  {
   "cell_type": "code",
   "execution_count": 45,
   "metadata": {
    "id": "iTJFcs0B4rTH",
    "outputId": "7b05e40a-f831-4d19-d143-e28f7ffefe3a"
   },
   "outputs": [
    {
     "data": {
      "text/plain": [
       "['https://www.wikidata.org/wiki/Q462',\n",
       " 'external text',\n",
       " 'external text',\n",
       " 'https://en.wikipedia.org/wiki/Maz_Kanata',\n",
       " 'https://en.wikipedia.org/wiki/Matte_painting']"
      ]
     },
     "execution_count": 45,
     "metadata": {},
     "output_type": "execute_result"
    }
   ],
   "source": [
    "linksList = [x.values()[0] for x in links]\n",
    "linksList[0:5]"
   ]
  },
  {
   "cell_type": "markdown",
   "metadata": {
    "id": "r3fE8uiP4rTI"
   },
   "source": [
    "<br>\n",
    "\n",
    "Más difícil aún, veamos como capturar una tabla de datos. En este caso, capturamos la tabla que cumple con la regla CSS siguiente: *table.wikitable:nth-child(135) > tbody:nth-child(1)*\n",
    "\n",
    "El primer paso consiste en capturar la tabla.\n",
    "\n",
    "<br>"
   ]
  },
  {
   "cell_type": "code",
   "execution_count": 48,
   "metadata": {
    "id": "OfzdQa8t4rTJ"
   },
   "outputs": [],
   "source": [
    "tables = tree.cssselect(\"table.wikitable:nth-child(155) > tbody:nth-child(1)\")"
   ]
  },
  {
   "cell_type": "markdown",
   "metadata": {
    "id": "DebrbcRD4rTK"
   },
   "source": [
    "<br>\n",
    "\n",
    "El segundo paso, consiste en capturar cada una de las filas (tag tr).\n",
    "\n",
    "<br>"
   ]
  },
  {
   "cell_type": "code",
   "execution_count": 49,
   "metadata": {
    "id": "kctVC-Ii4rTL"
   },
   "outputs": [],
   "source": [
    "table_rows = tables[0].findall(\"tr\")"
   ]
  },
  {
   "cell_type": "markdown",
   "metadata": {
    "id": "8__Q5iEb4rTN"
   },
   "source": [
    "<br>\n",
    "\n",
    "Por último, hay que parsear cada fila para separar el contenido de las columnas (tag td).\n",
    "\n",
    "<br>"
   ]
  },
  {
   "cell_type": "code",
   "execution_count": 50,
   "metadata": {
    "id": "9gZYvlKe4rTO",
    "outputId": "123bd771-8e5d-467b-b1ce-c96cbcea3d94"
   },
   "outputs": [
    {
     "name": "stdout",
     "output_type": "stream",
     "text": [
      "[[], [], [None, '93\\xa0% (113 reseñas)', '90\\xa0% (39 reseñas)\\n', '96\\xa0%\\n', '92 (24 reseñas)', '8,6 (', '7,9 (130 463 votos)', '-\\n'], [None, '94\\xa0% (90 reseñas)', '88\\xa0% (24 reseñas)\\n', '97\\xa0%\\n', '82 (25 reseñas)', '8,8 (972\\xa0828 votos)', '8,1 (130 252 votos)', '-\\n'], [None, '80\\xa0% (86 reseñas)', '76\\xa0% (25 reseñas)\\n', '94\\xa0%\\n', '58 (24 reseñas)', '8,3 (799\\xa0788 votos)', '7,9 (116 317 votos)', '-\\n'], [None, '55\\xa0% (216 reseñas)', '41\\xa0% (58 reseñas)\\n', '59\\xa0%\\n', '51 (36 reseñas)', '6,5 (611\\xa0856 votos)', '6,2 (96 707 votos)', 'A-\\n'], [None, '66\\xa0% (245 reseñas)', '40\\xa0% (50 reseñas)\\n', '57\\xa0%\\n', '54 (39 reseñas)', '6,6 (535\\xa0444 votos)', '6,3 (100 672 votos)', 'A-\\n'], [None, '80\\xa0% (289 reseñas)', '67\\xa0% (52 reseñas)\\n', '66\\xa0%\\n', '68 (40 reseñas)', '7,6 (597\\xa0057 votos)', '7,1 (96 652 votos)', 'A-\\n'], [None, '93\\xa0% (383 reseñas)', '89\\xa0% (54 reseñas)\\n', '88%\\n', '81 (54 reseñas)', '7,9 (842\\xa0647 votos)', '6,9 (56 476 votos)', 'A\\n'], [None, '84\\xa0% (446 reseñas)', '76\\xa0% (67 reseñas)\\n', '86\\xa0%\\n', '65 (51 reseñas)', '7,8 (535\\xa0899 votos)', '6,9 (42 782 votos)', 'A\\n'], [None, '90\\xa0% (471 reseñas)', '95\\xa0% (62 reseñas)\\n', '43\\xa0%\\n', '84 (56 reseñas)', '7,0 (544 887 votos)', '6,1 (39 134 votos)', 'A\\n'], [None, '70\\xa0% (471 reseñas)', '61\\xa0% (59 reseñas)\\n', '63\\xa0%\\n', '62 (54 reseñas)', '6,9 (275 279 votos)', '6,0 (21 483 votos)', 'A-\\n'], [None, '51\\xa0% (491 reseñas)', '48\\xa0% (56 reseñas)\\n', '86\\xa0%\\n', '53 (61 reseñas)', '6,6 (341 406 votos)', '5,8 (24 881 votos)', 'B+\\n'], []]\n"
     ]
    }
   ],
   "source": [
    "tablFinal = []\n",
    "\n",
    "for tr in table_rows:\n",
    "    td = tr.findall(\"td\")\n",
    "    row = [i.text for i in td]\n",
    "    tablFinal.append(row)\n",
    "\n",
    "print(tablFinal)"
   ]
  },
  {
   "cell_type": "markdown",
   "metadata": {
    "id": "_1XsQgGD4rTO"
   },
   "source": [
    "<br>\n",
    "\n",
    "Bien! Misión cumplida Padawan!\n",
    "\n",
    "Revisa el código anterior, y verás que todo el truco consiste en saber el selector CSS, éste, a veces se expresa en forma de reglas fáciles de deducir, como *a[href^=\"http\"]*. Otras veces, se expresa en formas tan complejas como esta *table.wikitable:nth-child(135) > tbody:nth-child(1)*.\n",
    "\n",
    "Para saber cómo se obtienen estas expresiones, lee el siguiente apartado sobre el inspector de código.\n",
    "\n",
    "<br>\n",
    "\n",
    "## 1.5.3. El inspector de código\n",
    "\n",
    "<br>\n",
    "\n",
    "Como ya se ha anticipado, una pieza fundamental para recuperar el contenido deseado de una página web y darle estructura, son las distintas reglas para seleccionar elementos del árbol de nodos.\n",
    "\n",
    "Para facilitar este análisis, se pueden utilizar tanto Chrome como Firefox, las herramientas de apoyo al desarrollador que verás a continuación.\n",
    "\n",
    "<br>\n",
    "\n",
    "### Código fuente HTML\n",
    "\n",
    "<br>\n",
    "\n",
    "Para acceder al código fuente de una página que tenemos abierta en el navegador, es tan simple como apretar el botón derecho en cualquier ubicación de la página (que no sea una imagen o un enlace) y apretar la opción de \"Ver código fuente de la página\" (en Firefox) o  \"Visualizar origen de la página\" (en Chrome).\n",
    "\n",
    "De esta forma se puede revisar detalles del código HTML estático. No obstante, esta forma no es la más ágil para analizar aspectos concretos de la web, ya que el código, a menudo es muy voluminoso y difícil de comprender.\n",
    "\n",
    "<br>\n",
    "\n",
    "### Inspeccionar elementos\n",
    "\n",
    "<br>\n",
    "\n",
    "Cuando estamos interesados en conocer la forma de identificar de forma unívoca un contenido de la web, la forma más eficaz, es el inspector de elementos. \n",
    "\n",
    "Para basarnos en un ejemplo común, ve al enlace de la [primera cita](https://es.wikipedia.org/wiki/Star_Wars#Trilog%C3%ADa_original) de George Lucas en la wikipedia.\n",
    "\n",
    "<br>\n",
    "\n",
    "![](www/cita1.png)\n",
    "\n",
    "\\<imagen1\\>Imagen: Cita de George Lucas (Fuente: [Wikipedia](https://es.wikipedia.org/wiki/Star_Wars#Trilog%C3%ADa_original) ). (www/cita1.png){width=850px}\n",
    "\n",
    "<br>\n",
    "\n",
    "A continuación, clica botón derecho sobre el texto de la cita y aprieta la opción \"Inspeccionar elemento\" en Firefox, o bien,  \"Inspecciona\" en Chrome. Verás que automáticamente se abre una consola dentro de la página en la parte inferior (o derecha) de la página. \n",
    "\n",
    "El inspector, abre la puerta a un sin fin de opciones de análisis, útiles para el web scraping. Por ejemplo, observa como al mover el puntero sobre las líneas del inspector de código (parte inferior, o derecha), automáticamente se ilumina el contorno del elemento web al que hace referencia. \n",
    "\n",
    "El siguiente paso es clicar (botón izquierdo) sobre la línea con texto `<blockquote class=\"flexquote\">`. En Firefox, deberías ver lo siguiente (En Chrome debería ser parecido).\n",
    "\n",
    "<br>\n",
    "\n",
    "![](www/cita2.png)\n",
    "\n",
    "\\<imagen1\\>Imagen: Selector CSS de la cita de George Lucas (Fuente: [Wikipedia](https://es.wikipedia.org/wiki/Star_Wars#Trilog%C3%ADa_original) ). (www/cita2.png){width=950px}\n",
    "\n",
    "<br>\n",
    "\n",
    "Finalmente, sin mover el cursor de la línea, aprieta el botón derecho y mueve el cursor sobre el menú contextual \"Copiar\" > y aprieta la opción Selector CSS.\n",
    "\n",
    "<br>\n",
    "\n",
    "![](www/cita3.png)\n",
    "\n",
    "\\<imagen1\\>Imagen: Selector CSS de la cita de George Lucas (Fuente: [Wikipedia](https://es.wikipedia.org/wiki/Star_Wars#Trilog%C3%ADa_original) ). (www/cita3.png){width=350px}\n",
    "\n",
    "<br>\n",
    "\n",
    "Si todo ha ido bien, el texto obtenido al copiar, debería ser: \"blockquote.flexquote:nth-child(56)\". Compruébalo pegando el texto en cualquier editor de texto.\n",
    "\n",
    "Observa también, que si se elimina la última parte \":nth-child(56)\", nos quedamos con \"blockquote.flexquote\", que es el selector CSS deseado de \"Todas las citas\".\n",
    "\n",
    "Practica con otros elementos, por ejemplo, con la tabla de la sección de [Crítica](https://es.wikipedia.org/wiki/Star_Wars#Cr%C3%ADtica) que se ha descargado en el apartado anterior. ¿Obtienes el mismo selector? \n",
    "<br>\n",
    "\n",
    "### Selección con XPATH\n",
    "\n",
    "El lenguaje XPATH  es una alternativa basada en XML que permite parsear el contenido de una página HTML.\n",
    "\n",
    "Veamos algunos ejemplos de su sintaxis.\n",
    "\n",
    "<br>\n",
    "\n",
    "- // : Indica en cualquier lugar de la página. \n",
    "- /  : Indica que es descendiente directo\n",
    "- @ : Para referirse a cierto atributo. \n",
    "- . : Nodo actual. \n",
    "- .. : Nodo padre. \n",
    "- \\* : Indica cualquier elemento nodo. \n",
    "- @* : Cualquier atributo.\n",
    "\n",
    "<br>\n",
    "\n",
    "Por ejemplo,\n",
    "\n",
    "<br>\n",
    "\n",
    "- bookstore/book: Todos los book que son hijos directos de bookstore.\n",
    "- bookstore//book: Todos los book que descienden de bookstore, no importa en qué lugar.\n",
    "- //title[@*]: Selecciona todos los elementos title que tienen al menos un atributo de cualquier tipo.\n",
    "- /bookstore/book[1]: El primer book hijo de bookstore\n",
    "- /bookstore/book[last()]: El último book hijo de bookstore\n",
    "- /bookstore/book[price>35.00]: Los libros con precio superior a 35. \n",
    "\n",
    "<br>\n",
    "\n",
    "Ver más ejemplos en [W3 Schools](https://www.w3schools.com/xml/xpath_syntax.asp).\n",
    "\n",
    "<br>\n",
    "\n",
    "#### Inspector de código XPATH\n",
    "\n",
    "<br>\n",
    "\n",
    "De la misma forma que el selector CSS, tanto Chrome como Firefox permiten obtener los selectores XPATH. \n",
    "\n",
    "Veamos el mismo ejemplo de la [cita de George Lucas](https://es.wikipedia.org/wiki/Star_Wars#Trilog%C3%ADa_original). Abre de nuevo la página e Inspecciona la cita con el botón derecho > Inspecciona elemento.  Sitúate sobre la línea adecuada y clica botón derecho > Copiar > Xpath.\n",
    "\n",
    "Deberías obtener el texto: /html/body/div[3]/div[3]/div[5]/div[1]/blockquote[1]\n",
    "\n",
    "¿Correcto?\n",
    "\n",
    "En este caso, código para obtener \"todas las citas\" en XPATH podría quedar como sigue. \n",
    "\n",
    "<br>"
   ]
  },
  {
   "cell_type": "code",
   "execution_count": 51,
   "metadata": {
    "id": "UNZo5ob34rTQ",
    "outputId": "fca91fae-5412-4390-c746-0ab2e49b76bd"
   },
   "outputs": [
    {
     "data": {
      "text/plain": [
       "5"
      ]
     },
     "execution_count": 51,
     "metadata": {},
     "output_type": "execute_result"
    }
   ],
   "source": [
    "citasX = tree.xpath('//blockquote')\n",
    "len(citasX)"
   ]
  },
  {
   "cell_type": "markdown",
   "metadata": {
    "id": "ItZ_CcgA4rTR"
   },
   "source": [
    "<br>\n",
    "\n",
    "Vemos que efectivamente se han obtenido 5 citas como en el selector CSS. Veamos la primera.\n",
    "\n",
    "<br>"
   ]
  },
  {
   "cell_type": "code",
   "execution_count": 52,
   "metadata": {
    "id": "Y9-FPsKk4rTR",
    "outputId": "67c87a81-68b8-4ceb-d644-251971263655"
   },
   "outputs": [
    {
     "name": "stdout",
     "output_type": "stream",
     "text": [
      "\n",
      " \n",
      "  No mucho tiempo después de que comenzara a escribir Star Wars, concluí que la historia daba para más de lo que una simple película podía dar cabida. Mientras completaba la saga de los Skywalker y los caballeros Jedi, empecé a visualizarlo como un relato que tomaría lugar en, por lo menos, nueve películas —tres trilogías— y decidí continuar justo entre los hechos precedentes y los sucesivos, partiendo entonces con la historia intermedia.\n",
      " George Lucas\n",
      "\n"
     ]
    }
   ],
   "source": [
    "print(citasX[0].text_content())"
   ]
  },
  {
   "cell_type": "markdown",
   "metadata": {
    "id": "Fexw2BNe4rTS"
   },
   "source": [
    "<br>\n",
    "\n",
    "Conseguido! Probemos ahora con el selector Xpath de la tabla de la sección de [Crítica](https://es.wikipedia.org/wiki/Star_Wars#Cr%C3%ADtica).\n",
    "\n",
    "¿Coincide con el siguiente?\n",
    "\n",
    "<br>\n",
    "\n",
    "- */html/body/div[3]/div[3]/div[5]/div[1]/table[7]/tbody*\n",
    "\n",
    "<br>\n",
    "\n",
    "## 1.5.4. Beatiful soup\n",
    "\n",
    "<br>\n",
    "\n",
    "Esta librería de Python busca apoyar el sistema de navegación definido por los árboles de selectores CSS y XPATH.  \n",
    "\n",
    "Preparar la sopa maravillosa es tan simple como lo siguiente. \n",
    "\n",
    "<br>"
   ]
  },
  {
   "cell_type": "code",
   "execution_count": 53,
   "metadata": {
    "id": "ogIENzem4rTT"
   },
   "outputs": [],
   "source": [
    "from bs4 import BeautifulSoup\n",
    "from urllib.request import urlopen\n",
    "import lxml\n",
    "\n",
    "source = urlopen('https://es.wikipedia.org/wiki/Star_Wars')\n",
    "soup = BeautifulSoup(source, 'lxml')\n"
   ]
  },
  {
   "cell_type": "markdown",
   "metadata": {
    "id": "pR2yGqn44rTU"
   },
   "source": [
    "<br>\n",
    "\n",
    "Ver el título de la página.\n",
    "\n",
    "<br>"
   ]
  },
  {
   "cell_type": "code",
   "execution_count": 54,
   "metadata": {
    "id": "8GANSFzB4rTV",
    "outputId": "55bf8771-92a8-470c-c224-8cb7ce6a8304"
   },
   "outputs": [
    {
     "data": {
      "text/plain": [
       "'Star Wars - Wikipedia, la enciclopedia libre'"
      ]
     },
     "execution_count": 54,
     "metadata": {},
     "output_type": "execute_result"
    }
   ],
   "source": [
    "soup.title.string"
   ]
  },
  {
   "cell_type": "markdown",
   "metadata": {
    "id": "X5u7H9co4rTV"
   },
   "source": [
    "<br>\n",
    "\n",
    "Obtener los enlaces (tag a).\n",
    "\n",
    "<br>\n",
    "\n",
    "Texto de la página\n",
    "\n",
    "<br>"
   ]
  },
  {
   "cell_type": "code",
   "execution_count": 55,
   "metadata": {
    "id": "oIZUPZJX4rTW",
    "outputId": "f61f084e-6944-4ef1-b52e-a68d0c5e53cc"
   },
   "outputs": [
    {
     "name": "stdout",
     "output_type": "stream",
     "text": [
      "\n",
      "\n",
      "\n",
      "Star Wars - Wikipedia, la enciclopedia libre\n",
      "document.documentElement.className=\"client-js\";(function(){var cookie=document.cookie.match(/(?:^|; )eswikimwclientprefs=([^;]+)/);if(cookie){var featur\n"
     ]
    }
   ],
   "source": [
    "print(soup.get_text()[0:200])"
   ]
  },
  {
   "cell_type": "markdown",
   "metadata": {
    "id": "Ruvj4N544rTW"
   },
   "source": [
    "<br>\n",
    "\n",
    "Acceder a \"todas las tablas\".\n",
    "\n",
    "<br>"
   ]
  },
  {
   "cell_type": "code",
   "execution_count": 56,
   "metadata": {
    "id": "rrzQO7FS4rTW"
   },
   "outputs": [],
   "source": [
    "tables = soup.select(\"table.wikitable > tbody\")"
   ]
  },
  {
   "cell_type": "markdown",
   "metadata": {
    "id": "Rp0XppAI4rTX"
   },
   "source": [
    "<br>\n",
    "\n",
    "Ojo, ahora hay que procesarlas igual que antes.\n",
    "\n",
    "<br>\n",
    "\n",
    "### Parseado de tablas con Pandas\n",
    "\n",
    "<br>\n",
    "\n",
    "La librería Pandas, por su lado, ofrece una solución muy rápida y efectiva para obtener las tablas HTML.\n",
    "\n",
    "Si estas tablas están construidas con código HTML estático, obtenerlas es tan simple como realizar lo siguiente.\n",
    "\n",
    "<br>"
   ]
  },
  {
   "cell_type": "code",
   "execution_count": 59,
   "metadata": {
    "id": "92LSgsGG4rTZ"
   },
   "outputs": [],
   "source": [
    "import pandas as pd\n",
    "dfs = pd.read_html(\"https://es.wikipedia.org/wiki/Star_Wars\")"
   ]
  },
  {
   "cell_type": "markdown",
   "metadata": {
    "id": "OwSbGrVn4rTZ"
   },
   "source": [
    "<br>\n",
    "\n",
    "Nuestra tabla de interés es la 6.\n",
    "\n",
    "<br>"
   ]
  },
  {
   "cell_type": "code",
   "execution_count": 60,
   "metadata": {
    "id": "fpysHtDN4rTZ",
    "outputId": "32b760ee-35ee-4bc7-9d7d-f3a707bb29ba"
   },
   "outputs": [
    {
     "data": {
      "text/html": [
       "<div>\n",
       "<style scoped>\n",
       "    .dataframe tbody tr th:only-of-type {\n",
       "        vertical-align: middle;\n",
       "    }\n",
       "\n",
       "    .dataframe tbody tr th {\n",
       "        vertical-align: top;\n",
       "    }\n",
       "\n",
       "    .dataframe thead tr th {\n",
       "        text-align: left;\n",
       "    }\n",
       "</style>\n",
       "<table border=\"1\" class=\"dataframe\">\n",
       "  <thead>\n",
       "    <tr>\n",
       "      <th></th>\n",
       "      <th>Película</th>\n",
       "      <th>Estreno</th>\n",
       "      <th colspan=\"4\" halign=\"left\">Recaudación (en dólares)</th>\n",
       "    </tr>\n",
       "    <tr>\n",
       "      <th></th>\n",
       "      <th>Película</th>\n",
       "      <th>Estreno</th>\n",
       "      <th>Estados Unidos</th>\n",
       "      <th>Resto del mundo</th>\n",
       "      <th>Total</th>\n",
       "      <th>Unnamed: 5_level_1</th>\n",
       "    </tr>\n",
       "  </thead>\n",
       "  <tbody>\n",
       "    <tr>\n",
       "      <th>0</th>\n",
       "      <td>Star Wars: Episode IV - A New Hope[203]​</td>\n",
       "      <td>25 de mayo de 1977</td>\n",
       "      <td>460.998.507</td>\n",
       "      <td>314.513.557</td>\n",
       "      <td>775.512.064</td>\n",
       "      <td>NaN</td>\n",
       "    </tr>\n",
       "    <tr>\n",
       "      <th>1</th>\n",
       "      <td>Star Wars: Episode V - The Empire Strikes Back...</td>\n",
       "      <td>21 de mayo de 1980</td>\n",
       "      <td>290.271.960</td>\n",
       "      <td>257.607.494</td>\n",
       "      <td>547.879.454</td>\n",
       "      <td>NaN</td>\n",
       "    </tr>\n",
       "    <tr>\n",
       "      <th>2</th>\n",
       "      <td>Star Wars: Episode VI - Return of the Jedi[205]​</td>\n",
       "      <td>25 de mayo de 1983</td>\n",
       "      <td>309.306.177</td>\n",
       "      <td>166.040.934</td>\n",
       "      <td>475.347.111</td>\n",
       "      <td>NaN</td>\n",
       "    </tr>\n",
       "    <tr>\n",
       "      <th>3</th>\n",
       "      <td>Total de la trilogía original</td>\n",
       "      <td>Total de la trilogía original</td>\n",
       "      <td>1.060.576.644</td>\n",
       "      <td>738.161.985</td>\n",
       "      <td>1.798.738.629</td>\n",
       "      <td>NaN</td>\n",
       "    </tr>\n",
       "    <tr>\n",
       "      <th>4</th>\n",
       "      <td>Star Wars: Episode I - The Phantom Menace[206]​</td>\n",
       "      <td>19 de mayo de 1999</td>\n",
       "      <td>474.544.677</td>\n",
       "      <td>552.538.030</td>\n",
       "      <td>1.027.082.707</td>\n",
       "      <td>NaN</td>\n",
       "    </tr>\n",
       "    <tr>\n",
       "      <th>5</th>\n",
       "      <td>Star Wars: Episode II - Attack of the Clones[2...</td>\n",
       "      <td>16 de mayo de 2002</td>\n",
       "      <td>310.676.740</td>\n",
       "      <td>338.759.618</td>\n",
       "      <td>649.436.358</td>\n",
       "      <td>NaN</td>\n",
       "    </tr>\n",
       "    <tr>\n",
       "      <th>6</th>\n",
       "      <td>Star Wars: Episode III - Revenge of the Sith[2...</td>\n",
       "      <td>19 de mayo de 2005</td>\n",
       "      <td>380.270.577</td>\n",
       "      <td>469.765.058</td>\n",
       "      <td>850.035.635</td>\n",
       "      <td>NaN</td>\n",
       "    </tr>\n",
       "    <tr>\n",
       "      <th>7</th>\n",
       "      <td>Star Wars: The Clone Wars</td>\n",
       "      <td>15 de agosto de 2008</td>\n",
       "      <td>35.161.554</td>\n",
       "      <td>33.121.290</td>\n",
       "      <td>68.282.844</td>\n",
       "      <td>NaN</td>\n",
       "    </tr>\n",
       "    <tr>\n",
       "      <th>8</th>\n",
       "      <td>Total de la trilogía de precuelas y Clone Wars</td>\n",
       "      <td>Total de la trilogía de precuelas y Clone Wars</td>\n",
       "      <td>1.200.653.548</td>\n",
       "      <td>1.394.183.996</td>\n",
       "      <td>2.594.837.544</td>\n",
       "      <td>NaN</td>\n",
       "    </tr>\n",
       "    <tr>\n",
       "      <th>9</th>\n",
       "      <td>Star Wars: Episode VII - The Force Awakens[209]​</td>\n",
       "      <td>18 de diciembre de 2015</td>\n",
       "      <td>936.662.225</td>\n",
       "      <td>1.131.561.399</td>\n",
       "      <td>2.068.223.624</td>\n",
       "      <td>NaN</td>\n",
       "    </tr>\n",
       "    <tr>\n",
       "      <th>10</th>\n",
       "      <td>Rogue One: A Star Wars Story[210]​</td>\n",
       "      <td>10 de diciembre de 2016</td>\n",
       "      <td>532.177.324</td>\n",
       "      <td>523.879.949</td>\n",
       "      <td>1.056.057.277</td>\n",
       "      <td>NaN</td>\n",
       "    </tr>\n",
       "    <tr>\n",
       "      <th>11</th>\n",
       "      <td>Star Wars: Episode VIII - The Last Jedi[211]​</td>\n",
       "      <td>15 de diciembre de 2017</td>\n",
       "      <td>620.181.382</td>\n",
       "      <td>712.358.507</td>\n",
       "      <td>1.332.539.889</td>\n",
       "      <td>NaN</td>\n",
       "    </tr>\n",
       "    <tr>\n",
       "      <th>12</th>\n",
       "      <td>Solo: A Star Wars Story [212]​</td>\n",
       "      <td>25 de mayo de 2018</td>\n",
       "      <td>213.767.512</td>\n",
       "      <td>179.157.295</td>\n",
       "      <td>392.924.807</td>\n",
       "      <td>NaN</td>\n",
       "    </tr>\n",
       "    <tr>\n",
       "      <th>13</th>\n",
       "      <td>Star Wars: Episode IX - Rise of Skywalker[137]​</td>\n",
       "      <td>20 de diciembre de 2019</td>\n",
       "      <td>362.186.406</td>\n",
       "      <td>363.326.978</td>\n",
       "      <td>725.513.384</td>\n",
       "      <td>NaN</td>\n",
       "    </tr>\n",
       "    <tr>\n",
       "      <th>14</th>\n",
       "      <td>Total de la trilogía de secuelas y spin-offs</td>\n",
       "      <td>Total de la trilogía de secuelas y spin-offs</td>\n",
       "      <td>2.561.998309</td>\n",
       "      <td>2.804.857.150</td>\n",
       "      <td>5.366.855.459</td>\n",
       "      <td>NaN</td>\n",
       "    </tr>\n",
       "    <tr>\n",
       "      <th>15</th>\n",
       "      <td>Total de la triple trilogía</td>\n",
       "      <td>Total de la triple trilogía</td>\n",
       "      <td>4.823.228.501</td>\n",
       "      <td>4.937.203.131</td>\n",
       "      <td>9.760.431.632</td>\n",
       "      <td>NaN</td>\n",
       "    </tr>\n",
       "  </tbody>\n",
       "</table>\n",
       "</div>"
      ],
      "text/plain": [
       "                                             Película  \\\n",
       "                                             Película   \n",
       "0            Star Wars: Episode IV - A New Hope[203]​   \n",
       "1   Star Wars: Episode V - The Empire Strikes Back...   \n",
       "2    Star Wars: Episode VI - Return of the Jedi[205]​   \n",
       "3                       Total de la trilogía original   \n",
       "4     Star Wars: Episode I - The Phantom Menace[206]​   \n",
       "5   Star Wars: Episode II - Attack of the Clones[2...   \n",
       "6   Star Wars: Episode III - Revenge of the Sith[2...   \n",
       "7                           Star Wars: The Clone Wars   \n",
       "8      Total de la trilogía de precuelas y Clone Wars   \n",
       "9    Star Wars: Episode VII - The Force Awakens[209]​   \n",
       "10                 Rogue One: A Star Wars Story[210]​   \n",
       "11      Star Wars: Episode VIII - The Last Jedi[211]​   \n",
       "12                     Solo: A Star Wars Story [212]​   \n",
       "13    Star Wars: Episode IX - Rise of Skywalker[137]​   \n",
       "14       Total de la trilogía de secuelas y spin-offs   \n",
       "15                        Total de la triple trilogía   \n",
       "\n",
       "                                           Estreno Recaudación (en dólares)  \\\n",
       "                                           Estreno           Estados Unidos   \n",
       "0                               25 de mayo de 1977              460.998.507   \n",
       "1                               21 de mayo de 1980              290.271.960   \n",
       "2                               25 de mayo de 1983              309.306.177   \n",
       "3                    Total de la trilogía original            1.060.576.644   \n",
       "4                               19 de mayo de 1999              474.544.677   \n",
       "5                               16 de mayo de 2002              310.676.740   \n",
       "6                               19 de mayo de 2005              380.270.577   \n",
       "7                             15 de agosto de 2008               35.161.554   \n",
       "8   Total de la trilogía de precuelas y Clone Wars            1.200.653.548   \n",
       "9                          18 de diciembre de 2015              936.662.225   \n",
       "10                         10 de diciembre de 2016              532.177.324   \n",
       "11                         15 de diciembre de 2017              620.181.382   \n",
       "12                              25 de mayo de 2018              213.767.512   \n",
       "13                         20 de diciembre de 2019              362.186.406   \n",
       "14    Total de la trilogía de secuelas y spin-offs             2.561.998309   \n",
       "15                     Total de la triple trilogía            4.823.228.501   \n",
       "\n",
       "                                                      \n",
       "   Resto del mundo          Total Unnamed: 5_level_1  \n",
       "0      314.513.557    775.512.064                NaN  \n",
       "1      257.607.494    547.879.454                NaN  \n",
       "2      166.040.934    475.347.111                NaN  \n",
       "3      738.161.985  1.798.738.629                NaN  \n",
       "4      552.538.030  1.027.082.707                NaN  \n",
       "5      338.759.618    649.436.358                NaN  \n",
       "6      469.765.058    850.035.635                NaN  \n",
       "7       33.121.290     68.282.844                NaN  \n",
       "8    1.394.183.996  2.594.837.544                NaN  \n",
       "9    1.131.561.399  2.068.223.624                NaN  \n",
       "10     523.879.949  1.056.057.277                NaN  \n",
       "11     712.358.507  1.332.539.889                NaN  \n",
       "12     179.157.295    392.924.807                NaN  \n",
       "13     363.326.978    725.513.384                NaN  \n",
       "14   2.804.857.150  5.366.855.459                NaN  \n",
       "15   4.937.203.131  9.760.431.632                NaN  "
      ]
     },
     "execution_count": 60,
     "metadata": {},
     "output_type": "execute_result"
    }
   ],
   "source": [
    "dfs[6]"
   ]
  },
  {
   "cell_type": "markdown",
   "metadata": {
    "id": "EpT48am54rTa"
   },
   "source": [
    "Fantástico! Pandas, como siempre, da la mejor solución cuando se trata de trabajar con tablas.\n",
    "\n",
    "<br>\n",
    "\n",
    "## 1.5.5. Scraping contenido dinámico con Selenium\n",
    "\n",
    "Selenium es una herramienta creada originalmente para testear aplicaciones web a través del propio navegador controlado desde Python y Java. Permite clicar los botones, rellenar formularios...\n",
    "\n",
    "Aunque no es recomendable, se puede utilizar Selenium desde Colab. Para ello, primero hay que instalar algunos paquetes."
   ]
  },
  {
   "cell_type": "code",
   "execution_count": null,
   "metadata": {
    "id": "FFJH5YJH4rTa"
   },
   "outputs": [],
   "source": [
    "from IPython import get_ipython\n",
    "if 'google.colab' in str(get_ipython()):\n",
    "  # instalar drivers\n",
    "  !apt install chromium-chromedriver\n",
    "  !cp /usr/lib/chromium-browser/chromedriver /usr/bin\n",
    "  !pip install selenium"
   ]
  },
  {
   "cell_type": "markdown",
   "metadata": {
    "id": "TsJUDqSh4rTa"
   },
   "source": [
    "Para iniciar Selenium en local, obviamente es necesario tener instalado un navegador. Admite los navegadores principales: Chrome, Firefox, Edge, IE,  Safari y Opera.\n",
    "\n",
    "En este caso voy a utilizar Chrome pero se puede utilizar cualquier otro.\n",
    "\n",
    "También para trabajar en local, es necesario tener el webdriver correspondiente descargado y guardado en una ruta visible (p.e. dentro del PATH). Los drivers se encuentran a partir de la [página de Selenium](https://www.selenium.dev/documentation/webdriver/getting_started/install_drivers/).\n",
    "\n",
    "En el caso de Chrome puedes ir directamente al [Crome Driver](https://sites.google.com/chromium.org/driver/).\n",
    "\n",
    "Una vez descargado el driver conveniente, hay que guardarlo (una vez hayas descomprimido el fichero) en una ruta accesible. La recomendación es utilizar la ruta local donde esté guardo el notebook. "
   ]
  },
  {
   "cell_type": "code",
   "execution_count": 78,
   "metadata": {
    "id": "_m9wY5Hs4rTb"
   },
   "outputs": [],
   "source": [
    "from urllib.request import urlopen\n",
    "from lxml import html\n",
    "from lxml import cssselect\n",
    "import pandas as pd\n",
    "\n",
    "from selenium import webdriver\n",
    "from selenium.webdriver.common.by import By\n",
    "from selenium.webdriver.common.by import By\n",
    "from selenium.webdriver.common.action_chains import ActionChains\n",
    "from selenium.webdriver.support import expected_conditions\n",
    "from selenium.webdriver.support.wait import WebDriverWait\n",
    "from selenium.webdriver.common.keys import Keys\n",
    "from selenium.webdriver.common.desired_capabilities import DesiredCapabilities\n",
    "if 'google.colab' in str(get_ipython()):\n",
    "  # instalar drivers\n",
    "  options = webdriver.ChromeOptions()\n",
    "  options.add_argument('-headless')\n",
    "  options.add_argument('-no-sandbox')\n",
    "  options.add_argument('-disable-dev-shm-usage')\n",
    "  #options.headless = True\n",
    "  #options.add_argument(\"--window-size=1920,1200\")\n",
    "  driver = webdriver.Chrome('chromedriver',options=options)\n",
    "else:\n",
    "  import os \n",
    "  os.environ[\"PATH\"] = '$PATH:.'\n",
    "  driver = webdriver.Chrome()\n",
    "  #driver = webdriver.Firefox()\n"
   ]
  },
  {
   "cell_type": "markdown",
   "metadata": {
    "id": "Wir4hWQj4rTc"
   },
   "source": [
    "<br>\n",
    "\n",
    "Si estás ejecutando en local, verás cómo se abre Chrome. \n",
    "\n",
    "A continuación, vemos cómo obtener los datos de Google. \n",
    "\n",
    "<br>"
   ]
  },
  {
   "cell_type": "code",
   "execution_count": 79,
   "metadata": {
    "id": "ytbkgDF84rTc",
    "outputId": "c1afccad-ddb8-45af-9b27-0ee25272d192"
   },
   "outputs": [
    {
     "name": "stdout",
     "output_type": "stream",
     "text": [
      "<html itemscope=\"\" itemtype=\"http://schema.org/WebPage\" lang=\"ca\"><head><meta charset=\"UTF-8\"><meta content=\"origin\" name=\"referrer\"><meta content=\"/images/branding/googleg/1x/googleg_standard_color_128dp.png\" itemprop=\"image\"><link href=\"/manifest?pwa=webhp\" crossorigin=\"use-credentials\" rel=\"manifest\"><title>Google</title><script src=\"https://apis.google.com/_/scs/abc-static/_/js/k=gapi.gapi.en.yHsE3XoyXLE.O/m=gapi_iframes,googleapis_client/rt=j/sv=1/d=1/ed=1/rs=AHpOoo8LDClD0V3IE-5SJcudVO91TD7\n"
     ]
    }
   ],
   "source": [
    "driver.get(\"https://www.google.com/\")\n",
    "print(driver.page_source[:500])"
   ]
  },
  {
   "cell_type": "markdown",
   "metadata": {
    "id": "HgOhe2q_4rTd"
   },
   "source": [
    "<br>\n",
    "\n",
    "Algunos métodos relevantes.\n",
    "\n",
    "<br>\n",
    "\n",
    "- .get(url): Abrir URL\n",
    "- .find_element(By.METODO, \"elmento\") : Busca el elemento con uno de los siguientes métodos:\n",
    "   - By.CLASS_NAME: Por nombre de la clase.\n",
    "   - By.CSS_SELECTOR: Por selector CSS.\n",
    "   - By.ID: Por ID.\n",
    "   - By.LINK_TEXT: que contenga texto.\n",
    "   - By.PARTIAL_LINK_TEXT: que contenga texto parcialmente.\n",
    "   - By.NAME: Por nombre.\n",
    "   - By.TAG_NAME: Por nombre del tag.\n",
    "   - By.XPATH: Por XPATH.\n",
    "- .page_source: Devuelve el código HTML. Observa que ahora ya está resuelta la parte de html dinámico (o javascript).\n",
    "\n",
    "<br>\n",
    "\n",
    "Otras utilidades:\n",
    "\n",
    "<br>\n",
    "\n",
    "- .execute_script('nombre.javascript()') : Ejecuta javascript.\n",
    "- .save_screenshot('spam.png'): guarda la imagen.\n",
    "- .switch_to_alert(): Gestiona los pop-upps.\n",
    "- .forward() / .back(): Navegar...\n",
    "\n",
    "<br>\n",
    "\n",
    "Veamos un ejemplo de captura de productos de Star Wars devueltos por Google y que cumplen con las siguientes condiciones:\n",
    "\n",
    "<br>\n",
    "\n",
    "- Son productos nuevos\n",
    "- Valen más de 1.000 Euros.\n",
    "\n",
    "<br>\n",
    "\n",
    "Se abre la página de Google.\n",
    "\n",
    "<br>"
   ]
  },
  {
   "cell_type": "code",
   "execution_count": 80,
   "metadata": {
    "id": "BoNE7qoV4rTd"
   },
   "outputs": [],
   "source": [
    "driver.get(\"https://www.google.com/\")"
   ]
  },
  {
   "cell_type": "markdown",
   "metadata": {
    "id": "ExyfhENq4rTd"
   },
   "source": [
    "<br>\n",
    "\n",
    "Se elimina el Pop-up y se realiza la búsqueda en la tienda.\n",
    "\n",
    "<br>"
   ]
  },
  {
   "cell_type": "code",
   "execution_count": 81,
   "metadata": {
    "id": "-0GiVTnY4rTe"
   },
   "outputs": [],
   "source": [
    "try:\n",
    "  driver.find_element(By.ID, \"L2AGLb\").click()\n",
    "except:\n",
    "  print(\"Ya esta inicializada\")"
   ]
  },
  {
   "cell_type": "code",
   "execution_count": 82,
   "metadata": {
    "id": "dXCgbWuoOXwI"
   },
   "outputs": [],
   "source": [
    "driver.find_element(By.NAME, \"q\").send_keys(\"star wars\")"
   ]
  },
  {
   "cell_type": "code",
   "execution_count": 83,
   "metadata": {
    "id": "bc2GixPFOXwJ"
   },
   "outputs": [],
   "source": [
    "driver.find_element(By.NAME, \"q\").send_keys(Keys.ENTER)"
   ]
  },
  {
   "cell_type": "code",
   "execution_count": 84,
   "metadata": {
    "id": "JIK5MklwOXwJ"
   },
   "outputs": [],
   "source": [
    "driver.find_element(By.LINK_TEXT, \"Shopping\").click()"
   ]
  },
  {
   "cell_type": "markdown",
   "metadata": {
    "id": "SkK5xxLD4rTg"
   },
   "source": [
    "<br>\n",
    "\n",
    "Se filtra por productos nuevos y que sean de valor superior a 1.000 euros.\n",
    "\n",
    "<br>"
   ]
  },
  {
   "cell_type": "code",
   "execution_count": 89,
   "metadata": {},
   "outputs": [],
   "source": [
    "driver.find_element(By.CSS_SELECTOR, \"div.ynJMRd > div > div > div:nth-child(7) > div.RhVG3d > div > div > div > span:nth-child(1) > div > a > span.nZbkuc\").click()\n",
    "\n",
    "# div.sh-dr__g:nth-child(10) > div:nth-child(2) > div:nth-child(1) > div:nth-child(1) > span:nth-child(1) > div:nth-child(1) > a:nth-child(1) > span:nth-child(1)"
   ]
  },
  {
   "cell_type": "code",
   "execution_count": 90,
   "metadata": {
    "id": "UzxQ3Lr4OXwK"
   },
   "outputs": [],
   "source": [
    "#driver.find_element(By.NAME, \"lower\").click()"
   ]
  },
  {
   "cell_type": "code",
   "execution_count": 91,
   "metadata": {
    "id": "8jnvYN9YOXwK"
   },
   "outputs": [],
   "source": [
    "driver.find_element(By.NAME, \"lower\").send_keys(\"1000\")"
   ]
  },
  {
   "cell_type": "code",
   "execution_count": 92,
   "metadata": {
    "id": "Zy95SH09OXwL"
   },
   "outputs": [],
   "source": [
    "driver.find_element(By.NAME, \"lower\").send_keys(Keys.ENTER)"
   ]
  },
  {
   "cell_type": "markdown",
   "metadata": {
    "id": "70sLmaK84rTg"
   },
   "source": [
    "<br>\n",
    "\n",
    "Se captura el texto en html.\n",
    "\n",
    "<br>"
   ]
  },
  {
   "cell_type": "code",
   "execution_count": 93,
   "metadata": {
    "id": "CRaXOwTj4rTh"
   },
   "outputs": [],
   "source": [
    "html_text = driver.page_source"
   ]
  },
  {
   "cell_type": "markdown",
   "metadata": {
    "id": "LBv_J4h44rTi"
   },
   "source": [
    "<br>\n",
    "\n",
    "Se convierte a estructura de árbol.\n",
    "\n",
    "<br>"
   ]
  },
  {
   "cell_type": "code",
   "execution_count": 94,
   "metadata": {
    "id": "tlmxX6lw4rTj"
   },
   "outputs": [],
   "source": [
    "from lxml import html\n",
    "from lxml import cssselect\n",
    "tree = html.document_fromstring(html_text)"
   ]
  },
  {
   "cell_type": "markdown",
   "metadata": {
    "id": "gTVXPjPj4rTk"
   },
   "source": [
    "<br>\n",
    "\n",
    "Se seleccionan los productos y se extrae el contenido del texto.\n",
    "\n",
    "<br>"
   ]
  },
  {
   "cell_type": "code",
   "execution_count": 95,
   "metadata": {
    "scrolled": true
   },
   "outputs": [
    {
     "data": {
      "text/html": [
       "<div>\n",
       "<style scoped>\n",
       "    .dataframe tbody tr th:only-of-type {\n",
       "        vertical-align: middle;\n",
       "    }\n",
       "\n",
       "    .dataframe tbody tr th {\n",
       "        vertical-align: top;\n",
       "    }\n",
       "\n",
       "    .dataframe thead th {\n",
       "        text-align: right;\n",
       "    }\n",
       "</style>\n",
       "<table border=\"1\" class=\"dataframe\">\n",
       "  <thead>\n",
       "    <tr style=\"text-align: right;\">\n",
       "      <th></th>\n",
       "      <th>nombre</th>\n",
       "      <th>precio</th>\n",
       "      <th>href</th>\n",
       "    </tr>\n",
       "  </thead>\n",
       "  <tbody>\n",
       "    <tr>\n",
       "      <th>55</th>\n",
       "      <td>Ahsoka Tano - porcelana by Lladró</td>\n",
       "      <td>2.750,00 €</td>\n",
       "      <td>https://tiendatilali.com/producto/taza-star-wa...</td>\n",
       "    </tr>\n",
       "    <tr>\n",
       "      <th>56</th>\n",
       "      <td>Taza Darth Vader</td>\n",
       "      <td>89.900,00 €</td>\n",
       "      <td>https://s.click.aliexpress.com/deep_link.htm%3...</td>\n",
       "    </tr>\n",
       "    <tr>\n",
       "      <th>57</th>\n",
       "      <td>Oris 01 743 7734 4184-Set MB acero Negro 43.5mm</td>\n",
       "      <td>2.000,00 €</td>\n",
       "      <td>https://s.click.aliexpress.com/deep_link.htm%3...</td>\n",
       "    </tr>\n",
       "    <tr>\n",
       "      <th>58</th>\n",
       "      <td>Juego NNINTENDO SNES - SUPER STAR WARS - VGA 8...</td>\n",
       "      <td>1.450,00 €</td>\n",
       "      <td>https://www.1001hobbies.es/estatuas/470834-att...</td>\n",
       "    </tr>\n",
       "    <tr>\n",
       "      <th>59</th>\n",
       "      <td>Pijama Yoda The Child The Mandalorian Star War...</td>\n",
       "      <td>2.495,00 €</td>\n",
       "      <td>https://www.1001hobbies.es/estatuas/470834-att...</td>\n",
       "    </tr>\n",
       "  </tbody>\n",
       "</table>\n",
       "</div>"
      ],
      "text/plain": [
       "                                               nombre       precio  \\\n",
       "55                  Ahsoka Tano - porcelana by Lladró   2.750,00 €   \n",
       "56                                   Taza Darth Vader  89.900,00 €   \n",
       "57    Oris 01 743 7734 4184-Set MB acero Negro 43.5mm   2.000,00 €   \n",
       "58  Juego NNINTENDO SNES - SUPER STAR WARS - VGA 8...   1.450,00 €   \n",
       "59  Pijama Yoda The Child The Mandalorian Star War...   2.495,00 €   \n",
       "\n",
       "                                                 href  \n",
       "55  https://tiendatilali.com/producto/taza-star-wa...  \n",
       "56  https://s.click.aliexpress.com/deep_link.htm%3...  \n",
       "57  https://s.click.aliexpress.com/deep_link.htm%3...  \n",
       "58  https://www.1001hobbies.es/estatuas/470834-att...  \n",
       "59  https://www.1001hobbies.es/estatuas/470834-att...  "
      ]
     },
     "execution_count": 95,
     "metadata": {},
     "output_type": "execute_result"
    }
   ],
   "source": [
    "# se captura el nombre, el precio y la url\n",
    "star_wars_prod1 = tree.cssselect(\"h3.tAxDx\")\n",
    "star_wars_prod2 = tree.cssselect(\"span.a8Pemb.OFFNJ\")\n",
    "star_wars_prod3 = tree.cssselect(\"a.shntl\")\n",
    "\n",
    "prod_list = []\n",
    "for prod1,prod2,prod3 in zip(star_wars_prod1,star_wars_prod2,star_wars_prod3):\n",
    "  auxTxt = {'nombre':prod1.text_content(), \n",
    "            'precio': prod2.text_content(), \n",
    "            'href': re.findall(r'(https?://\\S+)',prod3.attrib['href'])[0]}\n",
    "  prod_list.append(auxTxt)\n",
    "\n",
    "df = pd.DataFrame(prod_list)\n",
    "\n",
    "df.tail()"
   ]
  },
  {
   "cell_type": "code",
   "execution_count": 96,
   "metadata": {
    "scrolled": true
   },
   "outputs": [
    {
     "data": {
      "text/plain": [
       "(60, 3)"
      ]
     },
     "execution_count": 96,
     "metadata": {},
     "output_type": "execute_result"
    }
   ],
   "source": [
    "df.shape"
   ]
  },
  {
   "cell_type": "code",
   "execution_count": 97,
   "metadata": {
    "id": "tAWGcQE3OXwO"
   },
   "outputs": [],
   "source": [
    "driver.quit()"
   ]
  },
  {
   "cell_type": "markdown",
   "metadata": {
    "id": "B_rkUFd64rTk"
   },
   "source": [
    "<br>\n",
    "\n",
    "Como ya has visto, existe un método para hacer clic.\n",
    "\n",
    "- **.click()** - click on a selected element</li>\n",
    "\n",
    "<br>\n",
    "\n",
    "Métodos para acceder a las propiedades:\n",
    "\n",
    "<br>\n",
    "\n",
    "- .location: posición x, y.\n",
    "- .parent: nodo padre.\n",
    "- .tag_name: el tag del elemento.\n",
    "- .text: texto del elemento de sus hijos.\n",
    "\n",
    "<br>\n",
    "\n",
    "- Acciones encadenadas con ActionChains.\n",
    "\n",
    "<br>\n",
    "\n",
    "En cuanto a tiempos de espera, existen dos tipos de estrategias. La implícita y la explícita.\n",
    "\n",
    "<br>\n",
    "\n",
    "- .implicitly_wait(seconds): La implícita, especifica un tiempo de espera.\n",
    "- La explícita, le dice al driver que espere hasta que se cumpla cierta condición (p.e. hasta que se cargue la página).\n",
    "\n",
    "<br>\n",
    "\n",
    "Veamos un ejemplo de código.\n",
    "\n",
    "<br>\n",
    "\n",
    "```\n",
    "try:\n",
    "  wait = webdriverwait(browser,10)\n",
    "  \n",
    "  element = wait.until(EC.element_to_be_clickable((By.ID,'someid')))\n",
    "except:\n",
    "  print 'Time out!!'\n",
    "```\n",
    "\n",
    "<br>\n",
    "\n",
    "Mira [Selecium waits](https://selenium-python.readthedocs.io/waits.html) para más información.\n",
    "\n",
    "<br>\n",
    "\n",
    "#### Otros recursos de selenium\n",
    "\n",
    "<br>\n",
    "\n",
    "- [Selenium CheatSheet](http://www.cheat-sheets.org/saved-copy/rc067-010d-selenium-1.pdf)\n",
    "\n",
    "<br>\n",
    "\n",
    "## Resumen\n",
    "\n",
    "<br>\n",
    "\n",
    "- Las expresiones regulares permiten acceder al texto mediante patrones.\n",
    "- Los selectores CSS y XPATH aseguran accesos estables a la información.\n",
    "- Para superar las barreras del html dinámico se puede utilizar un dirver que controle el navegador.\n",
    "\n",
    "<br>"
   ]
  },
  {
   "cell_type": "code",
   "execution_count": null,
   "metadata": {},
   "outputs": [],
   "source": []
  }
 ],
 "metadata": {
  "colab": {
   "name": "modulo3_tema1_dd_05_webscraping.ipynb",
   "provenance": [],
   "toc_visible": true
  },
  "kernelspec": {
   "display_name": "mbdds_rpy20",
   "language": "python",
   "name": "mbdds_rpy20"
  },
  "language_info": {
   "codemirror_mode": {
    "name": "ipython",
    "version": 3
   },
   "file_extension": ".py",
   "mimetype": "text/x-python",
   "name": "python",
   "nbconvert_exporter": "python",
   "pygments_lexer": "ipython3",
   "version": "3.6.9"
  }
 },
 "nbformat": 4,
 "nbformat_minor": 1
}
