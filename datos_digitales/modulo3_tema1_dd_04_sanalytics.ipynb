{
  "nbformat": 4,
  "nbformat_minor": 0,
  "metadata": {
    "colab": {
      "name": "modulo3_tema1_dd_04_sanalytics.ipynb",
      "provenance": [],
      "collapsed_sections": []
    },
    "kernelspec": {
      "display_name": "Python 3",
      "language": "python",
      "name": "python3"
    },
    "language_info": {
      "codemirror_mode": {
        "name": "ipython",
        "version": 3
      },
      "file_extension": ".py",
      "mimetype": "text/x-python",
      "name": "python",
      "nbconvert_exporter": "python",
      "pygments_lexer": "ipython3",
      "version": "3.6.9"
    }
  },
  "cells": [
    {
      "cell_type": "markdown",
      "metadata": {
        "id": "eJfiC-K0VViA"
      },
      "source": [
        "\n",
        "# **Gestión de datos y datos digitales**\n",
        "### **Autor: Ferran Carrascosa Mallafrè**\n",
        "\n",
        "---\n",
        "---\n",
        "\n",
        "<!-- script html for image -->\n",
        "\n",
        "<center>\n",
        "\n",
        "\n",
        "<img src=\"https://upload.wikimedia.org/wikipedia/commons/thumb/c/c9/Star_Wars%2C_%C3%A9pisode_III_-_La_Revanche_des_Sith_logo.jpg/220px-Star_Wars%2C_%C3%A9pisode_III_-_La_Revanche_des_Sith_logo.jpg\"  width=\"500\" height=\"150\"/>\n",
        "\n",
        "\n",
        "<br>\n",
        "\n",
        "Fuente de la imagen: [https://es.wikipedia.org](https://es.wikipedia.org/wiki/Star_Wars:_Episodio_III_-_La_venganza_de_los_Sith)\n",
        "\n",
        "</center>\n",
        "\n",
        "<br>"
      ]
    },
    {
      "cell_type": "markdown",
      "metadata": {
        "id": "w7y6DiIjVViK"
      },
      "source": [
        "# **Índice**\n",
        "\n",
        "---\n",
        "---\n",
        "\n",
        "> [Gestión de datos y datos digitales](#scrollTo=eJfiC-K0VViA&uniqifier=1)\n",
        "<br>\n",
        ">>\n",
        ">> [Preparación del Entorno](#scrollTo=UkU8akIVtlbn&line=1&uniqifier=1) \\\\\n",
        ">>   \\\\\n",
        ">> [1.4. Social analytics: Hootsuite, Twitter analytics y Facebook insights](#scrollTo=U3oTMspTVVjE) \\\\\n",
        ">>\n",
        ">>> [1.4.1 Twitter analytics](#scrollTo=lsAECn4Bbkil&uniqifier=1) \\\\\n",
        ">>>\n",
        ">>> [1.4.2. Facebook insights](#scrollTo=921VyHG6bki3&uniqifier=1) \\\\\n",
        ">>>\n",
        ">>> [1.4.3. Hootsuite](#scrollTo=DHP_jCRpbki6&uniqifier=1)\n"
      ]
    },
    {
      "cell_type": "markdown",
      "metadata": {
        "id": "UkU8akIVtlbn"
      },
      "source": [
        "# Preparación del entorno\n",
        "\n",
        "Cargamos las librerías."
      ]
    },
    {
      "cell_type": "code",
      "metadata": {
        "id": "ZbXaTr6Tbkik"
      },
      "source": [
        "import json\n",
        "import pymongo\n",
        "import tweepy\n",
        "import urllib\n",
        "import time\n"
      ],
      "execution_count": 1,
      "outputs": []
    },
    {
      "cell_type": "markdown",
      "metadata": {
        "id": "U3oTMspTVVjE"
      },
      "source": [
        "# 1.4. Social analytics: Hootsuite, Twitter analytics y Facebook insights\n",
        "\n",
        "\n",
        "\n"
      ]
    },
    {
      "cell_type": "markdown",
      "metadata": {
        "id": "lsAECn4Bbkil"
      },
      "source": [
        "## 1.4.1 Twitter analytics\n",
        "\n",
        "Para obtener datos de Twitter des de Python se puede utilizar su propia API.\n",
        "\n",
        "Por ejemplo: \n",
        "\n",
        "```\n",
        "https://api.twitter.com/oauth/authenticate?oauth_token=XXXXXXXXXXXXXX\n",
        "\n",
        "https://api.twitter.com/1.1/followers/ids.json?cursor=-1&screen_name=my_user_name&count=5000\n",
        "```\n",
        "\n",
        "Construir estas consultas, no siempre es fácil. Puede consultar la API completa en https://developer.twitter.com/en/docs/api-reference-index . Una forma de facilitar estas consultas es utilizar la librería **tweepy**. \n"
      ]
    },
    {
      "cell_type": "markdown",
      "metadata": {
        "id": "pDcm7b8abkil"
      },
      "source": [
        "### Autenticación\n",
        "\n",
        "Para conectarse a la  API  de Twitter (de tipo RESTful), es necesario autenticarse. Para obtener los datos necesarios se pueden seguir los siguientes pasos:\n",
        "\n",
        "- Accede a la siguiente url: https://apps.twitter.com  e identifícate con tus credenciales de twitter (si no las tienes, entonces ha llegado el momento de abrirte una cuenta).\n",
        "- Crea una nueva App. Esto creara las claves API (consumer_key y consumer_secret)\n",
        "- Ve a la API Key y genera un token. (access_key y access_secret)\n"
      ]
    },
    {
      "cell_type": "code",
      "metadata": {
        "id": "buZfBMJebkim"
      },
      "source": [
        "\n",
        "consumer_key = \"XXXXXXXXXXXXXXXXXXX\"\n",
        "consumer_secret = \"XXXXXXXXXXXXXXXXXXXXXXXXXXXXXXXXXXXXXX\"\n",
        "\n",
        "access_key = \"XXXXXXXXXXXXXXXXXXXXXXXX\"\n",
        "access_secret = \"XXXXXXXXXXXXXXXXXXXXXXXXXXXXXXXXXXXXXXXXXXXXXX\"\n",
        "\n"
      ],
      "execution_count": 2,
      "outputs": []
    },
    {
      "cell_type": "markdown",
      "metadata": {
        "id": "FhybcL6jbkim"
      },
      "source": [
        "Ahora se autentica en Twitter."
      ]
    },
    {
      "cell_type": "code",
      "metadata": {
        "id": "_GP1OkbXbkin"
      },
      "source": [
        "auth = tweepy.OAuthHandler(consumer_key, consumer_secret)\n",
        "auth.set_access_token(access_key, access_secret)\n",
        "api = tweepy.API(auth)"
      ],
      "execution_count": 3,
      "outputs": []
    },
    {
      "cell_type": "markdown",
      "metadata": {
        "id": "RUKyMtbvbkin"
      },
      "source": [
        "### Consulta del perfil de un usuario\n",
        "\n",
        "\n",
        "Verificamos que la api devuelve resultados consultando el perfil de twitter: @PyLadiesBCN ."
      ]
    },
    {
      "cell_type": "code",
      "metadata": {
        "id": "YVq1H1wFbkin"
      },
      "source": [
        "USER_NAME = \"PyLadiesBCN\"\n",
        "user = api.get_user(id=USER_NAME)"
      ],
      "execution_count": 4,
      "outputs": []
    },
    {
      "cell_type": "markdown",
      "metadata": {
        "id": "wvxtFfF7bkin"
      },
      "source": [
        "El nombre."
      ]
    },
    {
      "cell_type": "code",
      "metadata": {
        "id": "Uc1af3YNbkio"
      },
      "source": [
        "user.screen_name"
      ],
      "execution_count": null,
      "outputs": []
    },
    {
      "cell_type": "markdown",
      "metadata": {
        "id": "vxAz_wAsbkio"
      },
      "source": [
        "El id."
      ]
    },
    {
      "cell_type": "code",
      "metadata": {
        "id": "9PNMNNgJbkio"
      },
      "source": [
        "user.id"
      ],
      "execution_count": null,
      "outputs": []
    },
    {
      "cell_type": "markdown",
      "metadata": {
        "id": "uOy3QdK4bkip"
      },
      "source": [
        "La fecha de creación del perfil."
      ]
    },
    {
      "cell_type": "code",
      "metadata": {
        "id": "RaqIAYIIbkip"
      },
      "source": [
        "user.created_at"
      ],
      "execution_count": null,
      "outputs": []
    },
    {
      "cell_type": "markdown",
      "metadata": {
        "id": "GzH04dNIbkip"
      },
      "source": [
        "El número de perfiles que está siguiendo."
      ]
    },
    {
      "cell_type": "code",
      "metadata": {
        "id": "VvhJAcnYbkiq"
      },
      "source": [
        "user.friends_count"
      ],
      "execution_count": null,
      "outputs": []
    },
    {
      "cell_type": "markdown",
      "metadata": {
        "id": "a3qwXScJbkiq"
      },
      "source": [
        "El número de seguidores de este perfil."
      ]
    },
    {
      "cell_type": "code",
      "metadata": {
        "id": "HbGGuHTJbkiq"
      },
      "source": [
        "user.followers_count"
      ],
      "execution_count": null,
      "outputs": []
    },
    {
      "cell_type": "markdown",
      "metadata": {
        "id": "ftGETrcKbkir"
      },
      "source": [
        "Todo el json del perfil del usuario."
      ]
    },
    {
      "cell_type": "code",
      "metadata": {
        "id": "gtJXsU7Bbkir"
      },
      "source": [
        "user._json"
      ],
      "execution_count": null,
      "outputs": []
    },
    {
      "cell_type": "markdown",
      "metadata": {
        "id": "L_StDcYcbkir"
      },
      "source": [
        "\n",
        "Se puede acceder a la información en json como si se tratara de un diccionario.\n"
      ]
    },
    {
      "cell_type": "code",
      "metadata": {
        "id": "NfbuiOULbkir"
      },
      "source": [
        "juser = user._json\n",
        "print(juser['created_at'])"
      ],
      "execution_count": null,
      "outputs": []
    },
    {
      "cell_type": "markdown",
      "metadata": {
        "id": "-qLfC8qvbkis"
      },
      "source": [
        "Además, a través de urllib se puede recuperar más información de interés, como la imagen del perfil."
      ]
    },
    {
      "cell_type": "code",
      "metadata": {
        "id": "s9KKVOsabkis"
      },
      "source": [
        "img_url = juser['profile_image_url']\n",
        "print(img_url)"
      ],
      "execution_count": null,
      "outputs": []
    },
    {
      "cell_type": "markdown",
      "metadata": {
        "id": "FBBCUSfybkis"
      },
      "source": [
        "Guardamos la imagen en un fichero y la printamos en el notebook."
      ]
    },
    {
      "cell_type": "code",
      "metadata": {
        "id": "LaOn_m7Mbkis"
      },
      "source": [
        "f = open('scraped_image','wb')\n",
        "f.write(urllib.request.urlopen(img_url).read())\n",
        "f.close()\n",
        "\n",
        "%matplotlib inline\n",
        "import matplotlib.pyplot as plt\n",
        "im=plt.imread('scraped_image')\n",
        "plt.imshow(im)\n",
        "plt.title(juser['screen_name'],size=16)"
      ],
      "execution_count": null,
      "outputs": []
    },
    {
      "cell_type": "markdown",
      "metadata": {
        "id": "A61Zvtq8bkis"
      },
      "source": [
        "### Consulta de los seguidores de un usuario\n",
        "\n",
        "Para obtener la lista de los ids de los seguidores, se puede utilizar la función `api.followers_ids`. \n",
        "\n",
        "La función retorna un máximo de 5.000 ids. Si queremos obtener la lista completa, se puede utilizar un objeto `Cursor` con el método `pages`. De esta forma, se recorre las distintas paginas de forma implicita.\n",
        "\n",
        "Recuperando todos los seguidores de @pyladies. Si cambias a un perfil con muchos followers, piensa que puede tardar una eternidad, debido a que hay que aplicar un tiempo de espera de 60 segundos entre consulta y consulta."
      ]
    },
    {
      "cell_type": "code",
      "metadata": {
        "id": "vGy6_VTJbkit"
      },
      "source": [
        "ids = []\n",
        "for page in tweepy.Cursor(api.followers_ids, screen_name=USER_NAME).pages():\n",
        "    ids.extend(page)\n",
        "    if len(page)>=5000:\n",
        "        time.sleep(60)\n",
        "    \n",
        "len(ids)"
      ],
      "execution_count": null,
      "outputs": []
    },
    {
      "cell_type": "markdown",
      "metadata": {
        "id": "zhpSCmM3bkit"
      },
      "source": [
        "> *Importante*: El comando `sleep` es necesario para respetar el ratio máximo de descargas de la API de twitter."
      ]
    },
    {
      "cell_type": "code",
      "metadata": {
        "id": "TIreXstkbkit"
      },
      "source": [
        "#friends (screen_name) or follower_ids\n",
        "ids[0:10]"
      ],
      "execution_count": null,
      "outputs": []
    },
    {
      "cell_type": "markdown",
      "source": [
        "Antes de guardar los datos, en el caso de Colab se debe instalar MongoDB e iniciar el servicio:"
      ],
      "metadata": {
        "id": "aI9jml4d2ocl"
      }
    },
    {
      "cell_type": "code",
      "source": [
        "!apt install mongodb >log\n",
        "!service mongodb start\n"
      ],
      "metadata": {
        "id": "pHvokJpJ2jge"
      },
      "execution_count": null,
      "outputs": []
    },
    {
      "cell_type": "markdown",
      "metadata": {
        "id": "HMd-k0C1bkiu"
      },
      "source": [
        "Ahora Guardamos los datos de los ids en MongoDB.\n",
        "\n",
        "Para esto, conectamos a MongoDB, creamos la base 'twitter' y Collection 'twitter_users'.\n"
      ]
    },
    {
      "cell_type": "code",
      "metadata": {
        "id": "N25BpNs3bkiu"
      },
      "source": [
        "document={}\n",
        "document['user'] = user.id\n",
        "document['followers'] = ids[:]\n",
        "\n",
        "# Create the connection to MongoDB\n",
        "try:\n",
        "    conn=pymongo.MongoClient()\n",
        "    print(\"Connection to Mongo Daemon successful!!!\")\n",
        "except pymongo.errors.ConnectionFailure:\n",
        "    print(\"Could not connect to MongoDB\")\n",
        "\n",
        "db = conn['twitter']\n",
        "collection = db['twitter_users']\n",
        "# collection.drop()\n",
        "collection.insert_one(document)"
      ],
      "execution_count": null,
      "outputs": []
    },
    {
      "cell_type": "code",
      "metadata": {
        "id": "pv4NkRQwbkiu"
      },
      "source": [
        "collection.estimated_document_count()"
      ],
      "execution_count": null,
      "outputs": []
    },
    {
      "cell_type": "code",
      "metadata": {
        "id": "-0XavExabkiv"
      },
      "source": [
        "doc = collection.find_one()"
      ],
      "execution_count": 19,
      "outputs": []
    },
    {
      "cell_type": "code",
      "metadata": {
        "id": "SYyyfXwlbkiw"
      },
      "source": [
        "doc['user']"
      ],
      "execution_count": null,
      "outputs": []
    },
    {
      "cell_type": "code",
      "metadata": {
        "id": "B4pTOSzdbkix"
      },
      "source": [
        "doc['followers'][0:10]"
      ],
      "execution_count": null,
      "outputs": []
    },
    {
      "cell_type": "markdown",
      "metadata": {
        "id": "A74ZHnGpbkiy"
      },
      "source": [
        "### Streaming API\n",
        "\n",
        "Para escuchar los tweets que cumplen un cierto filtro, en tiempo real, se puede utilizar la **Streaming API**. Esta funciona solicitando un tipo específico de datos, filtrados por palabra clave, usuario, área geográfica o una muestra aleatoria, y luego mantiene la conexión abierta, siempre que no haya errores en la conexión. Los datos que recupere se codifican en JSON.\n",
        "\n",
        "El componente clave de eso es el objeto StreamListener, que monitorea los tweets en tiempo real y los captura.\n",
        "\n",
        "Si revisamos la API de transmisión de Twitter oficial, vemos que tenemos varios modificadores para filtrar la transmisión, es decir, rastrear (filtrar por palabra clave), ubicaciones (filtrar por ubicación geográfica), etc.\n",
        "\n",
        "StreamListener tiene varios métodos, siendo on_data() y on_status() los más útiles. Aquí hay un script de muestra que implementa este comportamiento\n",
        "\n",
        "En primer lugar, se define una clase que nos permite implementar los métodos on_data y on_error.\n"
      ]
    },
    {
      "cell_type": "code",
      "metadata": {
        "id": "m7EeBBQTbkiy"
      },
      "source": [
        "from tweepy import Stream,StreamListener\n",
        "\n",
        "class listener(StreamListener):\n",
        "    def __init__(self):\n",
        "        super().__init__()\n",
        "        self.counter = 0\n",
        "        self.limit = 5\n",
        "    def on_data(self, status):\n",
        "        json_data=json.loads(status)\n",
        "        print(str(json_data[\"user\"][\"screen_name\"])+' : ' + json_data[\"text\"])\n",
        "        self.counter += 1\n",
        "        if self.counter < self.limit:\n",
        "            return True\n",
        "        else:\n",
        "            twitterStream.disconnect()\n",
        "    def on_error(self, status):\n",
        "        print(status)"
      ],
      "execution_count": 22,
      "outputs": []
    },
    {
      "cell_type": "markdown",
      "metadata": {
        "id": "-C2BQXkIbkiy"
      },
      "source": [
        "A continuación monitoreamos los tweets realizados des del área de Barcelona.\n",
        "\n",
        "> Sabías que: Para obtener las coordenadas del rectángulo que cubre una zona, puedes utilizar: http://boundingbox.klokantech.com\n",
        "\n",
        "Observa que se ha limitado el número de tweets recuperar a 2 para obligar a que el Stream se pare sólo.\n"
      ]
    },
    {
      "cell_type": "code",
      "metadata": {
        "id": "bJc5w9Qobkiz"
      },
      "source": [
        "twitterStream = Stream(auth, listener()) \n",
        "twitterStream.filter(locations=[2.0504377635,41.2787636541,2.3045074059,41.4725622346],)\n"
      ],
      "execution_count": null,
      "outputs": []
    },
    {
      "cell_type": "code",
      "metadata": {
        "id": "-fGpC1Nzbkiz"
      },
      "source": [
        "# Other examples\n",
        "twitterStream = Stream(auth, listener()) \n",
        "twitterStream.filter(track=[\"python\"])\n"
      ],
      "execution_count": null,
      "outputs": []
    },
    {
      "cell_type": "markdown",
      "metadata": {
        "id": "LzxjkL5Qbkiz"
      },
      "source": [
        "\n",
        "Vemos ahora como guardar estos tweets en MongoDB database.\n",
        "\n",
        "Subimos el límite a 10 tweets con las mensiones de \"Putin\".\n"
      ]
    },
    {
      "cell_type": "code",
      "source": [
        "class listener(StreamListener):\n",
        "    def __init__(self):\n",
        "        super(StreamListener, self).__init__()\n",
        "        try:\n",
        "            self.conn=pymongo.MongoClient()\n",
        "            print(\"Connection to Mongo Daemon successful!!!\")\n",
        "        except pymongo.errors.ConnectionFailure:\n",
        "            print(\"Could not connect to MongoDB\")\n",
        "        self.db = conn['twitter_stream']\n",
        "        self.collection = db['tweets']\n",
        "        self.counter = 0\n",
        "        self.limit = 10\n",
        "        \n",
        "    def on_data(self, status):\n",
        "        jdata=json.loads(status)\n",
        "        document={'text':jdata[\"text\"], 'created':jdata[\"created_at\"], 'screen_name':jdata[\"user\"][\"screen_name\"]}        \n",
        "        self.collection.insert_one(document) \n",
        "        self.counter += 1\n",
        "        if self.counter < self.limit:\n",
        "            return True\n",
        "        else:\n",
        "            twitterStream.disconnect()\n",
        "    def on_error(self, status):\n",
        "        print(status)\n",
        "\n",
        "# Captura 10 tweets que mencionan a \"Putin\"\n",
        "twitterStream = Stream(auth, listener()) \n",
        "twitterStream.filter(track=[\"Obama\"])\n"
      ],
      "metadata": {
        "id": "Js5uKuQl64RE"
      },
      "execution_count": null,
      "outputs": []
    },
    {
      "cell_type": "code",
      "metadata": {
        "id": "nv8mZvMAbki1"
      },
      "source": [
        "db = conn['twitter_stream']\n",
        "collection = db['tweets']\n",
        "collection.estimated_document_count()"
      ],
      "execution_count": null,
      "outputs": []
    },
    {
      "cell_type": "code",
      "metadata": {
        "id": "956M4Ps8bki2"
      },
      "source": [
        "for doc in collection.find():\n",
        "    print(doc)"
      ],
      "execution_count": null,
      "outputs": []
    },
    {
      "cell_type": "markdown",
      "metadata": {
        "id": "ppBngyNTbki3"
      },
      "source": [
        "El API en tiempo real permite implementar acciones en base a eventos de twitter"
      ]
    },
    {
      "cell_type": "markdown",
      "metadata": {
        "id": "921VyHG6bki3"
      },
      "source": [
        "## 1.4.2. Facebook insights\n",
        "\n",
        "Facebook aporta un universo de APIs para poder obtener datos de su red social. La Facebook Insights API está orientada a realizar consultas de la plataforma de Marketing de Facebook. Esto incluye básicamente cualquier tipo de estadística que puedas encontrar en el Facebook Ad's Manager.\n",
        "\n",
        "Este tema no va a entrar en detalle en la uso de Facebooks insights, pero aporta las indicaciones básicas para que puedas hacerlo.\n",
        "\n",
        "### Generación del token de acceso\n",
        "\n",
        "Ves a la [Facebook Marketing API](https://developers.facebook.com/docs/marketing-apis/). y sigue los pasos para [crear una nueva Ads App](https://developers.facebook.com/docs/development/create-an-app).\n",
        "\n",
        "Asegúrate de añadir el producto \"Marketing API\". Una vez hecho, puedes acceder a tu pagina de gestión de ads page en  https://developers.facebook.com/apps/.\n",
        "\n",
        "Ahora ve a Settings > Basic. Copia y pega tu App ID y App Secret algún sitio seguro.\n",
        "\n",
        "Ve ahora a Products  > Marketing API > Tools. Selecciona ads_management and ads_read. Clica \"Get Token\". Tu token de acceso deberia aparecer en pantalla. Copia y pega este token en algún sitio seguro.\n",
        "\n",
        "### Consulta la API\n",
        "\n",
        "Las consultas utilizaran el paquete \"facebook_business\".\n",
        "\n"
      ]
    },
    {
      "cell_type": "code",
      "metadata": {
        "id": "JL054xwPbki4"
      },
      "source": [
        "from facebook_business.api import FacebookAdsApi\n",
        "from facebook_business.adobjects.user import User\n",
        "\n",
        "app_id = 'XXXXXXXXXXXXX'\n",
        "app_secret = 'XXXXXXXXXXXXXXXXXXXXX'\n",
        "access_token = 'XXXXXXXXXXXXXXXXXXXXXXXXXXXXXXXXXXXXXXXXXXXXXXXXXXXXXXXXXXXXXXXXXXXXXXXXXXXXXXXXX'\n",
        "\n",
        "FacebookAdsApi.init(app_id, app_secret, access_token)\n",
        "\n",
        "me = User(fbid='me')\n",
        "my_accounts = list(me.get_ad_accounts())\n",
        "print(my_accounts)"
      ],
      "execution_count": null,
      "outputs": []
    },
    {
      "cell_type": "markdown",
      "metadata": {
        "id": "kP2f9rBXbki4"
      },
      "source": [
        "Una vez ya tienes el id entonces puedes introducirlo en la sigueiente consulta de los datos de la App."
      ]
    },
    {
      "cell_type": "code",
      "metadata": {
        "id": "iUxMgUMbbki5"
      },
      "source": [
        "from facebook_business.api import FacebookAdsApi\n",
        "from facebook_business.adobjects.adaccount import AdAccount\n",
        "\n",
        "app_id = 'XXXXXXXXXXXXX'\n",
        "app_secret = 'XXXXXXXXXXXXXXXXXXXXX'\n",
        "access_token = 'XXXXXXXXXXXXXXXXXXXXXXXXXXXXXXXXXXXXXXXXXXXXXXXXXXXXXXXXXXXXXXXXXXXXXXXXXXXXXXXXX'\n",
        "\n",
        "FacebookAdsApi.init(app_id, app_secret, access_token)\n",
        "\n",
        "insights = AdAccount('act_XXXXXXXXXXXXXXX').get_insights()\n",
        "\n",
        "print(insights)"
      ],
      "execution_count": null,
      "outputs": []
    },
    {
      "cell_type": "markdown",
      "metadata": {
        "id": "C-AMazPq4Htt"
      },
      "source": [
        "En este ejemplo, la consulta aparece vacías. Para saber más sobre cómo funciona esta API, puedes consultar estos tutoriales:\n",
        "\n",
        "- [Getting Started with Facebook Marketing API](https://www.damiengonot.com/blog/getting-started-with-facebook-marketing-api)\n",
        "- [Guide to Facebook Insights API](https://www.damiengonot.com/blog/guide-facebook-insights-api)\n",
        "- [Guide to Facebook Insights API (parte 2)](https://www.damiengonot.com/blog/guide-facebook-insights-api-2)\n",
        "\n",
        "También pudes consultar los siguientes enlaces con información acerca del uso de las api's de facebook.\n",
        "\n",
        "### Enlaces de interés de Facebook API\n",
        "\n",
        "- [Leveraging Facebook Python API for Marketing Analytics](https://medium.com/analytics-and-data/leveraging-facebook-python-api-for-marketing-analytics-f4372f042112)\n",
        "- [Publishing Facebook Ads With Python Step by Step](https://gokhang1327.medium.com/publishing-facebook-ads-with-python-step-by-step-5c2a98ee4d58)\n",
        "- [facebook-python-business-sdk](https://github.com/facebook/facebook-python-business-sdk)\n",
        "- [Marketing API SDK. V9.0](https://developers.facebook.com/docs/marketing-api/reference/sdks/python/v9.0)\n",
        "\n",
        "\n"
      ]
    },
    {
      "cell_type": "markdown",
      "metadata": {
        "id": "DHP_jCRpbki6"
      },
      "source": [
        "## 1.4.3. Hootsuite\n",
        "\n",
        "Hootsuite es una herramienta que ayuda a gestionar tus cuentas de redes sociales, perfecta para Community Managers y todas aquellas personas que quieren sacarle el máximo partido a las plataformas de social media.\n",
        "\n",
        "Si quieres iniciarte en Hoostsuite, debes crear un usuario en https://hootsuite.com/ haciendo clic sobre \"Crear una cuenta nueva\". Posteriormente, puedes añadir una/o varias red/es social/es. Por ejemplo: Twitter, Facebook, LinkedIn...\n",
        "\n",
        "Una de las principales ventajas de Hoostsuite es que te permite programar publicaciones con antelación. Incluso con la opción de \"AutoSchedule\" el mismo entorno de Hoostsuite la hora de publicación que va a conseguir mayor impacto.\n",
        "\n",
        "También permite obtener estadísiticas de las distintas redes sociales.\n",
        "\n",
        "### Espacio de desarrolladores de Hootsuite\n",
        "\n",
        "Puedes acceder al espacio de desarrolladores de aplicaciones basadas en Hootsuite en https://developer.hootsuite.com/.\n",
        "\n",
        "La REST API, se puede consultar en al siguiente página: https://developer.hootsuite.com/docs/using-rest-apis.\n",
        "\n",
        "### La librería hootsweet\n",
        "\n",
        "También está disponible una librería de python llamada Hootsweet que facilita la interacción con el API. Puede consultar la documentación con ejemplos de acceso en https://pypi.org/project/hootsweet/.\n"
      ]
    }
  ]
}